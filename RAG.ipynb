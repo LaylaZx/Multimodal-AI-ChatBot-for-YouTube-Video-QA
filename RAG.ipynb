{
 "cells": [
  {
   "cell_type": "markdown",
   "id": "55a25591",
   "metadata": {},
   "source": [
    "## **1. Setup**"
   ]
  },
  {
   "cell_type": "markdown",
   "id": "a3ce3955",
   "metadata": {},
   "source": [
    "The project requires several packages that need to be installed into Workspace"
   ]
  },
  {
   "cell_type": "code",
   "execution_count": null,
   "id": "ec4b2bc2",
   "metadata": {},
   "outputs": [],
   "source": [
    "#!pip install -r requirements.txt"
   ]
  },
  {
   "cell_type": "code",
   "execution_count": 2,
   "id": "e4ac0ee1",
   "metadata": {},
   "outputs": [],
   "source": [
    "#!pip install openai"
   ]
  },
  {
   "cell_type": "code",
   "execution_count": 3,
   "id": "15328812",
   "metadata": {},
   "outputs": [],
   "source": [
    "#!pip install python-dotenv"
   ]
  },
  {
   "cell_type": "code",
   "execution_count": 4,
   "id": "32d97434",
   "metadata": {},
   "outputs": [],
   "source": [
    "#!pip install -U langchain-community"
   ]
  },
  {
   "cell_type": "code",
   "execution_count": 5,
   "id": "d62ea7c6",
   "metadata": {},
   "outputs": [],
   "source": [
    "#!pip install torch torchvision torchaudio --index-url https://download.pytorch.org/whl/cpu"
   ]
  },
  {
   "cell_type": "code",
   "execution_count": null,
   "id": "ba155bdf",
   "metadata": {},
   "outputs": [],
   "source": [
    "#!pip install transformers soundfile langchain docarray"
   ]
  },
  {
   "cell_type": "code",
   "execution_count": null,
   "id": "a485eb89",
   "metadata": {},
   "outputs": [],
   "source": [
    "#!pip install librosa\n",
    "#!pip install langchain langsmith openai"
   ]
  },
  {
   "cell_type": "code",
   "execution_count": null,
   "id": "7b3695c0",
   "metadata": {},
   "outputs": [],
   "source": [
    "#!pip install tiktoken\n",
    "#!pip install faiss-cpu"
   ]
  },
  {
   "cell_type": "code",
   "execution_count": 4,
   "id": "3644f7db",
   "metadata": {},
   "outputs": [],
   "source": [
    "import yt_dlp as youtube_dl\n",
    "from yt_dlp import DownloadError\n",
    "import os\n",
    "import glob\n",
    "from transformers import AutoModelForSpeechSeq2Seq, AutoProcessor, pipeline\n",
    "from langchain.document_loaders import TextLoader\n",
    "from langchain.vectorstores import DocArrayInMemorySearch\n",
    "from langchain.embeddings import OpenAIEmbeddings\n",
    "from langchain.chains import RetrievalQA\n",
    "from langchain.chat_models import ChatOpenAI\n",
    "from langchain.agents import Tool, initialize_agent\n",
    "from langchain.memory import ConversationBufferMemory\n",
    "from langchain_core.chat_history import InMemoryChatMessageHistory\n",
    "from dotenv import load_dotenv\n",
    "from langchain.agents import initialize_agent, AgentType, Tool\n",
    "from pydub import AudioSegment\n",
    "from langchain.document_loaders import DirectoryLoader, TextLoader\n",
    "from langchain.text_splitter import RecursiveCharacterTextSplitter\n",
    "from langchain.vectorstores import FAISS\n",
    "from openai import OpenAI"
   ]
  },
  {
   "cell_type": "markdown",
   "id": "06b9b931",
   "metadata": {},
   "source": [
    "### **YouTube Audio Extraction & MP3 Conversion**"
   ]
  },
  {
   "cell_type": "code",
   "execution_count": 10,
   "id": "cd8207d5",
   "metadata": {},
   "outputs": [],
   "source": [
    "# Configuration for yt_dlp\n",
    "def download_audio(url: str) -> str:\n",
    "    \n",
    "    ydl_config = {\n",
    "        \"format\": \"bestaudio/best\",\n",
    "        # List of post-processing steps; each dict represents one processor\n",
    "        \"postprocessors\": [\n",
    "            {\n",
    "                \"key\": \"FFmpegExtractAudio\",   # Extract audio from the downloaded file\n",
    "                \"preferredcodec\": \"mp3\",       # Convert audio to MP3 format\n",
    "                \"preferredquality\": \"192\"      # Set audio quality to 192 kbps\n",
    "            }\n",
    "        ],\n",
    "        # Template for naming the output file: \"<video title>.<extension>\"\n",
    "        \"outtmpl\": \"output/%(title)s.%(ext)s\",\n",
    "        \"verbose\": True  # Enable detailed logging\n",
    "    }\n",
    "\n",
    "    try:\n",
    "        # Initialize the downloader with the specified config and start download\n",
    "        with youtube_dl.YoutubeDL(ydl_config) as ydl:\n",
    "            info = ydl.extract_info(url, download=True)\n",
    "    except DownloadError as e:\n",
    "        # Print any download errors that occur\n",
    "        print(\"DownloadError:\", e)\n",
    "    \n",
    "    return f\"Downloaded: output_audio/{info['id']}.mp3\""
   ]
  },
  {
   "cell_type": "markdown",
   "id": "53798b39",
   "metadata": {},
   "source": [
    "### **Batch Transcription of MP3 Files with Whisper**"
   ]
  },
  {
   "cell_type": "code",
   "execution_count": null,
   "id": "21fe9737",
   "metadata": {},
   "outputs": [],
   "source": [
    "# # 1. Figure out if I can use GPU\n",
    "# device = \"cuda:0\" if torch.cuda.is_available() else \"cpu\"\n",
    "# #    and choose torch dtype to save memory on GPU\n",
    "# torch_dtype = torch.float16 if torch.cuda.is_available() else torch.float32\n",
    "\n",
    "# # 2. Pick the Whisper model I want\n",
    "# model_id = \"openai/whisper-small-v3\"\n",
    "\n",
    "# # 3. Load the model weights (using safetensors to speed things up)\n",
    "# model = AutoModelForSpeechSeq2Seq.from_pretrained(\n",
    "#     model_id,\n",
    "#     torch_dtype=torch_dtype,\n",
    "#     low_cpu_mem_usage=True,\n",
    "#     use_safetensors=True\n",
    "# )\n",
    "# # move the model to the right device\n",
    "# model.to(device)"
   ]
  },
  {
   "cell_type": "code",
   "execution_count": null,
   "id": "0105aa66",
   "metadata": {},
   "outputs": [],
   "source": [
    "# # 4. Load the processor that has both tokenizer & feature extractor\n",
    "# processor = AutoProcessor.from_pretrained(model_id)"
   ]
  },
  {
   "cell_type": "code",
   "execution_count": 13,
   "id": "cf903bf8",
   "metadata": {},
   "outputs": [],
   "source": [
    "# # 5. Build the ASR pipeline with my model and processor\n",
    "# pipe = pipeline(\n",
    "#     \"automatic-speech-recognition\",\n",
    "#     model=model,\n",
    "#     tokenizer=processor.tokenizer,\n",
    "#     feature_extractor=processor.feature_extractor,\n",
    "#     torch_dtype=torch_dtype,\n",
    "#     device=device,\n",
    "# )"
   ]
  },
  {
   "cell_type": "code",
   "execution_count": 5,
   "id": "f9f256fe",
   "metadata": {},
   "outputs": [
    {
     "name": "stdout",
     "output_type": "stream",
     "text": [
      "Current working dir: c:\\Users\\007T\\OneDrive\\Desktop\\ironhack2025\\ai-bootcamp-final-project\\Multimodal-AI-ChatBot-for-YouTube-Video-QA\n",
      "ffmpeg exists: True\n",
      "ffprobe exists: True\n"
     ]
    }
   ],
   "source": [
    "print(\"Current working dir:\", os.getcwd())\n",
    "print(\"ffmpeg exists:\", os.path.exists(r\"C:\\ffmpeg-7.1.1-full_build\\bin\\ffmpeg.exe\"))\n",
    "print(\"ffprobe exists:\", os.path.exists(r\"C:\\ffmpeg-7.1.1-full_build\\bin\\ffprobe.exe\"))"
   ]
  },
  {
   "cell_type": "code",
   "execution_count": null,
   "id": "698aab43",
   "metadata": {},
   "outputs": [],
   "source": [
    "# Load your OpenAI API key from .env\n",
    "load_dotenv()\n",
    "api_key=os.getenv(\"OPENAI_API_KEY\")\n",
    "client = OpenAI()"
   ]
  },
  {
   "cell_type": "code",
   "execution_count": 140,
   "id": "b23b7320",
   "metadata": {},
   "outputs": [
    {
     "name": "stdout",
     "output_type": "stream",
     "text": [
      "\n",
      "🎧 Processing video: IELTS_Listening_Practice__What_You_NEED_to_Know\n",
      "🔹 Transcribing chunk 1/2...\n",
      "🔹 Transcribing chunk 2/2...\n",
      "✅ Done. Transcript saved to: transcripts/IELTS_Listening_Practice__What_You_NEED_to_Know.txt\n",
      "\n",
      "🎧 Processing video: IELTS_Vocabulary_Synonyms_for_the_40_Most_Commonly_Used_Wordsmp3_chunk_0\n",
      "🔹 Transcribing chunk 1/2...\n",
      "🔹 Transcribing chunk 2/2...\n",
      "✅ Done. Transcript saved to: transcripts/IELTS_Vocabulary_Synonyms_for_the_40_Most_Commonly_Used_Wordsmp3_chunk_0.txt\n"
     ]
    }
   ],
   "source": [
    "import re\n",
    "import math\n",
    "# Configure ffmpeg for pydub (Windows)\n",
    "AudioSegment.ffmpeg = r\"C:\\ffmpeg-7.1.1-full_build\\bin\\ffmpeg.exe\"\n",
    "AudioSegment.converter = AudioSegment.ffmpeg\n",
    "\n",
    "# Define directories\n",
    "input_folder = \"audio_files/\"\n",
    "chunk_folder = \"chunks\"\n",
    "transcripts_dir = \"transcripts/\"\n",
    "\n",
    "# Create directories if they don't exist\n",
    "os.makedirs(chunk_folder, exist_ok=True)\n",
    "os.makedirs(transcripts_dir, exist_ok=True)\n",
    "\n",
    "# Set chunk length (10 minutes in milliseconds)\n",
    "chunk_length = 10 * 60 * 1000\n",
    "\n",
    "# Find all MP3 files in the input folder\n",
    "audio_files = glob.glob(os.path.join(input_folder, \"*.mp3\"))\n",
    "if not audio_files:\n",
    "    raise ValueError(\"❌ No MP3 files found in the audio_files/ directory\")\n",
    "\n",
    "# Process each audio file\n",
    "for audio_path in audio_files:\n",
    "    base_name = os.path.splitext(os.path.basename(audio_path).replace(\" \", \"_\"))[0]\n",
    "    base_name = re.sub(r'[^A-Za-z0-9_]', '', base_name)\n",
    "    print(f\"\\n🎧 Processing video: {base_name}\")\n",
    "\n",
    "    # Define the output transcript file for this video\n",
    "    transcript_file = os.path.join(transcripts_dir, f\"{base_name}.txt\")\n",
    "    # Open the transcript file in write mode to clear previous contents if any\n",
    "    with open(transcript_file, \"w\", encoding=\"utf-8\") as f:\n",
    "        f.write(f\"# Transcript for {base_name}\\n\\n\")\n",
    "\n",
    "    # Load the audio file and calculate the number of chunks\n",
    "    audio = AudioSegment.from_file(audio_path)\n",
    "    total_length = len(audio)\n",
    "    num_chunks = math.ceil(total_length / chunk_length)\n",
    "\n",
    "    # Split the audio into chunks and transcribe\n",
    "    for i in range(num_chunks):\n",
    "        start = i * chunk_length\n",
    "        end = min(start + chunk_length, total_length)\n",
    "        chunk = audio[start:end]\n",
    "\n",
    "        # Export chunk to MP3\n",
    "        chunk_filename = f\"{base_name}_chunk_{i}.mp3\"\n",
    "        chunk_path = os.path.join(chunk_folder, chunk_filename)\n",
    "        chunk.export(chunk_path, format=\"mp3\")\n",
    "\n",
    "        print(f\"🔹 Transcribing chunk {i+1}/{num_chunks}...\")\n",
    "\n",
    "        # Transcribe the chunk using Whisper\n",
    "        with open(chunk_path, \"rb\") as ff:\n",
    "            resp = client.audio.transcriptions.create(\n",
    "                file=ff,\n",
    "                model=\"whisper-1\"\n",
    "            )\n",
    "\n",
    "        # Append the transcription result to the transcript file\n",
    "        with open(transcript_file, \"a\", encoding=\"utf-8\") as out:\n",
    "            out.write(f\"## {chunk_filename}\\n\")\n",
    "            out.write(resp.text + \"\\n\\n\")\n",
    "\n",
    "    print(f\"✅ Done. Transcript saved to: {transcript_file}\")\n"
   ]
  },
  {
   "cell_type": "markdown",
   "id": "5bbc0b14",
   "metadata": {},
   "source": [
    "## **Transcript Ingestion and Semantic Retrieval Setup**"
   ]
  },
  {
   "cell_type": "markdown",
   "id": "25f8873b",
   "metadata": {},
   "source": [
    "#### **Document Loading (DirectoryLoader)**\n",
    "\n",
    "We replace the single‐file TextLoader with a DirectoryLoader that reads all *.txt files under ./transcripts/.\n",
    "\n",
    "Why this change: This makes the code automatically pick up every transcript file (i.e. every video) without hard-coding one filename."
   ]
  },
  {
   "cell_type": "code",
   "execution_count": 6,
   "id": "29d1c025",
   "metadata": {},
   "outputs": [],
   "source": [
    "# Create a new instance of the TextLoader class, specifying the directory containing the text files\n",
    "#loader = TextLoader(\"./transcripts/transcript.txt\")\n",
    "\n",
    "# Load the documents from the specified directory using the TextLoader instance\n",
    "#docs = loader.load()\n",
    "\n",
    "\n",
    "loader = DirectoryLoader(\n",
    "    \"./transcripts\",\n",
    "    glob=\"*.txt\",\n",
    "    loader_cls=TextLoader\n",
    ")\n",
    "docs = loader.load()"
   ]
  },
  {
   "cell_type": "code",
   "execution_count": 8,
   "id": "4e69be13",
   "metadata": {},
   "outputs": [
    {
     "data": {
      "text/plain": [
       "Document(metadata={'source': 'transcripts\\\\IELTS_Listening_Practice__What_You_NEED_to_Know.txt'}, page_content=\"# Transcript for IELTS_Listening_Practice__What_You_NEED_to_Know\\n\\n## IELTS_Listening_Practice__What_You_NEED_to_Know_chunk_0.mp3\\nHi everyone, Chris here from IELTSadvantage.com with another lesson and today what we're gonna focus on is how to practice IELTS listening. So what we're gonna do is look at why doing lots of practice tests is a terrible idea. In fact, this is the worst thing you could do. If you think that just doing lots and lots and lots of practice tests is gonna help you get a higher score, you are wrong. But what then I'm gonna show you is three better ways to practice that will actually improve your scores because at the end of the day, what are we doing? We're helping you improve your scores. So we're only gonna teach you the things that work and make you aware of the things that don't work. And these three ways are totally free and you can do them at home by yourself without a teacher. So they're absolutely brilliant. So number one, why doing lots of practice tests is a terrible idea. Well, the first thing is they're boring. So our brains like to do things that they enjoy. And if they're doing things that they find pleasurable, then our brains are going to be able to absorb that information and learn from it. Also, we're human beings. If we're doing something that is really, really boring, it is a very low likelihood that we are going to continue doing that thing and consistently doing it. And really the key for all aspects of IELTS is doing things consistently over a relatively long period of time. You cannot cram for the IELTS test the week before or a month before. What you need to be doing is doing a little bit of work every single day over a long period of time because listening is a skill and we want to improve that skill and that will help us improve our scores. Number two, no improvement. The analogy I always use for this is, could you learn how to drive a car and pass your driving test by going on a racetrack and just going around and around and around and around and around in a car? No, you would pick up really bad habits and you wouldn't really learn what you're doing wrong and what you're doing right. Just practising is not actually going to help you improve, especially when it comes to the IELTS listening test. You might be doing test after test after test and spending a lot of time doing that but not seeing any improvement. So we obviously want to spend time on things that enable us to improve our scores and ignore things that don't actually lead to improvement. And it's a really strange thing and it's a really attractive thing to think that you're working hard. So you're doing all of these tests and you're telling yourself I'm doing all this hard work and doing something that is helping me when really in the back of your mind you know that it's not really helping. Number three is really, really important. You're not getting any feedback. You're just doing practise tests. You're not actually learning from your mistakes. And the only way to learn is for someone to help you with that. And I'm gonna show you a way that you can learn from your own mistakes without even the need of a teacher. It's great if you have a teacher with you but obviously due to money and due to the fact that you might live in a place that doesn't have great teachers, you want to be able to give yourself feedback and learn from your own mistakes. And all of this is going to lead to frustration. You wouldn't believe the number of emails that people send me saying, you know, I've done every single practise test in the world and I keep getting 6.5. We get those every single day. And what happens when you are frustrated because it's boring, you're not improving, you're not seeing any progression, you're gonna get frustrated, you're gonna give up. If you give up, you are guaranteeing a low score because you're just not going to do the test or you're going to go into the test not prepared and you're gonna get nervous and stressed out because you know you're going to fail. So we don't want to do this. We don't want to do practise test after practise test. Let's look at three ways that actually do help you improve your listening skills and help you improve your IELTS test performance and help you improve your scores. So there are three better ways. Number one, listen for pleasure. Number two, listen actively. And number three, listen reflectively. So let's go into detail on each of these and find out how you can practically do these at home by yourself for free without a teacher. So number one, listen for pleasure. As we've already talked about, you need to do something that you enjoy so that you will do it consistently. Listening is a skill. The more you do it, the better you're going to become at it. So if you are listening to things that you enjoy, then you're going to do this consistently. It seems pretty obvious, but not many students think of it that way. I think maybe because it's studying and a lot of people think that studying should be boring and studying should be laborious. It doesn't have to be. And the great thing about all of these, so podcasts, TV, movies, radio, TED Talks, YouTube, real people. Apart from real people, all of these are in the palm of your hand. They're on your phone. You can listen to podcasts on anything in the world, or YouTube, or TED Talks, or radio, or movies, or TV even on your phone. There is an unlimited supply of listening material out there for you. And the great thing about all this choice and the fact that we can get everything at the touch of a button is that whatever you are interested in, there's a podcast on it. Whatever you are interested in, there's a YouTube channel or multiple hundreds of YouTube channels on that. There's probably a radio show about it. There's probably TED Talks on it. So I've dealt with students who were really into cricket. Listened to cricket matches and commentators discussing the match. I've had students who were really into cookery programs. Listened to a cookery podcast. I've had students who really loved sci-fi movies. Listened to a sci-fi movie, or listened to a sci-fi podcast, or listened to a sci-fi YouTube channel where they discuss the movies. It doesn't matter what you're into, there's something there for you. And also the great thing about having everything on your phone is you can do it at any time. So that 10 minutes before you get out of bed, or those 30 minutes on the bus on the way to work, or the 20 minutes you have during your lunch break where you're not doing anything, there are unlimited number of options, and there are a huge number of opportunities for you to practise that. None of these are IELTS related, but remember, they're not testing your ability to answer IELTS questions. They're testing your ability. Does this person have a requisite skill level to get a band seven, or a band eight, or a band nine? In other words, when you go to live in England, or live in America or Canada, will you be able to understand what is going on? Will you be able to understand what people are saying? And also, real people, if you are around native English speakers, listen to them if you want to improve your listening. Number two, listen actively. Okay, so listen, there's a difference between listening passively. So listening passively is just sitting on the bus, looking out the window, listening to a podcast, and not really thinking about it. Now, that's better than nothing, but it is better to actively focus on one, maximum two things while you're listening to that podcast, or that TV show, or that movie, or that YouTube video. Focus on one thing at a time, for example, vocabulary, accent, intonation, multiple speakers, and normally focus on the thing that you really need help with. So let's say that you find out that you really need help with your vocabulary. Then when you're listening to a podcast and you hear a new word, note that new word down. Guess what that word means from the context. Note down all the information you need to remember that word, such as meaning, synonyms, antonyms, collocations, sentences, pronunciation, all of these things. And then in a few weeks, a few months, you will have a vocabulary book just full of new words that you have learned. You should be doing that with reading as well. Or let's say you have a problem with the Scottish accent, or the Irish accent, or the Australian accent. Listen to a podcast where there are those accents and listen for words that you don't really understand. Listen again, listen again, until you figure out what that word is, or intonation. What you can do is, let's say you're watching a movie, look at the movie script, or look at the subtitles, and guess what the intonation is going to be like, and then compare it with how the actor says it, and then mimic what they say. Or listening to multiple speakers, and how they take turns and interrupt each other, and how they give signposting language on what they're doing. There are multiple things that you can focus on, and you should just focus on your weaknesses, really. So you can see the difference between that and just sitting on the bus, looking out the window, listening to whatever. Actively do something, and that, again, is going to give you a lot more bang for your buck in terms of, you know, if you spend 20 minutes actively listening to a podcast focusing on vocabulary, you might get 10 or 20 words out of that, and that's going to help you in not only your listening test, but your speaking test, your reading test, your writing test, or just look out the window for 20 minutes and think that you're improving when really you're not. So active listening is really, really important. This is probably the.\\n\\n## IELTS_Listening_Practice__What_You_NEED_to_Know_chunk_1.mp3\\nimportant one in terms of improving your IELTS scores is listen reflectively. So this is when you do practice tests. So you get a practice test make sure it's a real genuine practice test. Do not use these fake tests that you'll find online. They're only there so that they can they can get clicks on their website. 90% over 90% of practice tests you'll find online are fake tests. They're not made by Cambridge. The only tests you should use are the Cambridge tests and because they're created by the people who create the test and they know what they're doing. So what you do is you do the test under exam conditions and then honestly honestly evaluate your mistakes. Where did you go wrong? And think about why did you get each question wrong. So was it spelling? Was it timing? Was it meaning? Was it vocabulary? Was it strategy? Was it spelling? What was it? And write down beside each one the key reason why you got that question wrong. And don't just look at it and be like I don't know why I got it wrong. Actually think about it. If you think about it you will figure out why you got that question wrong. Was it because you were unfamiliar with the question types or maybe you're getting a certain question type wrong every single time. And what you'll see if you do let's say three or four practice tests you'll start to see patterns emerging. Normally students are getting a lower score not because they're bad at everything but because there's one or two things that they need to work on. So I was working with a student recently who was great. Their listening was amazing and but they kept getting 6.5 and the only reason for that was their spelling. Because if you spell look what you know if you spell the answer wrong it's wrong it doesn't and they kept saying oh but it's nearly right. I'm like no they're not going to see it that way. So they worked on their spelling and they improved and they got the score they needed. I've worked with multiple students who had difficulties with particular types of questions. For example on the reading test and a lot of students have problems with true false not given and matching headings questions. So if you see a pattern emerging there focus on that question learn how to do that question and get a strategy for that question and then you're going to improve. The key here is you need to take action. So once you see this pattern emerging let's say you notice that vocabulary is your problem and you keep messing up because you just don't understand what the words mean and you don't understand the synonyms of the of the words that you're looking for. If you just say okay better luck next time then you've just wasted your time and you're going to fail next time. But if you take action on that and improve that then you are really really going to see results. So don't do lots of practice tests listen to something you enjoy focus on particular things when you're listening and reflect on your mistakes notice patterns and take action on that and that goes around in that feedback loop. So let's say for example you again focused on this and realized that vocabulary was a problem actively listen and focus on vocabulary. Get yourself a podcast or a YouTube channel on something you enjoy and try and improve your vocabulary through listening to something you enjoy and therefore you're really going to enjoy what you're doing you're going to improve and then get the score you need. Sounds simple but it actually does really really work. Thank you very much guys hope that you enjoyed that video.\\n\\n\")"
      ]
     },
     "execution_count": 8,
     "metadata": {},
     "output_type": "execute_result"
    }
   ],
   "source": [
    "docs[0]"
   ]
  },
  {
   "cell_type": "markdown",
   "id": "b7048b85",
   "metadata": {},
   "source": [
    "#### **Recursive Text Splitting**\n",
    "\n",
    "We use RecursiveCharacterTextSplitter (with separators [\"\\n\\n\",\"\\n\",\" \",\"\"]) to break each loaded document into ~600-character chunks with 100-character overlap.\n",
    "\n",
    "Why this change: The splitter will try to cut at paragraph or line boundaries first, preserving sentence integrity before falling back to a pure character count."
   ]
  },
  {
   "cell_type": "code",
   "execution_count": 12,
   "id": "2a42f7dd",
   "metadata": {},
   "outputs": [],
   "source": [
    "\"\"\"from langchain.text_splitter import CharacterTextSplitter\n",
    "text_splitter = CharacterTextSplitter(chunk_size=600, chunk_overlap=100)\n",
    "docs = text_splitter.split_documents(docs)\n",
    "\n",
    "embeddings = OpenAIEmbeddings(openai_api_key=api_key)\n",
    "from langchain.vectorstores import FAISS\n",
    "\n",
    "vectorstore = FAISS.from_documents(docs, embeddings)\n",
    "\"\"\"\n",
    "\n",
    "splitter = RecursiveCharacterTextSplitter(\n",
    "    chunk_size=1000,\n",
    "    chunk_overlap=100,\n",
    "    separators=[\"\\n\\n\", \"\\n\", \" \", \"\"]\n",
    ")\n",
    "chunks = splitter.split_documents(docs)"
   ]
  },
  {
   "cell_type": "code",
   "execution_count": 14,
   "id": "ed899ce6",
   "metadata": {},
   "outputs": [
    {
     "data": {
      "text/plain": [
       "[Document(metadata={'source': 'transcripts\\\\IELTS_Listening_Practice__What_You_NEED_to_Know.txt'}, page_content='# Transcript for IELTS_Listening_Practice__What_You_NEED_to_Know'),\n",
       " Document(metadata={'source': 'transcripts\\\\IELTS_Listening_Practice__What_You_NEED_to_Know.txt'}, page_content='## IELTS_Listening_Practice__What_You_NEED_to_Know_chunk_0.mp3'),\n",
       " Document(metadata={'source': 'transcripts\\\\IELTS_Listening_Practice__What_You_NEED_to_Know.txt'}, page_content=\"Hi everyone, Chris here from IELTSadvantage.com with another lesson and today what we're gonna focus on is how to practice IELTS listening. So what we're gonna do is look at why doing lots of practice tests is a terrible idea. In fact, this is the worst thing you could do. If you think that just doing lots and lots and lots of practice tests is gonna help you get a higher score, you are wrong. But what then I'm gonna show you is three better ways to practice that will actually improve your scores because at the end of the day, what are we doing? We're helping you improve your scores. So we're only gonna teach you the things that work and make you aware of the things that don't work. And these three ways are totally free and you can do them at home by yourself without a teacher. So they're absolutely brilliant. So number one, why doing lots of practice tests is a terrible idea. Well, the first thing is they're boring. So our brains like to do things that they enjoy. And if they're\"),\n",
       " Document(metadata={'source': 'transcripts\\\\IELTS_Listening_Practice__What_You_NEED_to_Know.txt'}, page_content=\"the first thing is they're boring. So our brains like to do things that they enjoy. And if they're doing things that they find pleasurable, then our brains are going to be able to absorb that information and learn from it. Also, we're human beings. If we're doing something that is really, really boring, it is a very low likelihood that we are going to continue doing that thing and consistently doing it. And really the key for all aspects of IELTS is doing things consistently over a relatively long period of time. You cannot cram for the IELTS test the week before or a month before. What you need to be doing is doing a little bit of work every single day over a long period of time because listening is a skill and we want to improve that skill and that will help us improve our scores. Number two, no improvement. The analogy I always use for this is, could you learn how to drive a car and pass your driving test by going on a racetrack and just going around and around and around and\"),\n",
       " Document(metadata={'source': 'transcripts\\\\IELTS_Listening_Practice__What_You_NEED_to_Know.txt'}, page_content=\"and pass your driving test by going on a racetrack and just going around and around and around and around and around in a car? No, you would pick up really bad habits and you wouldn't really learn what you're doing wrong and what you're doing right. Just practising is not actually going to help you improve, especially when it comes to the IELTS listening test. You might be doing test after test after test and spending a lot of time doing that but not seeing any improvement. So we obviously want to spend time on things that enable us to improve our scores and ignore things that don't actually lead to improvement. And it's a really strange thing and it's a really attractive thing to think that you're working hard. So you're doing all of these tests and you're telling yourself I'm doing all this hard work and doing something that is helping me when really in the back of your mind you know that it's not really helping. Number three is really, really important. You're not getting any\"),\n",
       " Document(metadata={'source': 'transcripts\\\\IELTS_Listening_Practice__What_You_NEED_to_Know.txt'}, page_content=\"know that it's not really helping. Number three is really, really important. You're not getting any feedback. You're just doing practise tests. You're not actually learning from your mistakes. And the only way to learn is for someone to help you with that. And I'm gonna show you a way that you can learn from your own mistakes without even the need of a teacher. It's great if you have a teacher with you but obviously due to money and due to the fact that you might live in a place that doesn't have great teachers, you want to be able to give yourself feedback and learn from your own mistakes. And all of this is going to lead to frustration. You wouldn't believe the number of emails that people send me saying, you know, I've done every single practise test in the world and I keep getting 6.5. We get those every single day. And what happens when you are frustrated because it's boring, you're not improving, you're not seeing any progression, you're gonna get frustrated, you're gonna give\"),\n",
       " Document(metadata={'source': 'transcripts\\\\IELTS_Listening_Practice__What_You_NEED_to_Know.txt'}, page_content=\"not improving, you're not seeing any progression, you're gonna get frustrated, you're gonna give up. If you give up, you are guaranteeing a low score because you're just not going to do the test or you're going to go into the test not prepared and you're gonna get nervous and stressed out because you know you're going to fail. So we don't want to do this. We don't want to do practise test after practise test. Let's look at three ways that actually do help you improve your listening skills and help you improve your IELTS test performance and help you improve your scores. So there are three better ways. Number one, listen for pleasure. Number two, listen actively. And number three, listen reflectively. So let's go into detail on each of these and find out how you can practically do these at home by yourself for free without a teacher. So number one, listen for pleasure. As we've already talked about, you need to do something that you enjoy so that you will do it consistently. Listening\"),\n",
       " Document(metadata={'source': 'transcripts\\\\IELTS_Listening_Practice__What_You_NEED_to_Know.txt'}, page_content=\"about, you need to do something that you enjoy so that you will do it consistently. Listening is a skill. The more you do it, the better you're going to become at it. So if you are listening to things that you enjoy, then you're going to do this consistently. It seems pretty obvious, but not many students think of it that way. I think maybe because it's studying and a lot of people think that studying should be boring and studying should be laborious. It doesn't have to be. And the great thing about all of these, so podcasts, TV, movies, radio, TED Talks, YouTube, real people. Apart from real people, all of these are in the palm of your hand. They're on your phone. You can listen to podcasts on anything in the world, or YouTube, or TED Talks, or radio, or movies, or TV even on your phone. There is an unlimited supply of listening material out there for you. And the great thing about all this choice and the fact that we can get everything at the touch of a button is that whatever you\"),\n",
       " Document(metadata={'source': 'transcripts\\\\IELTS_Listening_Practice__What_You_NEED_to_Know.txt'}, page_content=\"this choice and the fact that we can get everything at the touch of a button is that whatever you are interested in, there's a podcast on it. Whatever you are interested in, there's a YouTube channel or multiple hundreds of YouTube channels on that. There's probably a radio show about it. There's probably TED Talks on it. So I've dealt with students who were really into cricket. Listened to cricket matches and commentators discussing the match. I've had students who were really into cookery programs. Listened to a cookery podcast. I've had students who really loved sci-fi movies. Listened to a sci-fi movie, or listened to a sci-fi podcast, or listened to a sci-fi YouTube channel where they discuss the movies. It doesn't matter what you're into, there's something there for you. And also the great thing about having everything on your phone is you can do it at any time. So that 10 minutes before you get out of bed, or those 30 minutes on the bus on the way to work, or the 20 minutes you\"),\n",
       " Document(metadata={'source': 'transcripts\\\\IELTS_Listening_Practice__What_You_NEED_to_Know.txt'}, page_content=\"before you get out of bed, or those 30 minutes on the bus on the way to work, or the 20 minutes you have during your lunch break where you're not doing anything, there are unlimited number of options, and there are a huge number of opportunities for you to practise that. None of these are IELTS related, but remember, they're not testing your ability to answer IELTS questions. They're testing your ability. Does this person have a requisite skill level to get a band seven, or a band eight, or a band nine? In other words, when you go to live in England, or live in America or Canada, will you be able to understand what is going on? Will you be able to understand what people are saying? And also, real people, if you are around native English speakers, listen to them if you want to improve your listening. Number two, listen actively. Okay, so listen, there's a difference between listening passively. So listening passively is just sitting on the bus, looking out the window, listening to a\"),\n",
       " Document(metadata={'source': 'transcripts\\\\IELTS_Listening_Practice__What_You_NEED_to_Know.txt'}, page_content=\"So listening passively is just sitting on the bus, looking out the window, listening to a podcast, and not really thinking about it. Now, that's better than nothing, but it is better to actively focus on one, maximum two things while you're listening to that podcast, or that TV show, or that movie, or that YouTube video. Focus on one thing at a time, for example, vocabulary, accent, intonation, multiple speakers, and normally focus on the thing that you really need help with. So let's say that you find out that you really need help with your vocabulary. Then when you're listening to a podcast and you hear a new word, note that new word down. Guess what that word means from the context. Note down all the information you need to remember that word, such as meaning, synonyms, antonyms, collocations, sentences, pronunciation, all of these things. And then in a few weeks, a few months, you will have a vocabulary book just full of new words that you have learned. You should be doing that\"),\n",
       " Document(metadata={'source': 'transcripts\\\\IELTS_Listening_Practice__What_You_NEED_to_Know.txt'}, page_content=\"will have a vocabulary book just full of new words that you have learned. You should be doing that with reading as well. Or let's say you have a problem with the Scottish accent, or the Irish accent, or the Australian accent. Listen to a podcast where there are those accents and listen for words that you don't really understand. Listen again, listen again, until you figure out what that word is, or intonation. What you can do is, let's say you're watching a movie, look at the movie script, or look at the subtitles, and guess what the intonation is going to be like, and then compare it with how the actor says it, and then mimic what they say. Or listening to multiple speakers, and how they take turns and interrupt each other, and how they give signposting language on what they're doing. There are multiple things that you can focus on, and you should just focus on your weaknesses, really. So you can see the difference between that and just sitting on the bus, looking out the window,\"),\n",
       " Document(metadata={'source': 'transcripts\\\\IELTS_Listening_Practice__What_You_NEED_to_Know.txt'}, page_content=\"So you can see the difference between that and just sitting on the bus, looking out the window, listening to whatever. Actively do something, and that, again, is going to give you a lot more bang for your buck in terms of, you know, if you spend 20 minutes actively listening to a podcast focusing on vocabulary, you might get 10 or 20 words out of that, and that's going to help you in not only your listening test, but your speaking test, your reading test, your writing test, or just look out the window for 20 minutes and think that you're improving when really you're not. So active listening is really, really important. This is probably the.\"),\n",
       " Document(metadata={'source': 'transcripts\\\\IELTS_Listening_Practice__What_You_NEED_to_Know.txt'}, page_content='## IELTS_Listening_Practice__What_You_NEED_to_Know_chunk_1.mp3'),\n",
       " Document(metadata={'source': 'transcripts\\\\IELTS_Listening_Practice__What_You_NEED_to_Know.txt'}, page_content=\"important one in terms of improving your IELTS scores is listen reflectively. So this is when you do practice tests. So you get a practice test make sure it's a real genuine practice test. Do not use these fake tests that you'll find online. They're only there so that they can they can get clicks on their website. 90% over 90% of practice tests you'll find online are fake tests. They're not made by Cambridge. The only tests you should use are the Cambridge tests and because they're created by the people who create the test and they know what they're doing. So what you do is you do the test under exam conditions and then honestly honestly evaluate your mistakes. Where did you go wrong? And think about why did you get each question wrong. So was it spelling? Was it timing? Was it meaning? Was it vocabulary? Was it strategy? Was it spelling? What was it? And write down beside each one the key reason why you got that question wrong. And don't just look at it and be like I don't know why I\"),\n",
       " Document(metadata={'source': 'transcripts\\\\IELTS_Listening_Practice__What_You_NEED_to_Know.txt'}, page_content=\"reason why you got that question wrong. And don't just look at it and be like I don't know why I got it wrong. Actually think about it. If you think about it you will figure out why you got that question wrong. Was it because you were unfamiliar with the question types or maybe you're getting a certain question type wrong every single time. And what you'll see if you do let's say three or four practice tests you'll start to see patterns emerging. Normally students are getting a lower score not because they're bad at everything but because there's one or two things that they need to work on. So I was working with a student recently who was great. Their listening was amazing and but they kept getting 6.5 and the only reason for that was their spelling. Because if you spell look what you know if you spell the answer wrong it's wrong it doesn't and they kept saying oh but it's nearly right. I'm like no they're not going to see it that way. So they worked on their spelling and they\"),\n",
       " Document(metadata={'source': 'transcripts\\\\IELTS_Listening_Practice__What_You_NEED_to_Know.txt'}, page_content=\"right. I'm like no they're not going to see it that way. So they worked on their spelling and they improved and they got the score they needed. I've worked with multiple students who had difficulties with particular types of questions. For example on the reading test and a lot of students have problems with true false not given and matching headings questions. So if you see a pattern emerging there focus on that question learn how to do that question and get a strategy for that question and then you're going to improve. The key here is you need to take action. So once you see this pattern emerging let's say you notice that vocabulary is your problem and you keep messing up because you just don't understand what the words mean and you don't understand the synonyms of the of the words that you're looking for. If you just say okay better luck next time then you've just wasted your time and you're going to fail next time. But if you take action on that and improve that then you are really\"),\n",
       " Document(metadata={'source': 'transcripts\\\\IELTS_Listening_Practice__What_You_NEED_to_Know.txt'}, page_content=\"you're going to fail next time. But if you take action on that and improve that then you are really really going to see results. So don't do lots of practice tests listen to something you enjoy focus on particular things when you're listening and reflect on your mistakes notice patterns and take action on that and that goes around in that feedback loop. So let's say for example you again focused on this and realized that vocabulary was a problem actively listen and focus on vocabulary. Get yourself a podcast or a YouTube channel on something you enjoy and try and improve your vocabulary through listening to something you enjoy and therefore you're really going to enjoy what you're doing you're going to improve and then get the score you need. Sounds simple but it actually does really really work. Thank you very much guys hope that you enjoyed that video.\"),\n",
       " Document(metadata={'source': 'transcripts\\\\IELTS_Vocabulary_Synonyms_for_the_40_Most_Commonly_Used_Wordsmp3_chunk_0.txt'}, page_content='# Transcript for IELTS_Vocabulary_Synonyms_for_the_40_Most_Commonly_Used_Wordsmp3_chunk_0'),\n",
       " Document(metadata={'source': 'transcripts\\\\IELTS_Vocabulary_Synonyms_for_the_40_Most_Commonly_Used_Wordsmp3_chunk_0.txt'}, page_content='## IELTS_Vocabulary_Synonyms_for_the_40_Most_Commonly_Used_Wordsmp3_chunk_0_chunk_0.mp3'),\n",
       " Document(metadata={'source': 'transcripts\\\\IELTS_Vocabulary_Synonyms_for_the_40_Most_Commonly_Used_Wordsmp3_chunk_0.txt'}, page_content=\"Many IELTS students use the same words over and over again. And this is a problem because one of the things the IELTS examiners are looking for is a broad vocabulary. If you demonstrate that you have a wide range of vocabulary, your band score will go up. It's actually really easy to show off your vocabulary if you know synonyms, that is alternatives for commonly used words. And this is what you will learn in this video. I'm going to teach you 40 synonyms you must know to score high. By the end of this video, you will be equipped with a broad vocabulary that you can use in your IELTS test. If you're going to take your IELTS soon, check out my IELTS materials. There, I teach you everything you need to score high. I show you step by step how to give high scoring answers. And of course, we do many practice tests together, so you will feel confident for your test. You can find the link to the IELTS materials in the description box. And now, get a paper and a pen. For each synonym you\"),\n",
       " Document(metadata={'source': 'transcripts\\\\IELTS_Vocabulary_Synonyms_for_the_40_Most_Commonly_Used_Wordsmp3_chunk_0.txt'}, page_content=\"to the IELTS materials in the description box. And now, get a paper and a pen. For each synonym you know, you get one point. Comment below how many synonyms you know. For example, 20, 35 or 40. Let's get started. The first word that is used very often is say. I say it a lot and most other test takers do too. It's a great word. If you use it too much though, your vocabulary sounds limited. There is lots of words to substitute for say. One that you can almost always paraphrase with is claim. Let's look at the sentence. The economist said that prices would rise. Here's claim. The economist claimed that prices would rise. Another common word for reporting what someone said is talk about. It's used for a general subject, not a specific idea. Let's compare this with said first, so you use it correctly. The professor said I should go to law school. The professor talked about going to law school. Here you can see that going to law school is a general idea, since it could be about anyone. But\"),\n",
       " Document(metadata={'source': 'transcripts\\\\IELTS_Vocabulary_Synonyms_for_the_40_Most_Commonly_Used_Wordsmp3_chunk_0.txt'}, page_content=\"Here you can see that going to law school is a general idea, since it could be about anyone. But said is specific instructions to me. So talk about can be replaced with discuss. The professor discussed going to law school. It sounds a little more formal and demonstrates that you have a broad range of vocabulary, which improves your band score. Let's again have a look at this example. The professor is recommending something, right? She's making a suggestion. You can change recommend to advocate. Note that advocate is followed by a noun or an idea starting with an ing verb like this. The teacher recommends studying. This changes to the teacher advocates studying. This word is very advanced. If you use it correctly, it will boost your score like this. While I'm talking about ways to say something, I should mention explain about. Let's look at the sentence. My mother explained about our family's history. You can replace explain about with clarified. My mother clarified our family's\"),\n",
       " Document(metadata={'source': 'transcripts\\\\IELTS_Vocabulary_Synonyms_for_the_40_Most_Commonly_Used_Wordsmp3_chunk_0.txt'}, page_content=\"family's history. You can replace explain about with clarified. My mother clarified our family's history. That means that the noun that is explained is very clear and easy to understand now. It's an awesome word that makes you sound smart. Often it has a person who now understands the topic too. That person is added with for. My mother clarified our family's history for me. You may end up using give a lot too. Like my sister gave me her bike when I moved into my own apartment. Give works well. If you want a polite word, you can also say offer. My sister offered me her bike when I moved into my own apartment. There is a slight difference. Give means you took the bike, but offer does not. It's implied that you did, unless you add more details. For example, my sister offered me her bike, but I already had one. That means she tried to give you the bike, but you said no. Offer is a polite way to say give and is a great word for paraphrasing to reduce repetition. The next word that is\"),\n",
       " Document(metadata={'source': 'transcripts\\\\IELTS_Vocabulary_Synonyms_for_the_40_Most_Commonly_Used_Wordsmp3_chunk_0.txt'}, page_content=\"way to say give and is a great word for paraphrasing to reduce repetition. The next word that is commonly used is ask. It's another word that has a great paraphrase. Inquire. It's really easy to replace one word with the other. For example, tourists often ask about famous places in my town. This changes to tourists often inquire about famous places in my town. What an easy way to show off your vocabulary. Speaking of easy, this word can be paraphrased too. What word should you use? Simple is the same as easy. You can change what an easy way to show off your vocabulary to what a simple way to show off your vocabulary. I want to mention one other thing about IELTS writing though. If you go back and change a word, be sure that you change the words around it too. Note that an easy way doesn't become a simple way. You have to change the n to a. So be careful. That was a good tip, wasn't it? Look at this sentence. My tip is to pay attention to all the words. There is a fancy word for tip\"),\n",
       " Document(metadata={'source': 'transcripts\\\\IELTS_Vocabulary_Synonyms_for_the_40_Most_Commonly_Used_Wordsmp3_chunk_0.txt'}, page_content=\"Look at this sentence. My tip is to pay attention to all the words. There is a fancy word for tip too. Try recommendation. Here's the same sentence. My recommendation is to pay attention to all the words. Recommendation works the same way as tip, but it's much longer and sounds more formal. Learn to spell it correctly if you want to use it, since some IELTS students forget the double n. If you make spelling mistakes, your band score goes down. That's why it's super important to pay attention to spelling. One more phrase we use a lot is for example. That's a fantastic linking phrase, but don't use it too many times. Instead use to illustrate sometimes. It means the same thing, but makes the words different. It's perfect for writing when you want to give more than one example to support your claim. Let's try it in a pair of sentences. Here's for example. I love to read books. For example, I just finished a French novel. Here's the new sentences. I love to read books. To illustrate, I\"),\n",
       " Document(metadata={'source': 'transcripts\\\\IELTS_Vocabulary_Synonyms_for_the_40_Most_Commonly_Used_Wordsmp3_chunk_0.txt'}, page_content=\"I just finished a French novel. Here's the new sentences. I love to read books. To illustrate, I just finished a French novel. Now let's have a look at extra. Check out this sentence. Do you have an extra example to support your view? A longer way to say extra is additional. Try this sentence again with the new word. Do you have an additional example to support your view? This word is easy to remember because add means to put more on and additional is what that is put on. On the IELTS you give a lot of opinions. Many IELTS students say I think a lot of times. Try changing that with a great paraphrase. Presume. That means you think something is true, but aren't positive. Both these words are like I guess. Check it out in a sentence. First, I think most people from my country travel a lot. Here's the new sentence. I presume most people from my country travel a lot. Using presume makes you stand out from the crowd and will help you improve your band score. Let's talk about think about.\"),\n",
       " Document(metadata={'source': 'transcripts\\\\IELTS_Vocabulary_Synonyms_for_the_40_Most_Commonly_Used_Wordsmp3_chunk_0.txt'}, page_content=\"stand out from the crowd and will help you improve your band score. Let's talk about think about. You need to pay attention because think can be used different ways. If you say think about, it means you are using your mind to look at a subject. Here's a good example. I'm thinking about moving to Australia. This is different than guess because you are now looking at different options before making a decision. Well, you can substitute consider for think about. Here's the sentence now. I'm considering moving to Australia. Consider using this word on your IELTS writing test. The next word is very common and you may use it a lot. I am talking about maybe. There is a good paraphrase for maybe so you can vary your vocabulary and that word is possibly. Check out this sentence. Maybe the government will create a new policy. It works the same way with possibly. Possibly the government will create a new policy. Now comes a word that many people use frequently. People. Since you talk about\"),\n",
       " Document(metadata={'source': 'transcripts\\\\IELTS_Vocabulary_Synonyms_for_the_40_Most_Commonly_Used_Wordsmp3_chunk_0.txt'}, page_content=\"create a new policy. Now comes a word that many people use frequently. People. Since you talk about hometowns a lot in the IELTS speaking section, you probably will talk about people in your hometown. People is a fine word, but if you want to include more words, try individuals. That refers to each one of the people together. Let's see how it works in a sentence. Many people in my town ride bicycles. That changes to many individuals in my town ride bicycles. This is an awesome word for IELTS writing too, since you may get a graph showing numbers of people or a discussion question involving your opinion related to people's actions and decisions. Here you can really show off your vocabulary by using individuals. While I'm talking about people, here's a specific group of people. Your family. The IELTS speaking examiner might ask about who you live with or your family when you were growing up. Household refers to everyone who lives in the same house, so it usually refers to a family. Some\"),\n",
       " Document(metadata={'source': 'transcripts\\\\IELTS_Vocabulary_Synonyms_for_the_40_Most_Commonly_Used_Wordsmp3_chunk_0.txt'}, page_content='Household refers to everyone who lives in the same house, so it usually refers to a family. Some people include their pets in their families and households too. For instance, my family includes my parents, brother and'),\n",
       " Document(metadata={'source': 'transcripts\\\\IELTS_Vocabulary_Synonyms_for_the_40_Most_Commonly_Used_Wordsmp3_chunk_0.txt'}, page_content='## IELTS_Vocabulary_Synonyms_for_the_40_Most_Commonly_Used_Wordsmp3_chunk_0_chunk_1.mp3'),\n",
       " Document(metadata={'source': 'transcripts\\\\IELTS_Vocabulary_Synonyms_for_the_40_Most_Commonly_Used_Wordsmp3_chunk_0.txt'}, page_content=\"grandmother. That becomes my household includes my parents, brother and grandmother. Household is a bit more precise, so it's a great way to boost your score when you use it correctly. By the way, if you want more vocabulary videos, hit the like button and write yes in the comments. If you want something else, tell me your video wish in the comments, so I know what you would like to see on this channel. Now let's take a look at 25 more synonyms that help you get a band 9 on the aisles. One more word about your household. That word is live. It's really common when you are talking about the places where you grew up or have a house now. Try changing it with reside. That is usually used when talking about a place where you live. For example, you could say I live in a small apartment, but you can also show off your vocabulary by saying I reside in a small apartment. Here's another great paraphrase for discussing where you live in IELTS speaking. You can also use this word in the writing\"),\n",
       " Document(metadata={'source': 'transcripts\\\\IELTS_Vocabulary_Synonyms_for_the_40_Most_Commonly_Used_Wordsmp3_chunk_0.txt'}, page_content=\"for discussing where you live in IELTS speaking. You can also use this word in the writing section. Lots of people live in towns, so you say town a lot. Well, you can change that using community. That can refer to a smaller part of a town, but it also is a nice way of making your entire town sound like a friendly place. So here's a sentence. I live in a small town in the north of Maryland. The paraphrase is I live in a small community in the north of Maryland. Doesn't that sound like a friendly place to live? Of course, some people live in cities rather than towns. You might also want to talk about cities if you have an IELTS writing topic related to transportation or the environment. So paraphrase city with metropolis, a word that means really big city. For example, the environment next to a city can become very polluted. Show off your vocabulary by saying the environment next to a metropolis can become very polluted. Please note that some people try to make metropolis plural in\"),\n",
       " Document(metadata={'source': 'transcripts\\\\IELTS_Vocabulary_Synonyms_for_the_40_Most_Commonly_Used_Wordsmp3_chunk_0.txt'}, page_content=\"metropolis can become very polluted. Please note that some people try to make metropolis plural in weird ways, like adding the letter I. Don't do it. The plural is just metropolises. If you want more vocabulary for speaking about hometowns, be sure to check out my video on that. In this video, you will learn 44 advanced words for talking about your hometown in IELTS speaking. You can find the link below. Now, I want to talk a bit about hobbies. Clearly, you can talk about your hobbies by saying hobby, but a more advanced word is pastime. That is something you do in your spare time. In other words, it's a hobby. So you can change a sentence very easily, like my favorite hobby is reading books. That becomes my favorite pastime is reading books. I said try a lot in this video, and it's a useful word when talking about your pastimes. For example, you can say I want to try skiing. Well, there is a perfect paraphrase for try too. It's attempt. Attempt includes the sound of a bit of effort,\"),\n",
       " Document(metadata={'source': 'transcripts\\\\IELTS_Vocabulary_Synonyms_for_the_40_Most_Commonly_Used_Wordsmp3_chunk_0.txt'}, page_content=\"is a perfect paraphrase for try too. It's attempt. Attempt includes the sound of a bit of effort, like you may or may not succeed. However, you want to do it. Here's the sentence with the new word. I want to attempt skiing. That makes it sound like you really want a challenge. It's a good image to share. You may have noticed I said sound a lot too. For example, it sounds like you really want a challenge. I can change that by switching sound to appear. Both words mean seen, but appear is more formal. How does the sentence appear with the change? It appears like you really want challenge. Another common topic for IELTS speaking is food. Do you want a nice word that means food? Why not use cuisine? For example, food in my country uses a lot of chili peppers. Now the fancy version. Cuisine in my country uses a lot of chili peppers. It's good to give examples to support your claims in both IELTS writing and speaking. One way to do that is mention something famous that fits the topic. Boost\"),\n",
       " Document(metadata={'source': 'transcripts\\\\IELTS_Vocabulary_Synonyms_for_the_40_Most_Commonly_Used_Wordsmp3_chunk_0.txt'}, page_content=\"writing and speaking. One way to do that is mention something famous that fits the topic. Boost your vocabulary by changing famous to prominent. For example, you might say one famous landmark is a statue of Isaac Newton. Or you can change it to one prominent landmark is a statue of Isaac Newton. Prominent refers to something that is important or notable. So it's perfect to describe things that aren't famous throughout the world, but are notable in your area. I've said perfect a few times, haven't I? It's now time to give a paraphrase for that word. Perfect can be replaced with ideal. For example, that is a perfect way to boost your score becomes that is an ideal way to boost your score. Another common little word is very. You also might use really frequently. If you do, you might get nervous and repeat them again and again during IELTS speaking. You don't have to though. Replace both of them with the awesome word extremely. Here's a sentence. Paraphrasing is a very good way to boost\"),\n",
       " Document(metadata={'source': 'transcripts\\\\IELTS_Vocabulary_Synonyms_for_the_40_Most_Commonly_Used_Wordsmp3_chunk_0.txt'}, page_content=\"them with the awesome word extremely. Here's a sentence. Paraphrasing is a very good way to boost your score or paraphrasing is a really good way to boost your score. Now look at how both of those can be replaced. Paraphrasing is an extremely good way to boost your score. If you're writing, you need to change a to an in that sentence. Be careful when replacing words in IELTS writing. Next, I want to talk about the word about. It's used in two main ways and I have paraphrases for both of them. The first is when you are talking about something that is not exact but close. Like I studied French for about six years. Really, it was five years and eight months but that's close enough, right? This usage is extremely common when reporting information about graphs in IELTS writing. You might say the percentage of sales increased to about 45 in 1998. An absolutely wonderful paraphrase is approximately. Listen to the sentence now. The percentage of sales increased to approximately 45 in 1998.\"),\n",
       " Document(metadata={'source': 'transcripts\\\\IELTS_Vocabulary_Synonyms_for_the_40_Most_Commonly_Used_Wordsmp3_chunk_0.txt'}, page_content=\"Listen to the sentence now. The percentage of sales increased to approximately 45 in 1998. Definitely try using this paraphrase. It's extremely advanced and will help you improve your band score. The other use of about that you see often is when you are discussing a particular topic and you want to refer to that topic. What I mean is you use about in a sentence like this. I have a question about lecture. Substitute about with regarding for a formal sentence. I have a question regarding the lecture. This is very advanced English and demonstrates that you have a wide vocabulary. Another common little word is mostly. Like people in my country mostly speak Spanish. Change the word to predominantly for a totally different sound. People in my country predominantly speak Spanish. Do you see how changing just one word makes a big difference in the impression you make? Here you can see that improving your IELTS score is not that hard. You just need to know what you need to do to score high.\"),\n",
       " Document(metadata={'source': 'transcripts\\\\IELTS_Vocabulary_Synonyms_for_the_40_Most_Commonly_Used_Wordsmp3_chunk_0.txt'}, page_content=\"your IELTS score is not that hard. You just need to know what you need to do to score high. Another common word for the IELTS is change. That's because you have to describe changes you see in graphs in the writing section. Plus many of the writing discussion questions ask your opinion about changes. So replace change with alter some of the times you use it. For example the percentage of workers in the technology fields changed over time. That becomes the percentage of workers in the technology fields altered over time. One kind of change is when numbers go up. Saying go up is more precise than change. But you can show off your vocabulary with increase. For example the price of gasoline went up last year becomes the price of gasoline increased last year. Note that the opposite of increase is a decrease. That means go down. So if your sentence is the value of the dollar went down, you can instead say the value of the dollar decreased. This pair of words increase and decrease are really\"),\n",
       " Document(metadata={'source': 'transcripts\\\\IELTS_Vocabulary_Synonyms_for_the_40_Most_Commonly_Used_Wordsmp3_chunk_0.txt'}, page_content=\"instead say the value of the dollar decreased. This pair of words increase and decrease are really useful for describing data. While I'm talking about graphs, here's another great synonym. When a trend speeds up you can say escalates. For example deforestation in the Amazon has sped up over the past 15 years. Or you can say deforestation in the Amazon has escalated over the past 15 years. Don't forget to use this word in both writing tasks as it showcases your ability to describe ways a trend changes. Another awesome graph word is a synonym for the highest point on a graph. That point is called the apex. Have a look at this sentence. The population rose after 1980 to the highest point of 10,000 people in 2000, then decreased from there. But wait that sentence can be even better. The population rose after 1980 to the apex of 10,000 people in 2000, then decreased from there. Well not all graphs show big upward or downward changes. For a long time the trend might be the same. That's okay\"),\n",
       " Document(metadata={'source': 'transcripts\\\\IELTS_Vocabulary_Synonyms_for_the_40_Most_Commonly_Used_Wordsmp3_chunk_0.txt'}, page_content=\"show big upward or downward changes. For a long time the trend might be the same. That's okay because there's a great synonym for long time. That phrase is\")]"
      ]
     },
     "execution_count": 14,
     "metadata": {},
     "output_type": "execute_result"
    }
   ],
   "source": [
    "chunks"
   ]
  },
  {
   "cell_type": "code",
   "execution_count": 13,
   "id": "20baa250",
   "metadata": {},
   "outputs": [
    {
     "data": {
      "text/plain": [
       "994"
      ]
     },
     "execution_count": 13,
     "metadata": {},
     "output_type": "execute_result"
    }
   ],
   "source": [
    "len(chunks[2].page_content)"
   ]
  },
  {
   "cell_type": "code",
   "execution_count": null,
   "id": "016f3edd",
   "metadata": {},
   "outputs": [],
   "source": [
    "\"\"\"from langchain.text_splitter import CharacterTextSplitter\n",
    "text_splitter = CharacterTextSplitter(chunk_size=600, chunk_overlap=100)\n",
    "docs = text_splitter.split_documents(docs)\n",
    "\"\"\""
   ]
  },
  {
   "cell_type": "markdown",
   "id": "1b5952ae",
   "metadata": {},
   "source": [
    "#### **Assigning Source Metadata**\n",
    "\n",
    "What happens here: We attach chunk.metadata[\"source\"] = video_id to each chunk, where video_id is the base filename of the transcript.\n"
   ]
  },
  {
   "cell_type": "code",
   "execution_count": 15,
   "id": "bf7f36fd",
   "metadata": {},
   "outputs": [],
   "source": [
    "for chunk in chunks:\n",
    "    video_id = os.path.splitext(os.path.basename(chunk.metadata[\"source\"]))[0]\n",
    "    chunk.metadata[\"source\"] = video_id"
   ]
  },
  {
   "cell_type": "markdown",
   "id": "cbb96d1f",
   "metadata": {},
   "source": [
    "#### **Embedding Generation & FAISS Indexing**"
   ]
  },
  {
   "cell_type": "code",
   "execution_count": null,
   "id": "a2bded56",
   "metadata": {},
   "outputs": [
    {
     "name": "stderr",
     "output_type": "stream",
     "text": [
      "C:\\Users\\007T\\AppData\\Local\\Temp\\ipykernel_5924\\2902007682.py:1: LangChainDeprecationWarning: The class `OpenAIEmbeddings` was deprecated in LangChain 0.0.9 and will be removed in 1.0. An updated version of the class exists in the :class:`~langchain-openai package and should be used instead. To use it run `pip install -U :class:`~langchain-openai` and import as `from :class:`~langchain_openai import OpenAIEmbeddings``.\n",
      "  embeddings = OpenAIEmbeddings() # model=\"text-embedding-ada-002\"\n"
     ]
    }
   ],
   "source": [
    "embeddings = OpenAIEmbeddings(model=\"text-embedding-ada-002\") \n",
    "vectorstore = FAISS.from_documents(chunks, embeddings)"
   ]
  },
  {
   "cell_type": "markdown",
   "id": "fb12b5a4",
   "metadata": {},
   "source": [
    "#### **Retriever Initialization**"
   ]
  },
  {
   "cell_type": "code",
   "execution_count": 58,
   "id": "14d88db5",
   "metadata": {},
   "outputs": [],
   "source": [
    "retriever = vectorstore.as_retriever()"
   ]
  },
  {
   "cell_type": "markdown",
   "id": "0210b190",
   "metadata": {},
   "source": [
    "Tracer"
   ]
  },
  {
   "cell_type": "code",
   "execution_count": 19,
   "id": "130568bb",
   "metadata": {},
   "outputs": [],
   "source": [
    "langsmith_key = os.getenv(\"LANGSMITH_API_KEY\")"
   ]
  },
  {
   "cell_type": "code",
   "execution_count": 21,
   "id": "c7a8953f",
   "metadata": {},
   "outputs": [
    {
     "name": "stderr",
     "output_type": "stream",
     "text": [
      "C:\\Users\\007T\\AppData\\Local\\Temp\\ipykernel_5924\\979787463.py:12: LangChainDeprecationWarning: The class `ChatOpenAI` was deprecated in LangChain 0.0.10 and will be removed in 1.0. An updated version of the class exists in the :class:`~langchain-openai package and should be used instead. To use it run `pip install -U :class:`~langchain-openai` and import as `from :class:`~langchain_openai import ChatOpenAI``.\n",
      "  llm = ChatOpenAI(\n",
      "C:\\Users\\007T\\AppData\\Local\\Temp\\ipykernel_5924\\979787463.py:12: DeprecationWarning: callback_manager is deprecated. Please use callbacks instead.\n",
      "  llm = ChatOpenAI(\n"
     ]
    },
    {
     "name": "stderr",
     "output_type": "stream",
     "text": [
      "DEBUG:langsmith.client:Sending compressed multipart request with context: trace=58b5689a-e74a-458e-835a-3d3956bce223,id=58b5689a-e74a-458e-835a-3d3956bce223; trace=58b5689a-e74a-458e-835a-3d3956bce223,id=58b5689a-e74a-458e-835a-3d3956bce223\n",
      "DEBUG:langsmith.client:Sending compressed multipart request with context: trace=c04c06ce-2e10-4b58-b985-887fff318356,id=c04c06ce-2e10-4b58-b985-887fff318356; trace=c04c06ce-2e10-4b58-b985-887fff318356,id=b5151bf9-e5eb-4388-879c-39b04d12960e; trace=c04c06ce-2e10-4b58-b985-887fff318356,id=9179575b-37d8-4c8f-8ef5-ac13097f8c97; trace=9179575b-37d8-4c8f-8ef5-ac13097f8c97,id=9179575b-37d8-4c8f-8ef5-ac13097f8c97\n",
      "DEBUG:langsmith.client:Sending compressed multipart request with context: trace=c04c06ce-2e10-4b58-b985-887fff318356,id=9179575b-37d8-4c8f-8ef5-ac13097f8c97; trace=9179575b-37d8-4c8f-8ef5-ac13097f8c97,id=9179575b-37d8-4c8f-8ef5-ac13097f8c97; trace=c04c06ce-2e10-4b58-b985-887fff318356,id=b5151bf9-e5eb-4388-879c-39b04d12960e; trace=c04c06ce-2e10-4b58-b985-887fff318356,id=8b32bf91-725f-46e1-ae04-33caecfa9db3; trace=c04c06ce-2e10-4b58-b985-887fff318356,id=8b32bf91-725f-46e1-ae04-33caecfa9db3; trace=c04c06ce-2e10-4b58-b985-887fff318356,id=c04c06ce-2e10-4b58-b985-887fff318356\n",
      "DEBUG:langsmith.client:Sending compressed multipart request with context: trace=23fa2191-ba24-4776-b127-c83cc2628127,id=23fa2191-ba24-4776-b127-c83cc2628127; trace=23fa2191-ba24-4776-b127-c83cc2628127,id=4729fedd-a95d-41df-b238-c582579f6595; trace=23fa2191-ba24-4776-b127-c83cc2628127,id=1e56fc9d-0362-4b7e-965a-532daaccb42e; trace=1e56fc9d-0362-4b7e-965a-532daaccb42e,id=1e56fc9d-0362-4b7e-965a-532daaccb42e\n",
      "DEBUG:langsmith.client:Sending compressed multipart request with context: trace=23fa2191-ba24-4776-b127-c83cc2628127,id=1e56fc9d-0362-4b7e-965a-532daaccb42e; trace=1e56fc9d-0362-4b7e-965a-532daaccb42e,id=1e56fc9d-0362-4b7e-965a-532daaccb42e; trace=23fa2191-ba24-4776-b127-c83cc2628127,id=4729fedd-a95d-41df-b238-c582579f6595; trace=23fa2191-ba24-4776-b127-c83cc2628127,id=0c01db9e-b851-4c28-80cb-a9c419a561af; trace=23fa2191-ba24-4776-b127-c83cc2628127,id=0c01db9e-b851-4c28-80cb-a9c419a561af; trace=23fa2191-ba24-4776-b127-c83cc2628127,id=23fa2191-ba24-4776-b127-c83cc2628127\n",
      "DEBUG:langsmith.client:Sending compressed multipart request with context: trace=c4990f57-da1a-47ff-8150-5f190c703129,id=c4990f57-da1a-47ff-8150-5f190c703129\n",
      "DEBUG:langsmith.client:Sending compressed multipart request with context: trace=c4990f57-da1a-47ff-8150-5f190c703129,id=535e81de-9986-44e5-9f81-052bc8ed449c; trace=c4990f57-da1a-47ff-8150-5f190c703129,id=9aa7f0e5-a0ed-4f0d-97b9-b2f3936ff461; trace=9aa7f0e5-a0ed-4f0d-97b9-b2f3936ff461,id=9aa7f0e5-a0ed-4f0d-97b9-b2f3936ff461\n",
      "DEBUG:langsmith.client:Sending compressed multipart request with context: trace=c4990f57-da1a-47ff-8150-5f190c703129,id=9aa7f0e5-a0ed-4f0d-97b9-b2f3936ff461; trace=9aa7f0e5-a0ed-4f0d-97b9-b2f3936ff461,id=9aa7f0e5-a0ed-4f0d-97b9-b2f3936ff461; trace=c4990f57-da1a-47ff-8150-5f190c703129,id=535e81de-9986-44e5-9f81-052bc8ed449c; trace=c4990f57-da1a-47ff-8150-5f190c703129,id=e9bb2193-f23b-4c36-9b4c-d1446b66c36f; trace=c4990f57-da1a-47ff-8150-5f190c703129,id=e9bb2193-f23b-4c36-9b4c-d1446b66c36f; trace=c4990f57-da1a-47ff-8150-5f190c703129,id=c4990f57-da1a-47ff-8150-5f190c703129\n",
      "DEBUG:langsmith.client:Sending compressed multipart request with context: trace=255bcb44-cbc1-4e91-9094-032ad9252bd0,id=255bcb44-cbc1-4e91-9094-032ad9252bd0; trace=255bcb44-cbc1-4e91-9094-032ad9252bd0,id=e3bc033e-55ad-409b-848a-dc86625bf562; trace=255bcb44-cbc1-4e91-9094-032ad9252bd0,id=ecc435b3-4761-4952-9ec2-c254c822920e; trace=ecc435b3-4761-4952-9ec2-c254c822920e,id=ecc435b3-4761-4952-9ec2-c254c822920e\n",
      "DEBUG:langsmith.client:Sending compressed multipart request with context: trace=255bcb44-cbc1-4e91-9094-032ad9252bd0,id=ecc435b3-4761-4952-9ec2-c254c822920e; trace=ecc435b3-4761-4952-9ec2-c254c822920e,id=ecc435b3-4761-4952-9ec2-c254c822920e; trace=255bcb44-cbc1-4e91-9094-032ad9252bd0,id=e3bc033e-55ad-409b-848a-dc86625bf562; trace=255bcb44-cbc1-4e91-9094-032ad9252bd0,id=ebcee029-6227-446a-8e44-7e8544d832be; trace=255bcb44-cbc1-4e91-9094-032ad9252bd0,id=2d97a491-92d0-468b-90b0-7cd05010af46; trace=255bcb44-cbc1-4e91-9094-032ad9252bd0,id=9486c9b9-85c3-47ef-a919-540a4d3c620b\n",
      "DEBUG:langsmith.client:Sending compressed multipart request with context: trace=255bcb44-cbc1-4e91-9094-032ad9252bd0,id=9486c9b9-85c3-47ef-a919-540a4d3c620b; trace=255bcb44-cbc1-4e91-9094-032ad9252bd0,id=768a1454-5600-4063-bdec-3a2d2b425505; trace=255bcb44-cbc1-4e91-9094-032ad9252bd0,id=f4f521d1-f80b-455e-9cad-ee1c1bbd7f22; trace=255bcb44-cbc1-4e91-9094-032ad9252bd0,id=d20bb9dc-ceed-4b67-9e78-c0c511e3fe23; trace=d20bb9dc-ceed-4b67-9e78-c0c511e3fe23,id=d20bb9dc-ceed-4b67-9e78-c0c511e3fe23\n",
      "DEBUG:langsmith.client:Sending compressed multipart request with context: trace=255bcb44-cbc1-4e91-9094-032ad9252bd0,id=d20bb9dc-ceed-4b67-9e78-c0c511e3fe23; trace=d20bb9dc-ceed-4b67-9e78-c0c511e3fe23,id=d20bb9dc-ceed-4b67-9e78-c0c511e3fe23; trace=255bcb44-cbc1-4e91-9094-032ad9252bd0,id=f4f521d1-f80b-455e-9cad-ee1c1bbd7f22; trace=255bcb44-cbc1-4e91-9094-032ad9252bd0,id=768a1454-5600-4063-bdec-3a2d2b425505; trace=255bcb44-cbc1-4e91-9094-032ad9252bd0,id=2d97a491-92d0-468b-90b0-7cd05010af46; trace=255bcb44-cbc1-4e91-9094-032ad9252bd0,id=ebcee029-6227-446a-8e44-7e8544d832be; trace=255bcb44-cbc1-4e91-9094-032ad9252bd0,id=255bcb44-cbc1-4e91-9094-032ad9252bd0\n",
      "DEBUG:langsmith.client:Sending compressed multipart request with context: trace=1a8a425e-6a41-4b9a-b9a7-417df8638659,id=1a8a425e-6a41-4b9a-b9a7-417df8638659; trace=1a8a425e-6a41-4b9a-b9a7-417df8638659,id=499a2c5c-d845-4f7b-ab44-6af700ffa134; trace=1a8a425e-6a41-4b9a-b9a7-417df8638659,id=bb51cace-e2da-4b12-88e6-c1a919bfec23; trace=bb51cace-e2da-4b12-88e6-c1a919bfec23,id=bb51cace-e2da-4b12-88e6-c1a919bfec23\n",
      "DEBUG:langsmith.client:Sending compressed multipart request with context: trace=1a8a425e-6a41-4b9a-b9a7-417df8638659,id=bb51cace-e2da-4b12-88e6-c1a919bfec23; trace=bb51cace-e2da-4b12-88e6-c1a919bfec23,id=bb51cace-e2da-4b12-88e6-c1a919bfec23; trace=1a8a425e-6a41-4b9a-b9a7-417df8638659,id=499a2c5c-d845-4f7b-ab44-6af700ffa134; trace=1a8a425e-6a41-4b9a-b9a7-417df8638659,id=ac3d63b1-3db2-4b6f-b57f-cd1ea97d9032; trace=1a8a425e-6a41-4b9a-b9a7-417df8638659,id=98db7f1c-109a-482c-bf1a-e4c3b33fdc3a; trace=1a8a425e-6a41-4b9a-b9a7-417df8638659,id=4e48bde7-9ffc-47a4-ba56-c4a557d9a7b1\n",
      "DEBUG:langsmith.client:Sending compressed multipart request with context: trace=1a8a425e-6a41-4b9a-b9a7-417df8638659,id=4e48bde7-9ffc-47a4-ba56-c4a557d9a7b1; trace=1a8a425e-6a41-4b9a-b9a7-417df8638659,id=54263528-96c5-4f39-a8a9-f70a1a864f21; trace=1a8a425e-6a41-4b9a-b9a7-417df8638659,id=f321cc4b-98a1-4485-b54f-0f5c6c0952c6; trace=1a8a425e-6a41-4b9a-b9a7-417df8638659,id=4ada962c-4c2c-4f9b-98da-dc3df9796edf; trace=4ada962c-4c2c-4f9b-98da-dc3df9796edf,id=4ada962c-4c2c-4f9b-98da-dc3df9796edf\n",
      "DEBUG:langsmith.client:Sending compressed multipart request with context: trace=1a8a425e-6a41-4b9a-b9a7-417df8638659,id=4ada962c-4c2c-4f9b-98da-dc3df9796edf; trace=4ada962c-4c2c-4f9b-98da-dc3df9796edf,id=4ada962c-4c2c-4f9b-98da-dc3df9796edf; trace=1a8a425e-6a41-4b9a-b9a7-417df8638659,id=f321cc4b-98a1-4485-b54f-0f5c6c0952c6; trace=1a8a425e-6a41-4b9a-b9a7-417df8638659,id=54263528-96c5-4f39-a8a9-f70a1a864f21; trace=1a8a425e-6a41-4b9a-b9a7-417df8638659,id=98db7f1c-109a-482c-bf1a-e4c3b33fdc3a; trace=1a8a425e-6a41-4b9a-b9a7-417df8638659,id=ac3d63b1-3db2-4b6f-b57f-cd1ea97d9032; trace=1a8a425e-6a41-4b9a-b9a7-417df8638659,id=1a8a425e-6a41-4b9a-b9a7-417df8638659\n",
      "DEBUG:langsmith.client:Sending compressed multipart request with context: trace=0fbc39be-c823-443d-8d37-9ff1172ddf96,id=0fbc39be-c823-443d-8d37-9ff1172ddf96; trace=0fbc39be-c823-443d-8d37-9ff1172ddf96,id=af22daab-2b64-4c82-a7a8-1467056cecb1; trace=0fbc39be-c823-443d-8d37-9ff1172ddf96,id=af22daab-2b64-4c82-a7a8-1467056cecb1; trace=0fbc39be-c823-443d-8d37-9ff1172ddf96,id=0fbc39be-c823-443d-8d37-9ff1172ddf96\n",
      "DEBUG:langsmith.client:Sending compressed multipart request with context: trace=3cfc629b-6847-417a-a787-875f2cc3a2f6,id=3cfc629b-6847-417a-a787-875f2cc3a2f6; trace=3cfc629b-6847-417a-a787-875f2cc3a2f6,id=675498ca-9407-444e-8e30-a95e362c734b; trace=3cfc629b-6847-417a-a787-875f2cc3a2f6,id=675498ca-9407-444e-8e30-a95e362c734b; trace=3cfc629b-6847-417a-a787-875f2cc3a2f6,id=3cfc629b-6847-417a-a787-875f2cc3a2f6\n",
      "DEBUG:langsmith.client:Sending compressed multipart request with context: trace=6d50323d-6808-4d54-8ead-3aaa053d3184,id=6d50323d-6808-4d54-8ead-3aaa053d3184; trace=6d50323d-6808-4d54-8ead-3aaa053d3184,id=af5adbf9-a85e-42c0-a7cf-a72f42c34e65; trace=6d50323d-6808-4d54-8ead-3aaa053d3184,id=af5adbf9-a85e-42c0-a7cf-a72f42c34e65; trace=6d50323d-6808-4d54-8ead-3aaa053d3184,id=6d50323d-6808-4d54-8ead-3aaa053d3184\n",
      "DEBUG:langsmith.client:Sending compressed multipart request with context: trace=b05112f4-8045-4ba3-9c1b-26c55f63c41b,id=b05112f4-8045-4ba3-9c1b-26c55f63c41b; trace=b05112f4-8045-4ba3-9c1b-26c55f63c41b,id=f8b548c0-f4da-4f7d-802d-aa0e4c140a0d\n",
      "DEBUG:langsmith.client:Sending compressed multipart request with context: trace=b05112f4-8045-4ba3-9c1b-26c55f63c41b,id=f8b548c0-f4da-4f7d-802d-aa0e4c140a0d; trace=b05112f4-8045-4ba3-9c1b-26c55f63c41b,id=492141e7-7c72-4788-bcb1-8cbda0990f66; trace=b05112f4-8045-4ba3-9c1b-26c55f63c41b,id=c7c82f60-436f-4afb-b99b-dfa09a3b8cb4; trace=b05112f4-8045-4ba3-9c1b-26c55f63c41b,id=541e6364-b982-4195-b4fe-ff9c254e83f0; trace=541e6364-b982-4195-b4fe-ff9c254e83f0,id=541e6364-b982-4195-b4fe-ff9c254e83f0\n",
      "DEBUG:langsmith.client:Sending compressed multipart request with context: trace=b05112f4-8045-4ba3-9c1b-26c55f63c41b,id=541e6364-b982-4195-b4fe-ff9c254e83f0; trace=541e6364-b982-4195-b4fe-ff9c254e83f0,id=541e6364-b982-4195-b4fe-ff9c254e83f0; trace=b05112f4-8045-4ba3-9c1b-26c55f63c41b,id=c7c82f60-436f-4afb-b99b-dfa09a3b8cb4; trace=b05112f4-8045-4ba3-9c1b-26c55f63c41b,id=492141e7-7c72-4788-bcb1-8cbda0990f66; trace=b05112f4-8045-4ba3-9c1b-26c55f63c41b,id=b05112f4-8045-4ba3-9c1b-26c55f63c41b\n",
      "DEBUG:langsmith.client:Sending compressed multipart request with context: trace=d745f837-e5df-478b-9a8d-43db2b2c37b4,id=d745f837-e5df-478b-9a8d-43db2b2c37b4; trace=d745f837-e5df-478b-9a8d-43db2b2c37b4,id=f86351cd-5a09-4ded-ada3-f9f3bb9f2927; trace=d745f837-e5df-478b-9a8d-43db2b2c37b4,id=c7430be3-8862-4855-9385-d21122f47cef; trace=c7430be3-8862-4855-9385-d21122f47cef,id=c7430be3-8862-4855-9385-d21122f47cef\n",
      "DEBUG:langsmith.client:Sending compressed multipart request with context: trace=d745f837-e5df-478b-9a8d-43db2b2c37b4,id=c7430be3-8862-4855-9385-d21122f47cef; trace=c7430be3-8862-4855-9385-d21122f47cef,id=c7430be3-8862-4855-9385-d21122f47cef; trace=d745f837-e5df-478b-9a8d-43db2b2c37b4,id=f86351cd-5a09-4ded-ada3-f9f3bb9f2927; trace=d745f837-e5df-478b-9a8d-43db2b2c37b4,id=1f07d20f-2148-4975-b458-04e91ae924b2; trace=d745f837-e5df-478b-9a8d-43db2b2c37b4,id=9517f316-0bd7-4386-801e-d667448ba429; trace=d745f837-e5df-478b-9a8d-43db2b2c37b4,id=4f3e376f-1ede-4c24-8e04-a0f1b8131b23\n",
      "DEBUG:langsmith.client:Sending compressed multipart request with context: trace=d745f837-e5df-478b-9a8d-43db2b2c37b4,id=4f3e376f-1ede-4c24-8e04-a0f1b8131b23; trace=d745f837-e5df-478b-9a8d-43db2b2c37b4,id=2697c59f-a3bc-464b-aa7b-5d80da3030e2; trace=d745f837-e5df-478b-9a8d-43db2b2c37b4,id=7c9adf38-ecec-4731-a674-c432e7e3a2b4; trace=d745f837-e5df-478b-9a8d-43db2b2c37b4,id=4fbdc4ed-f5ec-4619-a753-8ed7490004ed; trace=4fbdc4ed-f5ec-4619-a753-8ed7490004ed,id=4fbdc4ed-f5ec-4619-a753-8ed7490004ed\n",
      "DEBUG:langsmith.client:Sending compressed multipart request with context: trace=d745f837-e5df-478b-9a8d-43db2b2c37b4,id=4fbdc4ed-f5ec-4619-a753-8ed7490004ed; trace=4fbdc4ed-f5ec-4619-a753-8ed7490004ed,id=4fbdc4ed-f5ec-4619-a753-8ed7490004ed; trace=d745f837-e5df-478b-9a8d-43db2b2c37b4,id=7c9adf38-ecec-4731-a674-c432e7e3a2b4; trace=d745f837-e5df-478b-9a8d-43db2b2c37b4,id=2697c59f-a3bc-464b-aa7b-5d80da3030e2; trace=d745f837-e5df-478b-9a8d-43db2b2c37b4,id=9517f316-0bd7-4386-801e-d667448ba429; trace=d745f837-e5df-478b-9a8d-43db2b2c37b4,id=1f07d20f-2148-4975-b458-04e91ae924b2; trace=d745f837-e5df-478b-9a8d-43db2b2c37b4,id=d745f837-e5df-478b-9a8d-43db2b2c37b4\n",
      "DEBUG:langsmith.client:Sending compressed multipart request with context: trace=06e0ab2f-e341-4ae4-995a-99980dd77546,id=06e0ab2f-e341-4ae4-995a-99980dd77546; trace=06e0ab2f-e341-4ae4-995a-99980dd77546,id=20b6b8c8-c344-453b-b464-de356c4c03d3; trace=06e0ab2f-e341-4ae4-995a-99980dd77546,id=9115b31a-efb7-4ea3-bdca-45943d5cdd6c; trace=9115b31a-efb7-4ea3-bdca-45943d5cdd6c,id=9115b31a-efb7-4ea3-bdca-45943d5cdd6c\n",
      "DEBUG:langsmith.client:Sending compressed multipart request with context: trace=06e0ab2f-e341-4ae4-995a-99980dd77546,id=9115b31a-efb7-4ea3-bdca-45943d5cdd6c; trace=9115b31a-efb7-4ea3-bdca-45943d5cdd6c,id=9115b31a-efb7-4ea3-bdca-45943d5cdd6c; trace=06e0ab2f-e341-4ae4-995a-99980dd77546,id=20b6b8c8-c344-453b-b464-de356c4c03d3; trace=06e0ab2f-e341-4ae4-995a-99980dd77546,id=2c410c46-3c91-4737-97ae-08dcbac374a1; trace=06e0ab2f-e341-4ae4-995a-99980dd77546,id=24712b8f-dee4-4b37-af62-284e32b60ccd; trace=06e0ab2f-e341-4ae4-995a-99980dd77546,id=ca05c21e-3450-4061-8307-fbc246784184\n",
      "DEBUG:langsmith.client:Sending compressed multipart request with context: trace=06e0ab2f-e341-4ae4-995a-99980dd77546,id=ca05c21e-3450-4061-8307-fbc246784184; trace=06e0ab2f-e341-4ae4-995a-99980dd77546,id=6632d581-3ea9-4627-90fe-5031427a4aab; trace=06e0ab2f-e341-4ae4-995a-99980dd77546,id=33e4fec1-c9d3-4d4b-aeed-a2b6f13e0e8a; trace=06e0ab2f-e341-4ae4-995a-99980dd77546,id=8875259e-9b8f-4e95-957d-1c6ddd0ef47e; trace=8875259e-9b8f-4e95-957d-1c6ddd0ef47e,id=8875259e-9b8f-4e95-957d-1c6ddd0ef47e\n",
      "DEBUG:langsmith.client:Sending compressed multipart request with context: trace=06e0ab2f-e341-4ae4-995a-99980dd77546,id=8875259e-9b8f-4e95-957d-1c6ddd0ef47e; trace=8875259e-9b8f-4e95-957d-1c6ddd0ef47e,id=8875259e-9b8f-4e95-957d-1c6ddd0ef47e; trace=06e0ab2f-e341-4ae4-995a-99980dd77546,id=33e4fec1-c9d3-4d4b-aeed-a2b6f13e0e8a; trace=06e0ab2f-e341-4ae4-995a-99980dd77546,id=6632d581-3ea9-4627-90fe-5031427a4aab; trace=06e0ab2f-e341-4ae4-995a-99980dd77546,id=24712b8f-dee4-4b37-af62-284e32b60ccd; trace=06e0ab2f-e341-4ae4-995a-99980dd77546,id=2c410c46-3c91-4737-97ae-08dcbac374a1; trace=06e0ab2f-e341-4ae4-995a-99980dd77546,id=06e0ab2f-e341-4ae4-995a-99980dd77546\n",
      "DEBUG:langsmith.client:Sending compressed multipart request with context: trace=689dd9eb-5f02-430d-8a29-f959de8b98fa,id=689dd9eb-5f02-430d-8a29-f959de8b98fa; trace=689dd9eb-5f02-430d-8a29-f959de8b98fa,id=cb699eec-6d05-4159-9e7c-3eb71f87c48a; trace=689dd9eb-5f02-430d-8a29-f959de8b98fa,id=74271c78-a026-4bd9-b9fe-659de77422aa; trace=74271c78-a026-4bd9-b9fe-659de77422aa,id=74271c78-a026-4bd9-b9fe-659de77422aa\n",
      "DEBUG:langsmith.client:Sending compressed multipart request with context: trace=689dd9eb-5f02-430d-8a29-f959de8b98fa,id=74271c78-a026-4bd9-b9fe-659de77422aa; trace=74271c78-a026-4bd9-b9fe-659de77422aa,id=74271c78-a026-4bd9-b9fe-659de77422aa; trace=689dd9eb-5f02-430d-8a29-f959de8b98fa,id=cb699eec-6d05-4159-9e7c-3eb71f87c48a; trace=689dd9eb-5f02-430d-8a29-f959de8b98fa,id=63e0f86d-25f5-408a-93c4-a9aba5659b18; trace=689dd9eb-5f02-430d-8a29-f959de8b98fa,id=4d016975-a5ce-4be7-941b-bf6d513f40ab; trace=689dd9eb-5f02-430d-8a29-f959de8b98fa,id=257a3096-eec6-427c-95c9-f8e1859b3b29\n",
      "DEBUG:langsmith.client:Sending compressed multipart request with context: trace=689dd9eb-5f02-430d-8a29-f959de8b98fa,id=257a3096-eec6-427c-95c9-f8e1859b3b29; trace=689dd9eb-5f02-430d-8a29-f959de8b98fa,id=b6e67342-6fe8-4056-9b90-adbf51292af3; trace=689dd9eb-5f02-430d-8a29-f959de8b98fa,id=11f7e58f-4490-4d34-a1fd-a216c4978eb8; trace=689dd9eb-5f02-430d-8a29-f959de8b98fa,id=24b0cb44-f49d-4402-9626-0bae72427c7b; trace=24b0cb44-f49d-4402-9626-0bae72427c7b,id=24b0cb44-f49d-4402-9626-0bae72427c7b\n",
      "DEBUG:langsmith.client:Sending compressed multipart request with context: trace=689dd9eb-5f02-430d-8a29-f959de8b98fa,id=24b0cb44-f49d-4402-9626-0bae72427c7b; trace=24b0cb44-f49d-4402-9626-0bae72427c7b,id=24b0cb44-f49d-4402-9626-0bae72427c7b; trace=689dd9eb-5f02-430d-8a29-f959de8b98fa,id=11f7e58f-4490-4d34-a1fd-a216c4978eb8; trace=689dd9eb-5f02-430d-8a29-f959de8b98fa,id=b6e67342-6fe8-4056-9b90-adbf51292af3; trace=689dd9eb-5f02-430d-8a29-f959de8b98fa,id=4d016975-a5ce-4be7-941b-bf6d513f40ab; trace=689dd9eb-5f02-430d-8a29-f959de8b98fa,id=63e0f86d-25f5-408a-93c4-a9aba5659b18; trace=689dd9eb-5f02-430d-8a29-f959de8b98fa,id=689dd9eb-5f02-430d-8a29-f959de8b98fa\n",
      "DEBUG:langsmith.client:Sending compressed multipart request with context: trace=6e732962-5fda-4654-84e0-652a5ec6a564,id=6e732962-5fda-4654-84e0-652a5ec6a564; trace=6e732962-5fda-4654-84e0-652a5ec6a564,id=6476a7bf-b41d-4a98-97b6-b2a1b8792411; trace=6e732962-5fda-4654-84e0-652a5ec6a564,id=c2606390-29b6-4099-92c7-bb83f622433f; trace=c2606390-29b6-4099-92c7-bb83f622433f,id=c2606390-29b6-4099-92c7-bb83f622433f\n",
      "DEBUG:langsmith.client:Sending compressed multipart request with context: trace=6e732962-5fda-4654-84e0-652a5ec6a564,id=c2606390-29b6-4099-92c7-bb83f622433f; trace=c2606390-29b6-4099-92c7-bb83f622433f,id=c2606390-29b6-4099-92c7-bb83f622433f; trace=6e732962-5fda-4654-84e0-652a5ec6a564,id=6476a7bf-b41d-4a98-97b6-b2a1b8792411; trace=6e732962-5fda-4654-84e0-652a5ec6a564,id=1ef5d099-6237-46e3-854c-99a8ac4dbe5b; trace=6e732962-5fda-4654-84e0-652a5ec6a564,id=fa5a28ef-8375-4601-8a81-0d5e6c062e55; trace=6e732962-5fda-4654-84e0-652a5ec6a564,id=0b039ef0-3100-4099-afe8-3fa781d281d2\n",
      "DEBUG:langsmith.client:Sending compressed multipart request with context: trace=6e732962-5fda-4654-84e0-652a5ec6a564,id=0b039ef0-3100-4099-afe8-3fa781d281d2; trace=6e732962-5fda-4654-84e0-652a5ec6a564,id=6668520b-1f96-4de2-9075-a2b8f52d3a98; trace=6e732962-5fda-4654-84e0-652a5ec6a564,id=bd1005fe-b9e8-4607-aea7-669ebeedd9ce; trace=6e732962-5fda-4654-84e0-652a5ec6a564,id=426d6b86-ebbe-4c29-ac13-d4c6ab509da1; trace=426d6b86-ebbe-4c29-ac13-d4c6ab509da1,id=426d6b86-ebbe-4c29-ac13-d4c6ab509da1\n",
      "DEBUG:langsmith.client:Sending compressed multipart request with context: trace=6e732962-5fda-4654-84e0-652a5ec6a564,id=426d6b86-ebbe-4c29-ac13-d4c6ab509da1; trace=426d6b86-ebbe-4c29-ac13-d4c6ab509da1,id=426d6b86-ebbe-4c29-ac13-d4c6ab509da1; trace=6e732962-5fda-4654-84e0-652a5ec6a564,id=bd1005fe-b9e8-4607-aea7-669ebeedd9ce; trace=6e732962-5fda-4654-84e0-652a5ec6a564,id=6668520b-1f96-4de2-9075-a2b8f52d3a98; trace=6e732962-5fda-4654-84e0-652a5ec6a564,id=fa5a28ef-8375-4601-8a81-0d5e6c062e55; trace=6e732962-5fda-4654-84e0-652a5ec6a564,id=1ef5d099-6237-46e3-854c-99a8ac4dbe5b; trace=6e732962-5fda-4654-84e0-652a5ec6a564,id=6e732962-5fda-4654-84e0-652a5ec6a564\n",
      "DEBUG:langsmith.client:Sending compressed multipart request with context: trace=1fe3d3d8-77cd-48ab-a527-0ccc735f3b23,id=1fe3d3d8-77cd-48ab-a527-0ccc735f3b23; trace=1fe3d3d8-77cd-48ab-a527-0ccc735f3b23,id=4511886d-4472-4bef-add2-11bd7e5ade55; trace=1fe3d3d8-77cd-48ab-a527-0ccc735f3b23,id=458cc323-fbc6-4111-aaa8-988adfbd99c8; trace=458cc323-fbc6-4111-aaa8-988adfbd99c8,id=458cc323-fbc6-4111-aaa8-988adfbd99c8\n",
      "DEBUG:langsmith.client:Sending compressed multipart request with context: trace=1fe3d3d8-77cd-48ab-a527-0ccc735f3b23,id=458cc323-fbc6-4111-aaa8-988adfbd99c8; trace=458cc323-fbc6-4111-aaa8-988adfbd99c8,id=458cc323-fbc6-4111-aaa8-988adfbd99c8; trace=1fe3d3d8-77cd-48ab-a527-0ccc735f3b23,id=4511886d-4472-4bef-add2-11bd7e5ade55; trace=1fe3d3d8-77cd-48ab-a527-0ccc735f3b23,id=f896b7da-33ef-44aa-93dc-7e02130b1f3e; trace=1fe3d3d8-77cd-48ab-a527-0ccc735f3b23,id=6b541f65-f942-46f5-97a7-96b4b422a3a4; trace=1fe3d3d8-77cd-48ab-a527-0ccc735f3b23,id=585d3cf0-0f25-49f4-8096-265347121157\n",
      "DEBUG:langsmith.client:Sending compressed multipart request with context: trace=1fe3d3d8-77cd-48ab-a527-0ccc735f3b23,id=585d3cf0-0f25-49f4-8096-265347121157; trace=1fe3d3d8-77cd-48ab-a527-0ccc735f3b23,id=fc0a3336-07af-47df-b631-55ee11978fca; trace=1fe3d3d8-77cd-48ab-a527-0ccc735f3b23,id=d01fb6e2-5438-4622-bc03-43eb36e0b802; trace=1fe3d3d8-77cd-48ab-a527-0ccc735f3b23,id=9bd0966c-e6cb-4a74-9d34-6c06458d257a; trace=9bd0966c-e6cb-4a74-9d34-6c06458d257a,id=9bd0966c-e6cb-4a74-9d34-6c06458d257a\n",
      "DEBUG:langsmith.client:Sending compressed multipart request with context: trace=1fe3d3d8-77cd-48ab-a527-0ccc735f3b23,id=9bd0966c-e6cb-4a74-9d34-6c06458d257a; trace=9bd0966c-e6cb-4a74-9d34-6c06458d257a,id=9bd0966c-e6cb-4a74-9d34-6c06458d257a; trace=1fe3d3d8-77cd-48ab-a527-0ccc735f3b23,id=d01fb6e2-5438-4622-bc03-43eb36e0b802; trace=1fe3d3d8-77cd-48ab-a527-0ccc735f3b23,id=fc0a3336-07af-47df-b631-55ee11978fca; trace=1fe3d3d8-77cd-48ab-a527-0ccc735f3b23,id=6b541f65-f942-46f5-97a7-96b4b422a3a4; trace=1fe3d3d8-77cd-48ab-a527-0ccc735f3b23,id=f896b7da-33ef-44aa-93dc-7e02130b1f3e; trace=1fe3d3d8-77cd-48ab-a527-0ccc735f3b23,id=1fe3d3d8-77cd-48ab-a527-0ccc735f3b23\n",
      "DEBUG:langsmith.client:Sending compressed multipart request with context: trace=f825ac08-0f50-4564-af92-2c0b58288f20,id=f825ac08-0f50-4564-af92-2c0b58288f20; trace=f825ac08-0f50-4564-af92-2c0b58288f20,id=d38b8b37-6844-4b65-89dc-a297b3798ed4; trace=f825ac08-0f50-4564-af92-2c0b58288f20,id=a2ea12ba-4865-4626-ba6f-0b32078db886; trace=a2ea12ba-4865-4626-ba6f-0b32078db886,id=a2ea12ba-4865-4626-ba6f-0b32078db886\n",
      "DEBUG:langsmith.client:Sending compressed multipart request with context: trace=f825ac08-0f50-4564-af92-2c0b58288f20,id=a2ea12ba-4865-4626-ba6f-0b32078db886; trace=a2ea12ba-4865-4626-ba6f-0b32078db886,id=a2ea12ba-4865-4626-ba6f-0b32078db886; trace=f825ac08-0f50-4564-af92-2c0b58288f20,id=d38b8b37-6844-4b65-89dc-a297b3798ed4; trace=f825ac08-0f50-4564-af92-2c0b58288f20,id=d50f27f4-0907-42f9-acec-3194df949f9b; trace=f825ac08-0f50-4564-af92-2c0b58288f20,id=5236f43f-181b-4d8c-9b4d-518541eb82b7; trace=f825ac08-0f50-4564-af92-2c0b58288f20,id=a45736ac-d2f5-4185-b1c1-037a19d10895\n",
      "DEBUG:langsmith.client:Sending compressed multipart request with context: trace=f825ac08-0f50-4564-af92-2c0b58288f20,id=a45736ac-d2f5-4185-b1c1-037a19d10895; trace=f825ac08-0f50-4564-af92-2c0b58288f20,id=bcabcea4-5c35-4fe4-a464-9f2095685fb2; trace=f825ac08-0f50-4564-af92-2c0b58288f20,id=d3c9e259-e005-4732-aa8d-977b5c68e24f; trace=f825ac08-0f50-4564-af92-2c0b58288f20,id=aaee8758-195a-4f57-ba37-58944a00c80e; trace=aaee8758-195a-4f57-ba37-58944a00c80e,id=aaee8758-195a-4f57-ba37-58944a00c80e\n",
      "DEBUG:langsmith.client:Sending compressed multipart request with context: trace=f825ac08-0f50-4564-af92-2c0b58288f20,id=aaee8758-195a-4f57-ba37-58944a00c80e; trace=aaee8758-195a-4f57-ba37-58944a00c80e,id=aaee8758-195a-4f57-ba37-58944a00c80e; trace=f825ac08-0f50-4564-af92-2c0b58288f20,id=d3c9e259-e005-4732-aa8d-977b5c68e24f; trace=f825ac08-0f50-4564-af92-2c0b58288f20,id=bcabcea4-5c35-4fe4-a464-9f2095685fb2; trace=f825ac08-0f50-4564-af92-2c0b58288f20,id=5236f43f-181b-4d8c-9b4d-518541eb82b7; trace=f825ac08-0f50-4564-af92-2c0b58288f20,id=d50f27f4-0907-42f9-acec-3194df949f9b; trace=f825ac08-0f50-4564-af92-2c0b58288f20,id=f825ac08-0f50-4564-af92-2c0b58288f20\n",
      "DEBUG:langsmith.client:Sending compressed multipart request with context: trace=c29242e5-aa2e-4912-8d9c-a3ec808808c1,id=c29242e5-aa2e-4912-8d9c-a3ec808808c1; trace=c29242e5-aa2e-4912-8d9c-a3ec808808c1,id=d8b92ef5-fa95-4d55-b4df-07ad2cb45c71; trace=c29242e5-aa2e-4912-8d9c-a3ec808808c1,id=36aa1f37-8ea8-4f47-adcb-b83529935063; trace=36aa1f37-8ea8-4f47-adcb-b83529935063,id=36aa1f37-8ea8-4f47-adcb-b83529935063\n",
      "DEBUG:langsmith.client:Sending compressed multipart request with context: trace=c29242e5-aa2e-4912-8d9c-a3ec808808c1,id=36aa1f37-8ea8-4f47-adcb-b83529935063; trace=36aa1f37-8ea8-4f47-adcb-b83529935063,id=36aa1f37-8ea8-4f47-adcb-b83529935063; trace=c29242e5-aa2e-4912-8d9c-a3ec808808c1,id=d8b92ef5-fa95-4d55-b4df-07ad2cb45c71; trace=c29242e5-aa2e-4912-8d9c-a3ec808808c1,id=8b285333-d28c-40af-a274-56b78f6d3927; trace=c29242e5-aa2e-4912-8d9c-a3ec808808c1,id=107d7821-37e5-4b74-b364-b7918a50056c; trace=c29242e5-aa2e-4912-8d9c-a3ec808808c1,id=eb253c78-5152-42fd-b714-0d7dc09ecc94\n",
      "DEBUG:langsmith.client:Sending compressed multipart request with context: trace=c29242e5-aa2e-4912-8d9c-a3ec808808c1,id=eb253c78-5152-42fd-b714-0d7dc09ecc94; trace=c29242e5-aa2e-4912-8d9c-a3ec808808c1,id=1c5fa915-7dff-43a0-81f7-5ec8d41317d9; trace=c29242e5-aa2e-4912-8d9c-a3ec808808c1,id=0f7272ba-7726-416b-b79a-08e1841257fe; trace=c29242e5-aa2e-4912-8d9c-a3ec808808c1,id=f9daf549-be67-4eae-a153-307947e2465c; trace=f9daf549-be67-4eae-a153-307947e2465c,id=f9daf549-be67-4eae-a153-307947e2465c\n",
      "DEBUG:langsmith.client:Sending compressed multipart request with context: trace=c29242e5-aa2e-4912-8d9c-a3ec808808c1,id=f9daf549-be67-4eae-a153-307947e2465c; trace=f9daf549-be67-4eae-a153-307947e2465c,id=f9daf549-be67-4eae-a153-307947e2465c; trace=c29242e5-aa2e-4912-8d9c-a3ec808808c1,id=0f7272ba-7726-416b-b79a-08e1841257fe; trace=c29242e5-aa2e-4912-8d9c-a3ec808808c1,id=1c5fa915-7dff-43a0-81f7-5ec8d41317d9; trace=c29242e5-aa2e-4912-8d9c-a3ec808808c1,id=107d7821-37e5-4b74-b364-b7918a50056c; trace=c29242e5-aa2e-4912-8d9c-a3ec808808c1,id=8b285333-d28c-40af-a274-56b78f6d3927; trace=c29242e5-aa2e-4912-8d9c-a3ec808808c1,id=c29242e5-aa2e-4912-8d9c-a3ec808808c1\n",
      "DEBUG:langsmith.client:Sending compressed multipart request with context: trace=45e0f60d-dcee-4268-b5ab-30f5775f8976,id=45e0f60d-dcee-4268-b5ab-30f5775f8976; trace=45e0f60d-dcee-4268-b5ab-30f5775f8976,id=e221bb4e-7fe6-49bc-b5bf-54424f64d556; trace=45e0f60d-dcee-4268-b5ab-30f5775f8976,id=d2fb2d02-5a9d-43b0-ab5f-37125e25aea5; trace=d2fb2d02-5a9d-43b0-ab5f-37125e25aea5,id=d2fb2d02-5a9d-43b0-ab5f-37125e25aea5\n",
      "DEBUG:langsmith.client:Sending compressed multipart request with context: trace=45e0f60d-dcee-4268-b5ab-30f5775f8976,id=d2fb2d02-5a9d-43b0-ab5f-37125e25aea5; trace=d2fb2d02-5a9d-43b0-ab5f-37125e25aea5,id=d2fb2d02-5a9d-43b0-ab5f-37125e25aea5; trace=45e0f60d-dcee-4268-b5ab-30f5775f8976,id=e221bb4e-7fe6-49bc-b5bf-54424f64d556; trace=45e0f60d-dcee-4268-b5ab-30f5775f8976,id=45e0f60d-dcee-4268-b5ab-30f5775f8976\n",
      "DEBUG:langsmith.client:Sending compressed multipart request with context: trace=5b5ef050-5498-4e7d-8c37-d9bd9b25c5ed,id=5b5ef050-5498-4e7d-8c37-d9bd9b25c5ed; trace=5b5ef050-5498-4e7d-8c37-d9bd9b25c5ed,id=9541d168-ec1c-47a1-a746-5fa48f7605ab; trace=5b5ef050-5498-4e7d-8c37-d9bd9b25c5ed,id=9a8c2736-2ee8-4585-aea7-963d0288814b; trace=9a8c2736-2ee8-4585-aea7-963d0288814b,id=9a8c2736-2ee8-4585-aea7-963d0288814b\n",
      "DEBUG:langsmith.client:Sending compressed multipart request with context: trace=5b5ef050-5498-4e7d-8c37-d9bd9b25c5ed,id=9a8c2736-2ee8-4585-aea7-963d0288814b; trace=9a8c2736-2ee8-4585-aea7-963d0288814b,id=9a8c2736-2ee8-4585-aea7-963d0288814b; trace=5b5ef050-5498-4e7d-8c37-d9bd9b25c5ed,id=9541d168-ec1c-47a1-a746-5fa48f7605ab; trace=5b5ef050-5498-4e7d-8c37-d9bd9b25c5ed,id=5b5ef050-5498-4e7d-8c37-d9bd9b25c5ed\n",
      "DEBUG:langsmith.client:Sending compressed multipart request with context: trace=a96af8e4-2319-4e90-a2f6-e7d5b71460e8,id=a96af8e4-2319-4e90-a2f6-e7d5b71460e8; trace=a96af8e4-2319-4e90-a2f6-e7d5b71460e8,id=eabe72d3-2c71-43e8-a499-91fe26f25563; trace=a96af8e4-2319-4e90-a2f6-e7d5b71460e8,id=a9e04426-4bfb-4fa8-af65-975528f017de; trace=a9e04426-4bfb-4fa8-af65-975528f017de,id=a9e04426-4bfb-4fa8-af65-975528f017de\n",
      "DEBUG:langsmith.client:Sending compressed multipart request with context: trace=a96af8e4-2319-4e90-a2f6-e7d5b71460e8,id=a9e04426-4bfb-4fa8-af65-975528f017de; trace=a9e04426-4bfb-4fa8-af65-975528f017de,id=a9e04426-4bfb-4fa8-af65-975528f017de; trace=a96af8e4-2319-4e90-a2f6-e7d5b71460e8,id=eabe72d3-2c71-43e8-a499-91fe26f25563; trace=a96af8e4-2319-4e90-a2f6-e7d5b71460e8,id=a96af8e4-2319-4e90-a2f6-e7d5b71460e8; trace=871dada8-8bae-4918-b97e-9ea2c24fffa2,id=871dada8-8bae-4918-b97e-9ea2c24fffa2; trace=871dada8-8bae-4918-b97e-9ea2c24fffa2,id=69ca5387-2acc-45eb-b277-e666f810257e; trace=871dada8-8bae-4918-b97e-9ea2c24fffa2,id=4a8252fd-3d09-424c-9e49-236cf6028152; trace=4a8252fd-3d09-424c-9e49-236cf6028152,id=4a8252fd-3d09-424c-9e49-236cf6028152\n",
      "DEBUG:langsmith.client:Sending compressed multipart request with context: trace=871dada8-8bae-4918-b97e-9ea2c24fffa2,id=4a8252fd-3d09-424c-9e49-236cf6028152; trace=4a8252fd-3d09-424c-9e49-236cf6028152,id=4a8252fd-3d09-424c-9e49-236cf6028152; trace=871dada8-8bae-4918-b97e-9ea2c24fffa2,id=69ca5387-2acc-45eb-b277-e666f810257e; trace=871dada8-8bae-4918-b97e-9ea2c24fffa2,id=871dada8-8bae-4918-b97e-9ea2c24fffa2; trace=79be2be4-7409-426b-849b-580630458922,id=79be2be4-7409-426b-849b-580630458922; trace=79be2be4-7409-426b-849b-580630458922,id=2e7218d0-b7b5-47aa-b72f-9c607ff66d6f; trace=79be2be4-7409-426b-849b-580630458922,id=ed48a0a3-32d9-4526-8147-4a233544fba3; trace=ed48a0a3-32d9-4526-8147-4a233544fba3,id=ed48a0a3-32d9-4526-8147-4a233544fba3\n",
      "DEBUG:langsmith.client:Sending compressed multipart request with context: trace=79be2be4-7409-426b-849b-580630458922,id=ed48a0a3-32d9-4526-8147-4a233544fba3; trace=ed48a0a3-32d9-4526-8147-4a233544fba3,id=ed48a0a3-32d9-4526-8147-4a233544fba3; trace=79be2be4-7409-426b-849b-580630458922,id=2e7218d0-b7b5-47aa-b72f-9c607ff66d6f; trace=79be2be4-7409-426b-849b-580630458922,id=79be2be4-7409-426b-849b-580630458922; trace=945d2e7f-8345-4de8-a469-9d716a819917,id=945d2e7f-8345-4de8-a469-9d716a819917; trace=945d2e7f-8345-4de8-a469-9d716a819917,id=d4603cc6-8d35-4146-a119-d34188964d9c; trace=945d2e7f-8345-4de8-a469-9d716a819917,id=4bd21ab8-ea10-444d-8af4-55ad9f092373; trace=4bd21ab8-ea10-444d-8af4-55ad9f092373,id=4bd21ab8-ea10-444d-8af4-55ad9f092373\n",
      "DEBUG:langsmith.client:Sending compressed multipart request with context: trace=945d2e7f-8345-4de8-a469-9d716a819917,id=4bd21ab8-ea10-444d-8af4-55ad9f092373; trace=4bd21ab8-ea10-444d-8af4-55ad9f092373,id=4bd21ab8-ea10-444d-8af4-55ad9f092373; trace=945d2e7f-8345-4de8-a469-9d716a819917,id=d4603cc6-8d35-4146-a119-d34188964d9c; trace=945d2e7f-8345-4de8-a469-9d716a819917,id=7cb44395-a7af-4201-8790-4a775dae228b; trace=945d2e7f-8345-4de8-a469-9d716a819917,id=892bf9a7-12f1-4488-bbee-9d73df1de55f; trace=945d2e7f-8345-4de8-a469-9d716a819917,id=ee861fb7-44ba-42fe-ab73-cde69a1009ed\n",
      "DEBUG:langsmith.client:Sending compressed multipart request with context: trace=945d2e7f-8345-4de8-a469-9d716a819917,id=ee861fb7-44ba-42fe-ab73-cde69a1009ed; trace=945d2e7f-8345-4de8-a469-9d716a819917,id=515886a0-3948-4466-b91d-a625f163679b; trace=945d2e7f-8345-4de8-a469-9d716a819917,id=a4bda99c-afd3-4d09-a075-748ca91f8a89; trace=945d2e7f-8345-4de8-a469-9d716a819917,id=3d2d3dfc-f6c0-42db-b2e2-61d1d180bdbe; trace=3d2d3dfc-f6c0-42db-b2e2-61d1d180bdbe,id=3d2d3dfc-f6c0-42db-b2e2-61d1d180bdbe\n",
      "DEBUG:langsmith.client:Sending compressed multipart request with context: trace=945d2e7f-8345-4de8-a469-9d716a819917,id=3d2d3dfc-f6c0-42db-b2e2-61d1d180bdbe; trace=3d2d3dfc-f6c0-42db-b2e2-61d1d180bdbe,id=3d2d3dfc-f6c0-42db-b2e2-61d1d180bdbe; trace=945d2e7f-8345-4de8-a469-9d716a819917,id=a4bda99c-afd3-4d09-a075-748ca91f8a89; trace=945d2e7f-8345-4de8-a469-9d716a819917,id=515886a0-3948-4466-b91d-a625f163679b; trace=945d2e7f-8345-4de8-a469-9d716a819917,id=892bf9a7-12f1-4488-bbee-9d73df1de55f; trace=945d2e7f-8345-4de8-a469-9d716a819917,id=7cb44395-a7af-4201-8790-4a775dae228b; trace=945d2e7f-8345-4de8-a469-9d716a819917,id=945d2e7f-8345-4de8-a469-9d716a819917; trace=16fc1626-0a12-42ff-ae42-d5b04059d174,id=16fc1626-0a12-42ff-ae42-d5b04059d174; trace=16fc1626-0a12-42ff-ae42-d5b04059d174,id=389f31ef-f92f-4043-bed6-8106c8df159f; trace=16fc1626-0a12-42ff-ae42-d5b04059d174,id=d4134464-339e-4ad2-887d-55d162207010; trace=d4134464-339e-4ad2-887d-55d162207010,id=d4134464-339e-4ad2-887d-55d162207010\n",
      "DEBUG:langsmith.client:Sending compressed multipart request with context: trace=16fc1626-0a12-42ff-ae42-d5b04059d174,id=d4134464-339e-4ad2-887d-55d162207010; trace=d4134464-339e-4ad2-887d-55d162207010,id=d4134464-339e-4ad2-887d-55d162207010; trace=16fc1626-0a12-42ff-ae42-d5b04059d174,id=389f31ef-f92f-4043-bed6-8106c8df159f; trace=16fc1626-0a12-42ff-ae42-d5b04059d174,id=4222c3d9-0c86-49ff-b17b-a15b2f5371ac; trace=16fc1626-0a12-42ff-ae42-d5b04059d174,id=658ec1b2-de90-4a84-bd5a-8b719799dd78; trace=16fc1626-0a12-42ff-ae42-d5b04059d174,id=c303d9c3-155e-4546-b7d8-a8317eed1292\n",
      "DEBUG:langsmith.client:Sending compressed multipart request with context: trace=16fc1626-0a12-42ff-ae42-d5b04059d174,id=c303d9c3-155e-4546-b7d8-a8317eed1292; trace=16fc1626-0a12-42ff-ae42-d5b04059d174,id=599ebd29-40dd-464d-8ca5-50a55cd6e84a; trace=16fc1626-0a12-42ff-ae42-d5b04059d174,id=da3e007a-3bb7-44b5-b772-6e202a58c8e5; trace=16fc1626-0a12-42ff-ae42-d5b04059d174,id=1e3d5253-8f43-4791-9228-ce9d1e3667fd; trace=1e3d5253-8f43-4791-9228-ce9d1e3667fd,id=1e3d5253-8f43-4791-9228-ce9d1e3667fd\n",
      "DEBUG:langsmith.client:Sending compressed multipart request with context: trace=16fc1626-0a12-42ff-ae42-d5b04059d174,id=1e3d5253-8f43-4791-9228-ce9d1e3667fd; trace=1e3d5253-8f43-4791-9228-ce9d1e3667fd,id=1e3d5253-8f43-4791-9228-ce9d1e3667fd; trace=16fc1626-0a12-42ff-ae42-d5b04059d174,id=da3e007a-3bb7-44b5-b772-6e202a58c8e5; trace=16fc1626-0a12-42ff-ae42-d5b04059d174,id=599ebd29-40dd-464d-8ca5-50a55cd6e84a; trace=16fc1626-0a12-42ff-ae42-d5b04059d174,id=658ec1b2-de90-4a84-bd5a-8b719799dd78; trace=16fc1626-0a12-42ff-ae42-d5b04059d174,id=4222c3d9-0c86-49ff-b17b-a15b2f5371ac; trace=16fc1626-0a12-42ff-ae42-d5b04059d174,id=16fc1626-0a12-42ff-ae42-d5b04059d174\n",
      "DEBUG:langsmith.client:Sending compressed multipart request with context: trace=d882bd15-c2a9-4243-a267-4a9ade52d10b,id=d882bd15-c2a9-4243-a267-4a9ade52d10b; trace=d882bd15-c2a9-4243-a267-4a9ade52d10b,id=1a3fb739-66ce-4b1c-b453-b92a1ed95eb7; trace=d882bd15-c2a9-4243-a267-4a9ade52d10b,id=03a110c1-a7a4-41ac-b8f1-c7a1f99aa41f; trace=03a110c1-a7a4-41ac-b8f1-c7a1f99aa41f,id=03a110c1-a7a4-41ac-b8f1-c7a1f99aa41f\n",
      "DEBUG:langsmith.client:Sending compressed multipart request with context: trace=d882bd15-c2a9-4243-a267-4a9ade52d10b,id=03a110c1-a7a4-41ac-b8f1-c7a1f99aa41f; trace=03a110c1-a7a4-41ac-b8f1-c7a1f99aa41f,id=03a110c1-a7a4-41ac-b8f1-c7a1f99aa41f; trace=d882bd15-c2a9-4243-a267-4a9ade52d10b,id=1a3fb739-66ce-4b1c-b453-b92a1ed95eb7; trace=d882bd15-c2a9-4243-a267-4a9ade52d10b,id=d882bd15-c2a9-4243-a267-4a9ade52d10b; trace=93021060-c582-499b-abc6-da6b21e4868e,id=93021060-c582-499b-abc6-da6b21e4868e; trace=93021060-c582-499b-abc6-da6b21e4868e,id=c679d043-9a0b-4420-9c28-6125188a6061; trace=93021060-c582-499b-abc6-da6b21e4868e,id=d0d9448e-bc99-4cb6-922b-668cd6814529; trace=d0d9448e-bc99-4cb6-922b-668cd6814529,id=d0d9448e-bc99-4cb6-922b-668cd6814529; trace=93021060-c582-499b-abc6-da6b21e4868e,id=d0d9448e-bc99-4cb6-922b-668cd6814529; trace=d0d9448e-bc99-4cb6-922b-668cd6814529,id=d0d9448e-bc99-4cb6-922b-668cd6814529; trace=93021060-c582-499b-abc6-da6b21e4868e,id=c679d043-9a0b-4420-9c28-6125188a6061; trace=93021060-c582-499b-abc6-da6b21e4868e,id=93021060-c582-499b-abc6-da6b21e4868e; trace=6e0761cc-3091-4512-9c38-a5d83c4162ff,id=6e0761cc-3091-4512-9c38-a5d83c4162ff; trace=6e0761cc-3091-4512-9c38-a5d83c4162ff,id=cc3f0e46-d35f-4226-ab40-bd08bae7e02d; trace=6e0761cc-3091-4512-9c38-a5d83c4162ff,id=4eb0b107-cfd8-4a4a-9273-81382993257d; trace=4eb0b107-cfd8-4a4a-9273-81382993257d,id=4eb0b107-cfd8-4a4a-9273-81382993257d\n",
      "DEBUG:langsmith.client:Sending compressed multipart request with context: trace=6e0761cc-3091-4512-9c38-a5d83c4162ff,id=4eb0b107-cfd8-4a4a-9273-81382993257d; trace=4eb0b107-cfd8-4a4a-9273-81382993257d,id=4eb0b107-cfd8-4a4a-9273-81382993257d; trace=6e0761cc-3091-4512-9c38-a5d83c4162ff,id=cc3f0e46-d35f-4226-ab40-bd08bae7e02d; trace=6e0761cc-3091-4512-9c38-a5d83c4162ff,id=6e0761cc-3091-4512-9c38-a5d83c4162ff; trace=ad34f443-51ba-4c6f-b919-2d06e0d07956,id=ad34f443-51ba-4c6f-b919-2d06e0d07956; trace=ad34f443-51ba-4c6f-b919-2d06e0d07956,id=1a3e44bd-8d6e-43b9-b421-336881ac0df3; trace=ad34f443-51ba-4c6f-b919-2d06e0d07956,id=8dc2ff06-8a8a-4098-8b3e-04e4b0cc00a3; trace=8dc2ff06-8a8a-4098-8b3e-04e4b0cc00a3,id=8dc2ff06-8a8a-4098-8b3e-04e4b0cc00a3\n",
      "DEBUG:langsmith.client:Sending compressed multipart request with context: trace=ad34f443-51ba-4c6f-b919-2d06e0d07956,id=8dc2ff06-8a8a-4098-8b3e-04e4b0cc00a3; trace=8dc2ff06-8a8a-4098-8b3e-04e4b0cc00a3,id=8dc2ff06-8a8a-4098-8b3e-04e4b0cc00a3; trace=ad34f443-51ba-4c6f-b919-2d06e0d07956,id=1a3e44bd-8d6e-43b9-b421-336881ac0df3; trace=ad34f443-51ba-4c6f-b919-2d06e0d07956,id=48da4802-6107-4e52-a73f-5f227724aadc; trace=ad34f443-51ba-4c6f-b919-2d06e0d07956,id=771e9489-2c82-4759-b49e-0d1b3dc41f6d; trace=ad34f443-51ba-4c6f-b919-2d06e0d07956,id=429a1c07-87c6-4c82-9aee-63916f247dd2\n",
      "DEBUG:langsmith.client:Sending compressed multipart request with context: trace=ad34f443-51ba-4c6f-b919-2d06e0d07956,id=429a1c07-87c6-4c82-9aee-63916f247dd2; trace=ad34f443-51ba-4c6f-b919-2d06e0d07956,id=99070833-1b1a-49a4-b9c5-c353099722f8; trace=ad34f443-51ba-4c6f-b919-2d06e0d07956,id=c33a3172-db3b-40b2-a45d-bbe350371d43; trace=ad34f443-51ba-4c6f-b919-2d06e0d07956,id=62ee826b-00f5-4566-b490-e871c3f50c0a; trace=62ee826b-00f5-4566-b490-e871c3f50c0a,id=62ee826b-00f5-4566-b490-e871c3f50c0a\n",
      "DEBUG:langsmith.client:Sending compressed multipart request with context: trace=ad34f443-51ba-4c6f-b919-2d06e0d07956,id=62ee826b-00f5-4566-b490-e871c3f50c0a; trace=62ee826b-00f5-4566-b490-e871c3f50c0a,id=62ee826b-00f5-4566-b490-e871c3f50c0a; trace=ad34f443-51ba-4c6f-b919-2d06e0d07956,id=c33a3172-db3b-40b2-a45d-bbe350371d43; trace=ad34f443-51ba-4c6f-b919-2d06e0d07956,id=99070833-1b1a-49a4-b9c5-c353099722f8; trace=ad34f443-51ba-4c6f-b919-2d06e0d07956,id=771e9489-2c82-4759-b49e-0d1b3dc41f6d; trace=ad34f443-51ba-4c6f-b919-2d06e0d07956,id=48da4802-6107-4e52-a73f-5f227724aadc; trace=ad34f443-51ba-4c6f-b919-2d06e0d07956,id=ad34f443-51ba-4c6f-b919-2d06e0d07956; trace=ce5cbe5f-8b36-40b1-b628-59f1684bf26b,id=ce5cbe5f-8b36-40b1-b628-59f1684bf26b; trace=ce5cbe5f-8b36-40b1-b628-59f1684bf26b,id=20772238-0f65-4e4c-b832-d59e6c5ba019; trace=ce5cbe5f-8b36-40b1-b628-59f1684bf26b,id=96bd0b14-0550-4157-a4b8-a0207789ea12; trace=96bd0b14-0550-4157-a4b8-a0207789ea12,id=96bd0b14-0550-4157-a4b8-a0207789ea12\n",
      "DEBUG:langsmith.client:Sending compressed multipart request with context: trace=ce5cbe5f-8b36-40b1-b628-59f1684bf26b,id=96bd0b14-0550-4157-a4b8-a0207789ea12; trace=96bd0b14-0550-4157-a4b8-a0207789ea12,id=96bd0b14-0550-4157-a4b8-a0207789ea12; trace=ce5cbe5f-8b36-40b1-b628-59f1684bf26b,id=20772238-0f65-4e4c-b832-d59e6c5ba019; trace=ce5cbe5f-8b36-40b1-b628-59f1684bf26b,id=a0cb7357-9387-4660-8d48-144b92a9c59d; trace=ce5cbe5f-8b36-40b1-b628-59f1684bf26b,id=a451ba72-6f3e-4000-b865-39c7077e63f9; trace=ce5cbe5f-8b36-40b1-b628-59f1684bf26b,id=6a744f31-9d1b-422e-a35c-c00e9f6eafc0\n",
      "DEBUG:langsmith.client:Sending compressed multipart request with context: trace=ce5cbe5f-8b36-40b1-b628-59f1684bf26b,id=6a744f31-9d1b-422e-a35c-c00e9f6eafc0; trace=ce5cbe5f-8b36-40b1-b628-59f1684bf26b,id=36a6b7bc-a522-4da1-b37a-c3f067b42cba; trace=ce5cbe5f-8b36-40b1-b628-59f1684bf26b,id=5869fd67-3104-4be3-83ef-0f008c57e1d8; trace=ce5cbe5f-8b36-40b1-b628-59f1684bf26b,id=bcf7bae7-0e99-4479-b373-42375b31c4d1; trace=bcf7bae7-0e99-4479-b373-42375b31c4d1,id=bcf7bae7-0e99-4479-b373-42375b31c4d1\n",
      "DEBUG:langsmith.client:Sending compressed multipart request with context: trace=ce5cbe5f-8b36-40b1-b628-59f1684bf26b,id=bcf7bae7-0e99-4479-b373-42375b31c4d1; trace=bcf7bae7-0e99-4479-b373-42375b31c4d1,id=bcf7bae7-0e99-4479-b373-42375b31c4d1; trace=ce5cbe5f-8b36-40b1-b628-59f1684bf26b,id=5869fd67-3104-4be3-83ef-0f008c57e1d8; trace=ce5cbe5f-8b36-40b1-b628-59f1684bf26b,id=36a6b7bc-a522-4da1-b37a-c3f067b42cba; trace=ce5cbe5f-8b36-40b1-b628-59f1684bf26b,id=a451ba72-6f3e-4000-b865-39c7077e63f9; trace=ce5cbe5f-8b36-40b1-b628-59f1684bf26b,id=a0cb7357-9387-4660-8d48-144b92a9c59d; trace=ce5cbe5f-8b36-40b1-b628-59f1684bf26b,id=ce5cbe5f-8b36-40b1-b628-59f1684bf26b\n",
      "DEBUG:langsmith.client:Sending compressed multipart request with context: trace=3b58c0f2-93e9-4bb1-a56c-260de23aecec,id=3b58c0f2-93e9-4bb1-a56c-260de23aecec; trace=3b58c0f2-93e9-4bb1-a56c-260de23aecec,id=bceff66c-3e03-475a-8118-159c59817c35; trace=3b58c0f2-93e9-4bb1-a56c-260de23aecec,id=d03bae44-46af-43e9-a51e-d7c95434c378; trace=d03bae44-46af-43e9-a51e-d7c95434c378,id=d03bae44-46af-43e9-a51e-d7c95434c378\n",
      "DEBUG:langsmith.client:Sending compressed multipart request with context: trace=3b58c0f2-93e9-4bb1-a56c-260de23aecec,id=d03bae44-46af-43e9-a51e-d7c95434c378; trace=d03bae44-46af-43e9-a51e-d7c95434c378,id=d03bae44-46af-43e9-a51e-d7c95434c378; trace=3b58c0f2-93e9-4bb1-a56c-260de23aecec,id=bceff66c-3e03-475a-8118-159c59817c35; trace=3b58c0f2-93e9-4bb1-a56c-260de23aecec,id=3b58c0f2-93e9-4bb1-a56c-260de23aecec; trace=a9c97c33-d866-4a99-9636-d61e5f9d0e03,id=a9c97c33-d866-4a99-9636-d61e5f9d0e03; trace=a9c97c33-d866-4a99-9636-d61e5f9d0e03,id=945ecfca-3ea5-4554-ae4f-42e64f9e625f; trace=a9c97c33-d866-4a99-9636-d61e5f9d0e03,id=f23c46df-9131-45f6-a9e4-e4f1d4b63a0e; trace=f23c46df-9131-45f6-a9e4-e4f1d4b63a0e,id=f23c46df-9131-45f6-a9e4-e4f1d4b63a0e\n",
      "DEBUG:langsmith.client:Sending compressed multipart request with context: trace=a9c97c33-d866-4a99-9636-d61e5f9d0e03,id=f23c46df-9131-45f6-a9e4-e4f1d4b63a0e; trace=f23c46df-9131-45f6-a9e4-e4f1d4b63a0e,id=f23c46df-9131-45f6-a9e4-e4f1d4b63a0e; trace=a9c97c33-d866-4a99-9636-d61e5f9d0e03,id=945ecfca-3ea5-4554-ae4f-42e64f9e625f; trace=a9c97c33-d866-4a99-9636-d61e5f9d0e03,id=a9c97c33-d866-4a99-9636-d61e5f9d0e03; trace=daacb3b3-0e3e-41d8-8df9-7a7e4cfc80b1,id=daacb3b3-0e3e-41d8-8df9-7a7e4cfc80b1; trace=daacb3b3-0e3e-41d8-8df9-7a7e4cfc80b1,id=c3110d2d-9e09-4b97-a14f-986050271716; trace=daacb3b3-0e3e-41d8-8df9-7a7e4cfc80b1,id=357afea9-ace8-4f66-a6fd-1a304e88d540; trace=357afea9-ace8-4f66-a6fd-1a304e88d540,id=357afea9-ace8-4f66-a6fd-1a304e88d540\n",
      "DEBUG:langsmith.client:Sending compressed multipart request with context: trace=daacb3b3-0e3e-41d8-8df9-7a7e4cfc80b1,id=357afea9-ace8-4f66-a6fd-1a304e88d540; trace=357afea9-ace8-4f66-a6fd-1a304e88d540,id=357afea9-ace8-4f66-a6fd-1a304e88d540; trace=daacb3b3-0e3e-41d8-8df9-7a7e4cfc80b1,id=c3110d2d-9e09-4b97-a14f-986050271716; trace=daacb3b3-0e3e-41d8-8df9-7a7e4cfc80b1,id=daacb3b3-0e3e-41d8-8df9-7a7e4cfc80b1; trace=ba8eca4c-2246-414c-929c-5fbc150c2e83,id=ba8eca4c-2246-414c-929c-5fbc150c2e83; trace=ba8eca4c-2246-414c-929c-5fbc150c2e83,id=5e2b034c-d65b-4f55-bc58-dda1975ebbc7; trace=ba8eca4c-2246-414c-929c-5fbc150c2e83,id=6255c397-1341-4023-b6a8-c79990743395; trace=6255c397-1341-4023-b6a8-c79990743395,id=6255c397-1341-4023-b6a8-c79990743395\n",
      "DEBUG:langsmith.client:Sending compressed multipart request with context: trace=ba8eca4c-2246-414c-929c-5fbc150c2e83,id=6255c397-1341-4023-b6a8-c79990743395; trace=6255c397-1341-4023-b6a8-c79990743395,id=6255c397-1341-4023-b6a8-c79990743395; trace=ba8eca4c-2246-414c-929c-5fbc150c2e83,id=5e2b034c-d65b-4f55-bc58-dda1975ebbc7; trace=ba8eca4c-2246-414c-929c-5fbc150c2e83,id=fbf1f582-dc87-4a77-bb4e-8cf3bef19992; trace=ba8eca4c-2246-414c-929c-5fbc150c2e83,id=b8081438-b357-4d51-8ba1-632f9152bfc4; trace=ba8eca4c-2246-414c-929c-5fbc150c2e83,id=c1b0b676-83b3-470e-bbfc-61f9aed63067; trace=ba8eca4c-2246-414c-929c-5fbc150c2e83,id=c1b0b676-83b3-470e-bbfc-61f9aed63067; trace=ba8eca4c-2246-414c-929c-5fbc150c2e83,id=b1c73ffc-1113-435d-ab3e-17db47d39c99; trace=ba8eca4c-2246-414c-929c-5fbc150c2e83,id=685372a1-36cf-4642-a5c2-294a6267c5d4; trace=ba8eca4c-2246-414c-929c-5fbc150c2e83,id=26c63121-86b4-483c-8663-f125d037a085; trace=26c63121-86b4-483c-8663-f125d037a085,id=26c63121-86b4-483c-8663-f125d037a085\n",
      "DEBUG:langsmith.client:Sending compressed multipart request with context: trace=ba8eca4c-2246-414c-929c-5fbc150c2e83,id=26c63121-86b4-483c-8663-f125d037a085; trace=26c63121-86b4-483c-8663-f125d037a085,id=26c63121-86b4-483c-8663-f125d037a085; trace=ba8eca4c-2246-414c-929c-5fbc150c2e83,id=685372a1-36cf-4642-a5c2-294a6267c5d4; trace=ba8eca4c-2246-414c-929c-5fbc150c2e83,id=b1c73ffc-1113-435d-ab3e-17db47d39c99; trace=ba8eca4c-2246-414c-929c-5fbc150c2e83,id=b8081438-b357-4d51-8ba1-632f9152bfc4; trace=ba8eca4c-2246-414c-929c-5fbc150c2e83,id=fbf1f582-dc87-4a77-bb4e-8cf3bef19992; trace=ba8eca4c-2246-414c-929c-5fbc150c2e83,id=ba8eca4c-2246-414c-929c-5fbc150c2e83; trace=bb7b1945-4ad7-494a-8808-9fd1f8f82c70,id=bb7b1945-4ad7-494a-8808-9fd1f8f82c70; trace=bb7b1945-4ad7-494a-8808-9fd1f8f82c70,id=9a0cd361-3d93-4dae-8096-e20fa3a9e158; trace=bb7b1945-4ad7-494a-8808-9fd1f8f82c70,id=852cfe7e-0cd5-4971-873a-d640feb84498; trace=852cfe7e-0cd5-4971-873a-d640feb84498,id=852cfe7e-0cd5-4971-873a-d640feb84498\n",
      "DEBUG:langsmith.client:Sending compressed multipart request with context: trace=bb7b1945-4ad7-494a-8808-9fd1f8f82c70,id=852cfe7e-0cd5-4971-873a-d640feb84498; trace=852cfe7e-0cd5-4971-873a-d640feb84498,id=852cfe7e-0cd5-4971-873a-d640feb84498; trace=bb7b1945-4ad7-494a-8808-9fd1f8f82c70,id=9a0cd361-3d93-4dae-8096-e20fa3a9e158; trace=bb7b1945-4ad7-494a-8808-9fd1f8f82c70,id=782b81bf-336c-4edc-a37c-2c211d1549ee; trace=bb7b1945-4ad7-494a-8808-9fd1f8f82c70,id=88dc6365-9489-4cc2-b9ab-23443c1fb955; trace=bb7b1945-4ad7-494a-8808-9fd1f8f82c70,id=39f24daf-e05a-4f03-8bb7-055084b19322\n",
      "DEBUG:langsmith.client:Sending compressed multipart request with context: trace=bb7b1945-4ad7-494a-8808-9fd1f8f82c70,id=39f24daf-e05a-4f03-8bb7-055084b19322; trace=bb7b1945-4ad7-494a-8808-9fd1f8f82c70,id=5461880c-3ef7-4ee3-a66d-3836fa759688; trace=bb7b1945-4ad7-494a-8808-9fd1f8f82c70,id=9637bad7-98ea-4e8f-896a-66c4587a95a5; trace=bb7b1945-4ad7-494a-8808-9fd1f8f82c70,id=282ec3e3-a784-4352-b80e-381532d3737d; trace=282ec3e3-a784-4352-b80e-381532d3737d,id=282ec3e3-a784-4352-b80e-381532d3737d\n",
      "DEBUG:langsmith.client:Sending compressed multipart request with context: trace=bb7b1945-4ad7-494a-8808-9fd1f8f82c70,id=282ec3e3-a784-4352-b80e-381532d3737d; trace=282ec3e3-a784-4352-b80e-381532d3737d,id=282ec3e3-a784-4352-b80e-381532d3737d; trace=bb7b1945-4ad7-494a-8808-9fd1f8f82c70,id=9637bad7-98ea-4e8f-896a-66c4587a95a5; trace=bb7b1945-4ad7-494a-8808-9fd1f8f82c70,id=5461880c-3ef7-4ee3-a66d-3836fa759688; trace=bb7b1945-4ad7-494a-8808-9fd1f8f82c70,id=88dc6365-9489-4cc2-b9ab-23443c1fb955; trace=bb7b1945-4ad7-494a-8808-9fd1f8f82c70,id=782b81bf-336c-4edc-a37c-2c211d1549ee; trace=bb7b1945-4ad7-494a-8808-9fd1f8f82c70,id=bb7b1945-4ad7-494a-8808-9fd1f8f82c70; trace=f4e37d90-7e3a-4f46-bb09-19e1eaee0073,id=f4e37d90-7e3a-4f46-bb09-19e1eaee0073; trace=f4e37d90-7e3a-4f46-bb09-19e1eaee0073,id=629fcfdb-2558-47f2-b777-f9226b6df4db; trace=f4e37d90-7e3a-4f46-bb09-19e1eaee0073,id=34580d1f-2885-4669-81e4-4ea889aac91a; trace=34580d1f-2885-4669-81e4-4ea889aac91a,id=34580d1f-2885-4669-81e4-4ea889aac91a\n",
      "DEBUG:langsmith.client:Sending compressed multipart request with context: trace=f4e37d90-7e3a-4f46-bb09-19e1eaee0073,id=34580d1f-2885-4669-81e4-4ea889aac91a; trace=34580d1f-2885-4669-81e4-4ea889aac91a,id=34580d1f-2885-4669-81e4-4ea889aac91a; trace=f4e37d90-7e3a-4f46-bb09-19e1eaee0073,id=629fcfdb-2558-47f2-b777-f9226b6df4db; trace=f4e37d90-7e3a-4f46-bb09-19e1eaee0073,id=5e018742-19c7-460b-bf2d-201db1a2e95b; trace=f4e37d90-7e3a-4f46-bb09-19e1eaee0073,id=43c9d129-d49f-4d98-912e-39c3062ae4e9; trace=f4e37d90-7e3a-4f46-bb09-19e1eaee0073,id=5eb2f0c9-01ab-45b5-89c8-87b04dcdacfb\n",
      "DEBUG:langsmith.client:Sending compressed multipart request with context: trace=f4e37d90-7e3a-4f46-bb09-19e1eaee0073,id=5eb2f0c9-01ab-45b5-89c8-87b04dcdacfb; trace=f4e37d90-7e3a-4f46-bb09-19e1eaee0073,id=9a4b8f80-74f7-4bf4-97bd-4f7600c8ad46; trace=f4e37d90-7e3a-4f46-bb09-19e1eaee0073,id=9160005c-c9c0-4e30-aa57-0abefe19873d; trace=f4e37d90-7e3a-4f46-bb09-19e1eaee0073,id=a60ae091-60b6-493c-80b7-92d062b8401d; trace=a60ae091-60b6-493c-80b7-92d062b8401d,id=a60ae091-60b6-493c-80b7-92d062b8401d\n",
      "DEBUG:langsmith.client:Sending compressed multipart request with context: trace=f4e37d90-7e3a-4f46-bb09-19e1eaee0073,id=a60ae091-60b6-493c-80b7-92d062b8401d; trace=a60ae091-60b6-493c-80b7-92d062b8401d,id=a60ae091-60b6-493c-80b7-92d062b8401d; trace=f4e37d90-7e3a-4f46-bb09-19e1eaee0073,id=9160005c-c9c0-4e30-aa57-0abefe19873d; trace=f4e37d90-7e3a-4f46-bb09-19e1eaee0073,id=9a4b8f80-74f7-4bf4-97bd-4f7600c8ad46; trace=f4e37d90-7e3a-4f46-bb09-19e1eaee0073,id=43c9d129-d49f-4d98-912e-39c3062ae4e9; trace=f4e37d90-7e3a-4f46-bb09-19e1eaee0073,id=5e018742-19c7-460b-bf2d-201db1a2e95b; trace=f4e37d90-7e3a-4f46-bb09-19e1eaee0073,id=f4e37d90-7e3a-4f46-bb09-19e1eaee0073\n",
      "DEBUG:langsmith.client:Sending compressed multipart request with context: trace=d4c4c238-514a-4ad0-8250-e342111f60af,id=d4c4c238-514a-4ad0-8250-e342111f60af; trace=d4c4c238-514a-4ad0-8250-e342111f60af,id=cd51e73e-2c3d-416f-964a-8a0470edebdc\n",
      "DEBUG:langsmith.client:Sending compressed multipart request with context: trace=d4c4c238-514a-4ad0-8250-e342111f60af,id=cd51e73e-2c3d-416f-964a-8a0470edebdc; trace=d4c4c238-514a-4ad0-8250-e342111f60af,id=12c83e20-e3bf-4741-b955-cfe61ecaacfc; trace=d4c4c238-514a-4ad0-8250-e342111f60af,id=61275c66-27de-4017-b008-7465302b2a4f; trace=d4c4c238-514a-4ad0-8250-e342111f60af,id=6d5c5f4d-f5cb-4dbf-b60d-f1e8fe5da195; trace=6d5c5f4d-f5cb-4dbf-b60d-f1e8fe5da195,id=6d5c5f4d-f5cb-4dbf-b60d-f1e8fe5da195\n",
      "DEBUG:langsmith.client:Sending compressed multipart request with context: trace=d4c4c238-514a-4ad0-8250-e342111f60af,id=6d5c5f4d-f5cb-4dbf-b60d-f1e8fe5da195; trace=6d5c5f4d-f5cb-4dbf-b60d-f1e8fe5da195,id=6d5c5f4d-f5cb-4dbf-b60d-f1e8fe5da195; trace=d4c4c238-514a-4ad0-8250-e342111f60af,id=61275c66-27de-4017-b008-7465302b2a4f; trace=d4c4c238-514a-4ad0-8250-e342111f60af,id=12c83e20-e3bf-4741-b955-cfe61ecaacfc; trace=d4c4c238-514a-4ad0-8250-e342111f60af,id=d4c4c238-514a-4ad0-8250-e342111f60af\n",
      "DEBUG:langsmith.client:Sending compressed multipart request with context: trace=f5fdac75-ef62-49fd-9f72-819c09e6de8a,id=f5fdac75-ef62-49fd-9f72-819c09e6de8a; trace=f5fdac75-ef62-49fd-9f72-819c09e6de8a,id=021839d9-bae9-44b9-b0db-5d5af7297b41\n",
      "DEBUG:langsmith.client:Sending compressed multipart request with context: trace=f5fdac75-ef62-49fd-9f72-819c09e6de8a,id=021839d9-bae9-44b9-b0db-5d5af7297b41; trace=f5fdac75-ef62-49fd-9f72-819c09e6de8a,id=9c2cee2f-7494-4d8c-a7dc-49c31ae55e9b; trace=f5fdac75-ef62-49fd-9f72-819c09e6de8a,id=22fc7963-a0b3-4e99-884a-92dea76f963d; trace=f5fdac75-ef62-49fd-9f72-819c09e6de8a,id=13bdd626-7e4f-4a84-804e-abfb64e9c6db; trace=13bdd626-7e4f-4a84-804e-abfb64e9c6db,id=13bdd626-7e4f-4a84-804e-abfb64e9c6db\n",
      "DEBUG:langsmith.client:Sending compressed multipart request with context: trace=f5fdac75-ef62-49fd-9f72-819c09e6de8a,id=13bdd626-7e4f-4a84-804e-abfb64e9c6db; trace=13bdd626-7e4f-4a84-804e-abfb64e9c6db,id=13bdd626-7e4f-4a84-804e-abfb64e9c6db; trace=f5fdac75-ef62-49fd-9f72-819c09e6de8a,id=22fc7963-a0b3-4e99-884a-92dea76f963d; trace=f5fdac75-ef62-49fd-9f72-819c09e6de8a,id=9c2cee2f-7494-4d8c-a7dc-49c31ae55e9b; trace=f5fdac75-ef62-49fd-9f72-819c09e6de8a,id=f5fdac75-ef62-49fd-9f72-819c09e6de8a\n",
      "DEBUG:langsmith.client:Sending compressed multipart request with context: trace=05ef584c-54b9-4add-a66d-74f540fa6cc0,id=05ef584c-54b9-4add-a66d-74f540fa6cc0; trace=05ef584c-54b9-4add-a66d-74f540fa6cc0,id=56949282-283b-4e8f-b8ae-c84765b02ac7\n",
      "DEBUG:langsmith.client:Sending compressed multipart request with context: trace=05ef584c-54b9-4add-a66d-74f540fa6cc0,id=56949282-283b-4e8f-b8ae-c84765b02ac7; trace=05ef584c-54b9-4add-a66d-74f540fa6cc0,id=fa666b26-294b-4a50-a937-19b10f04e26f; trace=05ef584c-54b9-4add-a66d-74f540fa6cc0,id=15f94970-0747-49bd-98c6-4cdd3317422f; trace=05ef584c-54b9-4add-a66d-74f540fa6cc0,id=cd09c09c-3926-44bb-b7ae-515b95691de8; trace=cd09c09c-3926-44bb-b7ae-515b95691de8,id=cd09c09c-3926-44bb-b7ae-515b95691de8\n",
      "DEBUG:langsmith.client:Sending compressed multipart request with context: trace=05ef584c-54b9-4add-a66d-74f540fa6cc0,id=cd09c09c-3926-44bb-b7ae-515b95691de8; trace=cd09c09c-3926-44bb-b7ae-515b95691de8,id=cd09c09c-3926-44bb-b7ae-515b95691de8; trace=05ef584c-54b9-4add-a66d-74f540fa6cc0,id=15f94970-0747-49bd-98c6-4cdd3317422f; trace=05ef584c-54b9-4add-a66d-74f540fa6cc0,id=fa666b26-294b-4a50-a937-19b10f04e26f; trace=05ef584c-54b9-4add-a66d-74f540fa6cc0,id=05ef584c-54b9-4add-a66d-74f540fa6cc0\n",
      "DEBUG:langsmith.client:Sending compressed multipart request with context: trace=2d909c42-d05a-4980-aa74-69c538b85ab7,id=2d909c42-d05a-4980-aa74-69c538b85ab7; trace=2d909c42-d05a-4980-aa74-69c538b85ab7,id=b629ea45-292e-41b7-8016-fdd63575aa0f\n",
      "DEBUG:langsmith.client:Sending compressed multipart request with context: trace=2d909c42-d05a-4980-aa74-69c538b85ab7,id=b629ea45-292e-41b7-8016-fdd63575aa0f; trace=2d909c42-d05a-4980-aa74-69c538b85ab7,id=2302aac8-0f21-4ec0-8fa3-c539e717307f; trace=2d909c42-d05a-4980-aa74-69c538b85ab7,id=0732ed6c-a9a8-4d85-b66b-aee620b0ebc6; trace=2d909c42-d05a-4980-aa74-69c538b85ab7,id=0614cfeb-a085-4ba1-9666-b3893cf4eb79; trace=0614cfeb-a085-4ba1-9666-b3893cf4eb79,id=0614cfeb-a085-4ba1-9666-b3893cf4eb79\n",
      "DEBUG:langsmith.client:Sending compressed multipart request with context: trace=2d909c42-d05a-4980-aa74-69c538b85ab7,id=0614cfeb-a085-4ba1-9666-b3893cf4eb79; trace=0614cfeb-a085-4ba1-9666-b3893cf4eb79,id=0614cfeb-a085-4ba1-9666-b3893cf4eb79; trace=2d909c42-d05a-4980-aa74-69c538b85ab7,id=0732ed6c-a9a8-4d85-b66b-aee620b0ebc6; trace=2d909c42-d05a-4980-aa74-69c538b85ab7,id=2302aac8-0f21-4ec0-8fa3-c539e717307f; trace=2d909c42-d05a-4980-aa74-69c538b85ab7,id=2d909c42-d05a-4980-aa74-69c538b85ab7\n",
      "DEBUG:langsmith.client:Sending compressed multipart request with context: trace=ea5ce408-520a-4a2e-b3f4-7a828d62d316,id=ea5ce408-520a-4a2e-b3f4-7a828d62d316; trace=ea5ce408-520a-4a2e-b3f4-7a828d62d316,id=4dc89fd3-5380-4e17-9d70-7f7c596bbbf1\n",
      "DEBUG:langsmith.client:Sending compressed multipart request with context: trace=ea5ce408-520a-4a2e-b3f4-7a828d62d316,id=4dc89fd3-5380-4e17-9d70-7f7c596bbbf1; trace=ea5ce408-520a-4a2e-b3f4-7a828d62d316,id=efc3fd43-617f-410d-a3a0-ea0f10cbfab8; trace=ea5ce408-520a-4a2e-b3f4-7a828d62d316,id=76a87bcb-cdf6-47ff-80d3-21d6ba19f2da; trace=ea5ce408-520a-4a2e-b3f4-7a828d62d316,id=e61991eb-ad9e-4b55-a89d-9103094e488b; trace=e61991eb-ad9e-4b55-a89d-9103094e488b,id=e61991eb-ad9e-4b55-a89d-9103094e488b\n",
      "DEBUG:langsmith.client:Sending compressed multipart request with context: trace=ea5ce408-520a-4a2e-b3f4-7a828d62d316,id=e61991eb-ad9e-4b55-a89d-9103094e488b; trace=e61991eb-ad9e-4b55-a89d-9103094e488b,id=e61991eb-ad9e-4b55-a89d-9103094e488b; trace=ea5ce408-520a-4a2e-b3f4-7a828d62d316,id=76a87bcb-cdf6-47ff-80d3-21d6ba19f2da; trace=ea5ce408-520a-4a2e-b3f4-7a828d62d316,id=efc3fd43-617f-410d-a3a0-ea0f10cbfab8; trace=ea5ce408-520a-4a2e-b3f4-7a828d62d316,id=ea5ce408-520a-4a2e-b3f4-7a828d62d316\n",
      "DEBUG:langsmith.client:Sending compressed multipart request with context: trace=4b995c9e-7288-4ed6-ac89-e9e8138cd19c,id=4b995c9e-7288-4ed6-ac89-e9e8138cd19c; trace=4b995c9e-7288-4ed6-ac89-e9e8138cd19c,id=b5d35e69-8509-478d-85d9-8b179e7c70c6\n",
      "DEBUG:langsmith.client:Sending compressed multipart request with context: trace=4b995c9e-7288-4ed6-ac89-e9e8138cd19c,id=b5d35e69-8509-478d-85d9-8b179e7c70c6; trace=4b995c9e-7288-4ed6-ac89-e9e8138cd19c,id=67b7537f-2a6f-4ebf-87a9-bf0e140aa3ba; trace=4b995c9e-7288-4ed6-ac89-e9e8138cd19c,id=6e736040-1194-4de3-8a52-a0441d362209; trace=4b995c9e-7288-4ed6-ac89-e9e8138cd19c,id=67fbc630-bfdc-4ba1-ab24-92c321440e4f; trace=67fbc630-bfdc-4ba1-ab24-92c321440e4f,id=67fbc630-bfdc-4ba1-ab24-92c321440e4f\n",
      "DEBUG:langsmith.client:Sending compressed multipart request with context: trace=4b995c9e-7288-4ed6-ac89-e9e8138cd19c,id=67fbc630-bfdc-4ba1-ab24-92c321440e4f; trace=67fbc630-bfdc-4ba1-ab24-92c321440e4f,id=67fbc630-bfdc-4ba1-ab24-92c321440e4f; trace=4b995c9e-7288-4ed6-ac89-e9e8138cd19c,id=6e736040-1194-4de3-8a52-a0441d362209; trace=4b995c9e-7288-4ed6-ac89-e9e8138cd19c,id=67b7537f-2a6f-4ebf-87a9-bf0e140aa3ba; trace=4b995c9e-7288-4ed6-ac89-e9e8138cd19c,id=4b995c9e-7288-4ed6-ac89-e9e8138cd19c\n"
     ]
    }
   ],
   "source": [
    "from langchain.callbacks.manager import CallbackManager\n",
    "from langchain.callbacks.tracers import LangChainTracer\n",
    "\n",
    "\n",
    "# 1. Create the tracer\n",
    "tracer = LangChainTracer()\n",
    "\n",
    "# 2. Build a CallbackManager with it\n",
    "callback_manager = CallbackManager([tracer])\n",
    "\n",
    "# 3. Inject into your LLM\n",
    "llm = ChatOpenAI(\n",
    "    model_name=\"gpt-4\",\n",
    "    temperature=0,\n",
    "    callback_manager=callback_manager,\n",
    "    verbose=True,\n",
    ")"
   ]
  },
  {
   "cell_type": "code",
   "execution_count": 35,
   "id": "2c664332",
   "metadata": {},
   "outputs": [],
   "source": [
    "from langchain.prompts import PromptTemplate\n",
    "\n",
    "# Custom Prompt Template for Strict QA\n",
    "STRICT_QA_PROMPT = PromptTemplate(\n",
    "    template=\"\"\"Answer ONLY from the video transcript. If not found, say \"This information is not mentioned in the transcript of the video\".\n",
    "    \n",
    "    Transcript: {context}\n",
    "    \n",
    "    Question: {question}\n",
    "    \n",
    "    Answer:\"\"\",\n",
    "    input_variables=[\"context\", \"question\"]\n",
    ")\n"
   ]
  },
  {
   "cell_type": "markdown",
   "id": "36d16e7b",
   "metadata": {},
   "source": [
    "Builds a RetrievalQA chain (using the “stuff” strategy) that ties together the LLM and retriever, with verbose=True to print intermediate debug info."
   ]
  },
  {
   "cell_type": "code",
   "execution_count": 59,
   "id": "c9c84c7a",
   "metadata": {},
   "outputs": [],
   "source": [
    "# Create a RetrievalQA instance with the specified parameters\n",
    "qa_stuff = RetrievalQA.from_chain_type(\n",
    "llm=llm,\n",
    "chain_type=\"stuff\",\n",
    "retriever=retriever,\n",
    "return_source_documents=True,\n",
    "chain_type_kwargs={\"prompt\": STRICT_QA_PROMPT},\n",
    "verbose=True)\n"
   ]
  },
  {
   "cell_type": "code",
   "execution_count": 26,
   "id": "f671726e",
   "metadata": {},
   "outputs": [],
   "source": [
    "#qa_stuff?"
   ]
  },
  {
   "cell_type": "code",
   "execution_count": 66,
   "id": "05ff55c0",
   "metadata": {},
   "outputs": [],
   "source": [
    "chat_history = InMemoryChatMessageHistory()\n",
    "\n",
    "memory = ConversationBufferMemory(\n",
    "    memory_key=\"chat_history\",\n",
    "    chat_memory=chat_history,\n",
    "    return_messages=True\n",
    ")"
   ]
  },
  {
   "cell_type": "code",
   "execution_count": 67,
   "id": "e9559ac5",
   "metadata": {},
   "outputs": [],
   "source": [
    "chain = RetrievalQA.from_chain_type(\n",
    "llm=llm,\n",
    "chain_type=\"stuff\",\n",
    "retriever=retriever,\n",
    "return_source_documents=True,\n",
    "memory=memory,\n",
    "chain_type_kwargs={\"prompt\": STRICT_QA_PROMPT},\n",
    "verbose=True)"
   ]
  },
  {
   "cell_type": "markdown",
   "id": "97df1c7d",
   "metadata": {},
   "source": [
    "### **Multi-Tool Conversational Agent with Memory**\n",
    "\n",
    "Sets up three custom tools (transcript Q&A, summarization), configures a conversation buffer to remember past messages, and initializes a LangChain agent that can use these tools interactively while preserving chat history."
   ]
  },
  {
   "cell_type": "code",
   "execution_count": 72,
   "id": "5e2876d8",
   "metadata": {},
   "outputs": [],
   "source": [
    "#define a summarization function and wrap it as a tool\n",
    "def summarize_transcript(text: str) -> str:\n",
    "    output = chain({\"query\": f\"Summarize this:\\n\\n{text}\"})\n",
    "    answer = output[\"result\"]\n",
    "    sources = \"\\n\\n\".join([doc.page_content for doc in output['source_documents']])\n",
    "    return f\"Answer:\\n{answer}\\n\\nSources:\\n{sources}\"\n",
    "\n",
    "def run_TranscriptQA(question: str) -> str:\n",
    "    output = chain({\"query\": question})\n",
    "    answer = output[\"result\"]\n",
    "    sources = \"\\n\\n\".join([doc.page_content for doc in output['source_documents']])\n",
    "    if not sources.strip() or not answer.strip() or \"not mentioned\" in answer.lower():\n",
    "        return \"Sorry, this information is not in the video transcript.\"\n",
    "    return f\"Answer:\\n{answer}\\n\\nSources:\\n{sources}\"\n"
   ]
  },
  {
   "cell_type": "code",
   "execution_count": 37,
   "id": "cfd1d36a",
   "metadata": {},
   "outputs": [],
   "source": [
    "tools = [Tool(\n",
    "    name=\"TranscriptQA\",\n",
    "    func=run_TranscriptQA,\n",
    "    description=\"The user will ask about the video but you will Answer questions strictly based on the video transcript. If the information is not in the transcript, no answer will be provided.No general knowledge.\",\n",
    "    return_direct=True),\n",
    "   \n",
    "         \n",
    "    Tool(\n",
    "    name=\"TranscriptSummarizer\",\n",
    "    func=summarize_transcript,\n",
    "    description=\"Generate a concise summary of a given transcript text.\",\n",
    "    return_direct=True\n",
    "    \n",
    ")]\n"
   ]
  },
  {
   "cell_type": "code",
   "execution_count": 106,
   "id": "da77f819",
   "metadata": {},
   "outputs": [],
   "source": [
    "session_store = {}\n",
    "\n",
    "def get_session_history(session_id: str) -> InMemoryChatMessageHistory:\n",
    "    \"\"\"Ensures each session has its own message history\"\"\"\n",
    "    if session_id not in session_store:\n",
    "        session_store[session_id] = InMemoryChatMessageHistory()\n",
    "    return session_store[session_id]"
   ]
  },
  {
   "cell_type": "code",
   "execution_count": null,
   "id": "c2cabaa2",
   "metadata": {},
   "outputs": [],
   "source": [
    "import uuid\n",
    "session_id = str(uuid.uuid4())  # e.g. \"4f9b8a2e-1c3d-4f5a-9e6b-7d8f0a1b2c3d\"\n",
    "\n",
    "#configure a memory buffer to keep the full conversation history\n",
    "memory = get_session_history(session_id)"
   ]
  },
  {
   "cell_type": "code",
   "execution_count": null,
   "id": "846136a9",
   "metadata": {},
   "outputs": [],
   "source": [
    "# I initialize the agent with my tools, the LLM, and the memory buffer\n",
    "agent = initialize_agent(\n",
    "    tools=tools,\n",
    "    llm=llm,\n",
    "    agent=AgentType.CHAT_CONVERSATIONAL_REACT_DESCRIPTION , #CHAT_CONVERSATIONAL_REACT_DESCRIPTION\n",
    "    memory=memory,\n",
    "    handle_parsing_errors=True,\n",
    "    verbose=True,\n",
    "    early_stopping_method=\"force\",\n",
    "    max_iterations=4,\n",
    "    return_intermediate_steps=True\n",
    ")\n",
    "    "
   ]
  },
  {
   "cell_type": "code",
   "execution_count": null,
   "id": "e5ac173b",
   "metadata": {},
   "outputs": [],
   "source": [
    "agent.agent.llm_chain.prompt.template = f\"\"\"\n",
    "You are a video expert. Use this transcript to answer questions:\n",
    "\n",
    "{{transcript_chunks}}\n",
    "\n",
    "Always respond with 'Final Answer: <your answer>'.\n",
    "Human: {{input}}\n",
    "\"\"\""
   ]
  },
  {
   "cell_type": "markdown",
   "id": "5f533aa0",
   "metadata": {},
   "source": [
    "### **Execute RetrievalQA Query & Display Answer**"
   ]
  },
  {
   "cell_type": "code",
   "execution_count": 29,
   "id": "a79f0ad7",
   "metadata": {},
   "outputs": [],
   "source": [
    "import logging\n",
    "\n",
    "# This will log all langsmith internals to stdout\n",
    "langsmith_logger = logging.getLogger(\"langsmith\")\n",
    "langsmith_logger.setLevel(logging.DEBUG)\n",
    "logging.basicConfig()  # ensure handlers are configured\n"
   ]
  },
  {
   "cell_type": "code",
   "execution_count": 73,
   "id": "8740fd18",
   "metadata": {},
   "outputs": [
    {
     "name": "stdout",
     "output_type": "stream",
     "text": [
      "\n",
      "\n",
      "\u001b[1m> Entering new AgentExecutor chain...\u001b[0m\n",
      "\u001b[32;1m\u001b[1;3m```json\n",
      "{\n",
      "    \"action\": \"TranscriptSummarizer\",\n",
      "    \"action_input\": \"What is this the video content about?\"\n",
      "}\n",
      "```\u001b[0m\n",
      "\n",
      "\u001b[1m> Entering new RetrievalQA chain...\u001b[0m\n",
      "\n",
      "\u001b[1m> Finished chain.\u001b[0m\n",
      "\n",
      "Observation: \u001b[33;1m\u001b[1;3mAnswer:\n",
      "The video content is about the importance of consistent practice in improving listening skills for IELTS. It emphasizes that studying doesn't have to be boring or laborious, and encourages students to listen to things they enjoy, such as podcasts, TV, movies, radio, TED Talks, YouTube, and real people. The speaker highlights the convenience of having these resources available on a phone, providing an unlimited supply of listening material.\n",
      "\n",
      "Sources:\n",
      "# Transcript for IELTS_Listening_Practice__What_You_NEED_to_Know\n",
      "\n",
      "## IELTS_Listening_Practice__What_You_NEED_to_Know_chunk_0.mp3\n",
      "\n",
      "## IELTS_Listening_Practice__What_You_NEED_to_Know_chunk_1.mp3\n",
      "\n",
      "about, you need to do something that you enjoy so that you will do it consistently. Listening is a skill. The more you do it, the better you're going to become at it. So if you are listening to things that you enjoy, then you're going to do this consistently. It seems pretty obvious, but not many students think of it that way. I think maybe because it's studying and a lot of people think that studying should be boring and studying should be laborious. It doesn't have to be. And the great thing about all of these, so podcasts, TV, movies, radio, TED Talks, YouTube, real people. Apart from real people, all of these are in the palm of your hand. They're on your phone. You can listen to podcasts on anything in the world, or YouTube, or TED Talks, or radio, or movies, or TV even on your phone. There is an unlimited supply of listening material out there for you. And the great thing about all this choice and the fact that we can get everything at the touch of a button is that whatever you\u001b[0m\n",
      "\u001b[32;1m\u001b[1;3m\u001b[0m\n",
      "\n",
      "\u001b[1m> Finished chain.\u001b[0m\n",
      "{'input': 'What is this the video content about?', 'chat_history': [HumanMessage(content='What is this the video content about?', additional_kwargs={}, response_metadata={}), AIMessage(content='Sorry, this information is not in the video transcript.', additional_kwargs={}, response_metadata={}), HumanMessage(content='What is this the video content about?', additional_kwargs={}, response_metadata={}), AIMessage(content=\"Answer:\\nThe video content is about the importance of consistent practice in improving listening skills for IELTS. It emphasizes that studying doesn't have to be boring or laborious, and encourages students to listen to things they enjoy, such as podcasts, TV, movies, radio, TED Talks, YouTube, and real people. The speaker highlights the convenience of having these resources available on a phone, providing an unlimited supply of listening material.\\n\\nSources:\\n# Transcript for IELTS_Listening_Practice__What_You_NEED_to_Know\\n\\n## IELTS_Listening_Practice__What_You_NEED_to_Know_chunk_0.mp3\\n\\n## IELTS_Listening_Practice__What_You_NEED_to_Know_chunk_1.mp3\\n\\nabout, you need to do something that you enjoy so that you will do it consistently. Listening is a skill. The more you do it, the better you're going to become at it. So if you are listening to things that you enjoy, then you're going to do this consistently. It seems pretty obvious, but not many students think of it that way. I think maybe because it's studying and a lot of people think that studying should be boring and studying should be laborious. It doesn't have to be. And the great thing about all of these, so podcasts, TV, movies, radio, TED Talks, YouTube, real people. Apart from real people, all of these are in the palm of your hand. They're on your phone. You can listen to podcasts on anything in the world, or YouTube, or TED Talks, or radio, or movies, or TV even on your phone. There is an unlimited supply of listening material out there for you. And the great thing about all this choice and the fact that we can get everything at the touch of a button is that whatever you\", additional_kwargs={}, response_metadata={})], 'output': \"Answer:\\nThe video content is about the importance of consistent practice in improving listening skills for IELTS. It emphasizes that studying doesn't have to be boring or laborious, and encourages students to listen to things they enjoy, such as podcasts, TV, movies, radio, TED Talks, YouTube, and real people. The speaker highlights the convenience of having these resources available on a phone, providing an unlimited supply of listening material.\\n\\nSources:\\n# Transcript for IELTS_Listening_Practice__What_You_NEED_to_Know\\n\\n## IELTS_Listening_Practice__What_You_NEED_to_Know_chunk_0.mp3\\n\\n## IELTS_Listening_Practice__What_You_NEED_to_Know_chunk_1.mp3\\n\\nabout, you need to do something that you enjoy so that you will do it consistently. Listening is a skill. The more you do it, the better you're going to become at it. So if you are listening to things that you enjoy, then you're going to do this consistently. It seems pretty obvious, but not many students think of it that way. I think maybe because it's studying and a lot of people think that studying should be boring and studying should be laborious. It doesn't have to be. And the great thing about all of these, so podcasts, TV, movies, radio, TED Talks, YouTube, real people. Apart from real people, all of these are in the palm of your hand. They're on your phone. You can listen to podcasts on anything in the world, or YouTube, or TED Talks, or radio, or movies, or TV even on your phone. There is an unlimited supply of listening material out there for you. And the great thing about all this choice and the fact that we can get everything at the touch of a button is that whatever you\", 'intermediate_steps': [(AgentAction(tool='TranscriptSummarizer', tool_input='What is this the video content about?', log='```json\\n{\\n    \"action\": \"TranscriptSummarizer\",\\n    \"action_input\": \"What is this the video content about?\"\\n}\\n```'), \"Answer:\\nThe video content is about the importance of consistent practice in improving listening skills for IELTS. It emphasizes that studying doesn't have to be boring or laborious, and encourages students to listen to things they enjoy, such as podcasts, TV, movies, radio, TED Talks, YouTube, and real people. The speaker highlights the convenience of having these resources available on a phone, providing an unlimited supply of listening material.\\n\\nSources:\\n# Transcript for IELTS_Listening_Practice__What_You_NEED_to_Know\\n\\n## IELTS_Listening_Practice__What_You_NEED_to_Know_chunk_0.mp3\\n\\n## IELTS_Listening_Practice__What_You_NEED_to_Know_chunk_1.mp3\\n\\nabout, you need to do something that you enjoy so that you will do it consistently. Listening is a skill. The more you do it, the better you're going to become at it. So if you are listening to things that you enjoy, then you're going to do this consistently. It seems pretty obvious, but not many students think of it that way. I think maybe because it's studying and a lot of people think that studying should be boring and studying should be laborious. It doesn't have to be. And the great thing about all of these, so podcasts, TV, movies, radio, TED Talks, YouTube, real people. Apart from real people, all of these are in the palm of your hand. They're on your phone. You can listen to podcasts on anything in the world, or YouTube, or TED Talks, or radio, or movies, or TV even on your phone. There is an unlimited supply of listening material out there for you. And the great thing about all this choice and the fact that we can get everything at the touch of a button is that whatever you\")]}\n"
     ]
    },
    {
     "name": "stderr",
     "output_type": "stream",
     "text": [
      "c:\\Users\\007T\\OneDrive\\Desktop\\ironhack2025\\ai-bootcamp-final-project\\Multimodal-AI-ChatBot-for-YouTube-Video-QA\\.venv\\Lib\\site-packages\\langchain\\memory\\chat_memory.py:55: UserWarning: 'ConversationBufferMemory' got multiple output keys: dict_keys(['output', 'intermediate_steps']). The default 'output' key is being used. If this is not desired, please manually set 'output_key'.\n",
      "  warnings.warn(\n"
     ]
    }
   ],
   "source": [
    "from langchain_core.tracers.context import tracing_v2_enabled\n",
    "with tracing_v2_enabled():\n",
    "    # set the query\n",
    "    query = \"What is this the video content about?\"\n",
    "\n",
    "    #run the query \n",
    "    response = agent.invoke(query)\n",
    "\n",
    "    #print response\n",
    "    print(response)\n"
   ]
  },
  {
   "cell_type": "code",
   "execution_count": 74,
   "id": "654dd140",
   "metadata": {},
   "outputs": [
    {
     "name": "stdout",
     "output_type": "stream",
     "text": [
      "\n",
      "\n",
      "\u001b[1m> Entering new AgentExecutor chain...\u001b[0m\n",
      "\u001b[32;1m\u001b[1;3m```json\n",
      "{\n",
      "    \"action\": \"Final Answer\",\n",
      "    \"action_input\": \"4\"\n",
      "}\n",
      "```\u001b[0m\n",
      "\n",
      "\u001b[1m> Finished chain.\u001b[0m\n",
      "{'input': '2+2', 'chat_history': [HumanMessage(content='What is this the video content about?', additional_kwargs={}, response_metadata={}), AIMessage(content='Sorry, this information is not in the video transcript.', additional_kwargs={}, response_metadata={}), HumanMessage(content='What is this the video content about?', additional_kwargs={}, response_metadata={}), AIMessage(content=\"Answer:\\nThe video content is about the importance of consistent practice in improving listening skills for IELTS. It emphasizes that studying doesn't have to be boring or laborious, and encourages students to listen to things they enjoy, such as podcasts, TV, movies, radio, TED Talks, YouTube, and real people. The speaker highlights the convenience of having these resources available on a phone, providing an unlimited supply of listening material.\\n\\nSources:\\n# Transcript for IELTS_Listening_Practice__What_You_NEED_to_Know\\n\\n## IELTS_Listening_Practice__What_You_NEED_to_Know_chunk_0.mp3\\n\\n## IELTS_Listening_Practice__What_You_NEED_to_Know_chunk_1.mp3\\n\\nabout, you need to do something that you enjoy so that you will do it consistently. Listening is a skill. The more you do it, the better you're going to become at it. So if you are listening to things that you enjoy, then you're going to do this consistently. It seems pretty obvious, but not many students think of it that way. I think maybe because it's studying and a lot of people think that studying should be boring and studying should be laborious. It doesn't have to be. And the great thing about all of these, so podcasts, TV, movies, radio, TED Talks, YouTube, real people. Apart from real people, all of these are in the palm of your hand. They're on your phone. You can listen to podcasts on anything in the world, or YouTube, or TED Talks, or radio, or movies, or TV even on your phone. There is an unlimited supply of listening material out there for you. And the great thing about all this choice and the fact that we can get everything at the touch of a button is that whatever you\", additional_kwargs={}, response_metadata={}), HumanMessage(content='2+2', additional_kwargs={}, response_metadata={}), AIMessage(content='4', additional_kwargs={}, response_metadata={})], 'output': '4', 'intermediate_steps': []}\n"
     ]
    },
    {
     "name": "stderr",
     "output_type": "stream",
     "text": [
      "c:\\Users\\007T\\OneDrive\\Desktop\\ironhack2025\\ai-bootcamp-final-project\\Multimodal-AI-ChatBot-for-YouTube-Video-QA\\.venv\\Lib\\site-packages\\langchain\\memory\\chat_memory.py:55: UserWarning: 'ConversationBufferMemory' got multiple output keys: dict_keys(['output', 'intermediate_steps']). The default 'output' key is being used. If this is not desired, please manually set 'output_key'.\n",
      "  warnings.warn(\n"
     ]
    }
   ],
   "source": [
    "with tracing_v2_enabled():\n",
    "    # set the query\n",
    "    query = \"2+2\"\n",
    "\n",
    "    #run the query \n",
    "    response = agent.invoke(query)\n",
    "\n",
    "    #print response\n",
    "    print(response)"
   ]
  },
  {
   "cell_type": "code",
   "execution_count": 76,
   "id": "b73ce480",
   "metadata": {},
   "outputs": [
    {
     "name": "stdout",
     "output_type": "stream",
     "text": [
      "\n",
      "\n",
      "\u001b[1m> Entering new AgentExecutor chain...\u001b[0m\n",
      "\u001b[32;1m\u001b[1;3m```json\n",
      "{\n",
      "    \"action\": \"Final Answer\",\n",
      "    \"action_input\": \"The capital of the Kingdom of Saudi Arabia (KSA) is Riyadh.\"\n",
      "}\n",
      "```\u001b[0m\n",
      "\n",
      "\u001b[1m> Finished chain.\u001b[0m\n",
      "{'input': 'what is the capital of ksa', 'chat_history': [HumanMessage(content='What is this the video content about?', additional_kwargs={}, response_metadata={}), AIMessage(content='Sorry, this information is not in the video transcript.', additional_kwargs={}, response_metadata={}), HumanMessage(content='What is this the video content about?', additional_kwargs={}, response_metadata={}), AIMessage(content=\"Answer:\\nThe video content is about the importance of consistent practice in improving listening skills for IELTS. It emphasizes that studying doesn't have to be boring or laborious, and encourages students to listen to things they enjoy, such as podcasts, TV, movies, radio, TED Talks, YouTube, and real people. The speaker highlights the convenience of having these resources available on a phone, providing an unlimited supply of listening material.\\n\\nSources:\\n# Transcript for IELTS_Listening_Practice__What_You_NEED_to_Know\\n\\n## IELTS_Listening_Practice__What_You_NEED_to_Know_chunk_0.mp3\\n\\n## IELTS_Listening_Practice__What_You_NEED_to_Know_chunk_1.mp3\\n\\nabout, you need to do something that you enjoy so that you will do it consistently. Listening is a skill. The more you do it, the better you're going to become at it. So if you are listening to things that you enjoy, then you're going to do this consistently. It seems pretty obvious, but not many students think of it that way. I think maybe because it's studying and a lot of people think that studying should be boring and studying should be laborious. It doesn't have to be. And the great thing about all of these, so podcasts, TV, movies, radio, TED Talks, YouTube, real people. Apart from real people, all of these are in the palm of your hand. They're on your phone. You can listen to podcasts on anything in the world, or YouTube, or TED Talks, or radio, or movies, or TV even on your phone. There is an unlimited supply of listening material out there for you. And the great thing about all this choice and the fact that we can get everything at the touch of a button is that whatever you\", additional_kwargs={}, response_metadata={}), HumanMessage(content='2+2', additional_kwargs={}, response_metadata={}), AIMessage(content='4', additional_kwargs={}, response_metadata={}), HumanMessage(content='what is the capital of ksa', additional_kwargs={}, response_metadata={}), AIMessage(content='The capital of the Kingdom of Saudi Arabia (KSA) is Riyadh.', additional_kwargs={}, response_metadata={})], 'output': 'The capital of the Kingdom of Saudi Arabia (KSA) is Riyadh.', 'intermediate_steps': []}\n"
     ]
    },
    {
     "name": "stderr",
     "output_type": "stream",
     "text": [
      "c:\\Users\\007T\\OneDrive\\Desktop\\ironhack2025\\ai-bootcamp-final-project\\Multimodal-AI-ChatBot-for-YouTube-Video-QA\\.venv\\Lib\\site-packages\\langchain\\memory\\chat_memory.py:55: UserWarning: 'ConversationBufferMemory' got multiple output keys: dict_keys(['output', 'intermediate_steps']). The default 'output' key is being used. If this is not desired, please manually set 'output_key'.\n",
      "  warnings.warn(\n"
     ]
    }
   ],
   "source": [
    "with tracing_v2_enabled():\n",
    "    query = \"what is the capital of ksa\"\n",
    "\n",
    "    #run the query \n",
    "    response = agent.invoke(query)\n",
    "\n",
    "    #print response\n",
    "    print(response)"
   ]
  },
  {
   "cell_type": "code",
   "execution_count": 64,
   "id": "7595db42",
   "metadata": {},
   "outputs": [
    {
     "data": {
      "text/plain": [
       "[HumanMessage(content='What is this the video content about?', additional_kwargs={}, response_metadata={}),\n",
       " AIMessage(content='Answer:\\nThis information is not mentioned in the transcript of the video.\\n\\nSources:\\n# Transcript for IELTS_Listening_Practice__What_You_NEED_to_Know\\n\\n# Transcript for IELTS_Vocabulary_Synonyms_for_the_40_Most_Commonly_Used_Wordsmp3_chunk_0\\n\\n## IELTS_Listening_Practice__What_You_NEED_to_Know_chunk_0.mp3', additional_kwargs={}, response_metadata={}),\n",
       " HumanMessage(content='What is this the video content about?', additional_kwargs={}, response_metadata={}),\n",
       " AIMessage(content='Answer:\\nThis information is not mentioned in the transcript of the video.\\n\\nSources:\\n# Transcript for IELTS_Listening_Practice__What_You_NEED_to_Know\\n\\n# Transcript for IELTS_Vocabulary_Synonyms_for_the_40_Most_Commonly_Used_Wordsmp3_chunk_0\\n\\n## IELTS_Listening_Practice__What_You_NEED_to_Know_chunk_0.mp3\\n\\n## IELTS_Listening_Practice__What_You_NEED_to_Know_chunk_1.mp3', additional_kwargs={}, response_metadata={}),\n",
       " HumanMessage(content='what are the synenom that mention in the video?', additional_kwargs={}, response_metadata={}),\n",
       " AIMessage(content='Answer:\\nThe synonyms mentioned in the video are \"claim\" and \"talk about\" as alternatives for the word \"say\".\\n\\nSources:\\nto the IELTS materials in the description box. And now, get a paper and a pen. For each synonym you know, you get one point. Comment below how many synonyms you know. For example, 20, 35 or 40. Let\\'s get started. The first word that is used very often is say. I say it a lot and most other test takers do too. It\\'s a great word. If you use it too much though, your vocabulary sounds limited. There is lots of words to substitute for say. One that you can almost always paraphrase with is claim. Let\\'s look at the sentence. The economist said that prices would rise. Here\\'s claim. The economist claimed that prices would rise. Another common word for reporting what someone said is talk about. It\\'s used for a general subject, not a specific idea. Let\\'s compare this with said first, so you use it correctly. The professor said I should go to law school. The professor talked about going to law school. Here you can see that going to law school is a general idea, since it could be about anyone. But\\n\\nMany IELTS students use the same words over and over again. And this is a problem because one of the things the IELTS examiners are looking for is a broad vocabulary. If you demonstrate that you have a wide range of vocabulary, your band score will go up. It\\'s actually really easy to show off your vocabulary if you know synonyms, that is alternatives for commonly used words. And this is what you will learn in this video. I\\'m going to teach you 40 synonyms you must know to score high. By the end of this video, you will be equipped with a broad vocabulary that you can use in your IELTS test. If you\\'re going to take your IELTS soon, check out my IELTS materials. There, I teach you everything you need to score high. I show you step by step how to give high scoring answers. And of course, we do many practice tests together, so you will feel confident for your test. You can find the link to the IELTS materials in the description box. And now, get a paper and a pen. For each synonym you\\n\\n## IELTS_Vocabulary_Synonyms_for_the_40_Most_Commonly_Used_Wordsmp3_chunk_0_chunk_1.mp3\\n\\n# Transcript for IELTS_Vocabulary_Synonyms_for_the_40_Most_Commonly_Used_Wordsmp3_chunk_0', additional_kwargs={}, response_metadata={}),\n",
       " HumanMessage(content='What is this the video content about?', additional_kwargs={}, response_metadata={}),\n",
       " AIMessage(content=\"Answer:\\nThe video content is about improving one's IELTS band score by using a broad range of vocabulary. It provides examples of how to replace common words with more advanced ones in a sentence, such as replacing 'talk about' with 'discuss', 'recommend' with 'advocate', and 'explain about' with 'clarify'. The video suggests that using these advanced words correctly can boost one's IELTS score.\\n\\nSources:\\n# Transcript for IELTS_Listening_Practice__What_You_NEED_to_Know\\n\\n## IELTS_Listening_Practice__What_You_NEED_to_Know_chunk_0.mp3\\n\\n## IELTS_Listening_Practice__What_You_NEED_to_Know_chunk_1.mp3\\n\\nHere you can see that going to law school is a general idea, since it could be about anyone. But said is specific instructions to me. So talk about can be replaced with discuss. The professor discussed going to law school. It sounds a little more formal and demonstrates that you have a broad range of vocabulary, which improves your band score. Let's again have a look at this example. The professor is recommending something, right? She's making a suggestion. You can change recommend to advocate. Note that advocate is followed by a noun or an idea starting with an ing verb like this. The teacher recommends studying. This changes to the teacher advocates studying. This word is very advanced. If you use it correctly, it will boost your score like this. While I'm talking about ways to say something, I should mention explain about. Let's look at the sentence. My mother explained about our family's history. You can replace explain about with clarified. My mother clarified our family's\", additional_kwargs={}, response_metadata={})]"
      ]
     },
     "execution_count": 64,
     "metadata": {},
     "output_type": "execute_result"
    }
   ],
   "source": [
    "memory.chat_memory.messages"
   ]
  },
  {
   "cell_type": "code",
   "execution_count": 70,
   "id": "fad493d8",
   "metadata": {},
   "outputs": [
    {
     "name": "stdout",
     "output_type": "stream",
     "text": [
      "\n",
      "\n",
      "\u001b[1m> Entering new AgentExecutor chain...\u001b[0m\n",
      "\u001b[32;1m\u001b[1;3mI should use the TranscriptQA tool to find the answer to this question.\n",
      "Action: TranscriptQA\n",
      "Action Input: \"did you remember the first question I asked?\"\u001b[0m\n",
      "\n",
      "\u001b[1m> Entering new RetrievalQA chain...\u001b[0m\n",
      "\n",
      "\u001b[1m> Finished chain.\u001b[0m\n",
      "\n",
      "Observation: \u001b[36;1m\u001b[1;3mSorry, this information is not in the video transcript.\u001b[0m\n",
      "\u001b[32;1m\u001b[1;3m\u001b[0m\n",
      "\n",
      "\u001b[1m> Finished chain.\u001b[0m\n",
      "{'input': 'did you remember the first qustion I asked?', '{chat_history}': [HumanMessage(content='What is this the video about?', additional_kwargs={}, response_metadata={}), AIMessage(content=\"Answer:\\nMany IELTS students use the same words repeatedly, which can limit their vocabulary and band score. The video teaches 40 synonyms to help improve vocabulary and score high on the IELTS exam. Synonyms include claim for say, discuss for talk about, advocate for recommend, clarify for explain about, offer for give, inquire for ask, presume for think, consider for think about, possibly for maybe, individuals for people, household for family, reside for live, community for town, metropolis for city, pastime for hobby, attempt for try, appear for sound, cuisine for food, prominent for famous, ideal for perfect, extremely for very, approximately for about, regarding for about, predominantly for mostly, alter for change, increase for go up, decrease for go down, escalate for speed up, apex for highest point, extended period for long time, significant for large, minor for small, afterwards for then, however for but, nonetheless for however, frequently for a lot.\\n\\nSources:\\nMany IELTS students use the same words over and over again. And this is a problem because one of the things the IELTS examiners are looking for is a broad vocabulary. If you demonstrate that you have a wide range of vocabulary, your band score will go up. It's actually really easy to show off your vocabulary if you know synonyms, that is alternatives for commonly used words. And this is what you will learn in this video. I'm going to teach you 40 synonyms you must know to score high. By the end of this video, you will be equipped with a broad vocabulary that you can use in your IELTS test. If you're going to take your IELTS soon, check out my IELTS materials. There, I teach you everything you need to score high. I show you step by step how to give high scoring answers. And of course, we do many practice tests together, so you will feel confident for your test. You can find the link to the IELTS materials in the description box. And now, get a paper and a pen. For each synonym you know, you get one point. Comment below how many synonyms you know. For example, 20, 35 or 40. Let's get started. The first word that is used very often is say. I say it a lot and most other test takers do too. It's a great word. If you use it too much though, your vocabulary sounds limited. There is lots of words to substitute for say. One that you can almost always paraphrase with is claim. Let's look at the sentence. The economist said that prices would rise. Here's claim. The economist claimed that prices would rise. Another common word for reporting what someone said is talk about. It's used for a general subject, not a specific idea. Let's compare this with said first, so you use it correctly. The professor said I should go to law school. The professor talked about going to law school. Here you can see that going to law school is a general idea, since it could be about anyone. But said is specific instructions to me. So talk about can be replaced with discuss. The professor discussed going to law school. It sounds a little more formal and demonstrates that you have a broad range of vocabulary, which improves your band score. Let's again have a look at this example. The professor is recommending something, right? She's making a suggestion. You can change recommend to advocate. Note that advocate is followed by a noun or an idea starting with an ing verb like this. The teacher recommends studying. This changes to the teacher advocates studying. This word is very advanced. If you use it correctly, it will boost your score like this. While I'm talking about ways to say something, I should mention explain about. Let's look at the sentence. My mother explained about our family's history. You can replace explain about with clarified. My mother clarified our family's history. That means that the noun that is explained is very clear and easy to understand now. It's an awesome word that makes you sound smart. Often it has a person who now understands the topic too. That person is added with for. My mother clarified our family's history for me. You may end up using give a lot too. Like my sister gave me her bike when I moved into my own apartment. Give works well. If you want a polite word, you can also say offer. My sister offered me her bike when I moved into my own apartment. There is a slight difference. Give means you took the bike, but offer does not. It's implied that you did, unless you add more details. For example, my sister offered me her bike, but I already had one. That means she tried to give you the bike, but you said no. Offer is a polite way to say give and is a great word for paraphrasing to reduce repetition. The next word that is commonly used is ask. It's another word that has a great paraphrase. Inquire. It's really easy to replace one word with the other. For example, tourists often ask about famous places in my town. This changes to tourists often inquire about famous places in my town. What an easy way to show off your vocabulary. Speaking of easy, this word can be paraphrased too. What word should you use? Simple is the same as easy. You can change what an easy way to show off your vocabulary to what a simple way to show off your vocabulary. I want to mention one other thing about IELTS writing though. If you go back and change a word, be sure that you change the words around it too. Note that an easy way doesn't become a simple way. You have to change the n to a. So be careful. That was a good tip, wasn't it? Look at this sentence. My tip is to pay attention to all the words. There is a fancy word for tip too. Try recommendation. Here's the same sentence. My recommendation is to pay attention to all the words. Recommendation works the same way as tip, but it's much longer and sounds more formal. Learn to spell it correctly if you want to use it, since some IELTS students forget the double m. If you make spelling mistakes, your band score goes down. That's why it's super important to pay attention to spelling. One more phrase we use a lot is for example. That's a fantastic linking phrase, but don't use it too many times. Instead use to illustrate sometimes. It means the same thing, but makes the words different. It's perfect for writing when you want to give more than one example to support your claim. Let's try it in a pair of sentences. Here's for example. I love to read books. For example, I just finished a French novel. Here's the new sentences. I love to read books. To illustrate, I just finished a French novel. Now let's have a look at extra. Check out this sentence. Do you have an extra example to support your view? A longer way to say extra is additional. Try this sentence again with the new word. Do you have an additional example to support your view? This word is easy to remember because add means to put more on and additional is what that is put on. On the aisles you give a lot of opinions. Many IELTS students say I think a lot of times. Try changing that with a great paraphrase. Presume. That means you think something is true, but aren't positive. Both these words are like I guess. Check it out in a sentence. First, I think most people from my country travel a lot. Here's the new sentence. I presume most people from my country travel a lot. Using presume makes you stand out from the crowd and will help you improve your band score. Let's talk about think about. You need to pay attention because think can be used different ways. If you say think about, it means you are using your mind to look at a subject. Here's a good example. I'm thinking about moving to Australia. This is different than guess because you are now looking at different options before making a decision. Well, you can substitute consider for think about. Here's the sentence now. I'm considering moving to Australia. Consider using this word on your IELTS writing test. The next word is very common and you may use it a lot. I am talking about maybe. There is a good paraphrase for maybe so you can vary your vocabulary and that word is possibly. Check out this sentence. Maybe the government will create a new policy. It works the same way with possibly. Possibly the government will create a new policy. Now comes a word that many people use frequently. People. Since you talk about hometowns a lot in the IELTS speaking section, you probably will talk about people in your hometown. People is a fine word, but if you want to include more words, try individuals. That refers to each one of the people together. Let's see how it works in a sentence. Many people in my town ride bicycles. That changes to many individuals in my town ride bicycles. This is an awesome word for IELTS writing too, since you may get a graph showing numbers of people or a discussion question involving your opinion related to people's actions and decisions. Here you can really show off your vocabulary by using individuals. While I'm talking about people, here's a specific group of people. Your family. The IELTS speaking examiner might ask about who you live with or your family when you were growing up. Household refers to everyone who lives in the same house, so it usually refers to a family. Some people include their pets in their families and households too. For instance, my family includes my parents, brother and grandmother. That becomes my household includes my parents, brother and grandmother. Household is a bit more precise, so it's a great way to boost your score when you use it correctly. By the way, if you want more vocabulary videos, hit the like button and write yes in the comments. If you want something else, tell me your video wish in the comments so I know what you would like to see on this channel. Now let's take a look at 25 more synonyms that help you get a band 9 on the IELTS. One more word about your household. That word is live. It's really common when you're talking about the places where you grew up or have a house now. Try changing it with reside. That is usually used when talking about a place where you live. For example, you could say I live in a small apartment. But you can also show off your vocabulary by saying I reside in a small apartment. Here's another great paraphrase for discussing where you live in IELTS speaking. You can also use this word in the writing section. Lots of people live in towns, so you say town a lot. Well, you can change that using community. That can refer to a smaller part of a town, but it also is a nice way of making your entire town sound like a friendly place. So here's a sentence. I live in a small town in the north of Maryland. The paraphrase is I live in a small community in the north of Maryland. Doesn't that sound like a friendly place to live? Of course, some people live in cities rather than towns. You might also want to talk about cities if you have an IELTS writing topic related to transportation or the environment. So paraphrase city with metropolis, a word that means really big city. For example, the environment next to a city can become very polluted. Show off your vocabulary by saying the environment next to a metropolis can become very polluted. Please note that some people try to make metropolis plural in weird ways, like adding the letter I. Don't do it. The plural is just metropolises. If you want more vocabulary for speaking about hometowns, be sure to check out my video on that. In this video, you will learn 44 advanced words for talking about your hometown in IELTS speaking. You can find the link below. Now, I want to talk a bit about hobbies. Clearly, you can talk about your hobbies by saying hobby, but a more advanced word is pastime. That is something you do in your spare time. In other words, it's a hobby. So you can change a sentence very easily like my favorite hobby is reading books. That becomes my favorite pastime is reading books. I said try a lot in this video and it's a useful word when talking about your pastimes. For example, you can say I want to try skiing. Well, there is a perfect paraphrase for try too. It's attempt. Attempt includes the sound of a bit of effort, like you may or may not succeed. However, you want to do it. Here's the sentence with the new word. I want to attempt skiing. That makes it sound like you really want a challenge. It's a good image to share. You may have noticed I said sound a lot too. For example, it sounds like you really want a challenge. I can change that by switching sound to appear. Both words mean seen, but appear is more formal. How does the sentence appear with the change? It appears like you really want challenge. Another common topic for IELTS speaking is food. Do you want a nice word that means food? Why not use cuisine? For example, food in my country uses a lot of chili peppers. Now the fancy version. Cuisine in my country uses a lot of chili peppers. It's good to give examples to support your claims in both IELTS writing and speaking. One way to do that is mention something famous that fits the topic. Boost your vocabulary by changing famous to prominent. For example, you might say one famous landmark is a statue of Isaac Newton. Or you can change it to one prominent landmark is a statue of Isaac Newton. Prominent refers to something that is important or notable. So it's perfect to describe things that aren't famous throughout the world, but are notable in your area. I've said perfect a few times, haven't I? It's now time to give a paraphrase for that word. Perfect can be replaced with ideal. For example, that is a perfect way to boost your score becomes that is an ideal way to boost your score. Another common little word is very. You also might use really frequently. If you do, you might get nervous and repeat them again and again during IELTS speaking. You don't have to, though. Replace both of them with the awesome word extremely. Here's a sentence. Paraphrasing is a very good way to boost your score. Or paraphrasing is a really good way to boost your score. Now look at how both of those can be replaced. Paraphrasing is an extremely good way to boost your score. If you're writing, you need to change a to an in that sentence. Be careful when replacing words in IELTS writing. Next, I want to talk about the word about. It's used in two main ways and I have paraphrases for both of them. The first is when you are talking about something that is not exact, but close. Like, I studied French for about six years. Really, it was five years and eight months, but that's close enough, right? This usage is extremely common when reporting information about graphs in IELTS writing. You might say, the percentage of sales increased to about 45 in 1998. An absolutely wonderful paraphrase is approximately. Listen to the sentence now. The percentage of sales increased to approximately 45 in 1998. Definitely try using this paraphrase. It's extremely advanced and will help you improve your band score. The other use of about that you see often is when you are discussing a particular topic and you want to refer to that topic. What I mean is, you use about in a sentence like this. I have a question about lecture. Substitute about with regarding for a formal sentence. I have a question regarding the lecture. This is very advanced English and demonstrates that you have a wide vocabulary. Another common little word is mostly. Like, people in my country mostly speak Spanish. Change the word to predominantly for a totally different sound. People in my country predominantly speak Spanish. Do you see how changing just one word makes a big difference in the impression you make? Here you can see that improving your IELTS score is not that hard. You just need to know what you need to do to score high. Another common word for the IELTS is change. That's because you have to describe changes you see in graphs in the writing section. Plus, many of the writing discussion questions ask your opinion about changes. So replace change with alter some of the times you use it. For example, the percentage of workers in the technology fields changed over time. That becomes the percentage of workers in the technology fields altered over time. One kind of change is when numbers go up. Saying go up is more precise than change. But you can show off your vocabulary with increase. For example, the price of gasoline went up last year becomes the price of gasoline increased last year. Note that the opposite of increase is a decrease. That means go down. So if your sentence is the value of the dollar went down, you can instead say the value of the dollar decreased. This pair of words increase and decrease are really useful for describing data. While I'm talking about graphs, here's another great synonym. When a trend speeds up, you can say escalates. For example, deforestation in the Amazon has sped up over the past 15 years. Or you can say deforestation in the Amazon has escalated over the past 15 years. Don't forget to use this word in both writing tasks as it showcases your ability to describe ways a trend changes. Another awesome graph word is a synonym for the highest point on a graph. That point is called the apex. Have a look at this sentence. The population rose after 1980 to the highest point of 10,000 people in 2000, then decreased from there. But wait, that sentence can be even better. The population rose after 1980 to the apex of 10,000 people in 2000, then decreased from there. Well, not all graphs show big upward or downward changes. For a long time, the trend might be the same. That's okay, because there's a great synonym for long time. That phrase is\\nextended period. For example you might say for a long time the population remains stable. Try that with the new phrase. For an extended period the population remains stable. IELTS writing is so much easier with synonyms like this. Next is the word large. Large has lots of uses like saying that something is big or saying that something is important. As a result it gets overused. Significant means about the same thing. It shows that something is important or notable. Here's a good IELTS writing sentence for talking about a graph. There is a large difference in profits between 2010 and 2014. Try that with your new word significant. There is a significant difference in profits between 2010 and 2014. Doesn't that change your good sentence to an awesome one? Now if your change is not large you can still use a synonym. A word for small is minor. For example you can alter there was a small decrease in the polar bear population in 2020. The new version is there was a minor decrease in the polar bear population in 2020. That's a minor change to the sentence but it shows off your vocabulary. The next word is a linking word since those are also really useful. Then means that something comes later in time, right? But it's often used too much. Therefore think about using afterwards to illustrate. I grew up in Costa Rica then I moved to Brazil. The same idea is here. I grew up in Costa Rica afterwards I moved to Brazil. You can remember afterwards because it comes after the first idea. Another essential linking word is but. It's used a lot because it's a great way to show contrast between ideas. When you say too often change it with however. This one is a bit tricky because it changes one sentence to two. Here's what I mean. I like hiking but I only have time to hike on weekends. Here you can see that that is one sentence. However makes it two sentences. I like hiking however I only have time to hike on weekends. The meaning is the same but the structure is slightly different. This isn't a concern when you are talking but be careful in IELTS writing. If you like however you will love nonetheless. These can be changed without altering the sentence structure. Both show a contrast. Look at the previous example. I like hiking however I only have time to hike on weekends. That becomes I like hiking nonetheless I only have time to hike on weekends. Isn't that an awesome paraphrase? Finally I want to end with a lot. That's so common and I use it a lot right? So boost your vocabulary with frequently. It means often. Check out this sentence. I practice English a lot. Here's the new one. I practice English frequently. If you use them correctly these words really can show off your vocabulary and improve your IELTS score. That's it. That's 40 synonyms you must know to score high on the IELTS. I hope you liked this video. Don't forget to like, subscribe to the channel and hit the bell icon so you're notified when the next video comes out. Also share this video with your friends so they can improve their IELTS score too. See you in the next video. you\", additional_kwargs={}, response_metadata={}), HumanMessage(content='2+2', additional_kwargs={}, response_metadata={}), AIMessage(content='Sorry, this information is not in the video transcript.', additional_kwargs={}, response_metadata={}), HumanMessage(content='what is the capital of ksa', additional_kwargs={}, response_metadata={}), AIMessage(content='Sorry, this information is not in the video transcript.', additional_kwargs={}, response_metadata={}), HumanMessage(content='did you remember the first qustion I asked?', additional_kwargs={}, response_metadata={}), AIMessage(content='Sorry, this information is not in the video transcript.', additional_kwargs={}, response_metadata={}), HumanMessage(content='What is this the video about?', additional_kwargs={}, response_metadata={}), AIMessage(content='Answer:\\nMany IELTS students use the same words repeatedly, which can limit their vocabulary and band score. The video teaches 40 synonyms to help improve vocabulary and score high on the IELTS exam. Examples include changing \"say\" to \"claim,\" \"ask\" to \"inquire,\" and \"live\" to \"reside.\" Other synonyms discussed include \"approximately,\" \"predominantly,\" \"escalates,\" and \"significant.\" The video emphasizes the importance of using a variety of vocabulary to demonstrate a broad range of language skills.\\n\\nSources:\\nMany IELTS students use the same words over and over again. And this is a problem because one of the things the IELTS examiners are looking for is a broad vocabulary. If you demonstrate that you have a wide range of vocabulary, your band score will go up. It\\'s actually really easy to show off your vocabulary if you know synonyms, that is alternatives for commonly used words. And this is what you will learn in this video. I\\'m going to teach you 40 synonyms you must know to score high. By the end of this video, you will be equipped with a broad vocabulary that you can use in your IELTS test. If you\\'re going to take your IELTS soon, check out my IELTS materials. There, I teach you everything you need to score high. I show you step by step how to give high scoring answers. And of course, we do many practice tests together, so you will feel confident for your test. You can find the link to the IELTS materials in the description box. And now, get a paper and a pen. For each synonym you know, you get one point. Comment below how many synonyms you know. For example, 20, 35 or 40. Let\\'s get started. The first word that is used very often is say. I say it a lot and most other test takers do too. It\\'s a great word. If you use it too much though, your vocabulary sounds limited. There is lots of words to substitute for say. One that you can almost always paraphrase with is claim. Let\\'s look at the sentence. The economist said that prices would rise. Here\\'s claim. The economist claimed that prices would rise. Another common word for reporting what someone said is talk about. It\\'s used for a general subject, not a specific idea. Let\\'s compare this with said first, so you use it correctly. The professor said I should go to law school. The professor talked about going to law school. Here you can see that going to law school is a general idea, since it could be about anyone. But said is specific instructions to me. So talk about can be replaced with discuss. The professor discussed going to law school. It sounds a little more formal and demonstrates that you have a broad range of vocabulary, which improves your band score. Let\\'s again have a look at this example. The professor is recommending something, right? She\\'s making a suggestion. You can change recommend to advocate. Note that advocate is followed by a noun or an idea starting with an ing verb like this. The teacher recommends studying. This changes to the teacher advocates studying. This word is very advanced. If you use it correctly, it will boost your score like this. While I\\'m talking about ways to say something, I should mention explain about. Let\\'s look at the sentence. My mother explained about our family\\'s history. You can replace explain about with clarified. My mother clarified our family\\'s history. That means that the noun that is explained is very clear and easy to understand now. It\\'s an awesome word that makes you sound smart. Often it has a person who now understands the topic too. That person is added with for. My mother clarified our family\\'s history for me. You may end up using give a lot too. Like my sister gave me her bike when I moved into my own apartment. Give works well. If you want a polite word, you can also say offer. My sister offered me her bike when I moved into my own apartment. There is a slight difference. Give means you took the bike, but offer does not. It\\'s implied that you did, unless you add more details. For example, my sister offered me her bike, but I already had one. That means she tried to give you the bike, but you said no. Offer is a polite way to say give and is a great word for paraphrasing to reduce repetition. The next word that is commonly used is ask. It\\'s another word that has a great paraphrase. Inquire. It\\'s really easy to replace one word with the other. For example, tourists often ask about famous places in my town. This changes to tourists often inquire about famous places in my town. What an easy way to show off your vocabulary. Speaking of easy, this word can be paraphrased too. What word should you use? Simple is the same as easy. You can change what an easy way to show off your vocabulary to what a simple way to show off your vocabulary. I want to mention one other thing about IELTS writing though. If you go back and change a word, be sure that you change the words around it too. Note that an easy way doesn\\'t become a simple way. You have to change the n to a. So be careful. That was a good tip, wasn\\'t it? Look at this sentence. My tip is to pay attention to all the words. There is a fancy word for tip too. Try recommendation. Here\\'s the same sentence. My recommendation is to pay attention to all the words. Recommendation works the same way as tip, but it\\'s much longer and sounds more formal. Learn to spell it correctly if you want to use it, since some IELTS students forget the double m. If you make spelling mistakes, your band score goes down. That\\'s why it\\'s super important to pay attention to spelling. One more phrase we use a lot is for example. That\\'s a fantastic linking phrase, but don\\'t use it too many times. Instead use to illustrate sometimes. It means the same thing, but makes the words different. It\\'s perfect for writing when you want to give more than one example to support your claim. Let\\'s try it in a pair of sentences. Here\\'s for example. I love to read books. For example, I just finished a French novel. Here\\'s the new sentences. I love to read books. To illustrate, I just finished a French novel. Now let\\'s have a look at extra. Check out this sentence. Do you have an extra example to support your view? A longer way to say extra is additional. Try this sentence again with the new word. Do you have an additional example to support your view? This word is easy to remember because add means to put more on and additional is what that is put on. On the aisles you give a lot of opinions. Many IELTS students say I think a lot of times. Try changing that with a great paraphrase. Presume. That means you think something is true, but aren\\'t positive. Both these words are like I guess. Check it out in a sentence. First, I think most people from my country travel a lot. Here\\'s the new sentence. I presume most people from my country travel a lot. Using presume makes you stand out from the crowd and will help you improve your band score. Let\\'s talk about think about. You need to pay attention because think can be used different ways. If you say think about, it means you are using your mind to look at a subject. Here\\'s a good example. I\\'m thinking about moving to Australia. This is different than guess because you are now looking at different options before making a decision. Well, you can substitute consider for think about. Here\\'s the sentence now. I\\'m considering moving to Australia. Consider using this word on your IELTS writing test. The next word is very common and you may use it a lot. I am talking about maybe. There is a good paraphrase for maybe so you can vary your vocabulary and that word is possibly. Check out this sentence. Maybe the government will create a new policy. It works the same way with possibly. Possibly the government will create a new policy. Now comes a word that many people use frequently. People. Since you talk about hometowns a lot in the IELTS speaking section, you probably will talk about people in your hometown. People is a fine word, but if you want to include more words, try individuals. That refers to each one of the people together. Let\\'s see how it works in a sentence. Many people in my town ride bicycles. That changes to many individuals in my town ride bicycles. This is an awesome word for IELTS writing too, since you may get a graph showing numbers of people or a discussion question involving your opinion related to people\\'s actions and decisions. Here you can really show off your vocabulary by using individuals. While I\\'m talking about people, here\\'s a specific group of people. Your family. The IELTS speaking examiner might ask about who you live with or your family when you were growing up. Household refers to everyone who lives in the same house, so it usually refers to a family. Some people include their pets in their families and households too. For instance, my family includes my parents, brother and grandmother. That becomes my household includes my parents, brother and grandmother. Household is a bit more precise, so it\\'s a great way to boost your score when you use it correctly. By the way, if you want more vocabulary videos, hit the like button and write yes in the comments. If you want something else, tell me your video wish in the comments so I know what you would like to see on this channel. Now let\\'s take a look at 25 more synonyms that help you get a band 9 on the IELTS. One more word about your household. That word is live. It\\'s really common when you\\'re talking about the places where you grew up or have a house now. Try changing it with reside. That is usually used when talking about a place where you live. For example, you could say I live in a small apartment. But you can also show off your vocabulary by saying I reside in a small apartment. Here\\'s another great paraphrase for discussing where you live in IELTS speaking. You can also use this word in the writing section. Lots of people live in towns, so you say town a lot. Well, you can change that using community. That can refer to a smaller part of a town, but it also is a nice way of making your entire town sound like a friendly place. So here\\'s a sentence. I live in a small town in the north of Maryland. The paraphrase is I live in a small community in the north of Maryland. Doesn\\'t that sound like a friendly place to live? Of course, some people live in cities rather than towns. You might also want to talk about cities if you have an IELTS writing topic related to transportation or the environment. So paraphrase city with metropolis, a word that means really big city. For example, the environment next to a city can become very polluted. Show off your vocabulary by saying the environment next to a metropolis can become very polluted. Please note that some people try to make metropolis plural in weird ways, like adding the letter I. Don\\'t do it. The plural is just metropolises. If you want more vocabulary for speaking about hometowns, be sure to check out my video on that. In this video, you will learn 44 advanced words for talking about your hometown in IELTS speaking. You can find the link below. Now, I want to talk a bit about hobbies. Clearly, you can talk about your hobbies by saying hobby, but a more advanced word is pastime. That is something you do in your spare time. In other words, it\\'s a hobby. So you can change a sentence very easily like my favorite hobby is reading books. That becomes my favorite pastime is reading books. I said try a lot in this video and it\\'s a useful word when talking about your pastimes. For example, you can say I want to try skiing. Well, there is a perfect paraphrase for try too. It\\'s attempt. Attempt includes the sound of a bit of effort, like you may or may not succeed. However, you want to do it. Here\\'s the sentence with the new word. I want to attempt skiing. That makes it sound like you really want a challenge. It\\'s a good image to share. You may have noticed I said sound a lot too. For example, it sounds like you really want a challenge. I can change that by switching sound to appear. Both words mean seen, but appear is more formal. How does the sentence appear with the change? It appears like you really want challenge. Another common topic for IELTS speaking is food. Do you want a nice word that means food? Why not use cuisine? For example, food in my country uses a lot of chili peppers. Now the fancy version. Cuisine in my country uses a lot of chili peppers. It\\'s good to give examples to support your claims in both IELTS writing and speaking. One way to do that is mention something famous that fits the topic. Boost your vocabulary by changing famous to prominent. For example, you might say one famous landmark is a statue of Isaac Newton. Or you can change it to one prominent landmark is a statue of Isaac Newton. Prominent refers to something that is important or notable. So it\\'s perfect to describe things that aren\\'t famous throughout the world, but are notable in your area. I\\'ve said perfect a few times, haven\\'t I? It\\'s now time to give a paraphrase for that word. Perfect can be replaced with ideal. For example, that is a perfect way to boost your score becomes that is an ideal way to boost your score. Another common little word is very. You also might use really frequently. If you do, you might get nervous and repeat them again and again during IELTS speaking. You don\\'t have to, though. Replace both of them with the awesome word extremely. Here\\'s a sentence. Paraphrasing is a very good way to boost your score. Or paraphrasing is a really good way to boost your score. Now look at how both of those can be replaced. Paraphrasing is an extremely good way to boost your score. If you\\'re writing, you need to change a to an in that sentence. Be careful when replacing words in IELTS writing. Next, I want to talk about the word about. It\\'s used in two main ways and I have paraphrases for both of them. The first is when you are talking about something that is not exact, but close. Like, I studied French for about six years. Really, it was five years and eight months, but that\\'s close enough, right? This usage is extremely common when reporting information about graphs in IELTS writing. You might say, the percentage of sales increased to about 45 in 1998. An absolutely wonderful paraphrase is approximately. Listen to the sentence now. The percentage of sales increased to approximately 45 in 1998. Definitely try using this paraphrase. It\\'s extremely advanced and will help you improve your band score. The other use of about that you see often is when you are discussing a particular topic and you want to refer to that topic. What I mean is, you use about in a sentence like this. I have a question about lecture. Substitute about with regarding for a formal sentence. I have a question regarding the lecture. This is very advanced English and demonstrates that you have a wide vocabulary. Another common little word is mostly. Like, people in my country mostly speak Spanish. Change the word to predominantly for a totally different sound. People in my country predominantly speak Spanish. Do you see how changing just one word makes a big difference in the impression you make? Here you can see that improving your IELTS score is not that hard. You just need to know what you need to do to score high. Another common word for the IELTS is change. That\\'s because you have to describe changes you see in graphs in the writing section. Plus, many of the writing discussion questions ask your opinion about changes. So replace change with alter some of the times you use it. For example, the percentage of workers in the technology fields changed over time. That becomes the percentage of workers in the technology fields altered over time. One kind of change is when numbers go up. Saying go up is more precise than change. But you can show off your vocabulary with increase. For example, the price of gasoline went up last year becomes the price of gasoline increased last year. Note that the opposite of increase is a decrease. That means go down. So if your sentence is the value of the dollar went down, you can instead say the value of the dollar decreased. This pair of words increase and decrease are really useful for describing data. While I\\'m talking about graphs, here\\'s another great synonym. When a trend speeds up, you can say escalates. For example, deforestation in the Amazon has sped up over the past 15 years. Or you can say deforestation in the Amazon has escalated over the past 15 years. Don\\'t forget to use this word in both writing tasks as it showcases your ability to describe ways a trend changes. Another awesome graph word is a synonym for the highest point on a graph. That point is called the apex. Have a look at this sentence. The population rose after 1980 to the highest point of 10,000 people in 2000, then decreased from there. But wait, that sentence can be even better. The population rose after 1980 to the apex of 10,000 people in 2000, then decreased from there. Well, not all graphs show big upward or downward changes. For a long time, the trend might be the same. That\\'s okay, because there\\'s a great synonym for long time. That phrase is\\nextended period. For example you might say for a long time the population remains stable. Try that with the new phrase. For an extended period the population remains stable. IELTS writing is so much easier with synonyms like this. Next is the word large. Large has lots of uses like saying that something is big or saying that something is important. As a result it gets overused. Significant means about the same thing. It shows that something is important or notable. Here\\'s a good IELTS writing sentence for talking about a graph. There is a large difference in profits between 2010 and 2014. Try that with your new word significant. There is a significant difference in profits between 2010 and 2014. Doesn\\'t that change your good sentence to an awesome one? Now if your change is not large you can still use a synonym. A word for small is minor. For example you can alter there was a small decrease in the polar bear population in 2020. The new version is there was a minor decrease in the polar bear population in 2020. That\\'s a minor change to the sentence but it shows off your vocabulary. The next word is a linking word since those are also really useful. Then means that something comes later in time, right? But it\\'s often used too much. Therefore think about using afterwards to illustrate. I grew up in Costa Rica then I moved to Brazil. The same idea is here. I grew up in Costa Rica afterwards I moved to Brazil. You can remember afterwards because it comes after the first idea. Another essential linking word is but. It\\'s used a lot because it\\'s a great way to show contrast between ideas. When you say too often change it with however. This one is a bit tricky because it changes one sentence to two. Here\\'s what I mean. I like hiking but I only have time to hike on weekends. Here you can see that that is one sentence. However makes it two sentences. I like hiking however I only have time to hike on weekends. The meaning is the same but the structure is slightly different. This isn\\'t a concern when you are talking but be careful in IELTS writing. If you like however you will love nonetheless. These can be changed without altering the sentence structure. Both show a contrast. Look at the previous example. I like hiking however I only have time to hike on weekends. That becomes I like hiking nonetheless I only have time to hike on weekends. Isn\\'t that an awesome paraphrase? Finally I want to end with a lot. That\\'s so common and I use it a lot right? So boost your vocabulary with frequently. It means often. Check out this sentence. I practice English a lot. Here\\'s the new one. I practice English frequently. If you use them correctly these words really can show off your vocabulary and improve your IELTS score. That\\'s it. That\\'s 40 synonyms you must know to score high on the IELTS. I hope you liked this video. Don\\'t forget to like, subscribe to the channel and hit the bell icon so you\\'re notified when the next video comes out. Also share this video with your friends so they can improve their IELTS score too. See you in the next video. you', additional_kwargs={}, response_metadata={}), HumanMessage(content='2+2', additional_kwargs={}, response_metadata={}), AIMessage(content='4', additional_kwargs={}, response_metadata={}), HumanMessage(content='what is the capital of ksa', additional_kwargs={}, response_metadata={}), AIMessage(content='Sorry, this information is not in the video transcript.', additional_kwargs={}, response_metadata={}), HumanMessage(content='did you remember the first qustion I asked?', additional_kwargs={}, response_metadata={}), AIMessage(content='Sorry, this information is not in the video transcript.', additional_kwargs={}, response_metadata={}), HumanMessage(content='What is this the video about?', additional_kwargs={}, response_metadata={}), AIMessage(content='Answer:\\nMany IELTS students use the same words repeatedly, which can limit their vocabulary and band score. The video teaches 40 synonyms to help improve vocabulary and score high on the IELTS exam. Synonyms for common words like \"say,\" \"ask,\" \"give,\" and \"think\" are provided, along with tips on how to use them effectively in writing and speaking. Other synonyms for words like \"live,\" \"change,\" and \"large\" are also discussed, along with linking words like \"then,\" \"but,\" and \"however.\" The video emphasizes the importance of using a wide range of vocabulary to demonstrate language proficiency and improve band score.\\n\\nSources:\\nMany IELTS students use the same words over and over again. And this is a problem because one of the things the IELTS examiners are looking for is a broad vocabulary. If you demonstrate that you have a wide range of vocabulary, your band score will go up. It\\'s actually really easy to show off your vocabulary if you know synonyms, that is alternatives for commonly used words. And this is what you will learn in this video. I\\'m going to teach you 40 synonyms you must know to score high. By the end of this video, you will be equipped with a broad vocabulary that you can use in your IELTS test. If you\\'re going to take your IELTS soon, check out my IELTS materials. There, I teach you everything you need to score high. I show you step by step how to give high scoring answers. And of course, we do many practice tests together, so you will feel confident for your test. You can find the link to the IELTS materials in the description box. And now, get a paper and a pen. For each synonym you know, you get one point. Comment below how many synonyms you know. For example, 20, 35 or 40. Let\\'s get started. The first word that is used very often is say. I say it a lot and most other test takers do too. It\\'s a great word. If you use it too much though, your vocabulary sounds limited. There is lots of words to substitute for say. One that you can almost always paraphrase with is claim. Let\\'s look at the sentence. The economist said that prices would rise. Here\\'s claim. The economist claimed that prices would rise. Another common word for reporting what someone said is talk about. It\\'s used for a general subject, not a specific idea. Let\\'s compare this with said first, so you use it correctly. The professor said I should go to law school. The professor talked about going to law school. Here you can see that going to law school is a general idea, since it could be about anyone. But said is specific instructions to me. So talk about can be replaced with discuss. The professor discussed going to law school. It sounds a little more formal and demonstrates that you have a broad range of vocabulary, which improves your band score. Let\\'s again have a look at this example. The professor is recommending something, right? She\\'s making a suggestion. You can change recommend to advocate. Note that advocate is followed by a noun or an idea starting with an ing verb like this. The teacher recommends studying. This changes to the teacher advocates studying. This word is very advanced. If you use it correctly, it will boost your score like this. While I\\'m talking about ways to say something, I should mention explain about. Let\\'s look at the sentence. My mother explained about our family\\'s history. You can replace explain about with clarified. My mother clarified our family\\'s history. That means that the noun that is explained is very clear and easy to understand now. It\\'s an awesome word that makes you sound smart. Often it has a person who now understands the topic too. That person is added with for. My mother clarified our family\\'s history for me. You may end up using give a lot too. Like my sister gave me her bike when I moved into my own apartment. Give works well. If you want a polite word, you can also say offer. My sister offered me her bike when I moved into my own apartment. There is a slight difference. Give means you took the bike, but offer does not. It\\'s implied that you did, unless you add more details. For example, my sister offered me her bike, but I already had one. That means she tried to give you the bike, but you said no. Offer is a polite way to say give and is a great word for paraphrasing to reduce repetition. The next word that is commonly used is ask. It\\'s another word that has a great paraphrase. Inquire. It\\'s really easy to replace one word with the other. For example, tourists often ask about famous places in my town. This changes to tourists often inquire about famous places in my town. What an easy way to show off your vocabulary. Speaking of easy, this word can be paraphrased too. What word should you use? Simple is the same as easy. You can change what an easy way to show off your vocabulary to what a simple way to show off your vocabulary. I want to mention one other thing about IELTS writing though. If you go back and change a word, be sure that you change the words around it too. Note that an easy way doesn\\'t become a simple way. You have to change the n to a. So be careful. That was a good tip, wasn\\'t it? Look at this sentence. My tip is to pay attention to all the words. There is a fancy word for tip too. Try recommendation. Here\\'s the same sentence. My recommendation is to pay attention to all the words. Recommendation works the same way as tip, but it\\'s much longer and sounds more formal. Learn to spell it correctly if you want to use it, since some IELTS students forget the double m. If you make spelling mistakes, your band score goes down. That\\'s why it\\'s super important to pay attention to spelling. One more phrase we use a lot is for example. That\\'s a fantastic linking phrase, but don\\'t use it too many times. Instead use to illustrate sometimes. It means the same thing, but makes the words different. It\\'s perfect for writing when you want to give more than one example to support your claim. Let\\'s try it in a pair of sentences. Here\\'s for example. I love to read books. For example, I just finished a French novel. Here\\'s the new sentences. I love to read books. To illustrate, I just finished a French novel. Now let\\'s have a look at extra. Check out this sentence. Do you have an extra example to support your view? A longer way to say extra is additional. Try this sentence again with the new word. Do you have an additional example to support your view? This word is easy to remember because add means to put more on and additional is what that is put on. On the aisles you give a lot of opinions. Many IELTS students say I think a lot of times. Try changing that with a great paraphrase. Presume. That means you think something is true, but aren\\'t positive. Both these words are like I guess. Check it out in a sentence. First, I think most people from my country travel a lot. Here\\'s the new sentence. I presume most people from my country travel a lot. Using presume makes you stand out from the crowd and will help you improve your band score. Let\\'s talk about think about. You need to pay attention because think can be used different ways. If you say think about, it means you are using your mind to look at a subject. Here\\'s a good example. I\\'m thinking about moving to Australia. This is different than guess because you are now looking at different options before making a decision. Well, you can substitute consider for think about. Here\\'s the sentence now. I\\'m considering moving to Australia. Consider using this word on your IELTS writing test. The next word is very common and you may use it a lot. I am talking about maybe. There is a good paraphrase for maybe so you can vary your vocabulary and that word is possibly. Check out this sentence. Maybe the government will create a new policy. It works the same way with possibly. Possibly the government will create a new policy. Now comes a word that many people use frequently. People. Since you talk about hometowns a lot in the IELTS speaking section, you probably will talk about people in your hometown. People is a fine word, but if you want to include more words, try individuals. That refers to each one of the people together. Let\\'s see how it works in a sentence. Many people in my town ride bicycles. That changes to many individuals in my town ride bicycles. This is an awesome word for IELTS writing too, since you may get a graph showing numbers of people or a discussion question involving your opinion related to people\\'s actions and decisions. Here you can really show off your vocabulary by using individuals. While I\\'m talking about people, here\\'s a specific group of people. Your family. The IELTS speaking examiner might ask about who you live with or your family when you were growing up. Household refers to everyone who lives in the same house, so it usually refers to a family. Some people include their pets in their families and households too. For instance, my family includes my parents, brother and grandmother. That becomes my household includes my parents, brother and grandmother. Household is a bit more precise, so it\\'s a great way to boost your score when you use it correctly. By the way, if you want more vocabulary videos, hit the like button and write yes in the comments. If you want something else, tell me your video wish in the comments so I know what you would like to see on this channel. Now let\\'s take a look at 25 more synonyms that help you get a band 9 on the IELTS. One more word about your household. That word is live. It\\'s really common when you\\'re talking about the places where you grew up or have a house now. Try changing it with reside. That is usually used when talking about a place where you live. For example, you could say I live in a small apartment. But you can also show off your vocabulary by saying I reside in a small apartment. Here\\'s another great paraphrase for discussing where you live in IELTS speaking. You can also use this word in the writing section. Lots of people live in towns, so you say town a lot. Well, you can change that using community. That can refer to a smaller part of a town, but it also is a nice way of making your entire town sound like a friendly place. So here\\'s a sentence. I live in a small town in the north of Maryland. The paraphrase is I live in a small community in the north of Maryland. Doesn\\'t that sound like a friendly place to live? Of course, some people live in cities rather than towns. You might also want to talk about cities if you have an IELTS writing topic related to transportation or the environment. So paraphrase city with metropolis, a word that means really big city. For example, the environment next to a city can become very polluted. Show off your vocabulary by saying the environment next to a metropolis can become very polluted. Please note that some people try to make metropolis plural in weird ways, like adding the letter I. Don\\'t do it. The plural is just metropolises. If you want more vocabulary for speaking about hometowns, be sure to check out my video on that. In this video, you will learn 44 advanced words for talking about your hometown in IELTS speaking. You can find the link below. Now, I want to talk a bit about hobbies. Clearly, you can talk about your hobbies by saying hobby, but a more advanced word is pastime. That is something you do in your spare time. In other words, it\\'s a hobby. So you can change a sentence very easily like my favorite hobby is reading books. That becomes my favorite pastime is reading books. I said try a lot in this video and it\\'s a useful word when talking about your pastimes. For example, you can say I want to try skiing. Well, there is a perfect paraphrase for try too. It\\'s attempt. Attempt includes the sound of a bit of effort, like you may or may not succeed. However, you want to do it. Here\\'s the sentence with the new word. I want to attempt skiing. That makes it sound like you really want a challenge. It\\'s a good image to share. You may have noticed I said sound a lot too. For example, it sounds like you really want a challenge. I can change that by switching sound to appear. Both words mean seen, but appear is more formal. How does the sentence appear with the change? It appears like you really want challenge. Another common topic for IELTS speaking is food. Do you want a nice word that means food? Why not use cuisine? For example, food in my country uses a lot of chili peppers. Now the fancy version. Cuisine in my country uses a lot of chili peppers. It\\'s good to give examples to support your claims in both IELTS writing and speaking. One way to do that is mention something famous that fits the topic. Boost your vocabulary by changing famous to prominent. For example, you might say one famous landmark is a statue of Isaac Newton. Or you can change it to one prominent landmark is a statue of Isaac Newton. Prominent refers to something that is important or notable. So it\\'s perfect to describe things that aren\\'t famous throughout the world, but are notable in your area. I\\'ve said perfect a few times, haven\\'t I? It\\'s now time to give a paraphrase for that word. Perfect can be replaced with ideal. For example, that is a perfect way to boost your score becomes that is an ideal way to boost your score. Another common little word is very. You also might use really frequently. If you do, you might get nervous and repeat them again and again during IELTS speaking. You don\\'t have to, though. Replace both of them with the awesome word extremely. Here\\'s a sentence. Paraphrasing is a very good way to boost your score. Or paraphrasing is a really good way to boost your score. Now look at how both of those can be replaced. Paraphrasing is an extremely good way to boost your score. If you\\'re writing, you need to change a to an in that sentence. Be careful when replacing words in IELTS writing. Next, I want to talk about the word about. It\\'s used in two main ways and I have paraphrases for both of them. The first is when you are talking about something that is not exact, but close. Like, I studied French for about six years. Really, it was five years and eight months, but that\\'s close enough, right? This usage is extremely common when reporting information about graphs in IELTS writing. You might say, the percentage of sales increased to about 45 in 1998. An absolutely wonderful paraphrase is approximately. Listen to the sentence now. The percentage of sales increased to approximately 45 in 1998. Definitely try using this paraphrase. It\\'s extremely advanced and will help you improve your band score. The other use of about that you see often is when you are discussing a particular topic and you want to refer to that topic. What I mean is, you use about in a sentence like this. I have a question about lecture. Substitute about with regarding for a formal sentence. I have a question regarding the lecture. This is very advanced English and demonstrates that you have a wide vocabulary. Another common little word is mostly. Like, people in my country mostly speak Spanish. Change the word to predominantly for a totally different sound. People in my country predominantly speak Spanish. Do you see how changing just one word makes a big difference in the impression you make? Here you can see that improving your IELTS score is not that hard. You just need to know what you need to do to score high. Another common word for the IELTS is change. That\\'s because you have to describe changes you see in graphs in the writing section. Plus, many of the writing discussion questions ask your opinion about changes. So replace change with alter some of the times you use it. For example, the percentage of workers in the technology fields changed over time. That becomes the percentage of workers in the technology fields altered over time. One kind of change is when numbers go up. Saying go up is more precise than change. But you can show off your vocabulary with increase. For example, the price of gasoline went up last year becomes the price of gasoline increased last year. Note that the opposite of increase is a decrease. That means go down. So if your sentence is the value of the dollar went down, you can instead say the value of the dollar decreased. This pair of words increase and decrease are really useful for describing data. While I\\'m talking about graphs, here\\'s another great synonym. When a trend speeds up, you can say escalates. For example, deforestation in the Amazon has sped up over the past 15 years. Or you can say deforestation in the Amazon has escalated over the past 15 years. Don\\'t forget to use this word in both writing tasks as it showcases your ability to describe ways a trend changes. Another awesome graph word is a synonym for the highest point on a graph. That point is called the apex. Have a look at this sentence. The population rose after 1980 to the highest point of 10,000 people in 2000, then decreased from there. But wait, that sentence can be even better. The population rose after 1980 to the apex of 10,000 people in 2000, then decreased from there. Well, not all graphs show big upward or downward changes. For a long time, the trend might be the same. That\\'s okay, because there\\'s a great synonym for long time. That phrase is\\nextended period. For example you might say for a long time the population remains stable. Try that with the new phrase. For an extended period the population remains stable. IELTS writing is so much easier with synonyms like this. Next is the word large. Large has lots of uses like saying that something is big or saying that something is important. As a result it gets overused. Significant means about the same thing. It shows that something is important or notable. Here\\'s a good IELTS writing sentence for talking about a graph. There is a large difference in profits between 2010 and 2014. Try that with your new word significant. There is a significant difference in profits between 2010 and 2014. Doesn\\'t that change your good sentence to an awesome one? Now if your change is not large you can still use a synonym. A word for small is minor. For example you can alter there was a small decrease in the polar bear population in 2020. The new version is there was a minor decrease in the polar bear population in 2020. That\\'s a minor change to the sentence but it shows off your vocabulary. The next word is a linking word since those are also really useful. Then means that something comes later in time, right? But it\\'s often used too much. Therefore think about using afterwards to illustrate. I grew up in Costa Rica then I moved to Brazil. The same idea is here. I grew up in Costa Rica afterwards I moved to Brazil. You can remember afterwards because it comes after the first idea. Another essential linking word is but. It\\'s used a lot because it\\'s a great way to show contrast between ideas. When you say too often change it with however. This one is a bit tricky because it changes one sentence to two. Here\\'s what I mean. I like hiking but I only have time to hike on weekends. Here you can see that that is one sentence. However makes it two sentences. I like hiking however I only have time to hike on weekends. The meaning is the same but the structure is slightly different. This isn\\'t a concern when you are talking but be careful in IELTS writing. If you like however you will love nonetheless. These can be changed without altering the sentence structure. Both show a contrast. Look at the previous example. I like hiking however I only have time to hike on weekends. That becomes I like hiking nonetheless I only have time to hike on weekends. Isn\\'t that an awesome paraphrase? Finally I want to end with a lot. That\\'s so common and I use it a lot right? So boost your vocabulary with frequently. It means often. Check out this sentence. I practice English a lot. Here\\'s the new one. I practice English frequently. If you use them correctly these words really can show off your vocabulary and improve your IELTS score. That\\'s it. That\\'s 40 synonyms you must know to score high on the IELTS. I hope you liked this video. Don\\'t forget to like, subscribe to the channel and hit the bell icon so you\\'re notified when the next video comes out. Also share this video with your friends so they can improve their IELTS score too. See you in the next video. you', additional_kwargs={}, response_metadata={}), HumanMessage(content='2+2', additional_kwargs={}, response_metadata={}), AIMessage(content='I cannot answer the question about 2+2 based on the tools provided.', additional_kwargs={}, response_metadata={}), HumanMessage(content='what is the capital of ksa', additional_kwargs={}, response_metadata={}), AIMessage(content='Sorry, this information is not in the video transcript.', additional_kwargs={}, response_metadata={}), HumanMessage(content='did you remember the first qustion I asked?', additional_kwargs={}, response_metadata={}), AIMessage(content='Sorry, this information is not in the video transcript.', additional_kwargs={}, response_metadata={})], 'output': 'Sorry, this information is not in the video transcript.'}\n"
     ]
    }
   ],
   "source": [
    "# set the query\n",
    "query = \"did you remember the first qustion I asked?\"\n",
    "\n",
    "#run the query \n",
    "response = agent.invoke(query)\n",
    "\n",
    "#print response\n",
    "print(response)"
   ]
  },
  {
   "cell_type": "code",
   "execution_count": 81,
   "id": "03fa640f",
   "metadata": {},
   "outputs": [
    {
     "name": "stdout",
     "output_type": "stream",
     "text": [
      "\n",
      "\n",
      "\u001b[1m> Entering new AgentExecutor chain...\u001b[0m\n",
      "\u001b[32;1m\u001b[1;3m```json\n",
      "{\n",
      "    \"action\": \"Final Answer\",\n",
      "    \"action_input\": \"Hello Layla! How can I assist you today?\"\n",
      "}\n",
      "```\u001b[0m\n",
      "\n",
      "\u001b[1m> Finished chain.\u001b[0m\n",
      "{'input': \"Hi, I'm Layla\", 'chat_history': [HumanMessage(content='What is this the video content about?', additional_kwargs={}, response_metadata={}), AIMessage(content='Sorry, this information is not in the video transcript.', additional_kwargs={}, response_metadata={}), HumanMessage(content='What is this the video content about?', additional_kwargs={}, response_metadata={}), AIMessage(content=\"Answer:\\nThe video content is about the importance of consistent practice in improving listening skills for IELTS. It emphasizes that studying doesn't have to be boring or laborious, and encourages students to listen to things they enjoy, such as podcasts, TV, movies, radio, TED Talks, YouTube, and real people. The speaker highlights the convenience of having these resources available on a phone, providing an unlimited supply of listening material.\\n\\nSources:\\n# Transcript for IELTS_Listening_Practice__What_You_NEED_to_Know\\n\\n## IELTS_Listening_Practice__What_You_NEED_to_Know_chunk_0.mp3\\n\\n## IELTS_Listening_Practice__What_You_NEED_to_Know_chunk_1.mp3\\n\\nabout, you need to do something that you enjoy so that you will do it consistently. Listening is a skill. The more you do it, the better you're going to become at it. So if you are listening to things that you enjoy, then you're going to do this consistently. It seems pretty obvious, but not many students think of it that way. I think maybe because it's studying and a lot of people think that studying should be boring and studying should be laborious. It doesn't have to be. And the great thing about all of these, so podcasts, TV, movies, radio, TED Talks, YouTube, real people. Apart from real people, all of these are in the palm of your hand. They're on your phone. You can listen to podcasts on anything in the world, or YouTube, or TED Talks, or radio, or movies, or TV even on your phone. There is an unlimited supply of listening material out there for you. And the great thing about all this choice and the fact that we can get everything at the touch of a button is that whatever you\", additional_kwargs={}, response_metadata={}), HumanMessage(content='2+2', additional_kwargs={}, response_metadata={}), AIMessage(content='4', additional_kwargs={}, response_metadata={}), HumanMessage(content='what is the capital of ksa', additional_kwargs={}, response_metadata={}), AIMessage(content='The capital of the Kingdom of Saudi Arabia (KSA) is Riyadh.', additional_kwargs={}, response_metadata={}), HumanMessage(content=\"Hi, I'm Layla\", additional_kwargs={}, response_metadata={}), AIMessage(content='Hello Layla! How can I assist you today?', additional_kwargs={}, response_metadata={}), HumanMessage(content=\"What's my name?\", additional_kwargs={}, response_metadata={}), AIMessage(content='Your name is Layla.', additional_kwargs={}, response_metadata={}), HumanMessage(content=\"What's 2+2?\", additional_kwargs={}, response_metadata={}), AIMessage(content='4', additional_kwargs={}, response_metadata={}), HumanMessage(content='What was the main tip for listening?', additional_kwargs={}, response_metadata={}), AIMessage(content=\"Answer:\\nThe main tip for listening is to actively focus on one or two things while listening to a podcast, TV show, movie, or YouTube video. This could be focusing on vocabulary, accent, intonation, or multiple speakers. The listener should note down new words, guess their meanings from the context, and note down all the information needed to remember that word. The listener should also focus on their weaknesses and work on them.\\n\\nSources:\\nSo listening passively is just sitting on the bus, looking out the window, listening to a podcast, and not really thinking about it. Now, that's better than nothing, but it is better to actively focus on one, maximum two things while you're listening to that podcast, or that TV show, or that movie, or that YouTube video. Focus on one thing at a time, for example, vocabulary, accent, intonation, multiple speakers, and normally focus on the thing that you really need help with. So let's say that you find out that you really need help with your vocabulary. Then when you're listening to a podcast and you hear a new word, note that new word down. Guess what that word means from the context. Note down all the information you need to remember that word, such as meaning, synonyms, antonyms, collocations, sentences, pronunciation, all of these things. And then in a few weeks, a few months, you will have a vocabulary book just full of new words that you have learned. You should be doing that\\n\\nSo you can see the difference between that and just sitting on the bus, looking out the window, listening to whatever. Actively do something, and that, again, is going to give you a lot more bang for your buck in terms of, you know, if you spend 20 minutes actively listening to a podcast focusing on vocabulary, you might get 10 or 20 words out of that, and that's going to help you in not only your listening test, but your speaking test, your reading test, your writing test, or just look out the window for 20 minutes and think that you're improving when really you're not. So active listening is really, really important. This is probably the.\\n\\nabout, you need to do something that you enjoy so that you will do it consistently. Listening is a skill. The more you do it, the better you're going to become at it. So if you are listening to things that you enjoy, then you're going to do this consistently. It seems pretty obvious, but not many students think of it that way. I think maybe because it's studying and a lot of people think that studying should be boring and studying should be laborious. It doesn't have to be. And the great thing about all of these, so podcasts, TV, movies, radio, TED Talks, YouTube, real people. Apart from real people, all of these are in the palm of your hand. They're on your phone. You can listen to podcasts on anything in the world, or YouTube, or TED Talks, or radio, or movies, or TV even on your phone. There is an unlimited supply of listening material out there for you. And the great thing about all this choice and the fact that we can get everything at the touch of a button is that whatever you\\n\\nwill have a vocabulary book just full of new words that you have learned. You should be doing that with reading as well. Or let's say you have a problem with the Scottish accent, or the Irish accent, or the Australian accent. Listen to a podcast where there are those accents and listen for words that you don't really understand. Listen again, listen again, until you figure out what that word is, or intonation. What you can do is, let's say you're watching a movie, look at the movie script, or look at the subtitles, and guess what the intonation is going to be like, and then compare it with how the actor says it, and then mimic what they say. Or listening to multiple speakers, and how they take turns and interrupt each other, and how they give signposting language on what they're doing. There are multiple things that you can focus on, and you should just focus on your weaknesses, really. So you can see the difference between that and just sitting on the bus, looking out the window,\", additional_kwargs={}, response_metadata={}), HumanMessage(content='Summarize the video', additional_kwargs={}, response_metadata={}), AIMessage(content=\"Answer:\\nThe video emphasizes the importance of active and consistent practice in improving listening skills for IELTS. It suggests that students should listen to things they enjoy, such as podcasts, TV, movies, radio, TED Talks, YouTube, and real people, which are conveniently available on a phone. The speaker advises focusing on one or two things while listening, such as vocabulary, accent, intonation, or multiple speakers, and noting down new words and their context. The listener should also identify and work on their weaknesses.\\n\\nSources:\\nSo listening passively is just sitting on the bus, looking out the window, listening to a podcast, and not really thinking about it. Now, that's better than nothing, but it is better to actively focus on one, maximum two things while you're listening to that podcast, or that TV show, or that movie, or that YouTube video. Focus on one thing at a time, for example, vocabulary, accent, intonation, multiple speakers, and normally focus on the thing that you really need help with. So let's say that you find out that you really need help with your vocabulary. Then when you're listening to a podcast and you hear a new word, note that new word down. Guess what that word means from the context. Note down all the information you need to remember that word, such as meaning, synonyms, antonyms, collocations, sentences, pronunciation, all of these things. And then in a few weeks, a few months, you will have a vocabulary book just full of new words that you have learned. You should be doing that\\n\\nabout, you need to do something that you enjoy so that you will do it consistently. Listening is a skill. The more you do it, the better you're going to become at it. So if you are listening to things that you enjoy, then you're going to do this consistently. It seems pretty obvious, but not many students think of it that way. I think maybe because it's studying and a lot of people think that studying should be boring and studying should be laborious. It doesn't have to be. And the great thing about all of these, so podcasts, TV, movies, radio, TED Talks, YouTube, real people. Apart from real people, all of these are in the palm of your hand. They're on your phone. You can listen to podcasts on anything in the world, or YouTube, or TED Talks, or radio, or movies, or TV even on your phone. There is an unlimited supply of listening material out there for you. And the great thing about all this choice and the fact that we can get everything at the touch of a button is that whatever you\\n\\nyou're going to fail next time. But if you take action on that and improve that then you are really really going to see results. So don't do lots of practice tests listen to something you enjoy focus on particular things when you're listening and reflect on your mistakes notice patterns and take action on that and that goes around in that feedback loop. So let's say for example you again focused on this and realized that vocabulary was a problem actively listen and focus on vocabulary. Get yourself a podcast or a YouTube channel on something you enjoy and try and improve your vocabulary through listening to something you enjoy and therefore you're really going to enjoy what you're doing you're going to improve and then get the score you need. Sounds simple but it actually does really really work. Thank you very much guys hope that you enjoyed that video.\\n\\nSo you can see the difference between that and just sitting on the bus, looking out the window, listening to whatever. Actively do something, and that, again, is going to give you a lot more bang for your buck in terms of, you know, if you spend 20 minutes actively listening to a podcast focusing on vocabulary, you might get 10 or 20 words out of that, and that's going to help you in not only your listening test, but your speaking test, your reading test, your writing test, or just look out the window for 20 minutes and think that you're improving when really you're not. So active listening is really, really important. This is probably the.\", additional_kwargs={}, response_metadata={}), HumanMessage(content=\"Hi, I'm Layla\", additional_kwargs={}, response_metadata={}), AIMessage(content='Hi Layla, how can I assist you today?', additional_kwargs={}, response_metadata={}), HumanMessage(content=\"What's my name?\", additional_kwargs={}, response_metadata={}), AIMessage(content=\"I'm sorry, but I can't assist with that.\", additional_kwargs={}, response_metadata={}), HumanMessage(content=\"What's 2+2?\", additional_kwargs={}, response_metadata={}), AIMessage(content=\"I'm sorry, but I can only answer questions based on a video transcript.\", additional_kwargs={}, response_metadata={}), HumanMessage(content='What was the main tip for listening?', additional_kwargs={}, response_metadata={}), AIMessage(content=\"Answer:\\nThe main tip for listening is to actively focus on one or two things while listening to a podcast, TV show, movie, or YouTube video. This could be focusing on vocabulary, accent, intonation, or multiple speakers. The listener should note down new words, guess their meanings from the context, and note down all the information needed to remember that word. This active listening is more beneficial than passive listening.\\n\\nSources:\\nSo listening passively is just sitting on the bus, looking out the window, listening to a podcast, and not really thinking about it. Now, that's better than nothing, but it is better to actively focus on one, maximum two things while you're listening to that podcast, or that TV show, or that movie, or that YouTube video. Focus on one thing at a time, for example, vocabulary, accent, intonation, multiple speakers, and normally focus on the thing that you really need help with. So let's say that you find out that you really need help with your vocabulary. Then when you're listening to a podcast and you hear a new word, note that new word down. Guess what that word means from the context. Note down all the information you need to remember that word, such as meaning, synonyms, antonyms, collocations, sentences, pronunciation, all of these things. And then in a few weeks, a few months, you will have a vocabulary book just full of new words that you have learned. You should be doing that\\n\\nSo you can see the difference between that and just sitting on the bus, looking out the window, listening to whatever. Actively do something, and that, again, is going to give you a lot more bang for your buck in terms of, you know, if you spend 20 minutes actively listening to a podcast focusing on vocabulary, you might get 10 or 20 words out of that, and that's going to help you in not only your listening test, but your speaking test, your reading test, your writing test, or just look out the window for 20 minutes and think that you're improving when really you're not. So active listening is really, really important. This is probably the.\\n\\nabout, you need to do something that you enjoy so that you will do it consistently. Listening is a skill. The more you do it, the better you're going to become at it. So if you are listening to things that you enjoy, then you're going to do this consistently. It seems pretty obvious, but not many students think of it that way. I think maybe because it's studying and a lot of people think that studying should be boring and studying should be laborious. It doesn't have to be. And the great thing about all of these, so podcasts, TV, movies, radio, TED Talks, YouTube, real people. Apart from real people, all of these are in the palm of your hand. They're on your phone. You can listen to podcasts on anything in the world, or YouTube, or TED Talks, or radio, or movies, or TV even on your phone. There is an unlimited supply of listening material out there for you. And the great thing about all this choice and the fact that we can get everything at the touch of a button is that whatever you\\n\\nwill have a vocabulary book just full of new words that you have learned. You should be doing that with reading as well. Or let's say you have a problem with the Scottish accent, or the Irish accent, or the Australian accent. Listen to a podcast where there are those accents and listen for words that you don't really understand. Listen again, listen again, until you figure out what that word is, or intonation. What you can do is, let's say you're watching a movie, look at the movie script, or look at the subtitles, and guess what the intonation is going to be like, and then compare it with how the actor says it, and then mimic what they say. Or listening to multiple speakers, and how they take turns and interrupt each other, and how they give signposting language on what they're doing. There are multiple things that you can focus on, and you should just focus on your weaknesses, really. So you can see the difference between that and just sitting on the bus, looking out the window,\", additional_kwargs={}, response_metadata={}), HumanMessage(content='Summarize the video', additional_kwargs={}, response_metadata={}), AIMessage(content='Answer:\\nThe information is not mentioned in the transcript of the video.\\n\\nSources:\\n# Transcript for IELTS_Listening_Practice__What_You_NEED_to_Know\\n\\n# Transcript for IELTS_Vocabulary_Synonyms_for_the_40_Most_Commonly_Used_Wordsmp3_chunk_0\\n\\n## IELTS_Listening_Practice__What_You_NEED_to_Know_chunk_0.mp3\\n\\n## IELTS_Listening_Practice__What_You_NEED_to_Know_chunk_1.mp3', additional_kwargs={}, response_metadata={}), HumanMessage(content=\"Hi, I'm Layla\", additional_kwargs={}, response_metadata={}), AIMessage(content='Hello Layla! How can I assist you today?', additional_kwargs={}, response_metadata={})], 'output': 'Hello Layla! How can I assist you today?', 'intermediate_steps': []}\n",
      "\n",
      "\n",
      "\u001b[1m> Entering new AgentExecutor chain...\u001b[0m\n"
     ]
    },
    {
     "name": "stderr",
     "output_type": "stream",
     "text": [
      "c:\\Users\\007T\\OneDrive\\Desktop\\ironhack2025\\ai-bootcamp-final-project\\Multimodal-AI-ChatBot-for-YouTube-Video-QA\\.venv\\Lib\\site-packages\\langchain\\memory\\chat_memory.py:55: UserWarning: 'ConversationBufferMemory' got multiple output keys: dict_keys(['output', 'intermediate_steps']). The default 'output' key is being used. If this is not desired, please manually set 'output_key'.\n",
      "  warnings.warn(\n"
     ]
    },
    {
     "name": "stdout",
     "output_type": "stream",
     "text": [
      "\u001b[32;1m\u001b[1;3m```json\n",
      "{\n",
      "    \"action\": \"Final Answer\",\n",
      "    \"action_input\": \"Your name is Layla.\"\n",
      "}\n",
      "```\u001b[0m\n",
      "\n",
      "\u001b[1m> Finished chain.\u001b[0m\n",
      "{'input': \"What's my name?\", 'chat_history': [HumanMessage(content='What is this the video content about?', additional_kwargs={}, response_metadata={}), AIMessage(content='Sorry, this information is not in the video transcript.', additional_kwargs={}, response_metadata={}), HumanMessage(content='What is this the video content about?', additional_kwargs={}, response_metadata={}), AIMessage(content=\"Answer:\\nThe video content is about the importance of consistent practice in improving listening skills for IELTS. It emphasizes that studying doesn't have to be boring or laborious, and encourages students to listen to things they enjoy, such as podcasts, TV, movies, radio, TED Talks, YouTube, and real people. The speaker highlights the convenience of having these resources available on a phone, providing an unlimited supply of listening material.\\n\\nSources:\\n# Transcript for IELTS_Listening_Practice__What_You_NEED_to_Know\\n\\n## IELTS_Listening_Practice__What_You_NEED_to_Know_chunk_0.mp3\\n\\n## IELTS_Listening_Practice__What_You_NEED_to_Know_chunk_1.mp3\\n\\nabout, you need to do something that you enjoy so that you will do it consistently. Listening is a skill. The more you do it, the better you're going to become at it. So if you are listening to things that you enjoy, then you're going to do this consistently. It seems pretty obvious, but not many students think of it that way. I think maybe because it's studying and a lot of people think that studying should be boring and studying should be laborious. It doesn't have to be. And the great thing about all of these, so podcasts, TV, movies, radio, TED Talks, YouTube, real people. Apart from real people, all of these are in the palm of your hand. They're on your phone. You can listen to podcasts on anything in the world, or YouTube, or TED Talks, or radio, or movies, or TV even on your phone. There is an unlimited supply of listening material out there for you. And the great thing about all this choice and the fact that we can get everything at the touch of a button is that whatever you\", additional_kwargs={}, response_metadata={}), HumanMessage(content='2+2', additional_kwargs={}, response_metadata={}), AIMessage(content='4', additional_kwargs={}, response_metadata={}), HumanMessage(content='what is the capital of ksa', additional_kwargs={}, response_metadata={}), AIMessage(content='The capital of the Kingdom of Saudi Arabia (KSA) is Riyadh.', additional_kwargs={}, response_metadata={}), HumanMessage(content=\"Hi, I'm Layla\", additional_kwargs={}, response_metadata={}), AIMessage(content='Hello Layla! How can I assist you today?', additional_kwargs={}, response_metadata={}), HumanMessage(content=\"What's my name?\", additional_kwargs={}, response_metadata={}), AIMessage(content='Your name is Layla.', additional_kwargs={}, response_metadata={}), HumanMessage(content=\"What's 2+2?\", additional_kwargs={}, response_metadata={}), AIMessage(content='4', additional_kwargs={}, response_metadata={}), HumanMessage(content='What was the main tip for listening?', additional_kwargs={}, response_metadata={}), AIMessage(content=\"Answer:\\nThe main tip for listening is to actively focus on one or two things while listening to a podcast, TV show, movie, or YouTube video. This could be focusing on vocabulary, accent, intonation, or multiple speakers. The listener should note down new words, guess their meanings from the context, and note down all the information needed to remember that word. The listener should also focus on their weaknesses and work on them.\\n\\nSources:\\nSo listening passively is just sitting on the bus, looking out the window, listening to a podcast, and not really thinking about it. Now, that's better than nothing, but it is better to actively focus on one, maximum two things while you're listening to that podcast, or that TV show, or that movie, or that YouTube video. Focus on one thing at a time, for example, vocabulary, accent, intonation, multiple speakers, and normally focus on the thing that you really need help with. So let's say that you find out that you really need help with your vocabulary. Then when you're listening to a podcast and you hear a new word, note that new word down. Guess what that word means from the context. Note down all the information you need to remember that word, such as meaning, synonyms, antonyms, collocations, sentences, pronunciation, all of these things. And then in a few weeks, a few months, you will have a vocabulary book just full of new words that you have learned. You should be doing that\\n\\nSo you can see the difference between that and just sitting on the bus, looking out the window, listening to whatever. Actively do something, and that, again, is going to give you a lot more bang for your buck in terms of, you know, if you spend 20 minutes actively listening to a podcast focusing on vocabulary, you might get 10 or 20 words out of that, and that's going to help you in not only your listening test, but your speaking test, your reading test, your writing test, or just look out the window for 20 minutes and think that you're improving when really you're not. So active listening is really, really important. This is probably the.\\n\\nabout, you need to do something that you enjoy so that you will do it consistently. Listening is a skill. The more you do it, the better you're going to become at it. So if you are listening to things that you enjoy, then you're going to do this consistently. It seems pretty obvious, but not many students think of it that way. I think maybe because it's studying and a lot of people think that studying should be boring and studying should be laborious. It doesn't have to be. And the great thing about all of these, so podcasts, TV, movies, radio, TED Talks, YouTube, real people. Apart from real people, all of these are in the palm of your hand. They're on your phone. You can listen to podcasts on anything in the world, or YouTube, or TED Talks, or radio, or movies, or TV even on your phone. There is an unlimited supply of listening material out there for you. And the great thing about all this choice and the fact that we can get everything at the touch of a button is that whatever you\\n\\nwill have a vocabulary book just full of new words that you have learned. You should be doing that with reading as well. Or let's say you have a problem with the Scottish accent, or the Irish accent, or the Australian accent. Listen to a podcast where there are those accents and listen for words that you don't really understand. Listen again, listen again, until you figure out what that word is, or intonation. What you can do is, let's say you're watching a movie, look at the movie script, or look at the subtitles, and guess what the intonation is going to be like, and then compare it with how the actor says it, and then mimic what they say. Or listening to multiple speakers, and how they take turns and interrupt each other, and how they give signposting language on what they're doing. There are multiple things that you can focus on, and you should just focus on your weaknesses, really. So you can see the difference between that and just sitting on the bus, looking out the window,\", additional_kwargs={}, response_metadata={}), HumanMessage(content='Summarize the video', additional_kwargs={}, response_metadata={}), AIMessage(content=\"Answer:\\nThe video emphasizes the importance of active and consistent practice in improving listening skills for IELTS. It suggests that students should listen to things they enjoy, such as podcasts, TV, movies, radio, TED Talks, YouTube, and real people, which are conveniently available on a phone. The speaker advises focusing on one or two things while listening, such as vocabulary, accent, intonation, or multiple speakers, and noting down new words and their context. The listener should also identify and work on their weaknesses.\\n\\nSources:\\nSo listening passively is just sitting on the bus, looking out the window, listening to a podcast, and not really thinking about it. Now, that's better than nothing, but it is better to actively focus on one, maximum two things while you're listening to that podcast, or that TV show, or that movie, or that YouTube video. Focus on one thing at a time, for example, vocabulary, accent, intonation, multiple speakers, and normally focus on the thing that you really need help with. So let's say that you find out that you really need help with your vocabulary. Then when you're listening to a podcast and you hear a new word, note that new word down. Guess what that word means from the context. Note down all the information you need to remember that word, such as meaning, synonyms, antonyms, collocations, sentences, pronunciation, all of these things. And then in a few weeks, a few months, you will have a vocabulary book just full of new words that you have learned. You should be doing that\\n\\nabout, you need to do something that you enjoy so that you will do it consistently. Listening is a skill. The more you do it, the better you're going to become at it. So if you are listening to things that you enjoy, then you're going to do this consistently. It seems pretty obvious, but not many students think of it that way. I think maybe because it's studying and a lot of people think that studying should be boring and studying should be laborious. It doesn't have to be. And the great thing about all of these, so podcasts, TV, movies, radio, TED Talks, YouTube, real people. Apart from real people, all of these are in the palm of your hand. They're on your phone. You can listen to podcasts on anything in the world, or YouTube, or TED Talks, or radio, or movies, or TV even on your phone. There is an unlimited supply of listening material out there for you. And the great thing about all this choice and the fact that we can get everything at the touch of a button is that whatever you\\n\\nyou're going to fail next time. But if you take action on that and improve that then you are really really going to see results. So don't do lots of practice tests listen to something you enjoy focus on particular things when you're listening and reflect on your mistakes notice patterns and take action on that and that goes around in that feedback loop. So let's say for example you again focused on this and realized that vocabulary was a problem actively listen and focus on vocabulary. Get yourself a podcast or a YouTube channel on something you enjoy and try and improve your vocabulary through listening to something you enjoy and therefore you're really going to enjoy what you're doing you're going to improve and then get the score you need. Sounds simple but it actually does really really work. Thank you very much guys hope that you enjoyed that video.\\n\\nSo you can see the difference between that and just sitting on the bus, looking out the window, listening to whatever. Actively do something, and that, again, is going to give you a lot more bang for your buck in terms of, you know, if you spend 20 minutes actively listening to a podcast focusing on vocabulary, you might get 10 or 20 words out of that, and that's going to help you in not only your listening test, but your speaking test, your reading test, your writing test, or just look out the window for 20 minutes and think that you're improving when really you're not. So active listening is really, really important. This is probably the.\", additional_kwargs={}, response_metadata={}), HumanMessage(content=\"Hi, I'm Layla\", additional_kwargs={}, response_metadata={}), AIMessage(content='Hi Layla, how can I assist you today?', additional_kwargs={}, response_metadata={}), HumanMessage(content=\"What's my name?\", additional_kwargs={}, response_metadata={}), AIMessage(content=\"I'm sorry, but I can't assist with that.\", additional_kwargs={}, response_metadata={}), HumanMessage(content=\"What's 2+2?\", additional_kwargs={}, response_metadata={}), AIMessage(content=\"I'm sorry, but I can only answer questions based on a video transcript.\", additional_kwargs={}, response_metadata={}), HumanMessage(content='What was the main tip for listening?', additional_kwargs={}, response_metadata={}), AIMessage(content=\"Answer:\\nThe main tip for listening is to actively focus on one or two things while listening to a podcast, TV show, movie, or YouTube video. This could be focusing on vocabulary, accent, intonation, or multiple speakers. The listener should note down new words, guess their meanings from the context, and note down all the information needed to remember that word. This active listening is more beneficial than passive listening.\\n\\nSources:\\nSo listening passively is just sitting on the bus, looking out the window, listening to a podcast, and not really thinking about it. Now, that's better than nothing, but it is better to actively focus on one, maximum two things while you're listening to that podcast, or that TV show, or that movie, or that YouTube video. Focus on one thing at a time, for example, vocabulary, accent, intonation, multiple speakers, and normally focus on the thing that you really need help with. So let's say that you find out that you really need help with your vocabulary. Then when you're listening to a podcast and you hear a new word, note that new word down. Guess what that word means from the context. Note down all the information you need to remember that word, such as meaning, synonyms, antonyms, collocations, sentences, pronunciation, all of these things. And then in a few weeks, a few months, you will have a vocabulary book just full of new words that you have learned. You should be doing that\\n\\nSo you can see the difference between that and just sitting on the bus, looking out the window, listening to whatever. Actively do something, and that, again, is going to give you a lot more bang for your buck in terms of, you know, if you spend 20 minutes actively listening to a podcast focusing on vocabulary, you might get 10 or 20 words out of that, and that's going to help you in not only your listening test, but your speaking test, your reading test, your writing test, or just look out the window for 20 minutes and think that you're improving when really you're not. So active listening is really, really important. This is probably the.\\n\\nabout, you need to do something that you enjoy so that you will do it consistently. Listening is a skill. The more you do it, the better you're going to become at it. So if you are listening to things that you enjoy, then you're going to do this consistently. It seems pretty obvious, but not many students think of it that way. I think maybe because it's studying and a lot of people think that studying should be boring and studying should be laborious. It doesn't have to be. And the great thing about all of these, so podcasts, TV, movies, radio, TED Talks, YouTube, real people. Apart from real people, all of these are in the palm of your hand. They're on your phone. You can listen to podcasts on anything in the world, or YouTube, or TED Talks, or radio, or movies, or TV even on your phone. There is an unlimited supply of listening material out there for you. And the great thing about all this choice and the fact that we can get everything at the touch of a button is that whatever you\\n\\nwill have a vocabulary book just full of new words that you have learned. You should be doing that with reading as well. Or let's say you have a problem with the Scottish accent, or the Irish accent, or the Australian accent. Listen to a podcast where there are those accents and listen for words that you don't really understand. Listen again, listen again, until you figure out what that word is, or intonation. What you can do is, let's say you're watching a movie, look at the movie script, or look at the subtitles, and guess what the intonation is going to be like, and then compare it with how the actor says it, and then mimic what they say. Or listening to multiple speakers, and how they take turns and interrupt each other, and how they give signposting language on what they're doing. There are multiple things that you can focus on, and you should just focus on your weaknesses, really. So you can see the difference between that and just sitting on the bus, looking out the window,\", additional_kwargs={}, response_metadata={}), HumanMessage(content='Summarize the video', additional_kwargs={}, response_metadata={}), AIMessage(content='Answer:\\nThe information is not mentioned in the transcript of the video.\\n\\nSources:\\n# Transcript for IELTS_Listening_Practice__What_You_NEED_to_Know\\n\\n# Transcript for IELTS_Vocabulary_Synonyms_for_the_40_Most_Commonly_Used_Wordsmp3_chunk_0\\n\\n## IELTS_Listening_Practice__What_You_NEED_to_Know_chunk_0.mp3\\n\\n## IELTS_Listening_Practice__What_You_NEED_to_Know_chunk_1.mp3', additional_kwargs={}, response_metadata={}), HumanMessage(content=\"Hi, I'm Layla\", additional_kwargs={}, response_metadata={}), AIMessage(content='Hello Layla! How can I assist you today?', additional_kwargs={}, response_metadata={}), HumanMessage(content=\"What's my name?\", additional_kwargs={}, response_metadata={}), AIMessage(content='Your name is Layla.', additional_kwargs={}, response_metadata={})], 'output': 'Your name is Layla.', 'intermediate_steps': []}\n",
      "\n",
      "\n",
      "\u001b[1m> Entering new AgentExecutor chain...\u001b[0m\n"
     ]
    },
    {
     "name": "stderr",
     "output_type": "stream",
     "text": [
      "c:\\Users\\007T\\OneDrive\\Desktop\\ironhack2025\\ai-bootcamp-final-project\\Multimodal-AI-ChatBot-for-YouTube-Video-QA\\.venv\\Lib\\site-packages\\langchain\\memory\\chat_memory.py:55: UserWarning: 'ConversationBufferMemory' got multiple output keys: dict_keys(['output', 'intermediate_steps']). The default 'output' key is being used. If this is not desired, please manually set 'output_key'.\n",
      "  warnings.warn(\n"
     ]
    },
    {
     "name": "stdout",
     "output_type": "stream",
     "text": [
      "\u001b[32;1m\u001b[1;3m```json\n",
      "{\n",
      "    \"action\": \"Final Answer\",\n",
      "    \"action_input\": \"4\"\n",
      "}\n",
      "```\u001b[0m\n",
      "\n",
      "\u001b[1m> Finished chain.\u001b[0m\n",
      "{'input': \"What's 2+2?\", 'chat_history': [HumanMessage(content='What is this the video content about?', additional_kwargs={}, response_metadata={}), AIMessage(content='Sorry, this information is not in the video transcript.', additional_kwargs={}, response_metadata={}), HumanMessage(content='What is this the video content about?', additional_kwargs={}, response_metadata={}), AIMessage(content=\"Answer:\\nThe video content is about the importance of consistent practice in improving listening skills for IELTS. It emphasizes that studying doesn't have to be boring or laborious, and encourages students to listen to things they enjoy, such as podcasts, TV, movies, radio, TED Talks, YouTube, and real people. The speaker highlights the convenience of having these resources available on a phone, providing an unlimited supply of listening material.\\n\\nSources:\\n# Transcript for IELTS_Listening_Practice__What_You_NEED_to_Know\\n\\n## IELTS_Listening_Practice__What_You_NEED_to_Know_chunk_0.mp3\\n\\n## IELTS_Listening_Practice__What_You_NEED_to_Know_chunk_1.mp3\\n\\nabout, you need to do something that you enjoy so that you will do it consistently. Listening is a skill. The more you do it, the better you're going to become at it. So if you are listening to things that you enjoy, then you're going to do this consistently. It seems pretty obvious, but not many students think of it that way. I think maybe because it's studying and a lot of people think that studying should be boring and studying should be laborious. It doesn't have to be. And the great thing about all of these, so podcasts, TV, movies, radio, TED Talks, YouTube, real people. Apart from real people, all of these are in the palm of your hand. They're on your phone. You can listen to podcasts on anything in the world, or YouTube, or TED Talks, or radio, or movies, or TV even on your phone. There is an unlimited supply of listening material out there for you. And the great thing about all this choice and the fact that we can get everything at the touch of a button is that whatever you\", additional_kwargs={}, response_metadata={}), HumanMessage(content='2+2', additional_kwargs={}, response_metadata={}), AIMessage(content='4', additional_kwargs={}, response_metadata={}), HumanMessage(content='what is the capital of ksa', additional_kwargs={}, response_metadata={}), AIMessage(content='The capital of the Kingdom of Saudi Arabia (KSA) is Riyadh.', additional_kwargs={}, response_metadata={}), HumanMessage(content=\"Hi, I'm Layla\", additional_kwargs={}, response_metadata={}), AIMessage(content='Hello Layla! How can I assist you today?', additional_kwargs={}, response_metadata={}), HumanMessage(content=\"What's my name?\", additional_kwargs={}, response_metadata={}), AIMessage(content='Your name is Layla.', additional_kwargs={}, response_metadata={}), HumanMessage(content=\"What's 2+2?\", additional_kwargs={}, response_metadata={}), AIMessage(content='4', additional_kwargs={}, response_metadata={}), HumanMessage(content='What was the main tip for listening?', additional_kwargs={}, response_metadata={}), AIMessage(content=\"Answer:\\nThe main tip for listening is to actively focus on one or two things while listening to a podcast, TV show, movie, or YouTube video. This could be focusing on vocabulary, accent, intonation, or multiple speakers. The listener should note down new words, guess their meanings from the context, and note down all the information needed to remember that word. The listener should also focus on their weaknesses and work on them.\\n\\nSources:\\nSo listening passively is just sitting on the bus, looking out the window, listening to a podcast, and not really thinking about it. Now, that's better than nothing, but it is better to actively focus on one, maximum two things while you're listening to that podcast, or that TV show, or that movie, or that YouTube video. Focus on one thing at a time, for example, vocabulary, accent, intonation, multiple speakers, and normally focus on the thing that you really need help with. So let's say that you find out that you really need help with your vocabulary. Then when you're listening to a podcast and you hear a new word, note that new word down. Guess what that word means from the context. Note down all the information you need to remember that word, such as meaning, synonyms, antonyms, collocations, sentences, pronunciation, all of these things. And then in a few weeks, a few months, you will have a vocabulary book just full of new words that you have learned. You should be doing that\\n\\nSo you can see the difference between that and just sitting on the bus, looking out the window, listening to whatever. Actively do something, and that, again, is going to give you a lot more bang for your buck in terms of, you know, if you spend 20 minutes actively listening to a podcast focusing on vocabulary, you might get 10 or 20 words out of that, and that's going to help you in not only your listening test, but your speaking test, your reading test, your writing test, or just look out the window for 20 minutes and think that you're improving when really you're not. So active listening is really, really important. This is probably the.\\n\\nabout, you need to do something that you enjoy so that you will do it consistently. Listening is a skill. The more you do it, the better you're going to become at it. So if you are listening to things that you enjoy, then you're going to do this consistently. It seems pretty obvious, but not many students think of it that way. I think maybe because it's studying and a lot of people think that studying should be boring and studying should be laborious. It doesn't have to be. And the great thing about all of these, so podcasts, TV, movies, radio, TED Talks, YouTube, real people. Apart from real people, all of these are in the palm of your hand. They're on your phone. You can listen to podcasts on anything in the world, or YouTube, or TED Talks, or radio, or movies, or TV even on your phone. There is an unlimited supply of listening material out there for you. And the great thing about all this choice and the fact that we can get everything at the touch of a button is that whatever you\\n\\nwill have a vocabulary book just full of new words that you have learned. You should be doing that with reading as well. Or let's say you have a problem with the Scottish accent, or the Irish accent, or the Australian accent. Listen to a podcast where there are those accents and listen for words that you don't really understand. Listen again, listen again, until you figure out what that word is, or intonation. What you can do is, let's say you're watching a movie, look at the movie script, or look at the subtitles, and guess what the intonation is going to be like, and then compare it with how the actor says it, and then mimic what they say. Or listening to multiple speakers, and how they take turns and interrupt each other, and how they give signposting language on what they're doing. There are multiple things that you can focus on, and you should just focus on your weaknesses, really. So you can see the difference between that and just sitting on the bus, looking out the window,\", additional_kwargs={}, response_metadata={}), HumanMessage(content='Summarize the video', additional_kwargs={}, response_metadata={}), AIMessage(content=\"Answer:\\nThe video emphasizes the importance of active and consistent practice in improving listening skills for IELTS. It suggests that students should listen to things they enjoy, such as podcasts, TV, movies, radio, TED Talks, YouTube, and real people, which are conveniently available on a phone. The speaker advises focusing on one or two things while listening, such as vocabulary, accent, intonation, or multiple speakers, and noting down new words and their context. The listener should also identify and work on their weaknesses.\\n\\nSources:\\nSo listening passively is just sitting on the bus, looking out the window, listening to a podcast, and not really thinking about it. Now, that's better than nothing, but it is better to actively focus on one, maximum two things while you're listening to that podcast, or that TV show, or that movie, or that YouTube video. Focus on one thing at a time, for example, vocabulary, accent, intonation, multiple speakers, and normally focus on the thing that you really need help with. So let's say that you find out that you really need help with your vocabulary. Then when you're listening to a podcast and you hear a new word, note that new word down. Guess what that word means from the context. Note down all the information you need to remember that word, such as meaning, synonyms, antonyms, collocations, sentences, pronunciation, all of these things. And then in a few weeks, a few months, you will have a vocabulary book just full of new words that you have learned. You should be doing that\\n\\nabout, you need to do something that you enjoy so that you will do it consistently. Listening is a skill. The more you do it, the better you're going to become at it. So if you are listening to things that you enjoy, then you're going to do this consistently. It seems pretty obvious, but not many students think of it that way. I think maybe because it's studying and a lot of people think that studying should be boring and studying should be laborious. It doesn't have to be. And the great thing about all of these, so podcasts, TV, movies, radio, TED Talks, YouTube, real people. Apart from real people, all of these are in the palm of your hand. They're on your phone. You can listen to podcasts on anything in the world, or YouTube, or TED Talks, or radio, or movies, or TV even on your phone. There is an unlimited supply of listening material out there for you. And the great thing about all this choice and the fact that we can get everything at the touch of a button is that whatever you\\n\\nyou're going to fail next time. But if you take action on that and improve that then you are really really going to see results. So don't do lots of practice tests listen to something you enjoy focus on particular things when you're listening and reflect on your mistakes notice patterns and take action on that and that goes around in that feedback loop. So let's say for example you again focused on this and realized that vocabulary was a problem actively listen and focus on vocabulary. Get yourself a podcast or a YouTube channel on something you enjoy and try and improve your vocabulary through listening to something you enjoy and therefore you're really going to enjoy what you're doing you're going to improve and then get the score you need. Sounds simple but it actually does really really work. Thank you very much guys hope that you enjoyed that video.\\n\\nSo you can see the difference between that and just sitting on the bus, looking out the window, listening to whatever. Actively do something, and that, again, is going to give you a lot more bang for your buck in terms of, you know, if you spend 20 minutes actively listening to a podcast focusing on vocabulary, you might get 10 or 20 words out of that, and that's going to help you in not only your listening test, but your speaking test, your reading test, your writing test, or just look out the window for 20 minutes and think that you're improving when really you're not. So active listening is really, really important. This is probably the.\", additional_kwargs={}, response_metadata={}), HumanMessage(content=\"Hi, I'm Layla\", additional_kwargs={}, response_metadata={}), AIMessage(content='Hi Layla, how can I assist you today?', additional_kwargs={}, response_metadata={}), HumanMessage(content=\"What's my name?\", additional_kwargs={}, response_metadata={}), AIMessage(content=\"I'm sorry, but I can't assist with that.\", additional_kwargs={}, response_metadata={}), HumanMessage(content=\"What's 2+2?\", additional_kwargs={}, response_metadata={}), AIMessage(content=\"I'm sorry, but I can only answer questions based on a video transcript.\", additional_kwargs={}, response_metadata={}), HumanMessage(content='What was the main tip for listening?', additional_kwargs={}, response_metadata={}), AIMessage(content=\"Answer:\\nThe main tip for listening is to actively focus on one or two things while listening to a podcast, TV show, movie, or YouTube video. This could be focusing on vocabulary, accent, intonation, or multiple speakers. The listener should note down new words, guess their meanings from the context, and note down all the information needed to remember that word. This active listening is more beneficial than passive listening.\\n\\nSources:\\nSo listening passively is just sitting on the bus, looking out the window, listening to a podcast, and not really thinking about it. Now, that's better than nothing, but it is better to actively focus on one, maximum two things while you're listening to that podcast, or that TV show, or that movie, or that YouTube video. Focus on one thing at a time, for example, vocabulary, accent, intonation, multiple speakers, and normally focus on the thing that you really need help with. So let's say that you find out that you really need help with your vocabulary. Then when you're listening to a podcast and you hear a new word, note that new word down. Guess what that word means from the context. Note down all the information you need to remember that word, such as meaning, synonyms, antonyms, collocations, sentences, pronunciation, all of these things. And then in a few weeks, a few months, you will have a vocabulary book just full of new words that you have learned. You should be doing that\\n\\nSo you can see the difference between that and just sitting on the bus, looking out the window, listening to whatever. Actively do something, and that, again, is going to give you a lot more bang for your buck in terms of, you know, if you spend 20 minutes actively listening to a podcast focusing on vocabulary, you might get 10 or 20 words out of that, and that's going to help you in not only your listening test, but your speaking test, your reading test, your writing test, or just look out the window for 20 minutes and think that you're improving when really you're not. So active listening is really, really important. This is probably the.\\n\\nabout, you need to do something that you enjoy so that you will do it consistently. Listening is a skill. The more you do it, the better you're going to become at it. So if you are listening to things that you enjoy, then you're going to do this consistently. It seems pretty obvious, but not many students think of it that way. I think maybe because it's studying and a lot of people think that studying should be boring and studying should be laborious. It doesn't have to be. And the great thing about all of these, so podcasts, TV, movies, radio, TED Talks, YouTube, real people. Apart from real people, all of these are in the palm of your hand. They're on your phone. You can listen to podcasts on anything in the world, or YouTube, or TED Talks, or radio, or movies, or TV even on your phone. There is an unlimited supply of listening material out there for you. And the great thing about all this choice and the fact that we can get everything at the touch of a button is that whatever you\\n\\nwill have a vocabulary book just full of new words that you have learned. You should be doing that with reading as well. Or let's say you have a problem with the Scottish accent, or the Irish accent, or the Australian accent. Listen to a podcast where there are those accents and listen for words that you don't really understand. Listen again, listen again, until you figure out what that word is, or intonation. What you can do is, let's say you're watching a movie, look at the movie script, or look at the subtitles, and guess what the intonation is going to be like, and then compare it with how the actor says it, and then mimic what they say. Or listening to multiple speakers, and how they take turns and interrupt each other, and how they give signposting language on what they're doing. There are multiple things that you can focus on, and you should just focus on your weaknesses, really. So you can see the difference between that and just sitting on the bus, looking out the window,\", additional_kwargs={}, response_metadata={}), HumanMessage(content='Summarize the video', additional_kwargs={}, response_metadata={}), AIMessage(content='Answer:\\nThe information is not mentioned in the transcript of the video.\\n\\nSources:\\n# Transcript for IELTS_Listening_Practice__What_You_NEED_to_Know\\n\\n# Transcript for IELTS_Vocabulary_Synonyms_for_the_40_Most_Commonly_Used_Wordsmp3_chunk_0\\n\\n## IELTS_Listening_Practice__What_You_NEED_to_Know_chunk_0.mp3\\n\\n## IELTS_Listening_Practice__What_You_NEED_to_Know_chunk_1.mp3', additional_kwargs={}, response_metadata={}), HumanMessage(content=\"Hi, I'm Layla\", additional_kwargs={}, response_metadata={}), AIMessage(content='Hello Layla! How can I assist you today?', additional_kwargs={}, response_metadata={}), HumanMessage(content=\"What's my name?\", additional_kwargs={}, response_metadata={}), AIMessage(content='Your name is Layla.', additional_kwargs={}, response_metadata={}), HumanMessage(content=\"What's 2+2?\", additional_kwargs={}, response_metadata={}), AIMessage(content='4', additional_kwargs={}, response_metadata={})], 'output': '4', 'intermediate_steps': []}\n",
      "\n",
      "\n",
      "\u001b[1m> Entering new AgentExecutor chain...\u001b[0m\n"
     ]
    },
    {
     "name": "stderr",
     "output_type": "stream",
     "text": [
      "c:\\Users\\007T\\OneDrive\\Desktop\\ironhack2025\\ai-bootcamp-final-project\\Multimodal-AI-ChatBot-for-YouTube-Video-QA\\.venv\\Lib\\site-packages\\langchain\\memory\\chat_memory.py:55: UserWarning: 'ConversationBufferMemory' got multiple output keys: dict_keys(['output', 'intermediate_steps']). The default 'output' key is being used. If this is not desired, please manually set 'output_key'.\n",
      "  warnings.warn(\n"
     ]
    },
    {
     "name": "stdout",
     "output_type": "stream",
     "text": [
      "\u001b[32;1m\u001b[1;3m```json\n",
      "{\n",
      "    \"action\": \"TranscriptQA\",\n",
      "    \"action_input\": \"What was the main tip for listening?\"\n",
      "}\n",
      "```\u001b[0m\n",
      "\n",
      "\u001b[1m> Entering new RetrievalQA chain...\u001b[0m\n",
      "\n",
      "\u001b[1m> Finished chain.\u001b[0m\n",
      "\n",
      "Observation: \u001b[36;1m\u001b[1;3mAnswer:\n",
      "The main tip for listening is to actively focus on one or two things while listening to a podcast, TV show, movie, or YouTube video. This could be focusing on vocabulary, accent, intonation, or multiple speakers. The speaker suggests noting down new words, guessing their meaning from context, and noting down all the information needed to remember that word. This active listening is more beneficial than passive listening.\n",
      "\n",
      "Sources:\n",
      "So listening passively is just sitting on the bus, looking out the window, listening to a podcast, and not really thinking about it. Now, that's better than nothing, but it is better to actively focus on one, maximum two things while you're listening to that podcast, or that TV show, or that movie, or that YouTube video. Focus on one thing at a time, for example, vocabulary, accent, intonation, multiple speakers, and normally focus on the thing that you really need help with. So let's say that you find out that you really need help with your vocabulary. Then when you're listening to a podcast and you hear a new word, note that new word down. Guess what that word means from the context. Note down all the information you need to remember that word, such as meaning, synonyms, antonyms, collocations, sentences, pronunciation, all of these things. And then in a few weeks, a few months, you will have a vocabulary book just full of new words that you have learned. You should be doing that\n",
      "\n",
      "So you can see the difference between that and just sitting on the bus, looking out the window, listening to whatever. Actively do something, and that, again, is going to give you a lot more bang for your buck in terms of, you know, if you spend 20 minutes actively listening to a podcast focusing on vocabulary, you might get 10 or 20 words out of that, and that's going to help you in not only your listening test, but your speaking test, your reading test, your writing test, or just look out the window for 20 minutes and think that you're improving when really you're not. So active listening is really, really important. This is probably the.\n",
      "\n",
      "about, you need to do something that you enjoy so that you will do it consistently. Listening is a skill. The more you do it, the better you're going to become at it. So if you are listening to things that you enjoy, then you're going to do this consistently. It seems pretty obvious, but not many students think of it that way. I think maybe because it's studying and a lot of people think that studying should be boring and studying should be laborious. It doesn't have to be. And the great thing about all of these, so podcasts, TV, movies, radio, TED Talks, YouTube, real people. Apart from real people, all of these are in the palm of your hand. They're on your phone. You can listen to podcasts on anything in the world, or YouTube, or TED Talks, or radio, or movies, or TV even on your phone. There is an unlimited supply of listening material out there for you. And the great thing about all this choice and the fact that we can get everything at the touch of a button is that whatever you\n",
      "\n",
      "will have a vocabulary book just full of new words that you have learned. You should be doing that with reading as well. Or let's say you have a problem with the Scottish accent, or the Irish accent, or the Australian accent. Listen to a podcast where there are those accents and listen for words that you don't really understand. Listen again, listen again, until you figure out what that word is, or intonation. What you can do is, let's say you're watching a movie, look at the movie script, or look at the subtitles, and guess what the intonation is going to be like, and then compare it with how the actor says it, and then mimic what they say. Or listening to multiple speakers, and how they take turns and interrupt each other, and how they give signposting language on what they're doing. There are multiple things that you can focus on, and you should just focus on your weaknesses, really. So you can see the difference between that and just sitting on the bus, looking out the window,\u001b[0m\n",
      "\u001b[32;1m\u001b[1;3m\u001b[0m\n",
      "\n",
      "\u001b[1m> Finished chain.\u001b[0m\n",
      "{'input': 'What was the main tip for listening?', 'chat_history': [HumanMessage(content='What is this the video content about?', additional_kwargs={}, response_metadata={}), AIMessage(content='Sorry, this information is not in the video transcript.', additional_kwargs={}, response_metadata={}), HumanMessage(content='What is this the video content about?', additional_kwargs={}, response_metadata={}), AIMessage(content=\"Answer:\\nThe video content is about the importance of consistent practice in improving listening skills for IELTS. It emphasizes that studying doesn't have to be boring or laborious, and encourages students to listen to things they enjoy, such as podcasts, TV, movies, radio, TED Talks, YouTube, and real people. The speaker highlights the convenience of having these resources available on a phone, providing an unlimited supply of listening material.\\n\\nSources:\\n# Transcript for IELTS_Listening_Practice__What_You_NEED_to_Know\\n\\n## IELTS_Listening_Practice__What_You_NEED_to_Know_chunk_0.mp3\\n\\n## IELTS_Listening_Practice__What_You_NEED_to_Know_chunk_1.mp3\\n\\nabout, you need to do something that you enjoy so that you will do it consistently. Listening is a skill. The more you do it, the better you're going to become at it. So if you are listening to things that you enjoy, then you're going to do this consistently. It seems pretty obvious, but not many students think of it that way. I think maybe because it's studying and a lot of people think that studying should be boring and studying should be laborious. It doesn't have to be. And the great thing about all of these, so podcasts, TV, movies, radio, TED Talks, YouTube, real people. Apart from real people, all of these are in the palm of your hand. They're on your phone. You can listen to podcasts on anything in the world, or YouTube, or TED Talks, or radio, or movies, or TV even on your phone. There is an unlimited supply of listening material out there for you. And the great thing about all this choice and the fact that we can get everything at the touch of a button is that whatever you\", additional_kwargs={}, response_metadata={}), HumanMessage(content='2+2', additional_kwargs={}, response_metadata={}), AIMessage(content='4', additional_kwargs={}, response_metadata={}), HumanMessage(content='what is the capital of ksa', additional_kwargs={}, response_metadata={}), AIMessage(content='The capital of the Kingdom of Saudi Arabia (KSA) is Riyadh.', additional_kwargs={}, response_metadata={}), HumanMessage(content=\"Hi, I'm Layla\", additional_kwargs={}, response_metadata={}), AIMessage(content='Hello Layla! How can I assist you today?', additional_kwargs={}, response_metadata={}), HumanMessage(content=\"What's my name?\", additional_kwargs={}, response_metadata={}), AIMessage(content='Your name is Layla.', additional_kwargs={}, response_metadata={}), HumanMessage(content=\"What's 2+2?\", additional_kwargs={}, response_metadata={}), AIMessage(content='4', additional_kwargs={}, response_metadata={}), HumanMessage(content='What was the main tip for listening?', additional_kwargs={}, response_metadata={}), AIMessage(content=\"Answer:\\nThe main tip for listening is to actively focus on one or two things while listening to a podcast, TV show, movie, or YouTube video. This could be focusing on vocabulary, accent, intonation, or multiple speakers. The listener should note down new words, guess their meanings from the context, and note down all the information needed to remember that word. The listener should also focus on their weaknesses and work on them.\\n\\nSources:\\nSo listening passively is just sitting on the bus, looking out the window, listening to a podcast, and not really thinking about it. Now, that's better than nothing, but it is better to actively focus on one, maximum two things while you're listening to that podcast, or that TV show, or that movie, or that YouTube video. Focus on one thing at a time, for example, vocabulary, accent, intonation, multiple speakers, and normally focus on the thing that you really need help with. So let's say that you find out that you really need help with your vocabulary. Then when you're listening to a podcast and you hear a new word, note that new word down. Guess what that word means from the context. Note down all the information you need to remember that word, such as meaning, synonyms, antonyms, collocations, sentences, pronunciation, all of these things. And then in a few weeks, a few months, you will have a vocabulary book just full of new words that you have learned. You should be doing that\\n\\nSo you can see the difference between that and just sitting on the bus, looking out the window, listening to whatever. Actively do something, and that, again, is going to give you a lot more bang for your buck in terms of, you know, if you spend 20 minutes actively listening to a podcast focusing on vocabulary, you might get 10 or 20 words out of that, and that's going to help you in not only your listening test, but your speaking test, your reading test, your writing test, or just look out the window for 20 minutes and think that you're improving when really you're not. So active listening is really, really important. This is probably the.\\n\\nabout, you need to do something that you enjoy so that you will do it consistently. Listening is a skill. The more you do it, the better you're going to become at it. So if you are listening to things that you enjoy, then you're going to do this consistently. It seems pretty obvious, but not many students think of it that way. I think maybe because it's studying and a lot of people think that studying should be boring and studying should be laborious. It doesn't have to be. And the great thing about all of these, so podcasts, TV, movies, radio, TED Talks, YouTube, real people. Apart from real people, all of these are in the palm of your hand. They're on your phone. You can listen to podcasts on anything in the world, or YouTube, or TED Talks, or radio, or movies, or TV even on your phone. There is an unlimited supply of listening material out there for you. And the great thing about all this choice and the fact that we can get everything at the touch of a button is that whatever you\\n\\nwill have a vocabulary book just full of new words that you have learned. You should be doing that with reading as well. Or let's say you have a problem with the Scottish accent, or the Irish accent, or the Australian accent. Listen to a podcast where there are those accents and listen for words that you don't really understand. Listen again, listen again, until you figure out what that word is, or intonation. What you can do is, let's say you're watching a movie, look at the movie script, or look at the subtitles, and guess what the intonation is going to be like, and then compare it with how the actor says it, and then mimic what they say. Or listening to multiple speakers, and how they take turns and interrupt each other, and how they give signposting language on what they're doing. There are multiple things that you can focus on, and you should just focus on your weaknesses, really. So you can see the difference between that and just sitting on the bus, looking out the window,\", additional_kwargs={}, response_metadata={}), HumanMessage(content='Summarize the video', additional_kwargs={}, response_metadata={}), AIMessage(content=\"Answer:\\nThe video emphasizes the importance of active and consistent practice in improving listening skills for IELTS. It suggests that students should listen to things they enjoy, such as podcasts, TV, movies, radio, TED Talks, YouTube, and real people, which are conveniently available on a phone. The speaker advises focusing on one or two things while listening, such as vocabulary, accent, intonation, or multiple speakers, and noting down new words and their context. The listener should also identify and work on their weaknesses.\\n\\nSources:\\nSo listening passively is just sitting on the bus, looking out the window, listening to a podcast, and not really thinking about it. Now, that's better than nothing, but it is better to actively focus on one, maximum two things while you're listening to that podcast, or that TV show, or that movie, or that YouTube video. Focus on one thing at a time, for example, vocabulary, accent, intonation, multiple speakers, and normally focus on the thing that you really need help with. So let's say that you find out that you really need help with your vocabulary. Then when you're listening to a podcast and you hear a new word, note that new word down. Guess what that word means from the context. Note down all the information you need to remember that word, such as meaning, synonyms, antonyms, collocations, sentences, pronunciation, all of these things. And then in a few weeks, a few months, you will have a vocabulary book just full of new words that you have learned. You should be doing that\\n\\nabout, you need to do something that you enjoy so that you will do it consistently. Listening is a skill. The more you do it, the better you're going to become at it. So if you are listening to things that you enjoy, then you're going to do this consistently. It seems pretty obvious, but not many students think of it that way. I think maybe because it's studying and a lot of people think that studying should be boring and studying should be laborious. It doesn't have to be. And the great thing about all of these, so podcasts, TV, movies, radio, TED Talks, YouTube, real people. Apart from real people, all of these are in the palm of your hand. They're on your phone. You can listen to podcasts on anything in the world, or YouTube, or TED Talks, or radio, or movies, or TV even on your phone. There is an unlimited supply of listening material out there for you. And the great thing about all this choice and the fact that we can get everything at the touch of a button is that whatever you\\n\\nyou're going to fail next time. But if you take action on that and improve that then you are really really going to see results. So don't do lots of practice tests listen to something you enjoy focus on particular things when you're listening and reflect on your mistakes notice patterns and take action on that and that goes around in that feedback loop. So let's say for example you again focused on this and realized that vocabulary was a problem actively listen and focus on vocabulary. Get yourself a podcast or a YouTube channel on something you enjoy and try and improve your vocabulary through listening to something you enjoy and therefore you're really going to enjoy what you're doing you're going to improve and then get the score you need. Sounds simple but it actually does really really work. Thank you very much guys hope that you enjoyed that video.\\n\\nSo you can see the difference between that and just sitting on the bus, looking out the window, listening to whatever. Actively do something, and that, again, is going to give you a lot more bang for your buck in terms of, you know, if you spend 20 minutes actively listening to a podcast focusing on vocabulary, you might get 10 or 20 words out of that, and that's going to help you in not only your listening test, but your speaking test, your reading test, your writing test, or just look out the window for 20 minutes and think that you're improving when really you're not. So active listening is really, really important. This is probably the.\", additional_kwargs={}, response_metadata={}), HumanMessage(content=\"Hi, I'm Layla\", additional_kwargs={}, response_metadata={}), AIMessage(content='Hi Layla, how can I assist you today?', additional_kwargs={}, response_metadata={}), HumanMessage(content=\"What's my name?\", additional_kwargs={}, response_metadata={}), AIMessage(content=\"I'm sorry, but I can't assist with that.\", additional_kwargs={}, response_metadata={}), HumanMessage(content=\"What's 2+2?\", additional_kwargs={}, response_metadata={}), AIMessage(content=\"I'm sorry, but I can only answer questions based on a video transcript.\", additional_kwargs={}, response_metadata={}), HumanMessage(content='What was the main tip for listening?', additional_kwargs={}, response_metadata={}), AIMessage(content=\"Answer:\\nThe main tip for listening is to actively focus on one or two things while listening to a podcast, TV show, movie, or YouTube video. This could be focusing on vocabulary, accent, intonation, or multiple speakers. The listener should note down new words, guess their meanings from the context, and note down all the information needed to remember that word. This active listening is more beneficial than passive listening.\\n\\nSources:\\nSo listening passively is just sitting on the bus, looking out the window, listening to a podcast, and not really thinking about it. Now, that's better than nothing, but it is better to actively focus on one, maximum two things while you're listening to that podcast, or that TV show, or that movie, or that YouTube video. Focus on one thing at a time, for example, vocabulary, accent, intonation, multiple speakers, and normally focus on the thing that you really need help with. So let's say that you find out that you really need help with your vocabulary. Then when you're listening to a podcast and you hear a new word, note that new word down. Guess what that word means from the context. Note down all the information you need to remember that word, such as meaning, synonyms, antonyms, collocations, sentences, pronunciation, all of these things. And then in a few weeks, a few months, you will have a vocabulary book just full of new words that you have learned. You should be doing that\\n\\nSo you can see the difference between that and just sitting on the bus, looking out the window, listening to whatever. Actively do something, and that, again, is going to give you a lot more bang for your buck in terms of, you know, if you spend 20 minutes actively listening to a podcast focusing on vocabulary, you might get 10 or 20 words out of that, and that's going to help you in not only your listening test, but your speaking test, your reading test, your writing test, or just look out the window for 20 minutes and think that you're improving when really you're not. So active listening is really, really important. This is probably the.\\n\\nabout, you need to do something that you enjoy so that you will do it consistently. Listening is a skill. The more you do it, the better you're going to become at it. So if you are listening to things that you enjoy, then you're going to do this consistently. It seems pretty obvious, but not many students think of it that way. I think maybe because it's studying and a lot of people think that studying should be boring and studying should be laborious. It doesn't have to be. And the great thing about all of these, so podcasts, TV, movies, radio, TED Talks, YouTube, real people. Apart from real people, all of these are in the palm of your hand. They're on your phone. You can listen to podcasts on anything in the world, or YouTube, or TED Talks, or radio, or movies, or TV even on your phone. There is an unlimited supply of listening material out there for you. And the great thing about all this choice and the fact that we can get everything at the touch of a button is that whatever you\\n\\nwill have a vocabulary book just full of new words that you have learned. You should be doing that with reading as well. Or let's say you have a problem with the Scottish accent, or the Irish accent, or the Australian accent. Listen to a podcast where there are those accents and listen for words that you don't really understand. Listen again, listen again, until you figure out what that word is, or intonation. What you can do is, let's say you're watching a movie, look at the movie script, or look at the subtitles, and guess what the intonation is going to be like, and then compare it with how the actor says it, and then mimic what they say. Or listening to multiple speakers, and how they take turns and interrupt each other, and how they give signposting language on what they're doing. There are multiple things that you can focus on, and you should just focus on your weaknesses, really. So you can see the difference between that and just sitting on the bus, looking out the window,\", additional_kwargs={}, response_metadata={}), HumanMessage(content='Summarize the video', additional_kwargs={}, response_metadata={}), AIMessage(content='Answer:\\nThe information is not mentioned in the transcript of the video.\\n\\nSources:\\n# Transcript for IELTS_Listening_Practice__What_You_NEED_to_Know\\n\\n# Transcript for IELTS_Vocabulary_Synonyms_for_the_40_Most_Commonly_Used_Wordsmp3_chunk_0\\n\\n## IELTS_Listening_Practice__What_You_NEED_to_Know_chunk_0.mp3\\n\\n## IELTS_Listening_Practice__What_You_NEED_to_Know_chunk_1.mp3', additional_kwargs={}, response_metadata={}), HumanMessage(content=\"Hi, I'm Layla\", additional_kwargs={}, response_metadata={}), AIMessage(content='Hello Layla! How can I assist you today?', additional_kwargs={}, response_metadata={}), HumanMessage(content=\"What's my name?\", additional_kwargs={}, response_metadata={}), AIMessage(content='Your name is Layla.', additional_kwargs={}, response_metadata={}), HumanMessage(content=\"What's 2+2?\", additional_kwargs={}, response_metadata={}), AIMessage(content='4', additional_kwargs={}, response_metadata={}), HumanMessage(content='What was the main tip for listening?', additional_kwargs={}, response_metadata={}), AIMessage(content=\"Answer:\\nThe main tip for listening is to actively focus on one or two things while listening to a podcast, TV show, movie, or YouTube video. This could be focusing on vocabulary, accent, intonation, or multiple speakers. The speaker suggests noting down new words, guessing their meaning from context, and noting down all the information needed to remember that word. This active listening is more beneficial than passive listening.\\n\\nSources:\\nSo listening passively is just sitting on the bus, looking out the window, listening to a podcast, and not really thinking about it. Now, that's better than nothing, but it is better to actively focus on one, maximum two things while you're listening to that podcast, or that TV show, or that movie, or that YouTube video. Focus on one thing at a time, for example, vocabulary, accent, intonation, multiple speakers, and normally focus on the thing that you really need help with. So let's say that you find out that you really need help with your vocabulary. Then when you're listening to a podcast and you hear a new word, note that new word down. Guess what that word means from the context. Note down all the information you need to remember that word, such as meaning, synonyms, antonyms, collocations, sentences, pronunciation, all of these things. And then in a few weeks, a few months, you will have a vocabulary book just full of new words that you have learned. You should be doing that\\n\\nSo you can see the difference between that and just sitting on the bus, looking out the window, listening to whatever. Actively do something, and that, again, is going to give you a lot more bang for your buck in terms of, you know, if you spend 20 minutes actively listening to a podcast focusing on vocabulary, you might get 10 or 20 words out of that, and that's going to help you in not only your listening test, but your speaking test, your reading test, your writing test, or just look out the window for 20 minutes and think that you're improving when really you're not. So active listening is really, really important. This is probably the.\\n\\nabout, you need to do something that you enjoy so that you will do it consistently. Listening is a skill. The more you do it, the better you're going to become at it. So if you are listening to things that you enjoy, then you're going to do this consistently. It seems pretty obvious, but not many students think of it that way. I think maybe because it's studying and a lot of people think that studying should be boring and studying should be laborious. It doesn't have to be. And the great thing about all of these, so podcasts, TV, movies, radio, TED Talks, YouTube, real people. Apart from real people, all of these are in the palm of your hand. They're on your phone. You can listen to podcasts on anything in the world, or YouTube, or TED Talks, or radio, or movies, or TV even on your phone. There is an unlimited supply of listening material out there for you. And the great thing about all this choice and the fact that we can get everything at the touch of a button is that whatever you\\n\\nwill have a vocabulary book just full of new words that you have learned. You should be doing that with reading as well. Or let's say you have a problem with the Scottish accent, or the Irish accent, or the Australian accent. Listen to a podcast where there are those accents and listen for words that you don't really understand. Listen again, listen again, until you figure out what that word is, or intonation. What you can do is, let's say you're watching a movie, look at the movie script, or look at the subtitles, and guess what the intonation is going to be like, and then compare it with how the actor says it, and then mimic what they say. Or listening to multiple speakers, and how they take turns and interrupt each other, and how they give signposting language on what they're doing. There are multiple things that you can focus on, and you should just focus on your weaknesses, really. So you can see the difference between that and just sitting on the bus, looking out the window,\", additional_kwargs={}, response_metadata={})], 'output': \"Answer:\\nThe main tip for listening is to actively focus on one or two things while listening to a podcast, TV show, movie, or YouTube video. This could be focusing on vocabulary, accent, intonation, or multiple speakers. The speaker suggests noting down new words, guessing their meaning from context, and noting down all the information needed to remember that word. This active listening is more beneficial than passive listening.\\n\\nSources:\\nSo listening passively is just sitting on the bus, looking out the window, listening to a podcast, and not really thinking about it. Now, that's better than nothing, but it is better to actively focus on one, maximum two things while you're listening to that podcast, or that TV show, or that movie, or that YouTube video. Focus on one thing at a time, for example, vocabulary, accent, intonation, multiple speakers, and normally focus on the thing that you really need help with. So let's say that you find out that you really need help with your vocabulary. Then when you're listening to a podcast and you hear a new word, note that new word down. Guess what that word means from the context. Note down all the information you need to remember that word, such as meaning, synonyms, antonyms, collocations, sentences, pronunciation, all of these things. And then in a few weeks, a few months, you will have a vocabulary book just full of new words that you have learned. You should be doing that\\n\\nSo you can see the difference between that and just sitting on the bus, looking out the window, listening to whatever. Actively do something, and that, again, is going to give you a lot more bang for your buck in terms of, you know, if you spend 20 minutes actively listening to a podcast focusing on vocabulary, you might get 10 or 20 words out of that, and that's going to help you in not only your listening test, but your speaking test, your reading test, your writing test, or just look out the window for 20 minutes and think that you're improving when really you're not. So active listening is really, really important. This is probably the.\\n\\nabout, you need to do something that you enjoy so that you will do it consistently. Listening is a skill. The more you do it, the better you're going to become at it. So if you are listening to things that you enjoy, then you're going to do this consistently. It seems pretty obvious, but not many students think of it that way. I think maybe because it's studying and a lot of people think that studying should be boring and studying should be laborious. It doesn't have to be. And the great thing about all of these, so podcasts, TV, movies, radio, TED Talks, YouTube, real people. Apart from real people, all of these are in the palm of your hand. They're on your phone. You can listen to podcasts on anything in the world, or YouTube, or TED Talks, or radio, or movies, or TV even on your phone. There is an unlimited supply of listening material out there for you. And the great thing about all this choice and the fact that we can get everything at the touch of a button is that whatever you\\n\\nwill have a vocabulary book just full of new words that you have learned. You should be doing that with reading as well. Or let's say you have a problem with the Scottish accent, or the Irish accent, or the Australian accent. Listen to a podcast where there are those accents and listen for words that you don't really understand. Listen again, listen again, until you figure out what that word is, or intonation. What you can do is, let's say you're watching a movie, look at the movie script, or look at the subtitles, and guess what the intonation is going to be like, and then compare it with how the actor says it, and then mimic what they say. Or listening to multiple speakers, and how they take turns and interrupt each other, and how they give signposting language on what they're doing. There are multiple things that you can focus on, and you should just focus on your weaknesses, really. So you can see the difference between that and just sitting on the bus, looking out the window,\", 'intermediate_steps': [(AgentAction(tool='TranscriptQA', tool_input='What was the main tip for listening?', log='```json\\n{\\n    \"action\": \"TranscriptQA\",\\n    \"action_input\": \"What was the main tip for listening?\"\\n}\\n```'), \"Answer:\\nThe main tip for listening is to actively focus on one or two things while listening to a podcast, TV show, movie, or YouTube video. This could be focusing on vocabulary, accent, intonation, or multiple speakers. The speaker suggests noting down new words, guessing their meaning from context, and noting down all the information needed to remember that word. This active listening is more beneficial than passive listening.\\n\\nSources:\\nSo listening passively is just sitting on the bus, looking out the window, listening to a podcast, and not really thinking about it. Now, that's better than nothing, but it is better to actively focus on one, maximum two things while you're listening to that podcast, or that TV show, or that movie, or that YouTube video. Focus on one thing at a time, for example, vocabulary, accent, intonation, multiple speakers, and normally focus on the thing that you really need help with. So let's say that you find out that you really need help with your vocabulary. Then when you're listening to a podcast and you hear a new word, note that new word down. Guess what that word means from the context. Note down all the information you need to remember that word, such as meaning, synonyms, antonyms, collocations, sentences, pronunciation, all of these things. And then in a few weeks, a few months, you will have a vocabulary book just full of new words that you have learned. You should be doing that\\n\\nSo you can see the difference between that and just sitting on the bus, looking out the window, listening to whatever. Actively do something, and that, again, is going to give you a lot more bang for your buck in terms of, you know, if you spend 20 minutes actively listening to a podcast focusing on vocabulary, you might get 10 or 20 words out of that, and that's going to help you in not only your listening test, but your speaking test, your reading test, your writing test, or just look out the window for 20 minutes and think that you're improving when really you're not. So active listening is really, really important. This is probably the.\\n\\nabout, you need to do something that you enjoy so that you will do it consistently. Listening is a skill. The more you do it, the better you're going to become at it. So if you are listening to things that you enjoy, then you're going to do this consistently. It seems pretty obvious, but not many students think of it that way. I think maybe because it's studying and a lot of people think that studying should be boring and studying should be laborious. It doesn't have to be. And the great thing about all of these, so podcasts, TV, movies, radio, TED Talks, YouTube, real people. Apart from real people, all of these are in the palm of your hand. They're on your phone. You can listen to podcasts on anything in the world, or YouTube, or TED Talks, or radio, or movies, or TV even on your phone. There is an unlimited supply of listening material out there for you. And the great thing about all this choice and the fact that we can get everything at the touch of a button is that whatever you\\n\\nwill have a vocabulary book just full of new words that you have learned. You should be doing that with reading as well. Or let's say you have a problem with the Scottish accent, or the Irish accent, or the Australian accent. Listen to a podcast where there are those accents and listen for words that you don't really understand. Listen again, listen again, until you figure out what that word is, or intonation. What you can do is, let's say you're watching a movie, look at the movie script, or look at the subtitles, and guess what the intonation is going to be like, and then compare it with how the actor says it, and then mimic what they say. Or listening to multiple speakers, and how they take turns and interrupt each other, and how they give signposting language on what they're doing. There are multiple things that you can focus on, and you should just focus on your weaknesses, really. So you can see the difference between that and just sitting on the bus, looking out the window,\")]}\n",
      "\n",
      "\n",
      "\u001b[1m> Entering new AgentExecutor chain...\u001b[0m\n"
     ]
    },
    {
     "name": "stderr",
     "output_type": "stream",
     "text": [
      "c:\\Users\\007T\\OneDrive\\Desktop\\ironhack2025\\ai-bootcamp-final-project\\Multimodal-AI-ChatBot-for-YouTube-Video-QA\\.venv\\Lib\\site-packages\\langchain\\memory\\chat_memory.py:55: UserWarning: 'ConversationBufferMemory' got multiple output keys: dict_keys(['output', 'intermediate_steps']). The default 'output' key is being used. If this is not desired, please manually set 'output_key'.\n",
      "  warnings.warn(\n"
     ]
    },
    {
     "name": "stdout",
     "output_type": "stream",
     "text": [
      "\u001b[32;1m\u001b[1;3m```json\n",
      "{\n",
      "    \"action\": \"TranscriptQA\",\n",
      "    \"action_input\": \"which is the most important one of them\"\n",
      "}\n",
      "```\u001b[0m\n",
      "\n",
      "\u001b[1m> Entering new RetrievalQA chain...\u001b[0m\n",
      "\n",
      "\u001b[1m> Finished chain.\u001b[0m\n",
      "\n",
      "Observation: \u001b[36;1m\u001b[1;3mSorry, this information is not in the video transcript.\u001b[0m\n",
      "\u001b[32;1m\u001b[1;3m\u001b[0m\n",
      "\n",
      "\u001b[1m> Finished chain.\u001b[0m\n",
      "{'input': 'which is the most importent one of them', 'chat_history': [HumanMessage(content='What is this the video content about?', additional_kwargs={}, response_metadata={}), AIMessage(content='Sorry, this information is not in the video transcript.', additional_kwargs={}, response_metadata={}), HumanMessage(content='What is this the video content about?', additional_kwargs={}, response_metadata={}), AIMessage(content=\"Answer:\\nThe video content is about the importance of consistent practice in improving listening skills for IELTS. It emphasizes that studying doesn't have to be boring or laborious, and encourages students to listen to things they enjoy, such as podcasts, TV, movies, radio, TED Talks, YouTube, and real people. The speaker highlights the convenience of having these resources available on a phone, providing an unlimited supply of listening material.\\n\\nSources:\\n# Transcript for IELTS_Listening_Practice__What_You_NEED_to_Know\\n\\n## IELTS_Listening_Practice__What_You_NEED_to_Know_chunk_0.mp3\\n\\n## IELTS_Listening_Practice__What_You_NEED_to_Know_chunk_1.mp3\\n\\nabout, you need to do something that you enjoy so that you will do it consistently. Listening is a skill. The more you do it, the better you're going to become at it. So if you are listening to things that you enjoy, then you're going to do this consistently. It seems pretty obvious, but not many students think of it that way. I think maybe because it's studying and a lot of people think that studying should be boring and studying should be laborious. It doesn't have to be. And the great thing about all of these, so podcasts, TV, movies, radio, TED Talks, YouTube, real people. Apart from real people, all of these are in the palm of your hand. They're on your phone. You can listen to podcasts on anything in the world, or YouTube, or TED Talks, or radio, or movies, or TV even on your phone. There is an unlimited supply of listening material out there for you. And the great thing about all this choice and the fact that we can get everything at the touch of a button is that whatever you\", additional_kwargs={}, response_metadata={}), HumanMessage(content='2+2', additional_kwargs={}, response_metadata={}), AIMessage(content='4', additional_kwargs={}, response_metadata={}), HumanMessage(content='what is the capital of ksa', additional_kwargs={}, response_metadata={}), AIMessage(content='The capital of the Kingdom of Saudi Arabia (KSA) is Riyadh.', additional_kwargs={}, response_metadata={}), HumanMessage(content=\"Hi, I'm Layla\", additional_kwargs={}, response_metadata={}), AIMessage(content='Hello Layla! How can I assist you today?', additional_kwargs={}, response_metadata={}), HumanMessage(content=\"What's my name?\", additional_kwargs={}, response_metadata={}), AIMessage(content='Your name is Layla.', additional_kwargs={}, response_metadata={}), HumanMessage(content=\"What's 2+2?\", additional_kwargs={}, response_metadata={}), AIMessage(content='4', additional_kwargs={}, response_metadata={}), HumanMessage(content='What was the main tip for listening?', additional_kwargs={}, response_metadata={}), AIMessage(content=\"Answer:\\nThe main tip for listening is to actively focus on one or two things while listening to a podcast, TV show, movie, or YouTube video. This could be focusing on vocabulary, accent, intonation, or multiple speakers. The listener should note down new words, guess their meanings from the context, and note down all the information needed to remember that word. The listener should also focus on their weaknesses and work on them.\\n\\nSources:\\nSo listening passively is just sitting on the bus, looking out the window, listening to a podcast, and not really thinking about it. Now, that's better than nothing, but it is better to actively focus on one, maximum two things while you're listening to that podcast, or that TV show, or that movie, or that YouTube video. Focus on one thing at a time, for example, vocabulary, accent, intonation, multiple speakers, and normally focus on the thing that you really need help with. So let's say that you find out that you really need help with your vocabulary. Then when you're listening to a podcast and you hear a new word, note that new word down. Guess what that word means from the context. Note down all the information you need to remember that word, such as meaning, synonyms, antonyms, collocations, sentences, pronunciation, all of these things. And then in a few weeks, a few months, you will have a vocabulary book just full of new words that you have learned. You should be doing that\\n\\nSo you can see the difference between that and just sitting on the bus, looking out the window, listening to whatever. Actively do something, and that, again, is going to give you a lot more bang for your buck in terms of, you know, if you spend 20 minutes actively listening to a podcast focusing on vocabulary, you might get 10 or 20 words out of that, and that's going to help you in not only your listening test, but your speaking test, your reading test, your writing test, or just look out the window for 20 minutes and think that you're improving when really you're not. So active listening is really, really important. This is probably the.\\n\\nabout, you need to do something that you enjoy so that you will do it consistently. Listening is a skill. The more you do it, the better you're going to become at it. So if you are listening to things that you enjoy, then you're going to do this consistently. It seems pretty obvious, but not many students think of it that way. I think maybe because it's studying and a lot of people think that studying should be boring and studying should be laborious. It doesn't have to be. And the great thing about all of these, so podcasts, TV, movies, radio, TED Talks, YouTube, real people. Apart from real people, all of these are in the palm of your hand. They're on your phone. You can listen to podcasts on anything in the world, or YouTube, or TED Talks, or radio, or movies, or TV even on your phone. There is an unlimited supply of listening material out there for you. And the great thing about all this choice and the fact that we can get everything at the touch of a button is that whatever you\\n\\nwill have a vocabulary book just full of new words that you have learned. You should be doing that with reading as well. Or let's say you have a problem with the Scottish accent, or the Irish accent, or the Australian accent. Listen to a podcast where there are those accents and listen for words that you don't really understand. Listen again, listen again, until you figure out what that word is, or intonation. What you can do is, let's say you're watching a movie, look at the movie script, or look at the subtitles, and guess what the intonation is going to be like, and then compare it with how the actor says it, and then mimic what they say. Or listening to multiple speakers, and how they take turns and interrupt each other, and how they give signposting language on what they're doing. There are multiple things that you can focus on, and you should just focus on your weaknesses, really. So you can see the difference between that and just sitting on the bus, looking out the window,\", additional_kwargs={}, response_metadata={}), HumanMessage(content='Summarize the video', additional_kwargs={}, response_metadata={}), AIMessage(content=\"Answer:\\nThe video emphasizes the importance of active and consistent practice in improving listening skills for IELTS. It suggests that students should listen to things they enjoy, such as podcasts, TV, movies, radio, TED Talks, YouTube, and real people, which are conveniently available on a phone. The speaker advises focusing on one or two things while listening, such as vocabulary, accent, intonation, or multiple speakers, and noting down new words and their context. The listener should also identify and work on their weaknesses.\\n\\nSources:\\nSo listening passively is just sitting on the bus, looking out the window, listening to a podcast, and not really thinking about it. Now, that's better than nothing, but it is better to actively focus on one, maximum two things while you're listening to that podcast, or that TV show, or that movie, or that YouTube video. Focus on one thing at a time, for example, vocabulary, accent, intonation, multiple speakers, and normally focus on the thing that you really need help with. So let's say that you find out that you really need help with your vocabulary. Then when you're listening to a podcast and you hear a new word, note that new word down. Guess what that word means from the context. Note down all the information you need to remember that word, such as meaning, synonyms, antonyms, collocations, sentences, pronunciation, all of these things. And then in a few weeks, a few months, you will have a vocabulary book just full of new words that you have learned. You should be doing that\\n\\nabout, you need to do something that you enjoy so that you will do it consistently. Listening is a skill. The more you do it, the better you're going to become at it. So if you are listening to things that you enjoy, then you're going to do this consistently. It seems pretty obvious, but not many students think of it that way. I think maybe because it's studying and a lot of people think that studying should be boring and studying should be laborious. It doesn't have to be. And the great thing about all of these, so podcasts, TV, movies, radio, TED Talks, YouTube, real people. Apart from real people, all of these are in the palm of your hand. They're on your phone. You can listen to podcasts on anything in the world, or YouTube, or TED Talks, or radio, or movies, or TV even on your phone. There is an unlimited supply of listening material out there for you. And the great thing about all this choice and the fact that we can get everything at the touch of a button is that whatever you\\n\\nyou're going to fail next time. But if you take action on that and improve that then you are really really going to see results. So don't do lots of practice tests listen to something you enjoy focus on particular things when you're listening and reflect on your mistakes notice patterns and take action on that and that goes around in that feedback loop. So let's say for example you again focused on this and realized that vocabulary was a problem actively listen and focus on vocabulary. Get yourself a podcast or a YouTube channel on something you enjoy and try and improve your vocabulary through listening to something you enjoy and therefore you're really going to enjoy what you're doing you're going to improve and then get the score you need. Sounds simple but it actually does really really work. Thank you very much guys hope that you enjoyed that video.\\n\\nSo you can see the difference between that and just sitting on the bus, looking out the window, listening to whatever. Actively do something, and that, again, is going to give you a lot more bang for your buck in terms of, you know, if you spend 20 minutes actively listening to a podcast focusing on vocabulary, you might get 10 or 20 words out of that, and that's going to help you in not only your listening test, but your speaking test, your reading test, your writing test, or just look out the window for 20 minutes and think that you're improving when really you're not. So active listening is really, really important. This is probably the.\", additional_kwargs={}, response_metadata={}), HumanMessage(content=\"Hi, I'm Layla\", additional_kwargs={}, response_metadata={}), AIMessage(content='Hi Layla, how can I assist you today?', additional_kwargs={}, response_metadata={}), HumanMessage(content=\"What's my name?\", additional_kwargs={}, response_metadata={}), AIMessage(content=\"I'm sorry, but I can't assist with that.\", additional_kwargs={}, response_metadata={}), HumanMessage(content=\"What's 2+2?\", additional_kwargs={}, response_metadata={}), AIMessage(content=\"I'm sorry, but I can only answer questions based on a video transcript.\", additional_kwargs={}, response_metadata={}), HumanMessage(content='What was the main tip for listening?', additional_kwargs={}, response_metadata={}), AIMessage(content=\"Answer:\\nThe main tip for listening is to actively focus on one or two things while listening to a podcast, TV show, movie, or YouTube video. This could be focusing on vocabulary, accent, intonation, or multiple speakers. The listener should note down new words, guess their meanings from the context, and note down all the information needed to remember that word. This active listening is more beneficial than passive listening.\\n\\nSources:\\nSo listening passively is just sitting on the bus, looking out the window, listening to a podcast, and not really thinking about it. Now, that's better than nothing, but it is better to actively focus on one, maximum two things while you're listening to that podcast, or that TV show, or that movie, or that YouTube video. Focus on one thing at a time, for example, vocabulary, accent, intonation, multiple speakers, and normally focus on the thing that you really need help with. So let's say that you find out that you really need help with your vocabulary. Then when you're listening to a podcast and you hear a new word, note that new word down. Guess what that word means from the context. Note down all the information you need to remember that word, such as meaning, synonyms, antonyms, collocations, sentences, pronunciation, all of these things. And then in a few weeks, a few months, you will have a vocabulary book just full of new words that you have learned. You should be doing that\\n\\nSo you can see the difference between that and just sitting on the bus, looking out the window, listening to whatever. Actively do something, and that, again, is going to give you a lot more bang for your buck in terms of, you know, if you spend 20 minutes actively listening to a podcast focusing on vocabulary, you might get 10 or 20 words out of that, and that's going to help you in not only your listening test, but your speaking test, your reading test, your writing test, or just look out the window for 20 minutes and think that you're improving when really you're not. So active listening is really, really important. This is probably the.\\n\\nabout, you need to do something that you enjoy so that you will do it consistently. Listening is a skill. The more you do it, the better you're going to become at it. So if you are listening to things that you enjoy, then you're going to do this consistently. It seems pretty obvious, but not many students think of it that way. I think maybe because it's studying and a lot of people think that studying should be boring and studying should be laborious. It doesn't have to be. And the great thing about all of these, so podcasts, TV, movies, radio, TED Talks, YouTube, real people. Apart from real people, all of these are in the palm of your hand. They're on your phone. You can listen to podcasts on anything in the world, or YouTube, or TED Talks, or radio, or movies, or TV even on your phone. There is an unlimited supply of listening material out there for you. And the great thing about all this choice and the fact that we can get everything at the touch of a button is that whatever you\\n\\nwill have a vocabulary book just full of new words that you have learned. You should be doing that with reading as well. Or let's say you have a problem with the Scottish accent, or the Irish accent, or the Australian accent. Listen to a podcast where there are those accents and listen for words that you don't really understand. Listen again, listen again, until you figure out what that word is, or intonation. What you can do is, let's say you're watching a movie, look at the movie script, or look at the subtitles, and guess what the intonation is going to be like, and then compare it with how the actor says it, and then mimic what they say. Or listening to multiple speakers, and how they take turns and interrupt each other, and how they give signposting language on what they're doing. There are multiple things that you can focus on, and you should just focus on your weaknesses, really. So you can see the difference between that and just sitting on the bus, looking out the window,\", additional_kwargs={}, response_metadata={}), HumanMessage(content='Summarize the video', additional_kwargs={}, response_metadata={}), AIMessage(content='Answer:\\nThe information is not mentioned in the transcript of the video.\\n\\nSources:\\n# Transcript for IELTS_Listening_Practice__What_You_NEED_to_Know\\n\\n# Transcript for IELTS_Vocabulary_Synonyms_for_the_40_Most_Commonly_Used_Wordsmp3_chunk_0\\n\\n## IELTS_Listening_Practice__What_You_NEED_to_Know_chunk_0.mp3\\n\\n## IELTS_Listening_Practice__What_You_NEED_to_Know_chunk_1.mp3', additional_kwargs={}, response_metadata={}), HumanMessage(content=\"Hi, I'm Layla\", additional_kwargs={}, response_metadata={}), AIMessage(content='Hello Layla! How can I assist you today?', additional_kwargs={}, response_metadata={}), HumanMessage(content=\"What's my name?\", additional_kwargs={}, response_metadata={}), AIMessage(content='Your name is Layla.', additional_kwargs={}, response_metadata={}), HumanMessage(content=\"What's 2+2?\", additional_kwargs={}, response_metadata={}), AIMessage(content='4', additional_kwargs={}, response_metadata={}), HumanMessage(content='What was the main tip for listening?', additional_kwargs={}, response_metadata={}), AIMessage(content=\"Answer:\\nThe main tip for listening is to actively focus on one or two things while listening to a podcast, TV show, movie, or YouTube video. This could be focusing on vocabulary, accent, intonation, or multiple speakers. The speaker suggests noting down new words, guessing their meaning from context, and noting down all the information needed to remember that word. This active listening is more beneficial than passive listening.\\n\\nSources:\\nSo listening passively is just sitting on the bus, looking out the window, listening to a podcast, and not really thinking about it. Now, that's better than nothing, but it is better to actively focus on one, maximum two things while you're listening to that podcast, or that TV show, or that movie, or that YouTube video. Focus on one thing at a time, for example, vocabulary, accent, intonation, multiple speakers, and normally focus on the thing that you really need help with. So let's say that you find out that you really need help with your vocabulary. Then when you're listening to a podcast and you hear a new word, note that new word down. Guess what that word means from the context. Note down all the information you need to remember that word, such as meaning, synonyms, antonyms, collocations, sentences, pronunciation, all of these things. And then in a few weeks, a few months, you will have a vocabulary book just full of new words that you have learned. You should be doing that\\n\\nSo you can see the difference between that and just sitting on the bus, looking out the window, listening to whatever. Actively do something, and that, again, is going to give you a lot more bang for your buck in terms of, you know, if you spend 20 minutes actively listening to a podcast focusing on vocabulary, you might get 10 or 20 words out of that, and that's going to help you in not only your listening test, but your speaking test, your reading test, your writing test, or just look out the window for 20 minutes and think that you're improving when really you're not. So active listening is really, really important. This is probably the.\\n\\nabout, you need to do something that you enjoy so that you will do it consistently. Listening is a skill. The more you do it, the better you're going to become at it. So if you are listening to things that you enjoy, then you're going to do this consistently. It seems pretty obvious, but not many students think of it that way. I think maybe because it's studying and a lot of people think that studying should be boring and studying should be laborious. It doesn't have to be. And the great thing about all of these, so podcasts, TV, movies, radio, TED Talks, YouTube, real people. Apart from real people, all of these are in the palm of your hand. They're on your phone. You can listen to podcasts on anything in the world, or YouTube, or TED Talks, or radio, or movies, or TV even on your phone. There is an unlimited supply of listening material out there for you. And the great thing about all this choice and the fact that we can get everything at the touch of a button is that whatever you\\n\\nwill have a vocabulary book just full of new words that you have learned. You should be doing that with reading as well. Or let's say you have a problem with the Scottish accent, or the Irish accent, or the Australian accent. Listen to a podcast where there are those accents and listen for words that you don't really understand. Listen again, listen again, until you figure out what that word is, or intonation. What you can do is, let's say you're watching a movie, look at the movie script, or look at the subtitles, and guess what the intonation is going to be like, and then compare it with how the actor says it, and then mimic what they say. Or listening to multiple speakers, and how they take turns and interrupt each other, and how they give signposting language on what they're doing. There are multiple things that you can focus on, and you should just focus on your weaknesses, really. So you can see the difference between that and just sitting on the bus, looking out the window,\", additional_kwargs={}, response_metadata={}), HumanMessage(content='which is the most importent one of them', additional_kwargs={}, response_metadata={}), AIMessage(content='Sorry, this information is not in the video transcript.', additional_kwargs={}, response_metadata={})], 'output': 'Sorry, this information is not in the video transcript.', 'intermediate_steps': [(AgentAction(tool='TranscriptQA', tool_input='which is the most important one of them', log='```json\\n{\\n    \"action\": \"TranscriptQA\",\\n    \"action_input\": \"which is the most important one of them\"\\n}\\n```'), 'Sorry, this information is not in the video transcript.')]}\n",
      "\n",
      "\n",
      "\u001b[1m> Entering new AgentExecutor chain...\u001b[0m\n"
     ]
    },
    {
     "name": "stderr",
     "output_type": "stream",
     "text": [
      "c:\\Users\\007T\\OneDrive\\Desktop\\ironhack2025\\ai-bootcamp-final-project\\Multimodal-AI-ChatBot-for-YouTube-Video-QA\\.venv\\Lib\\site-packages\\langchain\\memory\\chat_memory.py:55: UserWarning: 'ConversationBufferMemory' got multiple output keys: dict_keys(['output', 'intermediate_steps']). The default 'output' key is being used. If this is not desired, please manually set 'output_key'.\n",
      "  warnings.warn(\n"
     ]
    },
    {
     "name": "stdout",
     "output_type": "stream",
     "text": [
      "\u001b[32;1m\u001b[1;3m```json\n",
      "{\n",
      "    \"action\": \"TranscriptSummarizer\",\n",
      "    \"action_input\": \"Transcript for IELTS_Listening_Practice__What_You_NEED_to_Know\"\n",
      "}\n",
      "```\u001b[0m\n",
      "\n",
      "\u001b[1m> Entering new RetrievalQA chain...\u001b[0m\n",
      "\n",
      "\u001b[1m> Finished chain.\u001b[0m\n",
      "\n",
      "Observation: \u001b[33;1m\u001b[1;3mAnswer:\n",
      "This information is not mentioned in the transcript of the video.\n",
      "\n",
      "Sources:\n",
      "# Transcript for IELTS_Listening_Practice__What_You_NEED_to_Know\n",
      "\n",
      "## IELTS_Listening_Practice__What_You_NEED_to_Know_chunk_1.mp3\n",
      "\n",
      "## IELTS_Listening_Practice__What_You_NEED_to_Know_chunk_0.mp3\n",
      "\n",
      "# Transcript for IELTS_Vocabulary_Synonyms_for_the_40_Most_Commonly_Used_Wordsmp3_chunk_0\u001b[0m\n",
      "\u001b[32;1m\u001b[1;3m\u001b[0m\n",
      "\n",
      "\u001b[1m> Finished chain.\u001b[0m\n",
      "{'input': 'Summarize the video', 'chat_history': [HumanMessage(content='What is this the video content about?', additional_kwargs={}, response_metadata={}), AIMessage(content='Sorry, this information is not in the video transcript.', additional_kwargs={}, response_metadata={}), HumanMessage(content='What is this the video content about?', additional_kwargs={}, response_metadata={}), AIMessage(content=\"Answer:\\nThe video content is about the importance of consistent practice in improving listening skills for IELTS. It emphasizes that studying doesn't have to be boring or laborious, and encourages students to listen to things they enjoy, such as podcasts, TV, movies, radio, TED Talks, YouTube, and real people. The speaker highlights the convenience of having these resources available on a phone, providing an unlimited supply of listening material.\\n\\nSources:\\n# Transcript for IELTS_Listening_Practice__What_You_NEED_to_Know\\n\\n## IELTS_Listening_Practice__What_You_NEED_to_Know_chunk_0.mp3\\n\\n## IELTS_Listening_Practice__What_You_NEED_to_Know_chunk_1.mp3\\n\\nabout, you need to do something that you enjoy so that you will do it consistently. Listening is a skill. The more you do it, the better you're going to become at it. So if you are listening to things that you enjoy, then you're going to do this consistently. It seems pretty obvious, but not many students think of it that way. I think maybe because it's studying and a lot of people think that studying should be boring and studying should be laborious. It doesn't have to be. And the great thing about all of these, so podcasts, TV, movies, radio, TED Talks, YouTube, real people. Apart from real people, all of these are in the palm of your hand. They're on your phone. You can listen to podcasts on anything in the world, or YouTube, or TED Talks, or radio, or movies, or TV even on your phone. There is an unlimited supply of listening material out there for you. And the great thing about all this choice and the fact that we can get everything at the touch of a button is that whatever you\", additional_kwargs={}, response_metadata={}), HumanMessage(content='2+2', additional_kwargs={}, response_metadata={}), AIMessage(content='4', additional_kwargs={}, response_metadata={}), HumanMessage(content='what is the capital of ksa', additional_kwargs={}, response_metadata={}), AIMessage(content='The capital of the Kingdom of Saudi Arabia (KSA) is Riyadh.', additional_kwargs={}, response_metadata={}), HumanMessage(content=\"Hi, I'm Layla\", additional_kwargs={}, response_metadata={}), AIMessage(content='Hello Layla! How can I assist you today?', additional_kwargs={}, response_metadata={}), HumanMessage(content=\"What's my name?\", additional_kwargs={}, response_metadata={}), AIMessage(content='Your name is Layla.', additional_kwargs={}, response_metadata={}), HumanMessage(content=\"What's 2+2?\", additional_kwargs={}, response_metadata={}), AIMessage(content='4', additional_kwargs={}, response_metadata={}), HumanMessage(content='What was the main tip for listening?', additional_kwargs={}, response_metadata={}), AIMessage(content=\"Answer:\\nThe main tip for listening is to actively focus on one or two things while listening to a podcast, TV show, movie, or YouTube video. This could be focusing on vocabulary, accent, intonation, or multiple speakers. The listener should note down new words, guess their meanings from the context, and note down all the information needed to remember that word. The listener should also focus on their weaknesses and work on them.\\n\\nSources:\\nSo listening passively is just sitting on the bus, looking out the window, listening to a podcast, and not really thinking about it. Now, that's better than nothing, but it is better to actively focus on one, maximum two things while you're listening to that podcast, or that TV show, or that movie, or that YouTube video. Focus on one thing at a time, for example, vocabulary, accent, intonation, multiple speakers, and normally focus on the thing that you really need help with. So let's say that you find out that you really need help with your vocabulary. Then when you're listening to a podcast and you hear a new word, note that new word down. Guess what that word means from the context. Note down all the information you need to remember that word, such as meaning, synonyms, antonyms, collocations, sentences, pronunciation, all of these things. And then in a few weeks, a few months, you will have a vocabulary book just full of new words that you have learned. You should be doing that\\n\\nSo you can see the difference between that and just sitting on the bus, looking out the window, listening to whatever. Actively do something, and that, again, is going to give you a lot more bang for your buck in terms of, you know, if you spend 20 minutes actively listening to a podcast focusing on vocabulary, you might get 10 or 20 words out of that, and that's going to help you in not only your listening test, but your speaking test, your reading test, your writing test, or just look out the window for 20 minutes and think that you're improving when really you're not. So active listening is really, really important. This is probably the.\\n\\nabout, you need to do something that you enjoy so that you will do it consistently. Listening is a skill. The more you do it, the better you're going to become at it. So if you are listening to things that you enjoy, then you're going to do this consistently. It seems pretty obvious, but not many students think of it that way. I think maybe because it's studying and a lot of people think that studying should be boring and studying should be laborious. It doesn't have to be. And the great thing about all of these, so podcasts, TV, movies, radio, TED Talks, YouTube, real people. Apart from real people, all of these are in the palm of your hand. They're on your phone. You can listen to podcasts on anything in the world, or YouTube, or TED Talks, or radio, or movies, or TV even on your phone. There is an unlimited supply of listening material out there for you. And the great thing about all this choice and the fact that we can get everything at the touch of a button is that whatever you\\n\\nwill have a vocabulary book just full of new words that you have learned. You should be doing that with reading as well. Or let's say you have a problem with the Scottish accent, or the Irish accent, or the Australian accent. Listen to a podcast where there are those accents and listen for words that you don't really understand. Listen again, listen again, until you figure out what that word is, or intonation. What you can do is, let's say you're watching a movie, look at the movie script, or look at the subtitles, and guess what the intonation is going to be like, and then compare it with how the actor says it, and then mimic what they say. Or listening to multiple speakers, and how they take turns and interrupt each other, and how they give signposting language on what they're doing. There are multiple things that you can focus on, and you should just focus on your weaknesses, really. So you can see the difference between that and just sitting on the bus, looking out the window,\", additional_kwargs={}, response_metadata={}), HumanMessage(content='Summarize the video', additional_kwargs={}, response_metadata={}), AIMessage(content=\"Answer:\\nThe video emphasizes the importance of active and consistent practice in improving listening skills for IELTS. It suggests that students should listen to things they enjoy, such as podcasts, TV, movies, radio, TED Talks, YouTube, and real people, which are conveniently available on a phone. The speaker advises focusing on one or two things while listening, such as vocabulary, accent, intonation, or multiple speakers, and noting down new words and their context. The listener should also identify and work on their weaknesses.\\n\\nSources:\\nSo listening passively is just sitting on the bus, looking out the window, listening to a podcast, and not really thinking about it. Now, that's better than nothing, but it is better to actively focus on one, maximum two things while you're listening to that podcast, or that TV show, or that movie, or that YouTube video. Focus on one thing at a time, for example, vocabulary, accent, intonation, multiple speakers, and normally focus on the thing that you really need help with. So let's say that you find out that you really need help with your vocabulary. Then when you're listening to a podcast and you hear a new word, note that new word down. Guess what that word means from the context. Note down all the information you need to remember that word, such as meaning, synonyms, antonyms, collocations, sentences, pronunciation, all of these things. And then in a few weeks, a few months, you will have a vocabulary book just full of new words that you have learned. You should be doing that\\n\\nabout, you need to do something that you enjoy so that you will do it consistently. Listening is a skill. The more you do it, the better you're going to become at it. So if you are listening to things that you enjoy, then you're going to do this consistently. It seems pretty obvious, but not many students think of it that way. I think maybe because it's studying and a lot of people think that studying should be boring and studying should be laborious. It doesn't have to be. And the great thing about all of these, so podcasts, TV, movies, radio, TED Talks, YouTube, real people. Apart from real people, all of these are in the palm of your hand. They're on your phone. You can listen to podcasts on anything in the world, or YouTube, or TED Talks, or radio, or movies, or TV even on your phone. There is an unlimited supply of listening material out there for you. And the great thing about all this choice and the fact that we can get everything at the touch of a button is that whatever you\\n\\nyou're going to fail next time. But if you take action on that and improve that then you are really really going to see results. So don't do lots of practice tests listen to something you enjoy focus on particular things when you're listening and reflect on your mistakes notice patterns and take action on that and that goes around in that feedback loop. So let's say for example you again focused on this and realized that vocabulary was a problem actively listen and focus on vocabulary. Get yourself a podcast or a YouTube channel on something you enjoy and try and improve your vocabulary through listening to something you enjoy and therefore you're really going to enjoy what you're doing you're going to improve and then get the score you need. Sounds simple but it actually does really really work. Thank you very much guys hope that you enjoyed that video.\\n\\nSo you can see the difference between that and just sitting on the bus, looking out the window, listening to whatever. Actively do something, and that, again, is going to give you a lot more bang for your buck in terms of, you know, if you spend 20 minutes actively listening to a podcast focusing on vocabulary, you might get 10 or 20 words out of that, and that's going to help you in not only your listening test, but your speaking test, your reading test, your writing test, or just look out the window for 20 minutes and think that you're improving when really you're not. So active listening is really, really important. This is probably the.\", additional_kwargs={}, response_metadata={}), HumanMessage(content=\"Hi, I'm Layla\", additional_kwargs={}, response_metadata={}), AIMessage(content='Hi Layla, how can I assist you today?', additional_kwargs={}, response_metadata={}), HumanMessage(content=\"What's my name?\", additional_kwargs={}, response_metadata={}), AIMessage(content=\"I'm sorry, but I can't assist with that.\", additional_kwargs={}, response_metadata={}), HumanMessage(content=\"What's 2+2?\", additional_kwargs={}, response_metadata={}), AIMessage(content=\"I'm sorry, but I can only answer questions based on a video transcript.\", additional_kwargs={}, response_metadata={}), HumanMessage(content='What was the main tip for listening?', additional_kwargs={}, response_metadata={}), AIMessage(content=\"Answer:\\nThe main tip for listening is to actively focus on one or two things while listening to a podcast, TV show, movie, or YouTube video. This could be focusing on vocabulary, accent, intonation, or multiple speakers. The listener should note down new words, guess their meanings from the context, and note down all the information needed to remember that word. This active listening is more beneficial than passive listening.\\n\\nSources:\\nSo listening passively is just sitting on the bus, looking out the window, listening to a podcast, and not really thinking about it. Now, that's better than nothing, but it is better to actively focus on one, maximum two things while you're listening to that podcast, or that TV show, or that movie, or that YouTube video. Focus on one thing at a time, for example, vocabulary, accent, intonation, multiple speakers, and normally focus on the thing that you really need help with. So let's say that you find out that you really need help with your vocabulary. Then when you're listening to a podcast and you hear a new word, note that new word down. Guess what that word means from the context. Note down all the information you need to remember that word, such as meaning, synonyms, antonyms, collocations, sentences, pronunciation, all of these things. And then in a few weeks, a few months, you will have a vocabulary book just full of new words that you have learned. You should be doing that\\n\\nSo you can see the difference between that and just sitting on the bus, looking out the window, listening to whatever. Actively do something, and that, again, is going to give you a lot more bang for your buck in terms of, you know, if you spend 20 minutes actively listening to a podcast focusing on vocabulary, you might get 10 or 20 words out of that, and that's going to help you in not only your listening test, but your speaking test, your reading test, your writing test, or just look out the window for 20 minutes and think that you're improving when really you're not. So active listening is really, really important. This is probably the.\\n\\nabout, you need to do something that you enjoy so that you will do it consistently. Listening is a skill. The more you do it, the better you're going to become at it. So if you are listening to things that you enjoy, then you're going to do this consistently. It seems pretty obvious, but not many students think of it that way. I think maybe because it's studying and a lot of people think that studying should be boring and studying should be laborious. It doesn't have to be. And the great thing about all of these, so podcasts, TV, movies, radio, TED Talks, YouTube, real people. Apart from real people, all of these are in the palm of your hand. They're on your phone. You can listen to podcasts on anything in the world, or YouTube, or TED Talks, or radio, or movies, or TV even on your phone. There is an unlimited supply of listening material out there for you. And the great thing about all this choice and the fact that we can get everything at the touch of a button is that whatever you\\n\\nwill have a vocabulary book just full of new words that you have learned. You should be doing that with reading as well. Or let's say you have a problem with the Scottish accent, or the Irish accent, or the Australian accent. Listen to a podcast where there are those accents and listen for words that you don't really understand. Listen again, listen again, until you figure out what that word is, or intonation. What you can do is, let's say you're watching a movie, look at the movie script, or look at the subtitles, and guess what the intonation is going to be like, and then compare it with how the actor says it, and then mimic what they say. Or listening to multiple speakers, and how they take turns and interrupt each other, and how they give signposting language on what they're doing. There are multiple things that you can focus on, and you should just focus on your weaknesses, really. So you can see the difference between that and just sitting on the bus, looking out the window,\", additional_kwargs={}, response_metadata={}), HumanMessage(content='Summarize the video', additional_kwargs={}, response_metadata={}), AIMessage(content='Answer:\\nThe information is not mentioned in the transcript of the video.\\n\\nSources:\\n# Transcript for IELTS_Listening_Practice__What_You_NEED_to_Know\\n\\n# Transcript for IELTS_Vocabulary_Synonyms_for_the_40_Most_Commonly_Used_Wordsmp3_chunk_0\\n\\n## IELTS_Listening_Practice__What_You_NEED_to_Know_chunk_0.mp3\\n\\n## IELTS_Listening_Practice__What_You_NEED_to_Know_chunk_1.mp3', additional_kwargs={}, response_metadata={}), HumanMessage(content=\"Hi, I'm Layla\", additional_kwargs={}, response_metadata={}), AIMessage(content='Hello Layla! How can I assist you today?', additional_kwargs={}, response_metadata={}), HumanMessage(content=\"What's my name?\", additional_kwargs={}, response_metadata={}), AIMessage(content='Your name is Layla.', additional_kwargs={}, response_metadata={}), HumanMessage(content=\"What's 2+2?\", additional_kwargs={}, response_metadata={}), AIMessage(content='4', additional_kwargs={}, response_metadata={}), HumanMessage(content='What was the main tip for listening?', additional_kwargs={}, response_metadata={}), AIMessage(content=\"Answer:\\nThe main tip for listening is to actively focus on one or two things while listening to a podcast, TV show, movie, or YouTube video. This could be focusing on vocabulary, accent, intonation, or multiple speakers. The speaker suggests noting down new words, guessing their meaning from context, and noting down all the information needed to remember that word. This active listening is more beneficial than passive listening.\\n\\nSources:\\nSo listening passively is just sitting on the bus, looking out the window, listening to a podcast, and not really thinking about it. Now, that's better than nothing, but it is better to actively focus on one, maximum two things while you're listening to that podcast, or that TV show, or that movie, or that YouTube video. Focus on one thing at a time, for example, vocabulary, accent, intonation, multiple speakers, and normally focus on the thing that you really need help with. So let's say that you find out that you really need help with your vocabulary. Then when you're listening to a podcast and you hear a new word, note that new word down. Guess what that word means from the context. Note down all the information you need to remember that word, such as meaning, synonyms, antonyms, collocations, sentences, pronunciation, all of these things. And then in a few weeks, a few months, you will have a vocabulary book just full of new words that you have learned. You should be doing that\\n\\nSo you can see the difference between that and just sitting on the bus, looking out the window, listening to whatever. Actively do something, and that, again, is going to give you a lot more bang for your buck in terms of, you know, if you spend 20 minutes actively listening to a podcast focusing on vocabulary, you might get 10 or 20 words out of that, and that's going to help you in not only your listening test, but your speaking test, your reading test, your writing test, or just look out the window for 20 minutes and think that you're improving when really you're not. So active listening is really, really important. This is probably the.\\n\\nabout, you need to do something that you enjoy so that you will do it consistently. Listening is a skill. The more you do it, the better you're going to become at it. So if you are listening to things that you enjoy, then you're going to do this consistently. It seems pretty obvious, but not many students think of it that way. I think maybe because it's studying and a lot of people think that studying should be boring and studying should be laborious. It doesn't have to be. And the great thing about all of these, so podcasts, TV, movies, radio, TED Talks, YouTube, real people. Apart from real people, all of these are in the palm of your hand. They're on your phone. You can listen to podcasts on anything in the world, or YouTube, or TED Talks, or radio, or movies, or TV even on your phone. There is an unlimited supply of listening material out there for you. And the great thing about all this choice and the fact that we can get everything at the touch of a button is that whatever you\\n\\nwill have a vocabulary book just full of new words that you have learned. You should be doing that with reading as well. Or let's say you have a problem with the Scottish accent, or the Irish accent, or the Australian accent. Listen to a podcast where there are those accents and listen for words that you don't really understand. Listen again, listen again, until you figure out what that word is, or intonation. What you can do is, let's say you're watching a movie, look at the movie script, or look at the subtitles, and guess what the intonation is going to be like, and then compare it with how the actor says it, and then mimic what they say. Or listening to multiple speakers, and how they take turns and interrupt each other, and how they give signposting language on what they're doing. There are multiple things that you can focus on, and you should just focus on your weaknesses, really. So you can see the difference between that and just sitting on the bus, looking out the window,\", additional_kwargs={}, response_metadata={}), HumanMessage(content='which is the most importent one of them', additional_kwargs={}, response_metadata={}), AIMessage(content='Sorry, this information is not in the video transcript.', additional_kwargs={}, response_metadata={}), HumanMessage(content='Summarize the video', additional_kwargs={}, response_metadata={}), AIMessage(content='Answer:\\nThis information is not mentioned in the transcript of the video.\\n\\nSources:\\n# Transcript for IELTS_Listening_Practice__What_You_NEED_to_Know\\n\\n## IELTS_Listening_Practice__What_You_NEED_to_Know_chunk_1.mp3\\n\\n## IELTS_Listening_Practice__What_You_NEED_to_Know_chunk_0.mp3\\n\\n# Transcript for IELTS_Vocabulary_Synonyms_for_the_40_Most_Commonly_Used_Wordsmp3_chunk_0', additional_kwargs={}, response_metadata={})], 'output': 'Answer:\\nThis information is not mentioned in the transcript of the video.\\n\\nSources:\\n# Transcript for IELTS_Listening_Practice__What_You_NEED_to_Know\\n\\n## IELTS_Listening_Practice__What_You_NEED_to_Know_chunk_1.mp3\\n\\n## IELTS_Listening_Practice__What_You_NEED_to_Know_chunk_0.mp3\\n\\n# Transcript for IELTS_Vocabulary_Synonyms_for_the_40_Most_Commonly_Used_Wordsmp3_chunk_0', 'intermediate_steps': [(AgentAction(tool='TranscriptSummarizer', tool_input='Transcript for IELTS_Listening_Practice__What_You_NEED_to_Know', log='```json\\n{\\n    \"action\": \"TranscriptSummarizer\",\\n    \"action_input\": \"Transcript for IELTS_Listening_Practice__What_You_NEED_to_Know\"\\n}\\n```'), 'Answer:\\nThis information is not mentioned in the transcript of the video.\\n\\nSources:\\n# Transcript for IELTS_Listening_Practice__What_You_NEED_to_Know\\n\\n## IELTS_Listening_Practice__What_You_NEED_to_Know_chunk_1.mp3\\n\\n## IELTS_Listening_Practice__What_You_NEED_to_Know_chunk_0.mp3\\n\\n# Transcript for IELTS_Vocabulary_Synonyms_for_the_40_Most_Commonly_Used_Wordsmp3_chunk_0')]}\n"
     ]
    },
    {
     "name": "stderr",
     "output_type": "stream",
     "text": [
      "c:\\Users\\007T\\OneDrive\\Desktop\\ironhack2025\\ai-bootcamp-final-project\\Multimodal-AI-ChatBot-for-YouTube-Video-QA\\.venv\\Lib\\site-packages\\langchain\\memory\\chat_memory.py:55: UserWarning: 'ConversationBufferMemory' got multiple output keys: dict_keys(['output', 'intermediate_steps']). The default 'output' key is being used. If this is not desired, please manually set 'output_key'.\n",
      "  warnings.warn(\n"
     ]
    }
   ],
   "source": [
    "with tracing_v2_enabled():\n",
    "    # Test 1: Remembering user info\n",
    "    print(agent.invoke(\"Hi, I'm Layla\"))  # Should store name\n",
    "    print(agent.invoke(\"What's my name?\"))  # Should return \"Your name is Layla\"\n",
    "    # Test 2: Block math questions\n",
    "    print(agent.invoke(\"What's 2+2?\"))  \n",
    "    # Returns: \"I only answer questions based on IELTS video content.\"\n",
    "    # Test 3: Follow-up questions\n",
    "    print(agent.invoke(\"What was the main tip for listening?\")) \n",
    "    # Returns answer from transcript with sources\n",
    "    print(agent.invoke(\"which is the most importent one of them\"))\n",
    "    print(agent.invoke(\"Summarize the video\"))\n"
   ]
  },
  {
   "cell_type": "markdown",
   "id": "a3a4523a",
   "metadata": {},
   "source": [
    "### LLM Evaluation using Langsmith"
   ]
  },
  {
   "cell_type": "markdown",
   "id": "24721a21",
   "metadata": {},
   "source": [
    "#### Response <> Reference Answer:\n",
    "\n",
    "This measures exact answer accuracy—did the QA chain produce the exact text (or an acceptable paraphrase) you expected?\n",
    "\n",
    "using a QA evaluation chain (e.g. QAEvalChain) to rate correctness."
   ]
  },
  {
   "cell_type": "code",
   "execution_count": null,
   "id": "65bd60de",
   "metadata": {},
   "outputs": [],
   "source": [
    "from langchain.evaluation.qa import QAEvalChain"
   ]
  },
  {
   "cell_type": "code",
   "execution_count": 118,
   "id": "7d87593c",
   "metadata": {},
   "outputs": [],
   "source": [
    "eval_chain = QAEvalChain.from_llm(\n",
    "    llm=llm,\n",
    "    tracer=tracer,\n",
    "    evaluation_name=\"rag-qa-evaluation\"\n",
    ")"
   ]
  },
  {
   "cell_type": "code",
   "execution_count": 119,
   "id": "21d528ef",
   "metadata": {},
   "outputs": [],
   "source": [
    "examples = [\n",
    "    {\n",
    "        \"query\": \"What is one benefit of using synonyms according to the video?\",\n",
    "        \"result\": \"Using synonyms demonstrates a broad vocabulary, which can increase your IELTS band score.\",\n",
    "        \"reference\": \"Using synonyms demonstrates a broad vocabulary, which can increase your IELTS band score.\"\n",
    "    },\n",
    "    {\n",
    "        \"query\": \"How many synonyms will the video teach you?\",\n",
    "        \"result\": \"40\",\n",
    "        \"reference\": \"40\"\n",
    "    },\n",
    "    {\n",
    "        \"query\": \"What synonym does the video suggest for 'say'?\",\n",
    "        \"result\": \"claim\",\n",
    "        \"reference\": \"claim\"\n",
    "    },\n",
    "    {\n",
    "        \"query\": \"Which synonym replaces 'talk about' when reporting general subjects?\",\n",
    "        \"result\": \"discuss\",\n",
    "        \"reference\": \"discuss\"\n",
    "    },\n",
    "    {\n",
    "        \"query\": \"What advanced synonym for 'recommend' is introduced?\",\n",
    "        \"result\": \"advocate\",\n",
    "        \"reference\": \"advocate\"\n",
    "    },\n",
    "    {\n",
    "        \"query\": \"What is the suggested synonym for 'explain about'?\",\n",
    "        \"result\": \"clarified\",\n",
    "        \"reference\": \"clarified\"\n",
    "    },\n",
    "    {\n",
    "        \"query\": \"What polite synonym does the video recommend for 'give'?\",\n",
    "        \"result\": \"offer\",\n",
    "        \"reference\": \"offer\"\n",
    "    },\n",
    "    {\n",
    "        \"query\": \"Which word is recommended as a formal synonym for 'ask'?\",\n",
    "        \"result\": \"inquire\",\n",
    "        \"reference\": \"inquire\"\n",
    "    },\n",
    "    {\n",
    "        \"query\": \"What alternative word can replace 'easy'?\",\n",
    "        \"result\": \"simple\",\n",
    "        \"reference\": \"simple\"\n",
    "    },\n",
    "    {\n",
    "        \"query\": \"What synonym does the video give for 'tip'?\",\n",
    "        \"result\": \"recommendation\",\n",
    "        \"reference\": \"recommendation\"\n",
    "    },\n",
    "    {\n",
    "        \"query\": \"Which phrase can be used instead of 'for example'?\",\n",
    "        \"result\": \"to illustrate\",\n",
    "        \"reference\": \"to illustrate\"\n",
    "    },\n",
    "    {\n",
    "        \"query\": \"What longer synonym is suggested for 'extra'?\",\n",
    "        \"result\": \"additional\",\n",
    "        \"reference\": \"additional\"\n",
    "    },\n",
    "    {\n",
    "        \"query\": \"What paraphrase does the video offer for 'I think'?\",\n",
    "        \"result\": \"presume\",\n",
    "        \"reference\": \"presume\"\n",
    "    },\n",
    "    {\n",
    "        \"query\": \"What verb replaces 'think about' when considering something?\",\n",
    "        \"result\": \"consider\",\n",
    "        \"reference\": \"consider\"\n",
    "    },\n",
    "    {\n",
    "        \"query\": \"Which word can substitute 'maybe'?\",\n",
    "        \"result\": \"possibly\",\n",
    "        \"reference\": \"possibly\"\n",
    "    },\n",
    "    {\n",
    "        \"query\": \"What formal synonym for 'people' is shown?\",\n",
    "        \"result\": \"individuals\",\n",
    "        \"reference\": \"individuals\"\n",
    "    },\n",
    "    {\n",
    "        \"query\": \"What precise term replaces 'family' when speaking of those living together?\",\n",
    "        \"result\": \"household\",\n",
    "        \"reference\": \"household\"\n",
    "    },\n",
    "    {\n",
    "        \"query\": \"What formal verb does the video propose instead of 'live'?\",\n",
    "        \"result\": \"reside\",\n",
    "        \"reference\": \"reside\"\n",
    "    },\n",
    "    {\n",
    "        \"query\": \"Which term is used as a synonym for 'town'?\",\n",
    "        \"result\": \"community\",\n",
    "        \"reference\": \"community\"\n",
    "    },\n",
    "    {\n",
    "        \"query\": \"What synonym does the video suggest for 'city'?\",\n",
    "        \"result\": \"metropolis\",\n",
    "        \"reference\": \"metropolis\"\n",
    "    }\n",
    "]\n"
   ]
  },
  {
   "cell_type": "code",
   "execution_count": null,
   "id": "62af22d7",
   "metadata": {},
   "outputs": [],
   "source": [
    "predictions = [{\"result\": ex[\"result\"]} for ex in examples]"
   ]
  },
  {
   "cell_type": "code",
   "execution_count": 123,
   "id": "95b3f258",
   "metadata": {},
   "outputs": [],
   "source": [
    "with tracing_v2_enabled():\n",
    "    results = eval_chain.evaluate(\n",
    "        examples,\n",
    "        predictions,\n",
    "        question_key=\"query\",\n",
    "        answer_key=\"reference\",\n",
    "        prediction_key=\"result\",\n",
    "    )\n"
   ]
  },
  {
   "cell_type": "code",
   "execution_count": null,
   "id": "a77798b0",
   "metadata": {},
   "outputs": [
    {
     "name": "stdout",
     "output_type": "stream",
     "text": [
      "Query:     What is one benefit of using synonyms according to the video?\n",
      "Result:    Using synonyms demonstrates a broad vocabulary, which can increase your IELTS band score.\n",
      "Reference: Using synonyms demonstrates a broad vocabulary, which can increase your IELTS band score.\n",
      "Score:     CORRECT\n",
      "----------------------------------------\n",
      "Query:     How many synonyms will the video teach you?\n",
      "Result:    40\n",
      "Reference: 40\n",
      "Score:     CORRECT\n",
      "----------------------------------------\n",
      "Query:     What synonym does the video suggest for 'say'?\n",
      "Result:    claim\n",
      "Reference: claim\n",
      "Score:     CORRECT\n",
      "----------------------------------------\n",
      "Query:     Which synonym replaces 'talk about' when reporting general subjects?\n",
      "Result:    discuss\n",
      "Reference: discuss\n",
      "Score:     CORRECT\n",
      "----------------------------------------\n",
      "Query:     What advanced synonym for 'recommend' is introduced?\n",
      "Result:    advocate\n",
      "Reference: advocate\n",
      "Score:     CORRECT\n",
      "----------------------------------------\n",
      "Query:     What is the suggested synonym for 'explain about'?\n",
      "Result:    clarified\n",
      "Reference: clarified\n",
      "Score:     CORRECT\n",
      "----------------------------------------\n",
      "Query:     What polite synonym does the video recommend for 'give'?\n",
      "Result:    offer\n",
      "Reference: offer\n",
      "Score:     CORRECT\n",
      "----------------------------------------\n",
      "Query:     Which word is recommended as a formal synonym for 'ask'?\n",
      "Result:    inquire\n",
      "Reference: inquire\n",
      "Score:     CORRECT\n",
      "----------------------------------------\n",
      "Query:     What alternative word can replace 'easy'?\n",
      "Result:    simple\n",
      "Reference: simple\n",
      "Score:     CORRECT\n",
      "----------------------------------------\n",
      "Query:     What synonym does the video give for 'tip'?\n",
      "Result:    recommendation\n",
      "Reference: recommendation\n",
      "Score:     CORRECT\n",
      "----------------------------------------\n",
      "Query:     Which phrase can be used instead of 'for example'?\n",
      "Result:    to illustrate\n",
      "Reference: to illustrate\n",
      "Score:     CORRECT\n",
      "----------------------------------------\n",
      "Query:     What longer synonym is suggested for 'extra'?\n",
      "Result:    additional\n",
      "Reference: additional\n",
      "Score:     CORRECT\n",
      "----------------------------------------\n",
      "Query:     What paraphrase does the video offer for 'I think'?\n",
      "Result:    presume\n",
      "Reference: presume\n",
      "Score:     CORRECT\n",
      "----------------------------------------\n",
      "Query:     What verb replaces 'think about' when considering something?\n",
      "Result:    consider\n",
      "Reference: consider\n",
      "Score:     CORRECT\n",
      "----------------------------------------\n",
      "Query:     Which word can substitute 'maybe'?\n",
      "Result:    possibly\n",
      "Reference: possibly\n",
      "Score:     CORRECT\n",
      "----------------------------------------\n",
      "Query:     What formal synonym for 'people' is shown?\n",
      "Result:    individuals\n",
      "Reference: individuals\n",
      "Score:     CORRECT\n",
      "----------------------------------------\n",
      "Query:     What precise term replaces 'family' when speaking of those living together?\n",
      "Result:    household\n",
      "Reference: household\n",
      "Score:     CORRECT\n",
      "----------------------------------------\n",
      "Query:     What formal verb does the video propose instead of 'live'?\n",
      "Result:    reside\n",
      "Reference: reside\n",
      "Score:     CORRECT\n",
      "----------------------------------------\n",
      "Query:     Which term is used as a synonym for 'town'?\n",
      "Result:    community\n",
      "Reference: community\n",
      "Score:     CORRECT\n",
      "----------------------------------------\n",
      "Query:     What synonym does the video suggest for 'city'?\n",
      "Result:    metropolis\n",
      "Reference: metropolis\n",
      "Score:     CORRECT\n",
      "----------------------------------------\n"
     ]
    }
   ],
   "source": [
    "#   examples  → List[dict] each dict have keys: \"query\", \"result\", \"reference\"\n",
    "#   results   → List[dict] each dict have keys: \"score\" , (optional) \"reasoning\"\n",
    "\n",
    "for example, eval_out in zip(examples, results):\n",
    "    query = example[\"query\"]\n",
    "    prediction = example[\"result\"]\n",
    "    reference = example[\"reference\"]\n",
    "    score = eval_out[\"results\"]\n",
    "    reasoning = eval_out.get(\"reasoning\")\n",
    "\n",
    "    print(f\"Query:     {query}\")\n",
    "    print(f\"Result:    {prediction}\")\n",
    "    print(f\"Reference: {reference}\")\n",
    "    print(f\"Score:     {score}\")\n",
    "    if reasoning:\n",
    "        print(f\"Reasoning: {reasoning}\")\n",
    "    print(\"-\" * 40)\n"
   ]
  },
  {
   "cell_type": "code",
   "execution_count": null,
   "id": "636642cf",
   "metadata": {},
   "outputs": [],
   "source": [
    "# Test 1: Remembering user info\n",
    "print(agent.invoke(\"Hi, I'm Layla\"))  # Should store name\n",
    "print(agent.invoke(\"What's my name?\"))  # Should return \"Your name is Layla\"\n",
    "# Test 2: Block math questions\n",
    "print(agent.invoke(\"What's 2+2?\"))  \n",
    "# Returns: \"I only answer questions based on IELTS video content.\"\n",
    "# Test 3: Follow-up questions\n",
    "print(agent.invoke(\"What was the main tip for listening?\")) \n",
    "# Returns answer from transcript with sources\n",
    "print(agent.invoke(\"Summarize the video\"))"
   ]
  },
  {
   "cell_type": "code",
   "execution_count": 89,
   "id": "2b0be685",
   "metadata": {},
   "outputs": [
    {
     "name": "stdout",
     "output_type": "stream",
     "text": [
      "\n",
      "\n",
      "\u001b[1m> Entering new RetrievalQA chain...\u001b[0m\n"
     ]
    },
    {
     "ename": "ValueError",
     "evalue": "Got multiple output keys: dict_keys(['result', 'source_documents']), cannot determine which to store in memory. Please set the 'output_key' explicitly.",
     "output_type": "error",
     "traceback": [
      "\u001b[31m---------------------------------------------------------------------------\u001b[39m",
      "\u001b[31mValueError\u001b[39m                                Traceback (most recent call last)",
      "\u001b[36mCell\u001b[39m\u001b[36m \u001b[39m\u001b[32mIn[89]\u001b[39m\u001b[32m, line 8\u001b[39m\n\u001b[32m      2\u001b[39m \u001b[38;5;66;03m# Ground truth examples: list of {'query': ..., 'answer': ...} pairs\u001b[39;00m\n\u001b[32m      3\u001b[39m examples = [\n\u001b[32m      4\u001b[39m {\u001b[33m\"\u001b[39m\u001b[33mquery\u001b[39m\u001b[33m\"\u001b[39m: \u001b[33m\"\u001b[39m\u001b[33mWhat is the main topic of the video?\u001b[39m\u001b[33m\"\u001b[39m, \u001b[33m\"\u001b[39m\u001b[33manswer\u001b[39m\u001b[33m\"\u001b[39m: \u001b[33m\"\u001b[39m\u001b[33mThe video discusses...\u001b[39m\u001b[33m\"\u001b[39m},\n\u001b[32m      5\u001b[39m {\u001b[33m\"\u001b[39m\u001b[33mquery\u001b[39m\u001b[33m\"\u001b[39m: \u001b[33m\"\u001b[39m\u001b[33msummarize the content in 5 bold points\u001b[39m\u001b[33m\"\u001b[39m, \u001b[33m\"\u001b[39m\u001b[33manswer\u001b[39m\u001b[33m\"\u001b[39m: \u001b[33m\"\u001b[39m\u001b[33mIn summary...\u001b[39m\u001b[33m\"\u001b[39m},\n\u001b[32m      6\u001b[39m ]\n\u001b[32m----> \u001b[39m\u001b[32m8\u001b[39m output = \u001b[43mchain\u001b[49m\u001b[43m.\u001b[49m\u001b[43minvoke\u001b[49m\u001b[43m(\u001b[49m\u001b[43m{\u001b[49m\u001b[33;43m\"\u001b[39;49m\u001b[33;43mquery\u001b[39;49m\u001b[33;43m\"\u001b[39;49m\u001b[43m:\u001b[49m\u001b[43m \u001b[49m\u001b[43mexamples\u001b[49m\u001b[43m[\u001b[49m\u001b[32;43m0\u001b[39;49m\u001b[43m]\u001b[49m\u001b[43m[\u001b[49m\u001b[33;43m\"\u001b[39;49m\u001b[33;43mquery\u001b[39;49m\u001b[33;43m\"\u001b[39;49m\u001b[43m]\u001b[49m\u001b[43m}\u001b[49m\u001b[43m)\u001b[49m\n\u001b[32m      9\u001b[39m \u001b[38;5;28mprint\u001b[39m(output)\n\u001b[32m     12\u001b[39m \u001b[38;5;66;03m# Get predictions\u001b[39;00m\n",
      "\u001b[36mFile \u001b[39m\u001b[32mc:\\Users\\007T\\OneDrive\\Desktop\\ironhack2025\\ai-bootcamp-final-project\\Multimodal-AI-ChatBot-for-YouTube-Video-QA\\.venv\\Lib\\site-packages\\langchain\\chains\\base.py:167\u001b[39m, in \u001b[36mChain.invoke\u001b[39m\u001b[34m(self, input, config, **kwargs)\u001b[39m\n\u001b[32m    165\u001b[39m \u001b[38;5;28;01mexcept\u001b[39;00m \u001b[38;5;167;01mBaseException\u001b[39;00m \u001b[38;5;28;01mas\u001b[39;00m e:\n\u001b[32m    166\u001b[39m     run_manager.on_chain_error(e)\n\u001b[32m--> \u001b[39m\u001b[32m167\u001b[39m     \u001b[38;5;28;01mraise\u001b[39;00m e\n\u001b[32m    168\u001b[39m run_manager.on_chain_end(outputs)\n\u001b[32m    170\u001b[39m \u001b[38;5;28;01mif\u001b[39;00m include_run_info:\n",
      "\u001b[36mFile \u001b[39m\u001b[32mc:\\Users\\007T\\OneDrive\\Desktop\\ironhack2025\\ai-bootcamp-final-project\\Multimodal-AI-ChatBot-for-YouTube-Video-QA\\.venv\\Lib\\site-packages\\langchain\\chains\\base.py:162\u001b[39m, in \u001b[36mChain.invoke\u001b[39m\u001b[34m(self, input, config, **kwargs)\u001b[39m\n\u001b[32m    155\u001b[39m     \u001b[38;5;28mself\u001b[39m._validate_inputs(inputs)\n\u001b[32m    156\u001b[39m     outputs = (\n\u001b[32m    157\u001b[39m         \u001b[38;5;28mself\u001b[39m._call(inputs, run_manager=run_manager)\n\u001b[32m    158\u001b[39m         \u001b[38;5;28;01mif\u001b[39;00m new_arg_supported\n\u001b[32m    159\u001b[39m         \u001b[38;5;28;01melse\u001b[39;00m \u001b[38;5;28mself\u001b[39m._call(inputs)\n\u001b[32m    160\u001b[39m     )\n\u001b[32m--> \u001b[39m\u001b[32m162\u001b[39m     final_outputs: \u001b[38;5;28mdict\u001b[39m[\u001b[38;5;28mstr\u001b[39m, Any] = \u001b[38;5;28;43mself\u001b[39;49m\u001b[43m.\u001b[49m\u001b[43mprep_outputs\u001b[49m\u001b[43m(\u001b[49m\n\u001b[32m    163\u001b[39m \u001b[43m        \u001b[49m\u001b[43minputs\u001b[49m\u001b[43m,\u001b[49m\u001b[43m \u001b[49m\u001b[43moutputs\u001b[49m\u001b[43m,\u001b[49m\u001b[43m \u001b[49m\u001b[43mreturn_only_outputs\u001b[49m\n\u001b[32m    164\u001b[39m \u001b[43m    \u001b[49m\u001b[43m)\u001b[49m\n\u001b[32m    165\u001b[39m \u001b[38;5;28;01mexcept\u001b[39;00m \u001b[38;5;167;01mBaseException\u001b[39;00m \u001b[38;5;28;01mas\u001b[39;00m e:\n\u001b[32m    166\u001b[39m     run_manager.on_chain_error(e)\n",
      "\u001b[36mFile \u001b[39m\u001b[32mc:\\Users\\007T\\OneDrive\\Desktop\\ironhack2025\\ai-bootcamp-final-project\\Multimodal-AI-ChatBot-for-YouTube-Video-QA\\.venv\\Lib\\site-packages\\langchain\\chains\\base.py:463\u001b[39m, in \u001b[36mChain.prep_outputs\u001b[39m\u001b[34m(self, inputs, outputs, return_only_outputs)\u001b[39m\n\u001b[32m    461\u001b[39m \u001b[38;5;28mself\u001b[39m._validate_outputs(outputs)\n\u001b[32m    462\u001b[39m \u001b[38;5;28;01mif\u001b[39;00m \u001b[38;5;28mself\u001b[39m.memory \u001b[38;5;129;01mis\u001b[39;00m \u001b[38;5;129;01mnot\u001b[39;00m \u001b[38;5;28;01mNone\u001b[39;00m:\n\u001b[32m--> \u001b[39m\u001b[32m463\u001b[39m     \u001b[38;5;28;43mself\u001b[39;49m\u001b[43m.\u001b[49m\u001b[43mmemory\u001b[49m\u001b[43m.\u001b[49m\u001b[43msave_context\u001b[49m\u001b[43m(\u001b[49m\u001b[43minputs\u001b[49m\u001b[43m,\u001b[49m\u001b[43m \u001b[49m\u001b[43moutputs\u001b[49m\u001b[43m)\u001b[49m\n\u001b[32m    464\u001b[39m \u001b[38;5;28;01mif\u001b[39;00m return_only_outputs:\n\u001b[32m    465\u001b[39m     \u001b[38;5;28;01mreturn\u001b[39;00m outputs\n",
      "\u001b[36mFile \u001b[39m\u001b[32mc:\\Users\\007T\\OneDrive\\Desktop\\ironhack2025\\ai-bootcamp-final-project\\Multimodal-AI-ChatBot-for-YouTube-Video-QA\\.venv\\Lib\\site-packages\\langchain\\memory\\chat_memory.py:72\u001b[39m, in \u001b[36mBaseChatMemory.save_context\u001b[39m\u001b[34m(self, inputs, outputs)\u001b[39m\n\u001b[32m     70\u001b[39m \u001b[38;5;28;01mdef\u001b[39;00m\u001b[38;5;250m \u001b[39m\u001b[34msave_context\u001b[39m(\u001b[38;5;28mself\u001b[39m, inputs: \u001b[38;5;28mdict\u001b[39m[\u001b[38;5;28mstr\u001b[39m, Any], outputs: \u001b[38;5;28mdict\u001b[39m[\u001b[38;5;28mstr\u001b[39m, \u001b[38;5;28mstr\u001b[39m]) -> \u001b[38;5;28;01mNone\u001b[39;00m:\n\u001b[32m     71\u001b[39m \u001b[38;5;250m    \u001b[39m\u001b[33;03m\"\"\"Save context from this conversation to buffer.\"\"\"\u001b[39;00m\n\u001b[32m---> \u001b[39m\u001b[32m72\u001b[39m     input_str, output_str = \u001b[38;5;28;43mself\u001b[39;49m\u001b[43m.\u001b[49m\u001b[43m_get_input_output\u001b[49m\u001b[43m(\u001b[49m\u001b[43minputs\u001b[49m\u001b[43m,\u001b[49m\u001b[43m \u001b[49m\u001b[43moutputs\u001b[49m\u001b[43m)\u001b[49m\n\u001b[32m     73\u001b[39m     \u001b[38;5;28mself\u001b[39m.chat_memory.add_messages(\n\u001b[32m     74\u001b[39m         [\n\u001b[32m     75\u001b[39m             HumanMessage(content=input_str),\n\u001b[32m     76\u001b[39m             AIMessage(content=output_str),\n\u001b[32m     77\u001b[39m         ]\n\u001b[32m     78\u001b[39m     )\n",
      "\u001b[36mFile \u001b[39m\u001b[32mc:\\Users\\007T\\OneDrive\\Desktop\\ironhack2025\\ai-bootcamp-final-project\\Multimodal-AI-ChatBot-for-YouTube-Video-QA\\.venv\\Lib\\site-packages\\langchain\\memory\\chat_memory.py:61\u001b[39m, in \u001b[36mBaseChatMemory._get_input_output\u001b[39m\u001b[34m(self, inputs, outputs)\u001b[39m\n\u001b[32m     55\u001b[39m         warnings.warn(\n\u001b[32m     56\u001b[39m             \u001b[33mf\u001b[39m\u001b[33m\"\u001b[39m\u001b[33m'\u001b[39m\u001b[38;5;132;01m{\u001b[39;00m\u001b[38;5;28mself\u001b[39m.\u001b[34m__class__\u001b[39m.\u001b[34m__name__\u001b[39m\u001b[38;5;132;01m}\u001b[39;00m\u001b[33m'\u001b[39m\u001b[33m got multiple output keys:\u001b[39m\u001b[33m\"\u001b[39m\n\u001b[32m     57\u001b[39m             \u001b[33mf\u001b[39m\u001b[33m\"\u001b[39m\u001b[33m \u001b[39m\u001b[38;5;132;01m{\u001b[39;00moutputs.keys()\u001b[38;5;132;01m}\u001b[39;00m\u001b[33m. The default \u001b[39m\u001b[33m'\u001b[39m\u001b[33moutput\u001b[39m\u001b[33m'\u001b[39m\u001b[33m key is being used.\u001b[39m\u001b[33m\"\u001b[39m\n\u001b[32m     58\u001b[39m             \u001b[33mf\u001b[39m\u001b[33m\"\u001b[39m\u001b[33m If this is not desired, please manually set \u001b[39m\u001b[33m'\u001b[39m\u001b[33moutput_key\u001b[39m\u001b[33m'\u001b[39m\u001b[33m.\u001b[39m\u001b[33m\"\u001b[39m\n\u001b[32m     59\u001b[39m         )\n\u001b[32m     60\u001b[39m     \u001b[38;5;28;01melse\u001b[39;00m:\n\u001b[32m---> \u001b[39m\u001b[32m61\u001b[39m         \u001b[38;5;28;01mraise\u001b[39;00m \u001b[38;5;167;01mValueError\u001b[39;00m(\n\u001b[32m     62\u001b[39m             \u001b[33mf\u001b[39m\u001b[33m\"\u001b[39m\u001b[33mGot multiple output keys: \u001b[39m\u001b[38;5;132;01m{\u001b[39;00moutputs.keys()\u001b[38;5;132;01m}\u001b[39;00m\u001b[33m, cannot \u001b[39m\u001b[33m\"\u001b[39m\n\u001b[32m     63\u001b[39m             \u001b[33mf\u001b[39m\u001b[33m\"\u001b[39m\u001b[33mdetermine which to store in memory. Please set the \u001b[39m\u001b[33m\"\u001b[39m\n\u001b[32m     64\u001b[39m             \u001b[33mf\u001b[39m\u001b[33m\"\u001b[39m\u001b[33m'\u001b[39m\u001b[33moutput_key\u001b[39m\u001b[33m'\u001b[39m\u001b[33m explicitly.\u001b[39m\u001b[33m\"\u001b[39m\n\u001b[32m     65\u001b[39m         )\n\u001b[32m     66\u001b[39m \u001b[38;5;28;01melse\u001b[39;00m:\n\u001b[32m     67\u001b[39m     output_key = \u001b[38;5;28mself\u001b[39m.output_key\n",
      "\u001b[31mValueError\u001b[39m: Got multiple output keys: dict_keys(['result', 'source_documents']), cannot determine which to store in memory. Please set the 'output_key' explicitly."
     ]
    }
   ],
   "source": [
    "from langchain.evaluation.qa import QAEvalChain\n",
    "# Ground truth examples: list of {'query': ..., 'answer': ...} pairs\n",
    "examples = [\n",
    "{\"query\": \"What is the main topic of the video?\", \"answer\": \"The video discusses...\"},\n",
    "{\"query\": \"summarize the content in 5 bold points\", \"answer\": \"In summary...\"},\n",
    "]\n",
    "\n",
    "output = chain.invoke({\"query\": examples[0][\"query\"]})\n",
    "print(output)\n",
    "\n",
    "\n",
    "# Get predictions\n",
    "predictions = [chain.invoke(e[\"query\"])[\"result\"] for e in examples]\n",
    "\n",
    "# Evaluate faithfulness\n",
    "llm_eval = ChatOpenAI(temperature=0, model_name=\"gpt-4\")\n",
    "eval_chain = QAEvalChain.from_llm(llm=llm_eval)\n",
    "graded_outputs = eval_chain.evaluate(examples, predictions)\n",
    "for g in graded_outputs:\n",
    "    print(g)"
   ]
  },
  {
   "cell_type": "code",
   "execution_count": null,
   "id": "252faf8c",
   "metadata": {},
   "outputs": [],
   "source": [
    "from langchain.evaluation.criteria import CriteriaEvalChain\n",
    "\n",
    "criteria = {\n",
    "        \"relevance\": \"Does the answer directly answer the question?\",\n",
    "        \"consistency\": \"Is the answer internally consistent and non-contradictory?\"\n",
    "    }\n",
    "\n",
    "criteria_eval_chain = CriteriaEvalChain.from_llm(llm=llm_eval, criteria=criteria)\n",
    "\n",
    "for i, ex in enumerate(examples):\n",
    "        evaluation = criteria_eval_chain.evaluate_strings(\n",
    "            input=ex[\"query\"],\n",
    "            prediction=predictions[i],\n",
    "            reference=ex[\"answer\"]\n",
    "        )\n",
    "        print(evaluation)"
   ]
  },
  {
   "cell_type": "markdown",
   "id": "3a174c0d",
   "metadata": {},
   "source": [
    "#### **Transcript Retrieval Performance Evaluation**\n"
   ]
  },
  {
   "cell_type": "markdown",
   "id": "9ce64bd1",
   "metadata": {},
   "source": [
    "#### Retrieved Documents <> Input:\n",
    "\n",
    "measure how well your retriever fetches the correct transcript files for each query.\n",
    "\n",
    "In other words, compare the set of documents returned by the retriever against your ground-truth set of relevant files for that query.\n",
    "\n",
    "Typical metrics are:\n",
    "\n",
    "- Precision@k – the fraction of the top-k retrieved files that are actually relevant.\n",
    "\n",
    "- MRR@k (Mean Reciprocal Rank) – the reciprocal of the rank at which the first relevant file appears.\n",
    "\n",
    "- NDCG@k – how well all relevant files are ordered within the top-k, giving higher weight to those appearing earlier."
   ]
  },
  {
   "cell_type": "markdown",
   "id": "d458b0ac",
   "metadata": {},
   "source": [
    "**Ground Truth**\n",
    "Defines, for each query, the exact set of transcript files that contain the correct answer. It’s “answer key” for retrieval, mapping each question to the filenames you expect to see among the top results."
   ]
  },
  {
   "cell_type": "code",
   "execution_count": 149,
   "id": "5f832952",
   "metadata": {},
   "outputs": [],
   "source": [
    "ground_truths = {\n",
    "    # ── IELTS Listening Practice transcript ──\n",
    "    \"What sections are included in the IELTS Listening test?\": {\n",
    "        \"IELTS_Listening_Practice__What_You_NEED_to_Know.txt\"\n",
    "    },\n",
    "    \"How many times will you hear each recording?\": {\n",
    "        \"IELTS_Listening_Practice__What_You_NEED_to_Know.txt\"\n",
    "    },\n",
    "    \"What should you do if you miss an answer during the test?\": {\n",
    "        \"IELTS_Listening_Practice__What_You_NEED_to_Know.txt\"\n",
    "    },\n",
    "    \"When can you transfer your answers onto the answer sheet?\": {\n",
    "        \"IELTS_Listening_Practice__What_You_NEED_to_Know.txt\"\n",
    "    },\n",
    "    \"How much time is given at the end to check your answers?\": {\n",
    "        \"IELTS_Listening_Practice__What_You_NEED_to_Know.txt\"\n",
    "    },\n",
    "\n",
    "    # ── Vocabulary Synonyms transcript ──\n",
    "    \"What synonym does the video suggest for 'say'?\": {\n",
    "        \"IELTS_Vocabulary_Synonyms_for_the_40_Most_Commonly_Used_Wordsmp3_chunk_0.txt\"\n",
    "    },\n",
    "    \"Which word can replace 'easy'?\": {\n",
    "        \"IELTS_Vocabulary_Synonyms_for_the_40_Most_Commonly_Used_Wordsmp3_chunk_0.txt\"\n",
    "    },\n",
    "    \"What fancy synonym is given for 'tip'?\": {\n",
    "        \"IELTS_Vocabulary_Synonyms_for_the_40_Most_Commonly_Used_Wordsmp3_chunk_0.txt\"\n",
    "    },\n",
    "    \"What phrase does the video recommend instead of 'for example'?\": {\n",
    "        \"IELTS_Vocabulary_Synonyms_for_the_40_Most_Commonly_Used_Wordsmp3_chunk_0.txt\"\n",
    "    },\n",
    "    \"How does the video suggest paraphrasing 'people'?\": {\n",
    "        \"IELTS_Vocabulary_Synonyms_for_the_40_Most_Commonly_Used_Wordsmp3_chunk_0.txt\"\n",
    "    },\n",
    "}\n"
   ]
  },
  {
   "cell_type": "markdown",
   "id": "bc8bcbb3",
   "metadata": {},
   "source": [
    "**get_topk_sources**\n",
    "\n",
    "A helper function that Returns a list of the corresponding transcript filenames (from metadata[\"source_file\"])."
   ]
  },
  {
   "cell_type": "code",
   "execution_count": 159,
   "id": "94773e27",
   "metadata": {},
   "outputs": [],
   "source": [
    "def get_topk_sources(query: str, k: int = 2) -> list[str]:\n",
    "    docs = retriever.get_relevant_documents(query)[:k]\n",
    "    return [doc.metadata[\"source\"] for doc in docs]\n"
   ]
  },
  {
   "cell_type": "markdown",
   "id": "e216a8d3",
   "metadata": {},
   "source": [
    "**Precision@k**\n",
    "The fraction of the top k retrieved filenames that are actually in the ground truth set.\n",
    "\n",
    "Precision@k =\n",
    "#(\n",
    "retrieved\n",
    "𝑘\n",
    " \n",
    "∩\n",
    " \n",
    "ground_truth\n",
    ")\n",
    "/ 𝑘\n",
    "\n"
   ]
  },
  {
   "cell_type": "code",
   "execution_count": null,
   "id": "05c77e15",
   "metadata": {},
   "outputs": [],
   "source": [
    "#!pip install scikit-learn"
   ]
  },
  {
   "cell_type": "code",
   "execution_count": 153,
   "id": "5f22646c",
   "metadata": {},
   "outputs": [],
   "source": [
    "from sklearn.metrics import ndcg_score\n",
    "\n",
    "def precision_at_k(retrieved: list[str], relevant: set[str]) -> float:\n",
    "    return sum(1 for src in retrieved if src in relevant) / len(retrieved)\n"
   ]
  },
  {
   "cell_type": "markdown",
   "id": "11c72957",
   "metadata": {},
   "source": [
    "**MRR@k (Mean Reciprocal Rank)**\n",
    "\n",
    "For each query, find the rank r (position) of the first correct file within the top k. Its reciprocal (1/ r) is the score for that query. MRR@k is the average of those reciprocals over all queries."
   ]
  },
  {
   "cell_type": "code",
   "execution_count": 154,
   "id": "cd852e2b",
   "metadata": {},
   "outputs": [],
   "source": [
    "def compute_mrr(retrieved: list[str], relevant: set[str]) -> float:\n",
    "    for i, src in enumerate(retrieved, start=1):\n",
    "        if src in relevant:\n",
    "            return 1.0 / i\n",
    "    return 0.0"
   ]
  },
  {
   "cell_type": "markdown",
   "id": "6ca7124f",
   "metadata": {},
   "source": [
    "**NDCG@k (Normalized Discounted Cumulative Gain)**\n",
    "Measures how well the retriever orders all relevant files within the top k"
   ]
  },
  {
   "cell_type": "code",
   "execution_count": 155,
   "id": "5fc16736",
   "metadata": {},
   "outputs": [],
   "source": [
    "def ndcg_at_k(retrieved: list[str], relevant: set[str], k: int) -> float:\n",
    "    true_rel = [1 if src in relevant else 0 for src in retrieved]\n",
    "    return ndcg_score([true_rel], [true_rel], k=k)"
   ]
  },
  {
   "cell_type": "code",
   "execution_count": 160,
   "id": "3a29a46d",
   "metadata": {},
   "outputs": [
    {
     "name": "stdout",
     "output_type": "stream",
     "text": [
      "Precision@5: 0.000\n",
      "MRR@5:       0.000\n",
      "NDCG@5:      0.000\n"
     ]
    }
   ],
   "source": [
    "import numpy as np\n",
    "\n",
    "def evaluate_retrieval(ground_truths: dict[str, set[str]], k: int = 5):\n",
    "    precisions, mrrs, ndcgs = [], [], []\n",
    "    for query, relevant in ground_truths.items():\n",
    "        topk = get_topk_sources(query, k)\n",
    "        precisions.append(precision_at_k(topk, relevant))\n",
    "        mrrs.append(compute_mrr(topk, relevant))\n",
    "        ndcgs.append(ndcg_at_k(topk, relevant, k))\n",
    "    print(f\"Precision@{k}: {np.mean(precisions):.3f}\")\n",
    "    print(f\"MRR@{k}:       {np.mean(mrrs):.3f}\")\n",
    "    print(f\"NDCG@{k}:      {np.mean(ndcgs):.3f}\")\n",
    "\n",
    "with tracing_v2_enabled():\n",
    "    evaluate_retrieval(ground_truths)\n"
   ]
  },
  {
   "cell_type": "code",
   "execution_count": 162,
   "id": "0810fa7f",
   "metadata": {},
   "outputs": [
    {
     "name": "stdout",
     "output_type": "stream",
     "text": [
      "1. IELTS_Vocabulary_Synonyms_for_the_40_Most_Commonly_Used_Wordsmp3_chunk_0\n",
      "   → you get one point. Comment below how many synonyms you know. For example, 20, 35 or 40. Let's get st …\n",
      "\n",
      "2. IELTS_Vocabulary_Synonyms_for_the_40_Most_Commonly_Used_Wordsmp3_chunk_0\n",
      "   → prices would rise. Another common word for reporting what someone said is talk about. It's used for  …\n",
      "\n",
      "3. IELTS_Vocabulary_Synonyms_for_the_40_Most_Commonly_Used_Wordsmp3_chunk_0\n",
      "   → Many IELTS students use the same words over and over again. And this is a problem because one of the …\n",
      "\n"
     ]
    }
   ],
   "source": [
    "q = \"What synonym does the video suggest for 'say'?\"\n",
    "with tracing_v2_enabled():\n",
    "    docs = retriever.get_relevant_documents(q)[:5]\n",
    "    for i, doc in enumerate(docs, 1):\n",
    "        print(f\"{i}. {doc.metadata['source']}\")\n",
    "        print(\"   →\", doc.page_content[:100].replace(\"\\n\",\" \"), \"…\\n\")\n"
   ]
  }
 ],
 "metadata": {
  "kernelspec": {
   "display_name": ".venv",
   "language": "python",
   "name": "python3"
  },
  "language_info": {
   "codemirror_mode": {
    "name": "ipython",
    "version": 3
   },
   "file_extension": ".py",
   "mimetype": "text/x-python",
   "name": "python",
   "nbconvert_exporter": "python",
   "pygments_lexer": "ipython3",
   "version": "3.12.0"
  }
 },
 "nbformat": 4,
 "nbformat_minor": 5
}
