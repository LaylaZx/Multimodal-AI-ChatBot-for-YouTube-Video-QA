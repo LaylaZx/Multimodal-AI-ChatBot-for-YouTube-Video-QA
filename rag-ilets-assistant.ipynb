{
 "cells": [
  {
   "cell_type": "markdown",
   "id": "cf93e36a",
   "metadata": {},
   "source": [
    "### This notebook demonstrates a full RAG pipeline:\n",
    "\n",
    "- Downloading and transcribing YouTube audio\n",
    "\n",
    "- Chunking and embedding the transcript\n",
    "\n",
    "- Building a semantic search index\n",
    "\n",
    "- Enabling strict, reference-based conversational QA and summarization"
   ]
  },
  {
   "cell_type": "markdown",
   "id": "388ae069",
   "metadata": {},
   "source": [
    "## 1. Import RAG Pipeline and Agent Utilities\n",
    "\n",
    "In this cell, we import all the necessary functions and classes from our custom modules (`rag_pipeline.py` and `agent.py`).  \n",
    "These utilities handle environment setup, audio downloading, transcription, document splitting, embedding, vector search, and agent construction for conversational QA and summarization.\n"
   ]
  },
  {
   "cell_type": "code",
   "execution_count": 1,
   "id": "a9db39a1",
   "metadata": {},
   "outputs": [
    {
     "name": "stderr",
     "output_type": "stream",
     "text": [
      "c:\\Users\\007T\\OneDrive\\Desktop\\ironhack2025\\ai-bootcamp-final-project\\Multimodal-AI-ChatBot-for-YouTube-Video-QA\\.venv\\Lib\\site-packages\\tqdm\\auto.py:21: TqdmWarning: IProgress not found. Please update jupyter and ipywidgets. See https://ipywidgets.readthedocs.io/en/stable/user_install.html\n",
      "  from .autonotebook import tqdm as notebook_tqdm\n",
      "None of PyTorch, TensorFlow >= 2.0, or Flax have been found. Models won't be available and only tokenizers, configuration and file/data utilities can be used.\n",
      "None of PyTorch, TensorFlow >= 2.0, or Flax have been found. Models won't be available and only tokenizers, configuration and file/data utilities can be used.\n"
     ]
    }
   ],
   "source": [
    "# Import RAG pipeline utilities\n",
    "from rag_pipeline import (\n",
    "\n",
    "    load_environment,\n",
    "    download_audio,\n",
    "    process_audio,\n",
    "    load_and_split_documents,\n",
    "    create_vectorstore,\n",
    "    build_qa_chain\n",
    ")\n",
    "\n",
    "# Import agent utilities\n",
    "from agent import build_agent"
   ]
  },
  {
   "cell_type": "code",
   "execution_count": null,
   "id": "a900fb80",
   "metadata": {},
   "outputs": [],
   "source": []
  },
  {
   "cell_type": "markdown",
   "id": "a80fd15b",
   "metadata": {},
   "source": [
    "## 2. Download Audio from YouTube\n",
    "\n",
    "Here, we specify the YouTube URL for the IELTS video we want to process.  \n",
    "The `download_audio` function downloads the audio track of the video and saves it as an MP3 file in the output directory.  \n",
    "The resulting path is displayed for confirmation.\n"
   ]
  },
  {
   "cell_type": "code",
   "execution_count": 2,
   "id": "375bb1a9",
   "metadata": {},
   "outputs": [],
   "source": [
    "youtube_url = \"https://www.youtube.com/watch?v=kHTnAx6f-j0&list=PLWWR_9t3vo3OfJ62HL-nnwRaSAiLnaMSM&index=2\""
   ]
  },
  {
   "cell_type": "code",
   "execution_count": null,
   "id": "777ec38d",
   "metadata": {},
   "outputs": [],
   "source": [
    "audio_path = download_audio(youtube_url)"
   ]
  },
  {
   "cell_type": "code",
   "execution_count": 5,
   "id": "a7e254b4",
   "metadata": {},
   "outputs": [
    {
     "data": {
      "text/plain": [
       "'output_audio\\\\How_to_get_a_Band_8_in_IELTS_listening.mp3'"
      ]
     },
     "execution_count": 5,
     "metadata": {},
     "output_type": "execute_result"
    }
   ],
   "source": [
    "audio_path"
   ]
  },
  {
   "cell_type": "markdown",
   "id": "887eda00",
   "metadata": {},
   "source": [
    "## 3. Load Environment and Transcribe Audio\n",
    "\n",
    "This cell loads your OpenAI API key and initializes the LLM and OpenAI client.  \n",
    "Then, it processes the downloaded audio:  \n",
    "- Splits it into manageable chunks  \n",
    "- Transcribes each chunk using OpenAI Whisper  \n",
    "- Saves the transcript to a text file  \n",
    "This is the core step for converting video content into searchable text.\n"
   ]
  },
  {
   "cell_type": "code",
   "execution_count": 6,
   "id": "76dbe4ad",
   "metadata": {},
   "outputs": [
    {
     "name": "stderr",
     "output_type": "stream",
     "text": [
      "c:\\Users\\007T\\OneDrive\\Desktop\\ironhack2025\\ai-bootcamp-final-project\\Multimodal-AI-ChatBot-for-YouTube-Video-QA\\rag_pipeline.py:26: LangChainDeprecationWarning: The class `ChatOpenAI` was deprecated in LangChain 0.0.10 and will be removed in 1.0. An updated version of the class exists in the :class:`~langchain-openai package and should be used instead. To use it run `pip install -U :class:`~langchain-openai` and import as `from :class:`~langchain_openai import ChatOpenAI``.\n",
      "  chat_model = ChatOpenAI(openai_api_key=api_key, temperature=0)\n"
     ]
    }
   ],
   "source": [
    "api_key, llm, clinet =load_environment()"
   ]
  },
  {
   "cell_type": "code",
   "execution_count": 3,
   "id": "4d13a1f4",
   "metadata": {},
   "outputs": [
    {
     "name": "stdout",
     "output_type": "stream",
     "text": [
      "\n",
      "🎧 Processing: How_to_get_a_Band_8_in_IELTS_listening\n",
      "🔹 Transcribing chunk 1/3...\n",
      "🔹 Transcribing chunk 2/3...\n",
      "🔹 Transcribing chunk 3/3...\n",
      "✅ Done. Transcript saved to: transcripts\\How_to_get_a_Band_8_in_IELTS_listening.txt\n"
     ]
    }
   ],
   "source": [
    "process_audio(client=clinet)"
   ]
  },
  {
   "cell_type": "markdown",
   "id": "1e4a0368",
   "metadata": {},
   "source": [
    "## 4. Load and Split Transcript Documents\n",
    "\n",
    "After transcription, we need to load the transcript files and split them into smaller text chunks.  \n",
    "This helps with efficient embedding and retrieval, as semantic search works best on small, focused pieces of text.  \n",
    "The resulting list of document chunks is displayed.\n"
   ]
  },
  {
   "cell_type": "code",
   "execution_count": 2,
   "id": "2e73f7f1",
   "metadata": {},
   "outputs": [],
   "source": [
    "docs = load_and_split_documents()"
   ]
  },
  {
   "cell_type": "code",
   "execution_count": 3,
   "id": "4143ef24",
   "metadata": {},
   "outputs": [
    {
     "data": {
      "text/plain": [
       "[Document(metadata={'source': 'transcripts\\\\How_to_get_a_Band_8_in_IELTS_listening.txt'}, page_content='# Transcript for How_to_get_a_Band_8_in_IELTS_listening'),\n",
       " Document(metadata={'source': 'transcripts\\\\How_to_get_a_Band_8_in_IELTS_listening.txt'}, page_content='## How_to_get_a_Band_8_in_IELTS_listening_chunk_1.mp3'),\n",
       " Document(metadata={'source': 'transcripts\\\\How_to_get_a_Band_8_in_IELTS_listening.txt'}, page_content=\"Hey everyone, Chris here from IELTSadvantage.com with another live lesson. Today's live lesson is all about listening. So we've had a huge number of people emailing us over the past few months saying that they need a band 8 in listening. It seems that many, many people want to move to Canada, they need that 8777, and sometimes what's stopping them getting there is they're getting 7, 7.5 in listening, which is a great score. But if they had that 8 or even above 8 in the listening test, they would get to Canada. Also countries like Australia, for example, has a point system for immigration, so the higher your score, the more points you're going to get. So getting a higher score in listening is really going to help you. And in general, just thinking a little bit strategically, you want to not be worrying so much about the listening test, because you're probably going to be worrying a lot about the writing test, maybe even the speaking test. And so if you have learned these things, which\"),\n",
       " Document(metadata={'source': 'transcripts\\\\How_to_get_a_Band_8_in_IELTS_listening.txt'}, page_content=\"be worrying so much about the listening test, because you're probably going to be worrying a lot about the writing test, maybe even the speaking test. And so if you have learned these things, which I'm about to teach you, and you've done all of these things, then you're going to make the whole test day a lot easier on you, because the less stress you have, the better. So the whole aim of this lesson is to give you things that actually work. First of all, I'm not going to give you any tips or tricks, because tips or tricks do not work. Tips or tricks, these are the best way to prolong your IELTS journey, to make it long, to make it hard, so that you will waste money. How much money is it these days to do the test? How much money are you wasting every time you fail the test? By looking for tips and tricks, you think that you're saving time, you think it's going to be easy, but in the long run, tips and tricks do not work. You're not going to trick your way to go from a band seven to a\"),\n",
       " Document(metadata={'source': 'transcripts\\\\How_to_get_a_Band_8_in_IELTS_listening.txt'}, page_content=\"tips and tricks, you think that you're saving time, you think it's going to be easy, but in the long run, tips and tricks do not work. You're not going to trick your way to go from a band seven to a band eight on the listening test. You're just not going to be able to do that. So none of the things I'm going to teach you today have to do with any tips or tricks. Why? They don't work. If they worked, I would tell you, but they don't. So number one, stop looking for tips and tricks. They do not work. Number two, listen to English every day. Now this sounds really, really obvious. This sounds like something that, you know, of course I'm going to do that. But very few students who I actually work with on a one-to-one basis, when they have a problem with listening, normally the first thing I say is, well, how many hours a day do you listen to English? Normally the answer comes back hours per day. I don't listen to even one hour per week. If you count up the number of minutes you spend each\"),\n",
       " Document(metadata={'source': 'transcripts\\\\How_to_get_a_Band_8_in_IELTS_listening.txt'}, page_content=\"is, well, how many hours a day do you listen to English? Normally the answer comes back hours per day. I don't listen to even one hour per week. If you count up the number of minutes you spend each week listening, like I have lots of podcast apps on my phone and some of them are really cool. They can tell you how much you're listening. I think the new iPhones or the new update for iPhone tells you how much time you spend on each app. And there's a lot of apps that do tell you that. If you add up all the time you spend listening to podcasts or YouTube or, you know, watching TED Talks, it's a lot less than you think. But it's so easy these days to listen to English every day because we carry it with us on our phone. So you could watch TV, you could listen to the radio, you could listen to podcasts, you could watch YouTube, you could listen to TED Talks. And I'm sure that there are hundreds of other ways that you could listen to English. If you live in an English-speaking country, go out\"),\n",
       " Document(metadata={'source': 'transcripts\\\\How_to_get_a_Band_8_in_IELTS_listening.txt'}, page_content=\"you could watch YouTube, you could listen to TED Talks. And I'm sure that there are hundreds of other ways that you could listen to English. If you live in an English-speaking country, go out and speak to people and listen to how people talk. The key here is not which TV show will help you improve your IELTS score or which podcast will help you improve your IELTS score or which TED Talks. It's about consistently doing it every single day. Ten minutes a day or 30 minutes a day or one hour a day is way more powerful and more impactful than panicking a week before your test and listening to 12 hours of podcasts or 12 hours of TED Talks a week before your test. It's not going to help you. And also the great thing about everything being on our mobiles, everything being on our phones is you can listen to this anywhere. On the way to work, on the way back from work, at lunch time, while you're looking after your kids, while they're doing something else, you can just have your podcast running\"),\n",
       " Document(metadata={'source': 'transcripts\\\\How_to_get_a_Band_8_in_IELTS_listening.txt'}, page_content=\"listen to this anywhere. On the way to work, on the way back from work, at lunch time, while you're looking after your kids, while they're doing something else, you can just have your podcast running in the background. I was with my little boy on Saturday sitting in a park with him and he was running around with lots of little other boys. I could have been doing anything in that time. I just took the time just to sit and watch him play, but I could have been doing anything. There are multiple times per day where you have the time. Bring your phone with you. Bring your whatever you use to listen to and that's going to help you with that. If you want to get a Band-Aid, you should be listening to a range of different accents, a range of different topics. You can find all of these out on YouTube. You can find these on podcasts. You can find a range of different accents. Keep it simple. If you want to improve, let's say you're unfamiliar with the Scottish accent, listen to a podcast with\"),\n",
       " Document(metadata={'source': 'transcripts\\\\How_to_get_a_Band_8_in_IELTS_listening.txt'}, page_content=\"You can find these on podcasts. You can find a range of different accents. Keep it simple. If you want to improve, let's say you're unfamiliar with the Scottish accent, listen to a podcast with Scottish people talking, or if you are unfamiliar with the Canadian accent, go and listen to Canadian news or a Canadian YouTube channel or a Canadian talking on a TED Talk. Just keep it simple. Just do it and it will help you. Listen to a range of different topics. Obviously, podcasts have every single topic in the world. TED Talks have a great range of topics, especially topics that come up on the IELTS test. Have a look at those and they are going to help you. Also, look at multiple people speaking and one person speaking. For example, TED Talks, normally it's just one person speaking. That's going to be tested on the listening test. Podcasts or radio or TV could be one person. Most likely, it's going to be multiple people speaking. Testing different skills. Listening to one person and\"),\n",
       " Document(metadata={'source': 'transcripts\\\\How_to_get_a_Band_8_in_IELTS_listening.txt'}, page_content=\"going to be tested on the listening test. Podcasts or radio or TV could be one person. Most likely, it's going to be multiple people speaking. Testing different skills. Listening to one person and listening to multiple people, cutting in and stopping and asking questions in different accents, that's completely different from just listening to one person speaking. You should be listening to a range of topics, accents, and one person versus multiple people. Also, when you're listening, we just did this lesson on Facebook before we did it here. There's a great question came up from one of the girls who was listening. She said that, I listen to podcasts for two hours every single day and my spelling is still terrible. I said, okay, what you need to do is actively listen. What does actively listen mean? For example, if you were terrible at spelling and you really needed to improve your spelling, active listening would mean that when you're listening to something and you hear a word that\"),\n",
       " Document(metadata={'source': 'transcripts\\\\How_to_get_a_Band_8_in_IELTS_listening.txt'}, page_content=\"listen mean? For example, if you were terrible at spelling and you really needed to improve your spelling, active listening would mean that when you're listening to something and you hear a word that you're unsure of the spelling, you would write it down and then you would check the spelling in a dictionary and you would keep doing that until it improved your listening. Active listening is when you focus on one thing at a time and do something while you're listening. Let's say you wanted to improve your vocabulary. What you would do is listen to a podcast or something like that or YouTube or TED Talk. When you hear a word you don't know, write that word down, write all the information you need to remember that word and then review that word. Actively listening means you're doing something to help improve a specific area. That could be vocabulary, grammar, accent, pronunciation, all of these different things that you can focus on. One of those is spelling. As I just said, you could\"),\n",
       " Document(metadata={'source': 'transcripts\\\\How_to_get_a_Band_8_in_IELTS_listening.txt'}, page_content=\"to help improve a specific area. That could be vocabulary, grammar, accent, pronunciation, all of these different things that you can focus on. One of those is spelling. As I just said, you could focus on your spelling and actively listen to improve your spelling. Spelling is really, really important for IELTS listening for a few different reasons. Number one, normally people mess up spelling not because they are bad at spelling, it's because they're careless. They think about when you're writing an email or a text message to someone. Even as a native English speaker, I make spelling mistakes when I'm writing a text message or writing an email and it's not because I don't know the spelling of that word, it's because I'm not very careful when I'm doing that or I'm in a rush or I'm distracted or I'm not focused. What you need to do is make sure that you are, when you're transferring your answers over in the last part of the test, when you have that time at the end to transfer your\"),\n",
       " Document(metadata={'source': 'transcripts\\\\How_to_get_a_Band_8_in_IELTS_listening.txt'}, page_content=\"or I'm not focused. What you need to do is make sure that you are, when you're transferring your answers over in the last part of the test, when you have that time at the end to transfer your answers over, make sure your spelling is 100% spot on because if you get even one letter out of place, it is wrong. It doesn't matter if it's very close or it's just two letters the wrong way, it's going to be wrong. And also be very harsh when you're practicing. So when you are practicing, you're going to have to give yourself a score by checking your answers. Often when people check those answers, if the spelling is a little off, they'll give themselves a mark. They will tick it and they will give themselves that correct answer. You need to be realistic. You need to know your real score before you do the test. I was working with one student a couple of weeks ago and they said to me, every time I do the test, I get like a seven or sorry, an eight or 8.5 when I'm practicing at home. But when I do\"),\n",
       " Document(metadata={'source': 'transcripts\\\\How_to_get_a_Band_8_in_IELTS_listening.txt'}, page_content=\"the test. I was working with one student a couple of weeks ago and they said to me, every time I do the test, I get like a seven or sorry, an eight or 8.5 when I'm practicing at home. But when I do the test, it's like seven, 7.5. So they were getting really high scores in practice, lower scores on test day. I wasn't sure what this was and then I looked at their actual answers and multiple answers were spelled incorrectly, but they were giving themselves the correct answer. They're like, ah, it's just a little bit off. That doesn't matter. On the test, they're going to give you a incorrect answer for that. So be harsh and record your mistakes. Get yourself a notebook, just a plain notebook. Could be any sort of notebook you want and it doesn't matter how expensive the notebook\"),\n",
       " Document(metadata={'source': 'transcripts\\\\How_to_get_a_Band_8_in_IELTS_listening.txt'}, page_content='## How_to_get_a_Band_8_in_IELTS_listening_chunk_2.mp3'),\n",
       " Document(metadata={'source': 'transcripts\\\\How_to_get_a_Band_8_in_IELTS_listening.txt'}, page_content=\"is the important thing is that you have just a blank notebook to record your mistakes. And then once you've finished doing all your practice, review it and you'll start to see patterns and then you can correct all your mistakes and that's really going to help you. Also, what you can do is when you make spelling mistakes, take a photo and take a photo of the mistakes, file it away in a folder on your iPhone or whatever, and you can then check it and then review your spelling mistakes and that's going to help you. Number four, it's not just a listening test. It is also a reading test, a thinking test, a spelling test, a grammar test, and a vocabulary test. Testing all of these different things. I'd say these two are really, really important, reading and thinking. And this comes down to focus. Often you'll get students who are not used to listening to English and you have to listen for a very long time, and you don't think it's that long, but when you are there on test day, it does feel\"),\n",
       " Document(metadata={'source': 'transcripts\\\\How_to_get_a_Band_8_in_IELTS_listening.txt'}, page_content=\"Often you'll get students who are not used to listening to English and you have to listen for a very long time, and you don't think it's that long, but when you are there on test day, it does feel like a very long time. And it is a big challenge for a lot of people. And what happens is you lose focus and then you don't read the questions. You don't think about what the answer might be. And then the listening track starts and you get lost and you get panicked and everything just snowballs and you're in a bad place. You should be reading the questions before the recording starts. You should be thinking about the questions. You should be thinking about what the answers might be before the recording starts. And that is really, really going to help you. Spelling, we've also covered. Grammar, there are certain types of questions where you're going to have to be aware of grammar. And if the grammar is not correct, you're going to get a wrong answer. Also being aware of grammar and thinking\"),\n",
       " Document(metadata={'source': 'transcripts\\\\How_to_get_a_Band_8_in_IELTS_listening.txt'}, page_content=\"there are certain types of questions where you're going to have to be aware of grammar. And if the grammar is not correct, you're going to get a wrong answer. Also being aware of grammar and thinking about grammar is going to help you predict the answer and get the correct answer ultimately. And also, as with the reading test, the most important thing is that you improve your vocabulary. For many of you, it doesn't matter how many strategies or tips you listen to. If your vocabulary is not good enough, you're never going to get a band-aid for listening or reading. Think about what a band-aid means. A band-aid means that you're just below a native English speaker. So think about how the audacity that you have thinking that you're going to go from someone just learning a language to nearly native English speaker level by just learning some tips and tricks. That's outrageous to think that. In order to improve your level, you're going to have to improve your vocabulary. There's no other\"),\n",
       " Document(metadata={'source': 'transcripts\\\\How_to_get_a_Band_8_in_IELTS_listening.txt'}, page_content=\"native English speaker level by just learning some tips and tricks. That's outrageous to think that. In order to improve your level, you're going to have to improve your vocabulary. There's no other way around it. So number five, improve your vocabulary. Combine this with daily listening, daily reading practice. So if you're listening to a podcast, get your notebook, get a notebook that you just use for vocabulary. So you're listening to a podcast or a TED Talk or something, you hear a new word or phrase, write that down, add in what you're going to do, add in collocations, antonyms, synonyms, pronunciation, example sentences, and then at the end of six weeks, six months, you will have a huge number of new words which you can just go and review and you'll be improving your vocabulary and listening at the same time. You can do that with your reading as well. When you're reading, try and improve your vocabulary by trying to note down new words and reviewing them. So record them in your\"),\n",
       " Document(metadata={'source': 'transcripts\\\\How_to_get_a_Band_8_in_IELTS_listening.txt'}, page_content=\"listening at the same time. You can do that with your reading as well. When you're reading, try and improve your vocabulary by trying to note down new words and reviewing them. So record them in your book and review them regularly and that slowly but surely you're going to improve your vocabulary. You're not going to improve your vocabulary by looking at lists. You're not going to improve your vocabulary by noting down the translation to your own language. It's a waste of time. You will improve your vocabulary by listening out for new words, writing them down, and then reviewing them. Number six, have a strategy. There are many different types of questions. So you're probably more familiar with the reading questions like true, false, not given, multiple choice, matching headings, summary completion, but for each of the different types of, for on the listening test, there are different types of questions. Each one tests a range of different skills and they all follow the same format.\"),\n",
       " Document(metadata={'source': 'transcripts\\\\How_to_get_a_Band_8_in_IELTS_listening.txt'}, page_content=\"completion, but for each of the different types of, for on the listening test, there are different types of questions. Each one tests a range of different skills and they all follow the same format. So if we go and have a look on my website, let's go to IELTS Listening. Must already be listening. So you'll see here, summary completion, form filling, multiple choice, labeling a map or plan. These are all very different types of questions and each of them requires a different strategy. So if we go to multiple choice here, it looks like three different types, common problems, strategy. So at the bottom here, oops, we have a nine point strategy. So you don't have to follow this exact strategy. You can come up with your own strategy, but the key is that you want to not become a robot on test day, but just do things automatically on test day. So you're gonna have to do so many different things on test day that you want to be using a strategy like this so that when you see these different\"),\n",
       " Document(metadata={'source': 'transcripts\\\\How_to_get_a_Band_8_in_IELTS_listening.txt'}, page_content=\"day, but just do things automatically on test day. So you're gonna have to do so many different things on test day that you want to be using a strategy like this so that when you see these different types of questions, you know exactly what to do. So let's go ahead and do that. So when you see these different types of questions, you know exactly what to do. And that's going to mean that you can focus on getting the correct answer more. And they all follow the same format. So you can just learn that strategy and apply it. Doesn't mean that the strategy will guarantee that you get the correct answer, but it's really going to help your chances of getting the correct answer. And number seven, practice strategically. So practice alone will not help and will actually waste time. So many of you think that in order to improve to a band eight in listening, you just need to do lots and lots of practice. Wrong. You're wrong. You're not going to help. Could I learn how to drive by just driving\"),\n",
       " Document(metadata={'source': 'transcripts\\\\How_to_get_a_Band_8_in_IELTS_listening.txt'}, page_content=\"think that in order to improve to a band eight in listening, you just need to do lots and lots of practice. Wrong. You're wrong. You're not going to help. Could I learn how to drive by just driving around a racetrack again and again and again and again? No. You can't just do practice tests. You have to practice strategically. Because number one, it's not improving your score, but number two, it's wasting your time. If you did, lots of students that I speak to say, I've done all 13 of the IELTS, the Cambridge IELTS practice series. Like that's a long time. For listening alone, that would be what? 40, 50 hours of your time? If you didn't think strategically about this and do some crucial things, then you've just wasted your time. And you wouldn't believe the number of students that I speak to that are really, really angry with the fact that they have spent all that time practicing and their scores aren't improving. And it really comes down to this, practicing strategically. And what I'm\"),\n",
       " Document(metadata={'source': 'transcripts\\\\How_to_get_a_Band_8_in_IELTS_listening.txt'}, page_content=\"that are really, really angry with the fact that they have spent all that time practicing and their scores aren't improving. And it really comes down to this, practicing strategically. And what I'm going to do is I'm going to do a whole lesson on how to practice strategically for listening on Wednesday. Same time Wednesday, join me here on YouTube and we'll go through that. I wanted to do a separate lesson because it's so important. And I really think a lot of you are going to benefit from that one on Wednesday. So let me see if there are any questions. First of all, stop talking and listen to Chris. He is giving us simple. Good, good advice. Yeah, because it's really difficult for me to find questions when all of you are just having little conversations. Yeah, I can't find most of the answers because... Good question, which book is useful for listening? You don't need a book for listening. You need to listen for listening. A book is not really going to help you with listening. Any\"),\n",
       " Document(metadata={'source': 'transcripts\\\\How_to_get_a_Band_8_in_IELTS_listening.txt'}, page_content=\"answers because... Good question, which book is useful for listening? You don't need a book for listening. You need to listen for listening. A book is not really going to help you with listening. Any advice on multiple choice questions? Yeah, if you go to my website, go to, oops. So if you go to IELTS Listening. So if you go to the main homepage, you'll find writing, speaking, reading, listening, vocabulary. So you want help with listening. Just go in here and scroll down. So this is the listening guide and then multiple choice questions. Go in there, it's pretty simple. Okay. Okay. Will I be starting a $1 listening challenge? No, we're probably never going to do. I can say 100% we're never going to do a $1 listening challenge. And we probably will never do another $1 challenge ever again. Hopefully not. Good question. Should we learn explanation of words rather than translation? Yes, of course. Translation is not going to help you.\"),\n",
       " Document(metadata={'source': 'transcripts\\\\How_to_get_a_Band_8_in_IELTS_listening.txt'}, page_content='## How_to_get_a_Band_8_in_IELTS_listening_chunk_3.mp3'),\n",
       " Document(metadata={'source': 'transcripts\\\\How_to_get_a_Band_8_in_IELTS_listening.txt'}, page_content=\"to help you. It doesn't help you understand the meaning of the word, how the word is used in a sentence, the grammar, the collocations, the synonyms, the antonyms. It's really a waste of time. Any good teacher, if you are in their classroom, they should ban, like just do not allow any translation. It should be 100% in English. Someone has asked five times how to answer multiple choice questions, and I took you through where to find it on the website. So maybe listen and watch. Okay. Thank you for all your questions. Last question was from somebody who said, why is section three really, really difficult? Well, the way that you should think about it is the first questions, not easy, but not very difficult. And the questions get more and more difficult as you go through the listening test. So a good way to think about it is the first section, the first easier questions, don't ignore those questions. Those are low hanging fruit. They're easy questions. Get those in the bank. And then that\"),\n",
       " Document(metadata={'source': 'transcripts\\\\How_to_get_a_Band_8_in_IELTS_listening.txt'}, page_content=\"a good way to think about it is the first section, the first easier questions, don't ignore those questions. Those are low hanging fruit. They're easy questions. Get those in the bank. And then that will enable you to go through the test and be very, very confident that you've got the answer to those questions. And then as you go through the end, don't worry if you get one or two wrong at the end, because even if you need a band aid, you can still get a few wrong and you're not looking for perfection. What happens with many students on the listening and the reading test is if they get any questions wrong, they get really angry with themselves and they think they're going to fail and say, well, add up all your marks. What mark did you get? Oh, a band aid. It's like, is band aid enough? Yes. But I want to get every question correct. You're not going to get every question correct. The key is to practice strategically. And we will look at that on Wednesday and I'll show you how you can\"),\n",
       " Document(metadata={'source': 'transcripts\\\\How_to_get_a_Band_8_in_IELTS_listening.txt'}, page_content=\"But I want to get every question correct. You're not going to get every question correct. The key is to practice strategically. And we will look at that on Wednesday and I'll show you how you can learn from your mistakes and improve through practice. Thank you very much, guys. Hope that you enjoyed that video. Sorry that I can't answer all your questions. If you go to my website, IELTS Advantage, you'll find help with writing task one, task two, speaking, reading, listening. Just go in there, have a look and you'll get the answers to your questions. If you need my personal help, you can email me, chris at IELTSadvantage.com. I don't work with very many students. I only work with students who I want to work with and who I think I can help. And so if you want to send me an email, we can talk about whether you fit that bill. And if you need any other help, go to the website. Thank you very much, guys. If you enjoyed this video, please subscribe. We'll be making another one on Wednesday\"),\n",
       " Document(metadata={'source': 'transcripts\\\\How_to_get_a_Band_8_in_IELTS_listening.txt'}, page_content=\"about whether you fit that bill. And if you need any other help, go to the website. Thank you very much, guys. If you enjoyed this video, please subscribe. We'll be making another one on Wednesday and another one on Friday, all about listening. Wednesday, we'll be looking at how to practice strategically. And on Friday, we'll focus on how to focus on the test and keep your focus during the test. Thank you very much, guys. Hope that you enjoyed that video. Let me know what you think about it in the comments. If you have any questions, let me know. Thank you. Bye bye.\")]"
      ]
     },
     "execution_count": 3,
     "metadata": {},
     "output_type": "execute_result"
    }
   ],
   "source": [
    "docs"
   ]
  },
  {
   "cell_type": "markdown",
   "id": "a310a504",
   "metadata": {},
   "source": [
    "## 5. Assign Source Metadata to Document Chunks\n",
    "\n",
    "For traceability, each chunk is annotated with metadata indicating its source (the original video or audio file).  \n",
    "This is useful for providing references when answering questions and for debugging.\n"
   ]
  },
  {
   "cell_type": "code",
   "execution_count": null,
   "id": "689f6c0e",
   "metadata": {},
   "outputs": [],
   "source": [
    "import os\n",
    "for chunk in docs:\n",
    "    video_id = os.path.splitext(os.path.basename(chunk.metadata[\"source\"]))[0]\n",
    "    chunk.metadata[\"source\"] = video_id"
   ]
  },
  {
   "cell_type": "code",
   "execution_count": null,
   "id": "14305ace",
   "metadata": {},
   "outputs": [
    {
     "data": {
      "text/plain": [
       "[Document(metadata={'source': 'How_to_get_a_Band_8_in_IELTS_listening'}, page_content='# Transcript for How_to_get_a_Band_8_in_IELTS_listening'),\n",
       " Document(metadata={'source': 'How_to_get_a_Band_8_in_IELTS_listening'}, page_content='## How_to_get_a_Band_8_in_IELTS_listening_chunk_1.mp3'),\n",
       " Document(metadata={'source': 'How_to_get_a_Band_8_in_IELTS_listening'}, page_content=\"Hey everyone, Chris here from IELTSadvantage.com with another live lesson. Today's live lesson is all about listening. So we've had a huge number of people emailing us over the past few months saying that they need a band 8 in listening. It seems that many, many people want to move to Canada, they need that 8777, and sometimes what's stopping them getting there is they're getting 7, 7.5 in listening, which is a great score. But if they had that 8 or even above 8 in the listening test, they would get to Canada. Also countries like Australia, for example, has a point system for immigration, so the higher your score, the more points you're going to get. So getting a higher score in listening is really going to help you. And in general, just thinking a little bit strategically, you want to not be worrying so much about the listening test, because you're probably going to be worrying a lot about the writing test, maybe even the speaking test. And so if you have learned these things, which\"),\n",
       " Document(metadata={'source': 'How_to_get_a_Band_8_in_IELTS_listening'}, page_content=\"the writing test, maybe even the speaking test. And so if you have learned these things, which I'm about to teach you, and you've done all of these things, then you're going to make the whole test day a lot easier on you, because the less stress you have, the better. So the whole aim of this lesson is to give you things that actually work. First of all, I'm not going to give you any tips or tricks, because tips or tricks do not work. Tips or tricks, these are the best way to prolong your IELTS journey, to make it long, to make it hard, so that you will waste money. How much money is it these days to do the test? How much money are you wasting every time you fail the test? By looking for tips and tricks, you think that you're saving time, you think it's going to be easy, but in the long run, tips and tricks do not work. You're not going to trick your way to go from a band seven to a band eight on the listening test. You're just not going to be able to do that. So none of the things I'm\"),\n",
       " Document(metadata={'source': 'How_to_get_a_Band_8_in_IELTS_listening'}, page_content=\"eight on the listening test. You're just not going to be able to do that. So none of the things I'm going to teach you today have to do with any tips or tricks. Why? They don't work. If they worked, I would tell you, but they don't. So number one, stop looking for tips and tricks. They do not work. Number two, listen to English every day. Now this sounds really, really obvious. This sounds like something that, you know, of course I'm going to do that. But very few students who I actually work with on a one-to-one basis, when they have a problem with listening, normally the first thing I say is, well, how many hours a day do you listen to English? Normally the answer comes back hours per day. I don't listen to even one hour per week. If you count up the number of minutes you spend each week listening, like I have lots of podcast apps on my phone and some of them are really cool. They can tell you how much you're listening. I think the new iPhones or the new update for iPhone tells you\"),\n",
       " Document(metadata={'source': 'How_to_get_a_Band_8_in_IELTS_listening'}, page_content=\"tell you how much you're listening. I think the new iPhones or the new update for iPhone tells you how much time you spend on each app. And there's a lot of apps that do tell you that. If you add up all the time you spend listening to podcasts or YouTube or, you know, watching TED Talks, it's a lot less than you think. But it's so easy these days to listen to English every day because we carry it with us on our phone. So you could watch TV, you could listen to the radio, you could listen to podcasts, you could watch YouTube, you could listen to TED Talks. And I'm sure that there are hundreds of other ways that you could listen to English. If you live in an English-speaking country, go out and speak to people and listen to how people talk. The key here is not which TV show will help you improve your IELTS score or which podcast will help you improve your IELTS score or which TED Talks. It's about consistently doing it every single day. Ten minutes a day or 30 minutes a day or one hour\"),\n",
       " Document(metadata={'source': 'How_to_get_a_Band_8_in_IELTS_listening'}, page_content=\"about consistently doing it every single day. Ten minutes a day or 30 minutes a day or one hour a day is way more powerful and more impactful than panicking a week before your test and listening to 12 hours of podcasts or 12 hours of TED Talks a week before your test. It's not going to help you. And also the great thing about everything being on our mobiles, everything being on our phones is you can listen to this anywhere. On the way to work, on the way back from work, at lunch time, while you're looking after your kids, while they're doing something else, you can just have your podcast running in the background. I was with my little boy on Saturday sitting in a park with him and he was running around with lots of little other boys. I could have been doing anything in that time. I just took the time just to sit and watch him play, but I could have been doing anything. There are multiple times per day where you have the time. Bring your phone with you. Bring your whatever you use to\"),\n",
       " Document(metadata={'source': 'How_to_get_a_Band_8_in_IELTS_listening'}, page_content=\"times per day where you have the time. Bring your phone with you. Bring your whatever you use to listen to and that's going to help you with that. If you want to get a Band-Aid, you should be listening to a range of different accents, a range of different topics. You can find all of these out on YouTube. You can find these on podcasts. You can find a range of different accents. Keep it simple. If you want to improve, let's say you're unfamiliar with the Scottish accent, listen to a podcast with Scottish people talking, or if you are unfamiliar with the Canadian accent, go and listen to Canadian news or a Canadian YouTube channel or a Canadian talking on a TED Talk. Just keep it simple. Just do it and it will help you. Listen to a range of different topics. Obviously, podcasts have every single topic in the world. TED Talks have a great range of topics, especially topics that come up on the IELTS test. Have a look at those and they are going to help you. Also, look at multiple people\"),\n",
       " Document(metadata={'source': 'How_to_get_a_Band_8_in_IELTS_listening'}, page_content=\"the IELTS test. Have a look at those and they are going to help you. Also, look at multiple people speaking and one person speaking. For example, TED Talks, normally it's just one person speaking. That's going to be tested on the listening test. Podcasts or radio or TV could be one person. Most likely, it's going to be multiple people speaking. Testing different skills. Listening to one person and listening to multiple people, cutting in and stopping and asking questions in different accents, that's completely different from just listening to one person speaking. You should be listening to a range of topics, accents, and one person versus multiple people. Also, when you're listening, we just did this lesson on Facebook before we did it here. There's a great question came up from one of the girls who was listening. She said that, I listen to podcasts for two hours every single day and my spelling is still terrible. I said, okay, what you need to do is actively listen. What does\"),\n",
       " Document(metadata={'source': 'How_to_get_a_Band_8_in_IELTS_listening'}, page_content=\"and my spelling is still terrible. I said, okay, what you need to do is actively listen. What does actively listen mean? For example, if you were terrible at spelling and you really needed to improve your spelling, active listening would mean that when you're listening to something and you hear a word that you're unsure of the spelling, you would write it down and then you would check the spelling in a dictionary and you would keep doing that until it improved your listening. Active listening is when you focus on one thing at a time and do something while you're listening. Let's say you wanted to improve your vocabulary. What you would do is listen to a podcast or something like that or YouTube or TED Talk. When you hear a word you don't know, write that word down, write all the information you need to remember that word and then review that word. Actively listening means you're doing something to help improve a specific area. That could be vocabulary, grammar, accent, pronunciation,\"),\n",
       " Document(metadata={'source': 'How_to_get_a_Band_8_in_IELTS_listening'}, page_content=\"to help improve a specific area. That could be vocabulary, grammar, accent, pronunciation, all of these different things that you can focus on. One of those is spelling. As I just said, you could focus on your spelling and actively listen to improve your spelling. Spelling is really, really important for IELTS listening for a few different reasons. Number one, normally people mess up spelling not because they are bad at spelling, it's because they're careless. They think about when you're writing an email or a text message to someone. Even as a native English speaker, I make spelling mistakes when I'm writing a text message or writing an email and it's not because I don't know the spelling of that word, it's because I'm not very careful when I'm doing that or I'm in a rush or I'm distracted or I'm not focused. What you need to do is make sure that you are, when you're transferring your answers over in the last part of the test, when you have that time at the end to transfer your\"),\n",
       " Document(metadata={'source': 'How_to_get_a_Band_8_in_IELTS_listening'}, page_content=\"your answers over in the last part of the test, when you have that time at the end to transfer your answers over, make sure your spelling is 100% spot on because if you get even one letter out of place, it is wrong. It doesn't matter if it's very close or it's just two letters the wrong way, it's going to be wrong. And also be very harsh when you're practicing. So when you are practicing, you're going to have to give yourself a score by checking your answers. Often when people check those answers, if the spelling is a little off, they'll give themselves a mark. They will tick it and they will give themselves that correct answer. You need to be realistic. You need to know your real score before you do the test. I was working with one student a couple of weeks ago and they said to me, every time I do the test, I get like a seven or sorry, an eight or 8.5 when I'm practicing at home. But when I do the test, it's like seven, 7.5. So they were getting really high scores in practice, lower\"),\n",
       " Document(metadata={'source': 'How_to_get_a_Band_8_in_IELTS_listening'}, page_content=\"I do the test, it's like seven, 7.5. So they were getting really high scores in practice, lower scores on test day. I wasn't sure what this was and then I looked at their actual answers and multiple answers were spelled incorrectly, but they were giving themselves the correct answer. They're like, ah, it's just a little bit off. That doesn't matter. On the test, they're going to give you a incorrect answer for that. So be harsh and record your mistakes. Get yourself a notebook, just a plain notebook. Could be any sort of notebook you want and it doesn't matter how expensive the notebook\"),\n",
       " Document(metadata={'source': 'How_to_get_a_Band_8_in_IELTS_listening'}, page_content='## How_to_get_a_Band_8_in_IELTS_listening_chunk_2.mp3'),\n",
       " Document(metadata={'source': 'How_to_get_a_Band_8_in_IELTS_listening'}, page_content=\"is the important thing is that you have just a blank notebook to record your mistakes. And then once you've finished doing all your practice, review it and you'll start to see patterns and then you can correct all your mistakes and that's really going to help you. Also, what you can do is when you make spelling mistakes, take a photo and take a photo of the mistakes, file it away in a folder on your iPhone or whatever, and you can then check it and then review your spelling mistakes and that's going to help you. Number four, it's not just a listening test. It is also a reading test, a thinking test, a spelling test, a grammar test, and a vocabulary test. Testing all of these different things. I'd say these two are really, really important, reading and thinking. And this comes down to focus. Often you'll get students who are not used to listening to English and you have to listen for a very long time, and you don't think it's that long, but when you are there on test day, it does feel\"),\n",
       " Document(metadata={'source': 'How_to_get_a_Band_8_in_IELTS_listening'}, page_content=\"long time, and you don't think it's that long, but when you are there on test day, it does feel like a very long time. And it is a big challenge for a lot of people. And what happens is you lose focus and then you don't read the questions. You don't think about what the answer might be. And then the listening track starts and you get lost and you get panicked and everything just snowballs and you're in a bad place. You should be reading the questions before the recording starts. You should be thinking about the questions. You should be thinking about what the answers might be before the recording starts. And that is really, really going to help you. Spelling, we've also covered. Grammar, there are certain types of questions where you're going to have to be aware of grammar. And if the grammar is not correct, you're going to get a wrong answer. Also being aware of grammar and thinking about grammar is going to help you predict the answer and get the correct answer ultimately. And also,\"),\n",
       " Document(metadata={'source': 'How_to_get_a_Band_8_in_IELTS_listening'}, page_content=\"grammar is going to help you predict the answer and get the correct answer ultimately. And also, as with the reading test, the most important thing is that you improve your vocabulary. For many of you, it doesn't matter how many strategies or tips you listen to. If your vocabulary is not good enough, you're never going to get a band-aid for listening or reading. Think about what a band-aid means. A band-aid means that you're just below a native English speaker. So think about how the audacity that you have thinking that you're going to go from someone just learning a language to nearly native English speaker level by just learning some tips and tricks. That's outrageous to think that. In order to improve your level, you're going to have to improve your vocabulary. There's no other way around it. So number five, improve your vocabulary. Combine this with daily listening, daily reading practice. So if you're listening to a podcast, get your notebook, get a notebook that you just use for\"),\n",
       " Document(metadata={'source': 'How_to_get_a_Band_8_in_IELTS_listening'}, page_content=\"So if you're listening to a podcast, get your notebook, get a notebook that you just use for vocabulary. So you're listening to a podcast or a TED Talk or something, you hear a new word or phrase, write that down, add in what you're going to do, add in collocations, antonyms, synonyms, pronunciation, example sentences, and then at the end of six weeks, six months, you will have a huge number of new words which you can just go and review and you'll be improving your vocabulary and listening at the same time. You can do that with your reading as well. When you're reading, try and improve your vocabulary by trying to note down new words and reviewing them. So record them in your book and review them regularly and that slowly but surely you're going to improve your vocabulary. You're not going to improve your vocabulary by looking at lists. You're not going to improve your vocabulary by noting down the translation to your own language. It's a waste of time. You will improve your\"),\n",
       " Document(metadata={'source': 'How_to_get_a_Band_8_in_IELTS_listening'}, page_content=\"by noting down the translation to your own language. It's a waste of time. You will improve your vocabulary by listening out for new words, writing them down, and then reviewing them. Number six, have a strategy. There are many different types of questions. So you're probably more familiar with the reading questions like true, false, not given, multiple choice, matching headings, summary completion, but for each of the different types of, for on the listening test, there are different types of questions. Each one tests a range of different skills and they all follow the same format. So if we go and have a look on my website, let's go to IELTS Listening. Must already be listening. So you'll see here, summary completion, form filling, multiple choice, labeling a map or plan. These are all very different types of questions and each of them requires a different strategy. So if we go to multiple choice here, it looks like three different types, common problems, strategy. So at the bottom\"),\n",
       " Document(metadata={'source': 'How_to_get_a_Band_8_in_IELTS_listening'}, page_content=\"choice here, it looks like three different types, common problems, strategy. So at the bottom here, oops, we have a nine point strategy. So you don't have to follow this exact strategy. You can come up with your own strategy, but the key is that you want to not become a robot on test day, but just do things automatically on test day. So you're gonna have to do so many different things on test day that you want to be using a strategy like this so that when you see these different types of questions, you know exactly what to do. So let's go ahead and do that. So when you see these different types of questions, you know exactly what to do. And that's going to mean that you can focus on getting the correct answer more. And they all follow the same format. So you can just learn that strategy and apply it. Doesn't mean that the strategy will guarantee that you get the correct answer, but it's really going to help your chances of getting the correct answer. And number seven, practice\"),\n",
       " Document(metadata={'source': 'How_to_get_a_Band_8_in_IELTS_listening'}, page_content=\"it's really going to help your chances of getting the correct answer. And number seven, practice strategically. So practice alone will not help and will actually waste time. So many of you think that in order to improve to a band eight in listening, you just need to do lots and lots of practice. Wrong. You're wrong. You're not going to help. Could I learn how to drive by just driving around a racetrack again and again and again and again? No. You can't just do practice tests. You have to practice strategically. Because number one, it's not improving your score, but number two, it's wasting your time. If you did, lots of students that I speak to say, I've done all 13 of the IELTS, the Cambridge IELTS practice series. Like that's a long time. For listening alone, that would be what? 40, 50 hours of your time? If you didn't think strategically about this and do some crucial things, then you've just wasted your time. And you wouldn't believe the number of students that I speak to that are\"),\n",
       " Document(metadata={'source': 'How_to_get_a_Band_8_in_IELTS_listening'}, page_content=\"just wasted your time. And you wouldn't believe the number of students that I speak to that are really, really angry with the fact that they have spent all that time practicing and their scores aren't improving. And it really comes down to this, practicing strategically. And what I'm going to do is I'm going to do a whole lesson on how to practice strategically for listening on Wednesday. Same time Wednesday, join me here on YouTube and we'll go through that. I wanted to do a separate lesson because it's so important. And I really think a lot of you are going to benefit from that one on Wednesday. So let me see if there are any questions. First of all, stop talking and listen to Chris. He is giving us simple. Good, good advice. Yeah, because it's really difficult for me to find questions when all of you are just having little conversations. Yeah, I can't find most of the answers because... Good question, which book is useful for listening? You don't need a book for listening. You need\"),\n",
       " Document(metadata={'source': 'How_to_get_a_Band_8_in_IELTS_listening'}, page_content=\"Good question, which book is useful for listening? You don't need a book for listening. You need to listen for listening. A book is not really going to help you with listening. Any advice on multiple choice questions? Yeah, if you go to my website, go to, oops. So if you go to IELTS Listening. So if you go to the main homepage, you'll find writing, speaking, reading, listening, vocabulary. So you want help with listening. Just go in here and scroll down. So this is the listening guide and then multiple choice questions. Go in there, it's pretty simple. Okay. Okay. Will I be starting a $1 listening challenge? No, we're probably never going to do. I can say 100% we're never going to do a $1 listening challenge. And we probably will never do another $1 challenge ever again. Hopefully not. Good question. Should we learn explanation of words rather than translation? Yes, of course. Translation is not going to help you.\"),\n",
       " Document(metadata={'source': 'How_to_get_a_Band_8_in_IELTS_listening'}, page_content='## How_to_get_a_Band_8_in_IELTS_listening_chunk_3.mp3'),\n",
       " Document(metadata={'source': 'How_to_get_a_Band_8_in_IELTS_listening'}, page_content=\"to help you. It doesn't help you understand the meaning of the word, how the word is used in a sentence, the grammar, the collocations, the synonyms, the antonyms. It's really a waste of time. Any good teacher, if you are in their classroom, they should ban, like just do not allow any translation. It should be 100% in English. Someone has asked five times how to answer multiple choice questions, and I took you through where to find it on the website. So maybe listen and watch. Okay. Thank you for all your questions. Last question was from somebody who said, why is section three really, really difficult? Well, the way that you should think about it is the first questions, not easy, but not very difficult. And the questions get more and more difficult as you go through the listening test. So a good way to think about it is the first section, the first easier questions, don't ignore those questions. Those are low hanging fruit. They're easy questions. Get those in the bank. And then that\"),\n",
       " Document(metadata={'source': 'How_to_get_a_Band_8_in_IELTS_listening'}, page_content=\"Those are low hanging fruit. They're easy questions. Get those in the bank. And then that will enable you to go through the test and be very, very confident that you've got the answer to those questions. And then as you go through the end, don't worry if you get one or two wrong at the end, because even if you need a band aid, you can still get a few wrong and you're not looking for perfection. What happens with many students on the listening and the reading test is if they get any questions wrong, they get really angry with themselves and they think they're going to fail and say, well, add up all your marks. What mark did you get? Oh, a band aid. It's like, is band aid enough? Yes. But I want to get every question correct. You're not going to get every question correct. The key is to practice strategically. And we will look at that on Wednesday and I'll show you how you can learn from your mistakes and improve through practice. Thank you very much, guys. Hope that you enjoyed that\"),\n",
       " Document(metadata={'source': 'How_to_get_a_Band_8_in_IELTS_listening'}, page_content=\"your mistakes and improve through practice. Thank you very much, guys. Hope that you enjoyed that video. Sorry that I can't answer all your questions. If you go to my website, IELTS Advantage, you'll find help with writing task one, task two, speaking, reading, listening. Just go in there, have a look and you'll get the answers to your questions. If you need my personal help, you can email me, chris at IELTSadvantage.com. I don't work with very many students. I only work with students who I want to work with and who I think I can help. And so if you want to send me an email, we can talk about whether you fit that bill. And if you need any other help, go to the website. Thank you very much, guys. If you enjoyed this video, please subscribe. We'll be making another one on Wednesday and another one on Friday, all about listening. Wednesday, we'll be looking at how to practice strategically. And on Friday, we'll focus on how to focus on the test and keep your focus during the test. Thank\"),\n",
       " Document(metadata={'source': 'How_to_get_a_Band_8_in_IELTS_listening'}, page_content=\"And on Friday, we'll focus on how to focus on the test and keep your focus during the test. Thank you very much, guys. Hope that you enjoyed that video. Let me know what you think about it in the comments. If you have any questions, let me know. Thank you. Bye bye.\")]"
      ]
     },
     "execution_count": 7,
     "metadata": {},
     "output_type": "execute_result"
    }
   ],
   "source": [
    "docs"
   ]
  },
  {
   "cell_type": "markdown",
   "id": "f16b3ad9",
   "metadata": {},
   "source": [
    "## 6. Generate Embeddings and Build FAISS Vector Store\n",
    "\n",
    "Now, we generate vector embeddings for each document chunk using OpenAI embeddings.  \n",
    "These embeddings are stored in a FAISS vector index, enabling fast semantic search and retrieval for question answering.\n"
   ]
  },
  {
   "cell_type": "code",
   "execution_count": 7,
   "id": "5a22876a",
   "metadata": {},
   "outputs": [
    {
     "name": "stderr",
     "output_type": "stream",
     "text": [
      "c:\\Users\\007T\\OneDrive\\Desktop\\ironhack2025\\ai-bootcamp-final-project\\Multimodal-AI-ChatBot-for-YouTube-Video-QA\\rag_pipeline.py:227: LangChainDeprecationWarning: The class `OpenAIEmbeddings` was deprecated in LangChain 0.0.9 and will be removed in 1.0. An updated version of the class exists in the :class:`~langchain-openai package and should be used instead. To use it run `pip install -U :class:`~langchain-openai` and import as `from :class:`~langchain_openai import OpenAIEmbeddings``.\n",
      "  embeddings = OpenAIEmbeddings(openai_api_key=api_key, model=\"text-embedding-ada-002\")\n"
     ]
    }
   ],
   "source": [
    "vectorstore = create_vectorstore(api_key=api_key, docs=docs)"
   ]
  },
  {
   "cell_type": "markdown",
   "id": "4daf67db",
   "metadata": {},
   "source": [
    "## 7. Create a Strict QA Prompt and Build QA Chain (Retriever)\n",
    "\n",
    "We define a strict prompt template to ensure the model only answers questions based on the transcript, not external knowledge.  \n",
    "Then, we build a RetrievalQA chain that uses the vector store and the prompt to answer questions, returning both the answer and the supporting source documents.\n"
   ]
  },
  {
   "cell_type": "code",
   "execution_count": 9,
   "id": "8658e49b",
   "metadata": {},
   "outputs": [],
   "source": [
    "from langchain.prompts import PromptTemplate\n",
    "\n",
    "# Custom Prompt Template for Strict QA\n",
    "STRICT_QA_PROMPT = PromptTemplate(\n",
    "    template=\"\"\"Answer ONLY from the video transcript. If not found, say \"This information is not mentioned in the transcript of the video\".\n",
    "    \n",
    "    Transcript: {context}\n",
    "    \n",
    "    Question: {question}\n",
    "    \n",
    "    Answer:\"\"\",\n",
    "    input_variables=[\"context\", \"question\"]\n",
    ")"
   ]
  },
  {
   "cell_type": "code",
   "execution_count": null,
   "id": "4a604248",
   "metadata": {},
   "outputs": [],
   "source": [
    "qa_chain = build_qa_chain(vector_store=vectorstore, chat_model=llm, return_source_documents=True)"
   ]
  },
  {
   "cell_type": "markdown",
   "id": "cf413b31",
   "metadata": {},
   "source": [
    "## 8. Initialize and Test the Conversational Agent\n",
    "\n",
    "Finally, we build a conversational agent that can answer questions and provide summaries, strictly using the transcript content.  \n",
    "We test the agent with a series of queries to check that it responds appropriately, refusing to answer questions not covered in the transcript.\n"
   ]
  },
  {
   "cell_type": "code",
   "execution_count": 11,
   "id": "edcad725",
   "metadata": {},
   "outputs": [
    {
     "name": "stderr",
     "output_type": "stream",
     "text": [
      "c:\\Users\\007T\\OneDrive\\Desktop\\ironhack2025\\ai-bootcamp-final-project\\Multimodal-AI-ChatBot-for-YouTube-Video-QA\\agent.py:48: LangChainDeprecationWarning: Please see the migration guide at: https://python.langchain.com/docs/versions/migrating_memory/\n",
      "  memory = ConversationBufferMemory(\n",
      "c:\\Users\\007T\\OneDrive\\Desktop\\ironhack2025\\ai-bootcamp-final-project\\Multimodal-AI-ChatBot-for-YouTube-Video-QA\\agent.py:55: LangChainDeprecationWarning: LangChain agents will continue to be supported, but it is recommended for new use cases to be built with LangGraph. LangGraph offers a more flexible and full-featured framework for building agents, including support for tool-calling, persistence of state, and human-in-the-loop workflows. For details, refer to the `LangGraph documentation <https://langchain-ai.github.io/langgraph/>`_ as well as guides for `Migrating from AgentExecutor <https://python.langchain.com/docs/how_to/migrate_agent/>`_ and LangGraph's `Pre-built ReAct agent <https://langchain-ai.github.io/langgraph/how-tos/create-react-agent/>`_.\n",
      "  agent = initialize_agent(\n"
     ]
    }
   ],
   "source": [
    "agent = build_agent(chat_model=llm , chain= qa_chain)"
   ]
  },
  {
   "cell_type": "code",
   "execution_count": null,
   "id": "15d41846",
   "metadata": {},
   "outputs": [
    {
     "name": "stdout",
     "output_type": "stream",
     "text": [
      "\n",
      "\n",
      "\u001b[1m> Entering new AgentExecutor chain...\u001b[0m\n",
      "\u001b[32;1m\u001b[1;3m```json\n",
      "{\n",
      "    \"action\": \"Final Answer\",\n",
      "    \"action_input\": \"Hello Layla! How can I assist you today?\"\n",
      "}\n",
      "```\u001b[0m\n",
      "\n",
      "\u001b[1m> Finished chain.\u001b[0m\n",
      "{'input': \"Hi, I'm Layla\", 'chat_history': [HumanMessage(content=\"Hi, I'm Layla\", additional_kwargs={}, response_metadata={}), AIMessage(content='Hello Layla! How can I assist you today?', additional_kwargs={}, response_metadata={})], 'output': 'Hello Layla! How can I assist you today?', 'intermediate_steps': []}\n",
      "\n",
      "\n",
      "\u001b[1m> Entering new AgentExecutor chain...\u001b[0m\n"
     ]
    },
    {
     "name": "stderr",
     "output_type": "stream",
     "text": [
      "c:\\Users\\007T\\OneDrive\\Desktop\\ironhack2025\\ai-bootcamp-final-project\\Multimodal-AI-ChatBot-for-YouTube-Video-QA\\.venv\\Lib\\site-packages\\langchain\\memory\\chat_memory.py:55: UserWarning: 'ConversationBufferMemory' got multiple output keys: dict_keys(['output', 'intermediate_steps']). The default 'output' key is being used. If this is not desired, please manually set 'output_key'.\n",
      "  warnings.warn(\n"
     ]
    },
    {
     "name": "stdout",
     "output_type": "stream",
     "text": [
      "\u001b[32;1m\u001b[1;3m```json\n",
      "{\n",
      "    \"action\": \"Final Answer\",\n",
      "    \"action_input\": \"Your name is Layla.\"\n",
      "}\n",
      "```\u001b[0m\n",
      "\n",
      "\u001b[1m> Finished chain.\u001b[0m\n",
      "{'input': \"What's my name?\", 'chat_history': [HumanMessage(content=\"Hi, I'm Layla\", additional_kwargs={}, response_metadata={}), AIMessage(content='Hello Layla! How can I assist you today?', additional_kwargs={}, response_metadata={}), HumanMessage(content=\"What's my name?\", additional_kwargs={}, response_metadata={}), AIMessage(content='Your name is Layla.', additional_kwargs={}, response_metadata={})], 'output': 'Your name is Layla.', 'intermediate_steps': []}\n",
      "\n",
      "\n",
      "\u001b[1m> Entering new AgentExecutor chain...\u001b[0m\n"
     ]
    },
    {
     "name": "stderr",
     "output_type": "stream",
     "text": [
      "c:\\Users\\007T\\OneDrive\\Desktop\\ironhack2025\\ai-bootcamp-final-project\\Multimodal-AI-ChatBot-for-YouTube-Video-QA\\.venv\\Lib\\site-packages\\langchain\\memory\\chat_memory.py:55: UserWarning: 'ConversationBufferMemory' got multiple output keys: dict_keys(['output', 'intermediate_steps']). The default 'output' key is being used. If this is not desired, please manually set 'output_key'.\n",
      "  warnings.warn(\n"
     ]
    },
    {
     "name": "stdout",
     "output_type": "stream",
     "text": [
      "\u001b[32;1m\u001b[1;3m```json\n",
      "{\n",
      "    \"action\": \"Final Answer\",\n",
      "    \"action_input\": \"2 + 2 equals 4.\"\n",
      "}\n",
      "```\u001b[0m\n",
      "\n",
      "\u001b[1m> Finished chain.\u001b[0m\n",
      "{'input': \"What's 2+2?\", 'chat_history': [HumanMessage(content=\"Hi, I'm Layla\", additional_kwargs={}, response_metadata={}), AIMessage(content='Hello Layla! How can I assist you today?', additional_kwargs={}, response_metadata={}), HumanMessage(content=\"What's my name?\", additional_kwargs={}, response_metadata={}), AIMessage(content='Your name is Layla.', additional_kwargs={}, response_metadata={}), HumanMessage(content=\"What's 2+2?\", additional_kwargs={}, response_metadata={}), AIMessage(content='2 + 2 equals 4.', additional_kwargs={}, response_metadata={})], 'output': '2 + 2 equals 4.', 'intermediate_steps': []}\n",
      "\n",
      "\n",
      "\u001b[1m> Entering new AgentExecutor chain...\u001b[0m\n"
     ]
    },
    {
     "name": "stderr",
     "output_type": "stream",
     "text": [
      "c:\\Users\\007T\\OneDrive\\Desktop\\ironhack2025\\ai-bootcamp-final-project\\Multimodal-AI-ChatBot-for-YouTube-Video-QA\\.venv\\Lib\\site-packages\\langchain\\memory\\chat_memory.py:55: UserWarning: 'ConversationBufferMemory' got multiple output keys: dict_keys(['output', 'intermediate_steps']). The default 'output' key is being used. If this is not desired, please manually set 'output_key'.\n",
      "  warnings.warn(\n"
     ]
    },
    {
     "name": "stdout",
     "output_type": "stream",
     "text": [
      "\u001b[32;1m\u001b[1;3m{\n",
      "    \"action\": \"TranscriptQA\",\n",
      "    \"action_input\": \"What is the video about?\"\n",
      "}\u001b[0m\n",
      "\n",
      "\u001b[1m> Entering new RetrievalQA chain...\u001b[0m\n"
     ]
    },
    {
     "name": "stderr",
     "output_type": "stream",
     "text": [
      "c:\\Users\\007T\\OneDrive\\Desktop\\ironhack2025\\ai-bootcamp-final-project\\Multimodal-AI-ChatBot-for-YouTube-Video-QA\\agent.py:10: LangChainDeprecationWarning: The method `Chain.__call__` was deprecated in langchain 0.1.0 and will be removed in 1.0. Use :meth:`~invoke` instead.\n",
      "  output = chain({'query': question})\n"
     ]
    },
    {
     "name": "stdout",
     "output_type": "stream",
     "text": [
      "\n",
      "\u001b[1m> Finished chain.\u001b[0m\n",
      "\n",
      "Observation: \u001b[36;1m\u001b[1;3mAnswer:\n",
      "The video is about how to get a Band 8 in IELTS listening.\n",
      "\n",
      "Sources:\n",
      "How_to_get_a_Band_8_in_IELTS_listening: about whether you fit that bill. And if you need any other help, go to the website. Thank you very much, guys. If you enjoyed this video, please subscribe. We'll be making another one on Wednesday and another one on Friday, all about listening. Wednesday, we'll be looking at how to practice strategically. And on Friday, we'll focus on how to focus on the test and keep your focus during the test. Thank you very much, guys. Hope that you enjoyed that video. Let me know what you think about it in the comments. If you have any questions, let me know. Thank you. Bye bye.\n",
      "\n",
      "How_to_get_a_Band_8_in_IELTS_listening: But I want to get every question correct. You're not going to get every question correct. The key is to practice strategically. And we will look at that on Wednesday and I'll show you how you can learn from your mistakes and improve through practice. Thank you very much, guys. Hope that you enjoyed that video. Sorry that I can't answer all your questions. If you go to my website, IELTS Advantage, you'll find help with writing task one, task two, speaking, reading, listening. Just go in there, have a look and you'll get the answers to your questions. If you need my personal help, you can email me, chris at IELTSadvantage.com. I don't work with very many students. I only work with students who I want to work with and who I think I can help. And so if you want to send me an email, we can talk about whether you fit that bill. And if you need any other help, go to the website. Thank you very much, guys. If you enjoyed this video, please subscribe. We'll be making another one on Wednesday\n",
      "\n",
      "How_to_get_a_Band_8_in_IELTS_listening: that are really, really angry with the fact that they have spent all that time practicing and their scores aren't improving. And it really comes down to this, practicing strategically. And what I'm going to do is I'm going to do a whole lesson on how to practice strategically for listening on Wednesday. Same time Wednesday, join me here on YouTube and we'll go through that. I wanted to do a separate lesson because it's so important. And I really think a lot of you are going to benefit from that one on Wednesday. So let me see if there are any questions. First of all, stop talking and listen to Chris. He is giving us simple. Good, good advice. Yeah, because it's really difficult for me to find questions when all of you are just having little conversations. Yeah, I can't find most of the answers because... Good question, which book is useful for listening? You don't need a book for listening. You need to listen for listening. A book is not really going to help you with listening. Any\n",
      "\n",
      "How_to_get_a_Band_8_in_IELTS_listening: # Transcript for How_to_get_a_Band_8_in_IELTS_listening\u001b[0m\n",
      "\u001b[32;1m\u001b[1;3m\u001b[0m\n",
      "\n",
      "\u001b[1m> Finished chain.\u001b[0m\n",
      "{'input': 'What is the video about?', 'chat_history': [HumanMessage(content=\"Hi, I'm Layla\", additional_kwargs={}, response_metadata={}), AIMessage(content='Hello Layla! How can I assist you today?', additional_kwargs={}, response_metadata={}), HumanMessage(content=\"What's my name?\", additional_kwargs={}, response_metadata={}), AIMessage(content='Your name is Layla.', additional_kwargs={}, response_metadata={}), HumanMessage(content=\"What's 2+2?\", additional_kwargs={}, response_metadata={}), AIMessage(content='2 + 2 equals 4.', additional_kwargs={}, response_metadata={}), HumanMessage(content='What is the video about?', additional_kwargs={}, response_metadata={}), AIMessage(content=\"Answer:\\nThe video is about how to get a Band 8 in IELTS listening.\\n\\nSources:\\nHow_to_get_a_Band_8_in_IELTS_listening: about whether you fit that bill. And if you need any other help, go to the website. Thank you very much, guys. If you enjoyed this video, please subscribe. We'll be making another one on Wednesday and another one on Friday, all about listening. Wednesday, we'll be looking at how to practice strategically. And on Friday, we'll focus on how to focus on the test and keep your focus during the test. Thank you very much, guys. Hope that you enjoyed that video. Let me know what you think about it in the comments. If you have any questions, let me know. Thank you. Bye bye.\\n\\nHow_to_get_a_Band_8_in_IELTS_listening: But I want to get every question correct. You're not going to get every question correct. The key is to practice strategically. And we will look at that on Wednesday and I'll show you how you can learn from your mistakes and improve through practice. Thank you very much, guys. Hope that you enjoyed that video. Sorry that I can't answer all your questions. If you go to my website, IELTS Advantage, you'll find help with writing task one, task two, speaking, reading, listening. Just go in there, have a look and you'll get the answers to your questions. If you need my personal help, you can email me, chris at IELTSadvantage.com. I don't work with very many students. I only work with students who I want to work with and who I think I can help. And so if you want to send me an email, we can talk about whether you fit that bill. And if you need any other help, go to the website. Thank you very much, guys. If you enjoyed this video, please subscribe. We'll be making another one on Wednesday\\n\\nHow_to_get_a_Band_8_in_IELTS_listening: that are really, really angry with the fact that they have spent all that time practicing and their scores aren't improving. And it really comes down to this, practicing strategically. And what I'm going to do is I'm going to do a whole lesson on how to practice strategically for listening on Wednesday. Same time Wednesday, join me here on YouTube and we'll go through that. I wanted to do a separate lesson because it's so important. And I really think a lot of you are going to benefit from that one on Wednesday. So let me see if there are any questions. First of all, stop talking and listen to Chris. He is giving us simple. Good, good advice. Yeah, because it's really difficult for me to find questions when all of you are just having little conversations. Yeah, I can't find most of the answers because... Good question, which book is useful for listening? You don't need a book for listening. You need to listen for listening. A book is not really going to help you with listening. Any\\n\\nHow_to_get_a_Band_8_in_IELTS_listening: # Transcript for How_to_get_a_Band_8_in_IELTS_listening\", additional_kwargs={}, response_metadata={})], 'output': \"Answer:\\nThe video is about how to get a Band 8 in IELTS listening.\\n\\nSources:\\nHow_to_get_a_Band_8_in_IELTS_listening: about whether you fit that bill. And if you need any other help, go to the website. Thank you very much, guys. If you enjoyed this video, please subscribe. We'll be making another one on Wednesday and another one on Friday, all about listening. Wednesday, we'll be looking at how to practice strategically. And on Friday, we'll focus on how to focus on the test and keep your focus during the test. Thank you very much, guys. Hope that you enjoyed that video. Let me know what you think about it in the comments. If you have any questions, let me know. Thank you. Bye bye.\\n\\nHow_to_get_a_Band_8_in_IELTS_listening: But I want to get every question correct. You're not going to get every question correct. The key is to practice strategically. And we will look at that on Wednesday and I'll show you how you can learn from your mistakes and improve through practice. Thank you very much, guys. Hope that you enjoyed that video. Sorry that I can't answer all your questions. If you go to my website, IELTS Advantage, you'll find help with writing task one, task two, speaking, reading, listening. Just go in there, have a look and you'll get the answers to your questions. If you need my personal help, you can email me, chris at IELTSadvantage.com. I don't work with very many students. I only work with students who I want to work with and who I think I can help. And so if you want to send me an email, we can talk about whether you fit that bill. And if you need any other help, go to the website. Thank you very much, guys. If you enjoyed this video, please subscribe. We'll be making another one on Wednesday\\n\\nHow_to_get_a_Band_8_in_IELTS_listening: that are really, really angry with the fact that they have spent all that time practicing and their scores aren't improving. And it really comes down to this, practicing strategically. And what I'm going to do is I'm going to do a whole lesson on how to practice strategically for listening on Wednesday. Same time Wednesday, join me here on YouTube and we'll go through that. I wanted to do a separate lesson because it's so important. And I really think a lot of you are going to benefit from that one on Wednesday. So let me see if there are any questions. First of all, stop talking and listen to Chris. He is giving us simple. Good, good advice. Yeah, because it's really difficult for me to find questions when all of you are just having little conversations. Yeah, I can't find most of the answers because... Good question, which book is useful for listening? You don't need a book for listening. You need to listen for listening. A book is not really going to help you with listening. Any\\n\\nHow_to_get_a_Band_8_in_IELTS_listening: # Transcript for How_to_get_a_Band_8_in_IELTS_listening\", 'intermediate_steps': [(AgentAction(tool='TranscriptQA', tool_input='What is the video about?', log='{\\n    \"action\": \"TranscriptQA\",\\n    \"action_input\": \"What is the video about?\"\\n}'), \"Answer:\\nThe video is about how to get a Band 8 in IELTS listening.\\n\\nSources:\\nHow_to_get_a_Band_8_in_IELTS_listening: about whether you fit that bill. And if you need any other help, go to the website. Thank you very much, guys. If you enjoyed this video, please subscribe. We'll be making another one on Wednesday and another one on Friday, all about listening. Wednesday, we'll be looking at how to practice strategically. And on Friday, we'll focus on how to focus on the test and keep your focus during the test. Thank you very much, guys. Hope that you enjoyed that video. Let me know what you think about it in the comments. If you have any questions, let me know. Thank you. Bye bye.\\n\\nHow_to_get_a_Band_8_in_IELTS_listening: But I want to get every question correct. You're not going to get every question correct. The key is to practice strategically. And we will look at that on Wednesday and I'll show you how you can learn from your mistakes and improve through practice. Thank you very much, guys. Hope that you enjoyed that video. Sorry that I can't answer all your questions. If you go to my website, IELTS Advantage, you'll find help with writing task one, task two, speaking, reading, listening. Just go in there, have a look and you'll get the answers to your questions. If you need my personal help, you can email me, chris at IELTSadvantage.com. I don't work with very many students. I only work with students who I want to work with and who I think I can help. And so if you want to send me an email, we can talk about whether you fit that bill. And if you need any other help, go to the website. Thank you very much, guys. If you enjoyed this video, please subscribe. We'll be making another one on Wednesday\\n\\nHow_to_get_a_Band_8_in_IELTS_listening: that are really, really angry with the fact that they have spent all that time practicing and their scores aren't improving. And it really comes down to this, practicing strategically. And what I'm going to do is I'm going to do a whole lesson on how to practice strategically for listening on Wednesday. Same time Wednesday, join me here on YouTube and we'll go through that. I wanted to do a separate lesson because it's so important. And I really think a lot of you are going to benefit from that one on Wednesday. So let me see if there are any questions. First of all, stop talking and listen to Chris. He is giving us simple. Good, good advice. Yeah, because it's really difficult for me to find questions when all of you are just having little conversations. Yeah, I can't find most of the answers because... Good question, which book is useful for listening? You don't need a book for listening. You need to listen for listening. A book is not really going to help you with listening. Any\\n\\nHow_to_get_a_Band_8_in_IELTS_listening: # Transcript for How_to_get_a_Band_8_in_IELTS_listening\")]}\n",
      "\n",
      "\n",
      "\u001b[1m> Entering new AgentExecutor chain...\u001b[0m\n"
     ]
    },
    {
     "name": "stderr",
     "output_type": "stream",
     "text": [
      "c:\\Users\\007T\\OneDrive\\Desktop\\ironhack2025\\ai-bootcamp-final-project\\Multimodal-AI-ChatBot-for-YouTube-Video-QA\\.venv\\Lib\\site-packages\\langchain\\memory\\chat_memory.py:55: UserWarning: 'ConversationBufferMemory' got multiple output keys: dict_keys(['output', 'intermediate_steps']). The default 'output' key is being used. If this is not desired, please manually set 'output_key'.\n",
      "  warnings.warn(\n"
     ]
    },
    {
     "name": "stdout",
     "output_type": "stream",
     "text": [
      "\u001b[32;1m\u001b[1;3m```json\n",
      "{\n",
      "    \"action\": \"TranscriptSummarizer\",\n",
      "    \"action_input\": \"The video is about how to get a Band 8 in IELTS listening. The speaker discusses the importance of practicing strategically, learning from mistakes, and improving through practice. The video also mentions upcoming topics to be covered in future videos related to IELTS listening preparation.\"\n",
      "}\n",
      "```\u001b[0m\n",
      "\n",
      "\u001b[1m> Entering new RetrievalQA chain...\u001b[0m\n",
      "\n",
      "\u001b[1m> Finished chain.\u001b[0m\n",
      "\n",
      "Observation: \u001b[33;1m\u001b[1;3mAnswer:\n",
      "The video is about how to get a Band 8 in IELTS listening. The speaker discusses the importance of practicing strategically, learning from mistakes, and improving through practice.\n",
      "\n",
      "Sources:\n",
      "# Transcript for How_to_get_a_Band_8_in_IELTS_listening\n",
      "\n",
      "think that in order to improve to a band eight in listening, you just need to do lots and lots of practice. Wrong. You're wrong. You're not going to help. Could I learn how to drive by just driving around a racetrack again and again and again and again? No. You can't just do practice tests. You have to practice strategically. Because number one, it's not improving your score, but number two, it's wasting your time. If you did, lots of students that I speak to say, I've done all 13 of the IELTS, the Cambridge IELTS practice series. Like that's a long time. For listening alone, that would be what? 40, 50 hours of your time? If you didn't think strategically about this and do some crucial things, then you've just wasted your time. And you wouldn't believe the number of students that I speak to that are really, really angry with the fact that they have spent all that time practicing and their scores aren't improving. And it really comes down to this, practicing strategically. And what I'm\n",
      "\n",
      "Hey everyone, Chris here from IELTSadvantage.com with another live lesson. Today's live lesson is all about listening. So we've had a huge number of people emailing us over the past few months saying that they need a band 8 in listening. It seems that many, many people want to move to Canada, they need that 8777, and sometimes what's stopping them getting there is they're getting 7, 7.5 in listening, which is a great score. But if they had that 8 or even above 8 in the listening test, they would get to Canada. Also countries like Australia, for example, has a point system for immigration, so the higher your score, the more points you're going to get. So getting a higher score in listening is really going to help you. And in general, just thinking a little bit strategically, you want to not be worrying so much about the listening test, because you're probably going to be worrying a lot about the writing test, maybe even the speaking test. And so if you have learned these things, which\n",
      "\n",
      "But I want to get every question correct. You're not going to get every question correct. The key is to practice strategically. And we will look at that on Wednesday and I'll show you how you can learn from your mistakes and improve through practice. Thank you very much, guys. Hope that you enjoyed that video. Sorry that I can't answer all your questions. If you go to my website, IELTS Advantage, you'll find help with writing task one, task two, speaking, reading, listening. Just go in there, have a look and you'll get the answers to your questions. If you need my personal help, you can email me, chris at IELTSadvantage.com. I don't work with very many students. I only work with students who I want to work with and who I think I can help. And so if you want to send me an email, we can talk about whether you fit that bill. And if you need any other help, go to the website. Thank you very much, guys. If you enjoyed this video, please subscribe. We'll be making another one on Wednesday\u001b[0m\n",
      "\u001b[32;1m\u001b[1;3m\u001b[0m\n",
      "\n",
      "\u001b[1m> Finished chain.\u001b[0m\n",
      "{'input': 'Summarize the content of video', 'chat_history': [HumanMessage(content=\"Hi, I'm Layla\", additional_kwargs={}, response_metadata={}), AIMessage(content='Hello Layla! How can I assist you today?', additional_kwargs={}, response_metadata={}), HumanMessage(content=\"What's my name?\", additional_kwargs={}, response_metadata={}), AIMessage(content='Your name is Layla.', additional_kwargs={}, response_metadata={}), HumanMessage(content=\"What's 2+2?\", additional_kwargs={}, response_metadata={}), AIMessage(content='2 + 2 equals 4.', additional_kwargs={}, response_metadata={}), HumanMessage(content='What is the video about?', additional_kwargs={}, response_metadata={}), AIMessage(content=\"Answer:\\nThe video is about how to get a Band 8 in IELTS listening.\\n\\nSources:\\nHow_to_get_a_Band_8_in_IELTS_listening: about whether you fit that bill. And if you need any other help, go to the website. Thank you very much, guys. If you enjoyed this video, please subscribe. We'll be making another one on Wednesday and another one on Friday, all about listening. Wednesday, we'll be looking at how to practice strategically. And on Friday, we'll focus on how to focus on the test and keep your focus during the test. Thank you very much, guys. Hope that you enjoyed that video. Let me know what you think about it in the comments. If you have any questions, let me know. Thank you. Bye bye.\\n\\nHow_to_get_a_Band_8_in_IELTS_listening: But I want to get every question correct. You're not going to get every question correct. The key is to practice strategically. And we will look at that on Wednesday and I'll show you how you can learn from your mistakes and improve through practice. Thank you very much, guys. Hope that you enjoyed that video. Sorry that I can't answer all your questions. If you go to my website, IELTS Advantage, you'll find help with writing task one, task two, speaking, reading, listening. Just go in there, have a look and you'll get the answers to your questions. If you need my personal help, you can email me, chris at IELTSadvantage.com. I don't work with very many students. I only work with students who I want to work with and who I think I can help. And so if you want to send me an email, we can talk about whether you fit that bill. And if you need any other help, go to the website. Thank you very much, guys. If you enjoyed this video, please subscribe. We'll be making another one on Wednesday\\n\\nHow_to_get_a_Band_8_in_IELTS_listening: that are really, really angry with the fact that they have spent all that time practicing and their scores aren't improving. And it really comes down to this, practicing strategically. And what I'm going to do is I'm going to do a whole lesson on how to practice strategically for listening on Wednesday. Same time Wednesday, join me here on YouTube and we'll go through that. I wanted to do a separate lesson because it's so important. And I really think a lot of you are going to benefit from that one on Wednesday. So let me see if there are any questions. First of all, stop talking and listen to Chris. He is giving us simple. Good, good advice. Yeah, because it's really difficult for me to find questions when all of you are just having little conversations. Yeah, I can't find most of the answers because... Good question, which book is useful for listening? You don't need a book for listening. You need to listen for listening. A book is not really going to help you with listening. Any\\n\\nHow_to_get_a_Band_8_in_IELTS_listening: # Transcript for How_to_get_a_Band_8_in_IELTS_listening\", additional_kwargs={}, response_metadata={}), HumanMessage(content='Summarize the content of video', additional_kwargs={}, response_metadata={}), AIMessage(content=\"Answer:\\nThe video is about how to get a Band 8 in IELTS listening. The speaker discusses the importance of practicing strategically, learning from mistakes, and improving through practice.\\n\\nSources:\\n# Transcript for How_to_get_a_Band_8_in_IELTS_listening\\n\\nthink that in order to improve to a band eight in listening, you just need to do lots and lots of practice. Wrong. You're wrong. You're not going to help. Could I learn how to drive by just driving around a racetrack again and again and again and again? No. You can't just do practice tests. You have to practice strategically. Because number one, it's not improving your score, but number two, it's wasting your time. If you did, lots of students that I speak to say, I've done all 13 of the IELTS, the Cambridge IELTS practice series. Like that's a long time. For listening alone, that would be what? 40, 50 hours of your time? If you didn't think strategically about this and do some crucial things, then you've just wasted your time. And you wouldn't believe the number of students that I speak to that are really, really angry with the fact that they have spent all that time practicing and their scores aren't improving. And it really comes down to this, practicing strategically. And what I'm\\n\\nHey everyone, Chris here from IELTSadvantage.com with another live lesson. Today's live lesson is all about listening. So we've had a huge number of people emailing us over the past few months saying that they need a band 8 in listening. It seems that many, many people want to move to Canada, they need that 8777, and sometimes what's stopping them getting there is they're getting 7, 7.5 in listening, which is a great score. But if they had that 8 or even above 8 in the listening test, they would get to Canada. Also countries like Australia, for example, has a point system for immigration, so the higher your score, the more points you're going to get. So getting a higher score in listening is really going to help you. And in general, just thinking a little bit strategically, you want to not be worrying so much about the listening test, because you're probably going to be worrying a lot about the writing test, maybe even the speaking test. And so if you have learned these things, which\\n\\nBut I want to get every question correct. You're not going to get every question correct. The key is to practice strategically. And we will look at that on Wednesday and I'll show you how you can learn from your mistakes and improve through practice. Thank you very much, guys. Hope that you enjoyed that video. Sorry that I can't answer all your questions. If you go to my website, IELTS Advantage, you'll find help with writing task one, task two, speaking, reading, listening. Just go in there, have a look and you'll get the answers to your questions. If you need my personal help, you can email me, chris at IELTSadvantage.com. I don't work with very many students. I only work with students who I want to work with and who I think I can help. And so if you want to send me an email, we can talk about whether you fit that bill. And if you need any other help, go to the website. Thank you very much, guys. If you enjoyed this video, please subscribe. We'll be making another one on Wednesday\", additional_kwargs={}, response_metadata={})], 'output': \"Answer:\\nThe video is about how to get a Band 8 in IELTS listening. The speaker discusses the importance of practicing strategically, learning from mistakes, and improving through practice.\\n\\nSources:\\n# Transcript for How_to_get_a_Band_8_in_IELTS_listening\\n\\nthink that in order to improve to a band eight in listening, you just need to do lots and lots of practice. Wrong. You're wrong. You're not going to help. Could I learn how to drive by just driving around a racetrack again and again and again and again? No. You can't just do practice tests. You have to practice strategically. Because number one, it's not improving your score, but number two, it's wasting your time. If you did, lots of students that I speak to say, I've done all 13 of the IELTS, the Cambridge IELTS practice series. Like that's a long time. For listening alone, that would be what? 40, 50 hours of your time? If you didn't think strategically about this and do some crucial things, then you've just wasted your time. And you wouldn't believe the number of students that I speak to that are really, really angry with the fact that they have spent all that time practicing and their scores aren't improving. And it really comes down to this, practicing strategically. And what I'm\\n\\nHey everyone, Chris here from IELTSadvantage.com with another live lesson. Today's live lesson is all about listening. So we've had a huge number of people emailing us over the past few months saying that they need a band 8 in listening. It seems that many, many people want to move to Canada, they need that 8777, and sometimes what's stopping them getting there is they're getting 7, 7.5 in listening, which is a great score. But if they had that 8 or even above 8 in the listening test, they would get to Canada. Also countries like Australia, for example, has a point system for immigration, so the higher your score, the more points you're going to get. So getting a higher score in listening is really going to help you. And in general, just thinking a little bit strategically, you want to not be worrying so much about the listening test, because you're probably going to be worrying a lot about the writing test, maybe even the speaking test. And so if you have learned these things, which\\n\\nBut I want to get every question correct. You're not going to get every question correct. The key is to practice strategically. And we will look at that on Wednesday and I'll show you how you can learn from your mistakes and improve through practice. Thank you very much, guys. Hope that you enjoyed that video. Sorry that I can't answer all your questions. If you go to my website, IELTS Advantage, you'll find help with writing task one, task two, speaking, reading, listening. Just go in there, have a look and you'll get the answers to your questions. If you need my personal help, you can email me, chris at IELTSadvantage.com. I don't work with very many students. I only work with students who I want to work with and who I think I can help. And so if you want to send me an email, we can talk about whether you fit that bill. And if you need any other help, go to the website. Thank you very much, guys. If you enjoyed this video, please subscribe. We'll be making another one on Wednesday\", 'intermediate_steps': [(AgentAction(tool='TranscriptSummarizer', tool_input='The video is about how to get a Band 8 in IELTS listening. The speaker discusses the importance of practicing strategically, learning from mistakes, and improving through practice. The video also mentions upcoming topics to be covered in future videos related to IELTS listening preparation.', log='```json\\n{\\n    \"action\": \"TranscriptSummarizer\",\\n    \"action_input\": \"The video is about how to get a Band 8 in IELTS listening. The speaker discusses the importance of practicing strategically, learning from mistakes, and improving through practice. The video also mentions upcoming topics to be covered in future videos related to IELTS listening preparation.\"\\n}\\n```'), \"Answer:\\nThe video is about how to get a Band 8 in IELTS listening. The speaker discusses the importance of practicing strategically, learning from mistakes, and improving through practice.\\n\\nSources:\\n# Transcript for How_to_get_a_Band_8_in_IELTS_listening\\n\\nthink that in order to improve to a band eight in listening, you just need to do lots and lots of practice. Wrong. You're wrong. You're not going to help. Could I learn how to drive by just driving around a racetrack again and again and again and again? No. You can't just do practice tests. You have to practice strategically. Because number one, it's not improving your score, but number two, it's wasting your time. If you did, lots of students that I speak to say, I've done all 13 of the IELTS, the Cambridge IELTS practice series. Like that's a long time. For listening alone, that would be what? 40, 50 hours of your time? If you didn't think strategically about this and do some crucial things, then you've just wasted your time. And you wouldn't believe the number of students that I speak to that are really, really angry with the fact that they have spent all that time practicing and their scores aren't improving. And it really comes down to this, practicing strategically. And what I'm\\n\\nHey everyone, Chris here from IELTSadvantage.com with another live lesson. Today's live lesson is all about listening. So we've had a huge number of people emailing us over the past few months saying that they need a band 8 in listening. It seems that many, many people want to move to Canada, they need that 8777, and sometimes what's stopping them getting there is they're getting 7, 7.5 in listening, which is a great score. But if they had that 8 or even above 8 in the listening test, they would get to Canada. Also countries like Australia, for example, has a point system for immigration, so the higher your score, the more points you're going to get. So getting a higher score in listening is really going to help you. And in general, just thinking a little bit strategically, you want to not be worrying so much about the listening test, because you're probably going to be worrying a lot about the writing test, maybe even the speaking test. And so if you have learned these things, which\\n\\nBut I want to get every question correct. You're not going to get every question correct. The key is to practice strategically. And we will look at that on Wednesday and I'll show you how you can learn from your mistakes and improve through practice. Thank you very much, guys. Hope that you enjoyed that video. Sorry that I can't answer all your questions. If you go to my website, IELTS Advantage, you'll find help with writing task one, task two, speaking, reading, listening. Just go in there, have a look and you'll get the answers to your questions. If you need my personal help, you can email me, chris at IELTSadvantage.com. I don't work with very many students. I only work with students who I want to work with and who I think I can help. And so if you want to send me an email, we can talk about whether you fit that bill. And if you need any other help, go to the website. Thank you very much, guys. If you enjoyed this video, please subscribe. We'll be making another one on Wednesday\")]}\n",
      "\n",
      "\n",
      "\u001b[1m> Entering new AgentExecutor chain...\u001b[0m\n"
     ]
    },
    {
     "name": "stderr",
     "output_type": "stream",
     "text": [
      "c:\\Users\\007T\\OneDrive\\Desktop\\ironhack2025\\ai-bootcamp-final-project\\Multimodal-AI-ChatBot-for-YouTube-Video-QA\\.venv\\Lib\\site-packages\\langchain\\memory\\chat_memory.py:55: UserWarning: 'ConversationBufferMemory' got multiple output keys: dict_keys(['output', 'intermediate_steps']). The default 'output' key is being used. If this is not desired, please manually set 'output_key'.\n",
      "  warnings.warn(\n"
     ]
    },
    {
     "name": "stdout",
     "output_type": "stream",
     "text": [
      "\u001b[32;1m\u001b[1;3m```json\n",
      "{\n",
      "    \"action\": \"Final Answer\",\n",
      "    \"action_input\": \"The capital of Saudi Arabia is Riyadh.\"\n",
      "}\n",
      "```\u001b[0m\n",
      "\n",
      "\u001b[1m> Finished chain.\u001b[0m\n",
      "{'input': 'what is the capital of saudi?', 'chat_history': [HumanMessage(content=\"Hi, I'm Layla\", additional_kwargs={}, response_metadata={}), AIMessage(content='Hello Layla! How can I assist you today?', additional_kwargs={}, response_metadata={}), HumanMessage(content=\"What's my name?\", additional_kwargs={}, response_metadata={}), AIMessage(content='Your name is Layla.', additional_kwargs={}, response_metadata={}), HumanMessage(content=\"What's 2+2?\", additional_kwargs={}, response_metadata={}), AIMessage(content='2 + 2 equals 4.', additional_kwargs={}, response_metadata={}), HumanMessage(content='What is the video about?', additional_kwargs={}, response_metadata={}), AIMessage(content=\"Answer:\\nThe video is about how to get a Band 8 in IELTS listening.\\n\\nSources:\\nHow_to_get_a_Band_8_in_IELTS_listening: about whether you fit that bill. And if you need any other help, go to the website. Thank you very much, guys. If you enjoyed this video, please subscribe. We'll be making another one on Wednesday and another one on Friday, all about listening. Wednesday, we'll be looking at how to practice strategically. And on Friday, we'll focus on how to focus on the test and keep your focus during the test. Thank you very much, guys. Hope that you enjoyed that video. Let me know what you think about it in the comments. If you have any questions, let me know. Thank you. Bye bye.\\n\\nHow_to_get_a_Band_8_in_IELTS_listening: But I want to get every question correct. You're not going to get every question correct. The key is to practice strategically. And we will look at that on Wednesday and I'll show you how you can learn from your mistakes and improve through practice. Thank you very much, guys. Hope that you enjoyed that video. Sorry that I can't answer all your questions. If you go to my website, IELTS Advantage, you'll find help with writing task one, task two, speaking, reading, listening. Just go in there, have a look and you'll get the answers to your questions. If you need my personal help, you can email me, chris at IELTSadvantage.com. I don't work with very many students. I only work with students who I want to work with and who I think I can help. And so if you want to send me an email, we can talk about whether you fit that bill. And if you need any other help, go to the website. Thank you very much, guys. If you enjoyed this video, please subscribe. We'll be making another one on Wednesday\\n\\nHow_to_get_a_Band_8_in_IELTS_listening: that are really, really angry with the fact that they have spent all that time practicing and their scores aren't improving. And it really comes down to this, practicing strategically. And what I'm going to do is I'm going to do a whole lesson on how to practice strategically for listening on Wednesday. Same time Wednesday, join me here on YouTube and we'll go through that. I wanted to do a separate lesson because it's so important. And I really think a lot of you are going to benefit from that one on Wednesday. So let me see if there are any questions. First of all, stop talking and listen to Chris. He is giving us simple. Good, good advice. Yeah, because it's really difficult for me to find questions when all of you are just having little conversations. Yeah, I can't find most of the answers because... Good question, which book is useful for listening? You don't need a book for listening. You need to listen for listening. A book is not really going to help you with listening. Any\\n\\nHow_to_get_a_Band_8_in_IELTS_listening: # Transcript for How_to_get_a_Band_8_in_IELTS_listening\", additional_kwargs={}, response_metadata={}), HumanMessage(content='Summarize the content of video', additional_kwargs={}, response_metadata={}), AIMessage(content=\"Answer:\\nThe video is about how to get a Band 8 in IELTS listening. The speaker discusses the importance of practicing strategically, learning from mistakes, and improving through practice.\\n\\nSources:\\n# Transcript for How_to_get_a_Band_8_in_IELTS_listening\\n\\nthink that in order to improve to a band eight in listening, you just need to do lots and lots of practice. Wrong. You're wrong. You're not going to help. Could I learn how to drive by just driving around a racetrack again and again and again and again? No. You can't just do practice tests. You have to practice strategically. Because number one, it's not improving your score, but number two, it's wasting your time. If you did, lots of students that I speak to say, I've done all 13 of the IELTS, the Cambridge IELTS practice series. Like that's a long time. For listening alone, that would be what? 40, 50 hours of your time? If you didn't think strategically about this and do some crucial things, then you've just wasted your time. And you wouldn't believe the number of students that I speak to that are really, really angry with the fact that they have spent all that time practicing and their scores aren't improving. And it really comes down to this, practicing strategically. And what I'm\\n\\nHey everyone, Chris here from IELTSadvantage.com with another live lesson. Today's live lesson is all about listening. So we've had a huge number of people emailing us over the past few months saying that they need a band 8 in listening. It seems that many, many people want to move to Canada, they need that 8777, and sometimes what's stopping them getting there is they're getting 7, 7.5 in listening, which is a great score. But if they had that 8 or even above 8 in the listening test, they would get to Canada. Also countries like Australia, for example, has a point system for immigration, so the higher your score, the more points you're going to get. So getting a higher score in listening is really going to help you. And in general, just thinking a little bit strategically, you want to not be worrying so much about the listening test, because you're probably going to be worrying a lot about the writing test, maybe even the speaking test. And so if you have learned these things, which\\n\\nBut I want to get every question correct. You're not going to get every question correct. The key is to practice strategically. And we will look at that on Wednesday and I'll show you how you can learn from your mistakes and improve through practice. Thank you very much, guys. Hope that you enjoyed that video. Sorry that I can't answer all your questions. If you go to my website, IELTS Advantage, you'll find help with writing task one, task two, speaking, reading, listening. Just go in there, have a look and you'll get the answers to your questions. If you need my personal help, you can email me, chris at IELTSadvantage.com. I don't work with very many students. I only work with students who I want to work with and who I think I can help. And so if you want to send me an email, we can talk about whether you fit that bill. And if you need any other help, go to the website. Thank you very much, guys. If you enjoyed this video, please subscribe. We'll be making another one on Wednesday\", additional_kwargs={}, response_metadata={}), HumanMessage(content='what is the capital of saudi?', additional_kwargs={}, response_metadata={}), AIMessage(content='The capital of Saudi Arabia is Riyadh.', additional_kwargs={}, response_metadata={})], 'output': 'The capital of Saudi Arabia is Riyadh.', 'intermediate_steps': []}\n"
     ]
    },
    {
     "name": "stderr",
     "output_type": "stream",
     "text": [
      "c:\\Users\\007T\\OneDrive\\Desktop\\ironhack2025\\ai-bootcamp-final-project\\Multimodal-AI-ChatBot-for-YouTube-Video-QA\\.venv\\Lib\\site-packages\\langchain\\memory\\chat_memory.py:55: UserWarning: 'ConversationBufferMemory' got multiple output keys: dict_keys(['output', 'intermediate_steps']). The default 'output' key is being used. If this is not desired, please manually set 'output_key'.\n",
      "  warnings.warn(\n"
     ]
    }
   ],
   "source": [
    "from langchain_core.tracers.context import tracing_v2_enabled\n",
    "with tracing_v2_enabled():\n",
    "    # Test 1: Remembering user info\n",
    "    print(agent.invoke(\"Hi, I'm Layla\"))  # Should store name\n",
    "    print(agent.invoke(\"What's my name?\"))  # Should return \"Your name is Layla\"\n",
    "    \n",
    "    # Test 2: Asking about the video content\n",
    "    print(agent.invoke(\"What is the video about?\"))\n",
    "    print(agent.invoke(\"What was the main tip for listening?\"))\n",
    "    print(agent.invoke(\"What was the synonym of the word 'say'?\"))\n",
    "    # Returns answer from transcript with sources\n",
    "    print(agent.invoke(\"Summarize the content of video\"))\n",
    "    \n",
    "\n"
   ]
  }
 ],
 "metadata": {
  "kernelspec": {
   "display_name": ".venv",
   "language": "python",
   "name": "python3"
  },
  "language_info": {
   "codemirror_mode": {
    "name": "ipython",
    "version": 3
   },
   "file_extension": ".py",
   "mimetype": "text/x-python",
   "name": "python",
   "nbconvert_exporter": "python",
   "pygments_lexer": "ipython3",
   "version": "3.12.0"
  }
 },
 "nbformat": 4,
 "nbformat_minor": 5
}
